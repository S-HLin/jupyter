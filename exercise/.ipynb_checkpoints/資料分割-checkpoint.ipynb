{
 "cells": [
  {
   "cell_type": "code",
   "execution_count": 74,
   "metadata": {
    "run_control": {
     "marked": true
    }
   },
   "outputs": [],
   "source": [
    "import os,shutil\n",
    "import numpy as np"
   ]
  },
  {
   "cell_type": "code",
   "execution_count": 76,
   "metadata": {},
   "outputs": [],
   "source": [
    "original_dir='/dataDisk/inputdata/Food calorie_integration_1025'\n",
    "data_dir=''"
   ]
  },
  {
   "cell_type": "code",
   "execution_count": 77,
   "metadata": {},
   "outputs": [
    {
     "data": {
      "text/plain": [
       "['', 'dataDisk', 'inputdata', 'Food calorie_integration_1025']"
      ]
     },
     "execution_count": 77,
     "metadata": {},
     "output_type": "execute_result"
    }
   ],
   "source": [
    "list_dir=original_dir.split('/')\n",
    "list_dir"
   ]
  },
  {
   "cell_type": "code",
   "execution_count": 78,
   "metadata": {},
   "outputs": [
    {
     "data": {
      "text/plain": [
       "'/dataDisk/inputdata'"
      ]
     },
     "execution_count": 78,
     "metadata": {},
     "output_type": "execute_result"
    }
   ],
   "source": [
    "if original_dir[-1]=='/':\n",
    "    list_dir=original_dir.split('/')[1:-2]\n",
    "    for i in range(len(list_dir)):\n",
    "        data_dir=data_dir+'/'+list_dir[i]\n",
    "else:\n",
    "    list_dir=original_dir.split('/')[1:-1]\n",
    "    for i in range(len(list_dir)):\n",
    "        data_dir=data_dir+'/'+list_dir[i]\n",
    "\n",
    "data_dir   "
   ]
  },
  {
   "cell_type": "code",
   "execution_count": 79,
   "metadata": {},
   "outputs": [
    {
     "data": {
      "text/plain": [
       "2"
      ]
     },
     "execution_count": 79,
     "metadata": {},
     "output_type": "execute_result"
    }
   ],
   "source": [
    "len(list_dir)"
   ]
  },
  {
   "cell_type": "code",
   "execution_count": 80,
   "metadata": {},
   "outputs": [],
   "source": [
    "train_dir = data_dir + '/train'\n",
    "validation_dir = data_dir + '/validation'\n",
    "test_dir = data_dir + '/test'"
   ]
  },
  {
   "cell_type": "code",
   "execution_count": 81,
   "metadata": {
    "run_control": {
     "marked": true
    }
   },
   "outputs": [
    {
     "name": "stdout",
     "output_type": "stream",
     "text": [
      "/dataDisk/inputdata/train\n",
      "/dataDisk/inputdata/validation\n",
      "/dataDisk/inputdata/test\n"
     ]
    }
   ],
   "source": [
    "print(train_dir)\n",
    "print(validation_dir)\n",
    "print(test_dir)"
   ]
  },
  {
   "cell_type": "code",
   "execution_count": 82,
   "metadata": {
    "scrolled": false
   },
   "outputs": [
    {
     "ename": "FileExistsError",
     "evalue": "[Errno 17] File exists: '/dataDisk/inputdata/train'",
     "output_type": "error",
     "traceback": [
      "\u001b[0;31m---------------------------------------------------------------------------\u001b[0m",
      "\u001b[0;31mFileExistsError\u001b[0m                           Traceback (most recent call last)",
      "\u001b[0;32m<ipython-input-82-4f743886e167>\u001b[0m in \u001b[0;36m<module>\u001b[0;34m()\u001b[0m\n\u001b[0;32m----> 1\u001b[0;31m \u001b[0mos\u001b[0m\u001b[0;34m.\u001b[0m\u001b[0mmkdir\u001b[0m\u001b[0;34m(\u001b[0m\u001b[0mtrain_dir\u001b[0m\u001b[0;34m)\u001b[0m\u001b[0;34m\u001b[0m\u001b[0m\n\u001b[0m\u001b[1;32m      2\u001b[0m \u001b[0mos\u001b[0m\u001b[0;34m.\u001b[0m\u001b[0mmkdir\u001b[0m\u001b[0;34m(\u001b[0m\u001b[0mtest_dir\u001b[0m\u001b[0;34m)\u001b[0m\u001b[0;34m\u001b[0m\u001b[0m\n\u001b[1;32m      3\u001b[0m \u001b[0mos\u001b[0m\u001b[0;34m.\u001b[0m\u001b[0mmkdir\u001b[0m\u001b[0;34m(\u001b[0m\u001b[0mvalidation_dir\u001b[0m\u001b[0;34m)\u001b[0m\u001b[0;34m\u001b[0m\u001b[0m\n",
      "\u001b[0;31mFileExistsError\u001b[0m: [Errno 17] File exists: '/dataDisk/inputdata/train'"
     ]
    }
   ],
   "source": [
    "os.mkdir(train_dir)\n",
    "os.mkdir(test_dir)\n",
    "os.mkdir(validation_dir)"
   ]
  },
  {
   "cell_type": "code",
   "execution_count": 83,
   "metadata": {},
   "outputs": [],
   "source": [
    "#os.listdir()\n",
    "#os.getcwd()"
   ]
  },
  {
   "cell_type": "code",
   "execution_count": 84,
   "metadata": {},
   "outputs": [
    {
     "data": {
      "text/plain": [
       "['4',\n",
       " '7',\n",
       " '5',\n",
       " '12',\n",
       " '1',\n",
       " '15',\n",
       " '13',\n",
       " '3',\n",
       " '6',\n",
       " '11',\n",
       " '2',\n",
       " '14',\n",
       " '8',\n",
       " '9',\n",
       " '10']"
      ]
     },
     "execution_count": 84,
     "metadata": {},
     "output_type": "execute_result"
    }
   ],
   "source": [
    "#子資料夾名稱\n",
    "names=os.listdir(original_dir)\n",
    "names"
   ]
  },
  {
   "cell_type": "code",
   "execution_count": 85,
   "metadata": {
    "run_control": {
     "marked": true
    }
   },
   "outputs": [
    {
     "ename": "FileExistsError",
     "evalue": "[Errno 17] File exists: '/dataDisk/inputdata/train/4'",
     "output_type": "error",
     "traceback": [
      "\u001b[0;31m---------------------------------------------------------------------------\u001b[0m",
      "\u001b[0;31mFileExistsError\u001b[0m                           Traceback (most recent call last)",
      "\u001b[0;32m<ipython-input-85-dcf06b22209f>\u001b[0m in \u001b[0;36m<module>\u001b[0;34m()\u001b[0m\n\u001b[1;32m      5\u001b[0m     \u001b[0mvalidation_name\u001b[0m\u001b[0;34m=\u001b[0m\u001b[0mos\u001b[0m\u001b[0;34m.\u001b[0m\u001b[0mpath\u001b[0m\u001b[0;34m.\u001b[0m\u001b[0mjoin\u001b[0m\u001b[0;34m(\u001b[0m\u001b[0mvalidation_dir\u001b[0m\u001b[0;34m,\u001b[0m\u001b[0mi\u001b[0m\u001b[0;34m)\u001b[0m\u001b[0;34m\u001b[0m\u001b[0m\n\u001b[1;32m      6\u001b[0m \u001b[0;34m\u001b[0m\u001b[0m\n\u001b[0;32m----> 7\u001b[0;31m     \u001b[0mos\u001b[0m\u001b[0;34m.\u001b[0m\u001b[0mmkdir\u001b[0m\u001b[0;34m(\u001b[0m\u001b[0mtrain_name\u001b[0m\u001b[0;34m)\u001b[0m\u001b[0;34m\u001b[0m\u001b[0m\n\u001b[0m\u001b[1;32m      8\u001b[0m     \u001b[0mos\u001b[0m\u001b[0;34m.\u001b[0m\u001b[0mmkdir\u001b[0m\u001b[0;34m(\u001b[0m\u001b[0mtest_name\u001b[0m\u001b[0;34m)\u001b[0m\u001b[0;34m\u001b[0m\u001b[0m\n\u001b[1;32m      9\u001b[0m     \u001b[0mos\u001b[0m\u001b[0;34m.\u001b[0m\u001b[0mmkdir\u001b[0m\u001b[0;34m(\u001b[0m\u001b[0mvalidation_name\u001b[0m\u001b[0;34m)\u001b[0m\u001b[0;34m\u001b[0m\u001b[0m\n",
      "\u001b[0;31mFileExistsError\u001b[0m: [Errno 17] File exists: '/dataDisk/inputdata/train/4'"
     ]
    }
   ],
   "source": [
    "#建立分割資料集子資料夾\n",
    "for i in names:\n",
    "    train_name=os.path.join(train_dir,i)\n",
    "    test_name=os.path.join(test_dir,i)\n",
    "    validation_name=os.path.join(validation_dir,i)\n",
    "    \n",
    "    os.mkdir(train_name)\n",
    "    os.mkdir(test_name)\n",
    "    os.mkdir(validation_name)\n",
    "    \n",
    "    print(train_name)\n",
    "    print(test_name)\n",
    "    print(validation_name)\n",
    "    \n",
    "    #複製圖片\n",
    "    dataset=os.path.join(original_dir,i)#原資料集子資料夾\n",
    "    print(dataset)\n",
    "    count=0\n",
    "    split_ratio=0.8\n",
    "    for im in os.listdir(dataset):\n",
    "            #train data\n",
    "        if count<len(os.listdir(dataset))*split_ratio:\n",
    "            src=os.path.join(dataset,im)\n",
    "            dst=os.path.join(train_name,im)\n",
    "            shutil.copyfile(src,dst)\n",
    "            count+=1\n",
    "            #validation data\n",
    "        elif count>len(os.listdir(dataset))*(split_ratio+0.1):\n",
    "            src=os.path.join(dataset,im)\n",
    "            dst=os.path.join(test_name,im)\n",
    "            shutil.copyfile(src,dst)\n",
    "            count+=1\n",
    "            #test data\n",
    "        else:\n",
    "            src=os.path.join(dataset,im)\n",
    "            dst=os.path.join(validation_name,im)\n",
    "            shutil.copyfile(src,dst)\n",
    "            count+=1"
   ]
  },
  {
   "cell_type": "code",
   "execution_count": 86,
   "metadata": {},
   "outputs": [
    {
     "data": {
      "text/plain": [
       "135"
      ]
     },
     "execution_count": 86,
     "metadata": {},
     "output_type": "execute_result"
    }
   ],
   "source": [
    "len(os.listdir(dataset))"
   ]
  },
  {
   "cell_type": "code",
   "execution_count": 87,
   "metadata": {},
   "outputs": [
    {
     "data": {
      "text/plain": [
       "['79.jpg',\n",
       " '49.jpg',\n",
       " '80.jpg',\n",
       " '76.jpg',\n",
       " '133.bmp',\n",
       " '40.jpg',\n",
       " '117.jpg',\n",
       " '118.jpg',\n",
       " '71.jpg',\n",
       " '11.jpg',\n",
       " '48.jpg',\n",
       " '67.jpg',\n",
       " '60.jpg',\n",
       " '126.jpg',\n",
       " '5.jpg',\n",
       " '124.jpg',\n",
       " '109.jpg',\n",
       " '56.jpg',\n",
       " '4.jpg',\n",
       " '6.jpg',\n",
       " '86.jpg',\n",
       " '120.jpg',\n",
       " '88.jpg',\n",
       " '8.jpg',\n",
       " '39.jpg',\n",
       " '33.jpg',\n",
       " '115.jpg',\n",
       " '111.jpg',\n",
       " '128.jpg',\n",
       " '32.jpg',\n",
       " '65.jpg',\n",
       " '34.jpg',\n",
       " '26.jpg',\n",
       " '66.jpg',\n",
       " '122.jpg',\n",
       " '99.jpg',\n",
       " '107.jpg',\n",
       " '113.jpg',\n",
       " '85.jpg',\n",
       " '95.jpg',\n",
       " '90.jpg',\n",
       " '77.jpg',\n",
       " '74.jpg',\n",
       " '62.jpg',\n",
       " '16.jpg',\n",
       " '81.jpg',\n",
       " '59.jpg',\n",
       " '130.jpg',\n",
       " '134.jpg',\n",
       " '13.jpg',\n",
       " '94.jpg',\n",
       " '3.jpg',\n",
       " '75.jpg',\n",
       " '24.jpg',\n",
       " '63.jpg',\n",
       " '22.jpg',\n",
       " '96.jpg',\n",
       " '68.jpg',\n",
       " '18.jpg',\n",
       " '9.jpg',\n",
       " '1.jpg',\n",
       " '114.jpg',\n",
       " '44.jpg',\n",
       " '43.jpg',\n",
       " '58.jpg',\n",
       " '19.jpg',\n",
       " '84.jpg',\n",
       " '106.jpg',\n",
       " '61.jpg',\n",
       " '15.jpg',\n",
       " '41.jpg',\n",
       " '91.jpg',\n",
       " '46.jpg',\n",
       " '14.jpg',\n",
       " '7.jpg',\n",
       " '110.jpg',\n",
       " '25.jpg',\n",
       " '89.jpg',\n",
       " '31.jpg',\n",
       " '103.jpg',\n",
       " 'Hamburg steak_nut.xlsx',\n",
       " '105.jpg',\n",
       " '102.jpg',\n",
       " '129.jpg',\n",
       " '42.jpg',\n",
       " '78.jpg',\n",
       " '47.jpg',\n",
       " '30.jpg',\n",
       " '72.jpg',\n",
       " '57.jpg',\n",
       " '112.jpg',\n",
       " '2.jpg',\n",
       " '64.jpg',\n",
       " '28.jpg',\n",
       " '45.jpg',\n",
       " '55.jpg',\n",
       " '98.jpg',\n",
       " '50.jpg',\n",
       " '21.jpg',\n",
       " '87.jpg',\n",
       " '121.jpg',\n",
       " '131.jpg',\n",
       " '54.jpg',\n",
       " '123.jpg',\n",
       " '116.jpg',\n",
       " '20.jpg',\n",
       " '38.jpg',\n",
       " '97.jpg',\n",
       " '101.jpg',\n",
       " '29.jpg',\n",
       " '93.jpg',\n",
       " '10.jpg',\n",
       " '127.jpg',\n",
       " '53.jpg',\n",
       " '51.jpg',\n",
       " '37.jpg',\n",
       " '108.jpg',\n",
       " '119.jpg',\n",
       " '104.jpg',\n",
       " '12.jpg',\n",
       " '73.jpg',\n",
       " '36.jpg',\n",
       " '17.jpg',\n",
       " '83.jpg',\n",
       " '92.jpg',\n",
       " '35.jpg',\n",
       " '52.jpg',\n",
       " '69.jpg',\n",
       " '132.jpg',\n",
       " '125.bmp',\n",
       " '100.jpg',\n",
       " '23.jpg',\n",
       " '27.jpg',\n",
       " '82.jpg',\n",
       " '70.jpg']"
      ]
     },
     "execution_count": 87,
     "metadata": {},
     "output_type": "execute_result"
    }
   ],
   "source": [
    "os.listdir(dataset)"
   ]
  }
 ],
 "metadata": {
  "kernelspec": {
   "display_name": "Python 3",
   "language": "python",
   "name": "python3"
  },
  "language_info": {
   "codemirror_mode": {
    "name": "ipython",
    "version": 3
   },
   "file_extension": ".py",
   "mimetype": "text/x-python",
   "name": "python",
   "nbconvert_exporter": "python",
   "pygments_lexer": "ipython3",
   "version": "3.5.2"
  },
  "varInspector": {
   "cols": {
    "lenName": 16,
    "lenType": 16,
    "lenVar": 40
   },
   "kernels_config": {
    "python": {
     "delete_cmd_postfix": "",
     "delete_cmd_prefix": "del ",
     "library": "var_list.py",
     "varRefreshCmd": "print(var_dic_list())"
    },
    "r": {
     "delete_cmd_postfix": ") ",
     "delete_cmd_prefix": "rm(",
     "library": "var_list.r",
     "varRefreshCmd": "cat(var_dic_list()) "
    }
   },
   "types_to_exclude": [
    "module",
    "function",
    "builtin_function_or_method",
    "instance",
    "_Feature"
   ],
   "window_display": false
  }
 },
 "nbformat": 4,
 "nbformat_minor": 2
}
