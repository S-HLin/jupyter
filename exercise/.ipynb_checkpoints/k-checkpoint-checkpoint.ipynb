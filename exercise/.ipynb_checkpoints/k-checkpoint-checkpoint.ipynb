{
 "cells": [
  {
   "cell_type": "markdown",
   "metadata": {},
   "source": [
    "### checkpoint  找到最好的模型"
   ]
  },
  {
   "cell_type": "markdown",
   "metadata": {},
   "source": [
    "https://panzi.online/2018/08/28/008-Keras-%E6%89%BE%E5%88%B0%E6%9C%80%E5%A5%BD%E7%9A%84%E6%A8%A1%E5%9E%8B/"
   ]
  },
  {
   "cell_type": "markdown",
   "metadata": {},
   "source": [
    "https://cnbeining.github.io/deep-learning-with-python-cn/4-advanced-multi-layer-perceptrons-and-keras/ch14-keep-the-best-models-during-training-with-checkpointing.html"
   ]
  },
  {
   "cell_type": "markdown",
   "metadata": {},
   "source": [
    "http://www.atyun.com/12192.html"
   ]
  },
  {
   "cell_type": "code",
   "execution_count": 39,
   "metadata": {},
   "outputs": [],
   "source": [
    "# keras learning\n",
    "from keras.layers import Input, Dense\n",
    "from keras.models import Model\n",
    "import numpy as np\n",
    "from keras.callbacks import TensorBoard\n",
    "from keras.callbacks import ModelCheckpoint"
   ]
  },
  {
   "cell_type": "code",
   "execution_count": 40,
   "metadata": {},
   "outputs": [],
   "source": [
    "# filepath=\"../model_output/weights-improvement-{epoch:02d}-{val_acc:.2f}.hdf5\"\n",
    "filepath = \"../model_output/mnist-cnn-best.hdf5\""
   ]
  },
  {
   "cell_type": "code",
   "execution_count": 41,
   "metadata": {},
   "outputs": [],
   "source": [
    "''' monitor=’val_acc’:这是我们所关心的度量：验证精确度 \n",
    "verbose=1:它将打印更多信息 \n",
    "save_best_only=True:只保留最好的检查点(在最大化验证精确度的情况下) \n",
    "mode=’max’:以最大化验证精确度保存检查点 '''\n",
    "checkpoint = ModelCheckpoint(filepath,\n",
    " monitor='val_acc',\n",
    " verbose=1,\n",
    " save_best_only=True,\n",
    " mode='max',\n",
    " period=1)"
   ]
  },
  {
   "cell_type": "code",
   "execution_count": 42,
   "metadata": {},
   "outputs": [],
   "source": [
    "from keras.layers import Input, Dense\n",
    "from keras.models import Model\n",
    "import keras"
   ]
  },
  {
   "cell_type": "code",
   "execution_count": 43,
   "metadata": {},
   "outputs": [],
   "source": [
    "# 生成虚拟数据\n",
    "import numpy as np\n",
    "data = np.random.random((1000, 784))\n",
    "## 生成0-9 随机数 (1000,1) 1000维列向量\n",
    "labels = np.random.randint(10, size=(1000, 1))\n",
    "# 将标签转换为分类的 one-hot 编码\n",
    "one_hot_labels = keras.utils.to_categorical(labels, num_classes=10)\n",
    "\n",
    "# 这部分返回一个张量\n",
    "inputs = Input(shape=(784,))\n",
    "\n",
    "# 层的实例是可调用的，它以张量为参数，并且返回一个张量\n",
    "x = Dense(64, activation='relu')(inputs)\n",
    "x = Dense(64, activation='relu')(x)\n",
    "predictions = Dense(10, activation='softmax')(x)\n",
    "\n",
    "# 这部分创建了一个包含输入层和三个全连接层的模型\n",
    "model = Model(inputs=inputs, outputs=predictions)\n",
    "model.compile(optimizer='rmsprop',\n",
    "              loss='categorical_crossentropy',\n",
    "              metrics=['accuracy'])"
   ]
  },
  {
   "cell_type": "code",
   "execution_count": 44,
   "metadata": {},
   "outputs": [
    {
     "name": "stdout",
     "output_type": "stream",
     "text": [
      "Train on 1000 samples, validate on 1000 samples\n",
      "Epoch 1/100\n",
      "1000/1000 [==============================] - 0s 193us/step - loss: 2.3608 - acc: 0.0860 - val_loss: 2.3261 - val_acc: 0.1140\n",
      "\n",
      "Epoch 00001: val_acc improved from -inf to 0.11400, saving model to ../model_output/mnist-cnn-best.hdf5\n",
      "Epoch 2/100\n",
      "1000/1000 [==============================] - 0s 77us/step - loss: 2.3064 - acc: 0.1240 - val_loss: 2.2911 - val_acc: 0.1200\n",
      "\n",
      "Epoch 00002: val_acc improved from 0.11400 to 0.12000, saving model to ../model_output/mnist-cnn-best.hdf5\n",
      "Epoch 3/100\n",
      "1000/1000 [==============================] - 0s 77us/step - loss: 2.2978 - acc: 0.1220 - val_loss: 2.2840 - val_acc: 0.1070\n",
      "\n",
      "Epoch 00003: val_acc did not improve from 0.12000\n",
      "Epoch 4/100\n",
      "1000/1000 [==============================] - 0s 78us/step - loss: 2.2853 - acc: 0.1380 - val_loss: 2.2456 - val_acc: 0.1800\n",
      "\n",
      "Epoch 00004: val_acc improved from 0.12000 to 0.18000, saving model to ../model_output/mnist-cnn-best.hdf5\n",
      "Epoch 5/100\n",
      "1000/1000 [==============================] - 0s 81us/step - loss: 2.2635 - acc: 0.1640 - val_loss: 2.2706 - val_acc: 0.1870\n",
      "\n",
      "Epoch 00005: val_acc improved from 0.18000 to 0.18700, saving model to ../model_output/mnist-cnn-best.hdf5\n",
      "Epoch 6/100\n",
      "1000/1000 [==============================] - 0s 84us/step - loss: 2.2493 - acc: 0.1660 - val_loss: 2.2242 - val_acc: 0.1660\n",
      "\n",
      "Epoch 00006: val_acc did not improve from 0.18700\n",
      "Epoch 7/100\n",
      "1000/1000 [==============================] - 0s 78us/step - loss: 2.2058 - acc: 0.1820 - val_loss: 2.2199 - val_acc: 0.1950\n",
      "\n",
      "Epoch 00007: val_acc improved from 0.18700 to 0.19500, saving model to ../model_output/mnist-cnn-best.hdf5\n",
      "Epoch 8/100\n",
      "1000/1000 [==============================] - 0s 79us/step - loss: 2.1676 - acc: 0.2220 - val_loss: 2.1947 - val_acc: 0.2030\n",
      "\n",
      "Epoch 00008: val_acc improved from 0.19500 to 0.20300, saving model to ../model_output/mnist-cnn-best.hdf5\n",
      "Epoch 9/100\n",
      "1000/1000 [==============================] - 0s 78us/step - loss: 2.1277 - acc: 0.2430 - val_loss: 2.2209 - val_acc: 0.1640\n",
      "\n",
      "Epoch 00009: val_acc did not improve from 0.20300\n",
      "Epoch 10/100\n",
      "1000/1000 [==============================] - 0s 78us/step - loss: 2.0740 - acc: 0.2600 - val_loss: 2.1402 - val_acc: 0.1570\n",
      "\n",
      "Epoch 00010: val_acc did not improve from 0.20300\n",
      "Epoch 11/100\n",
      "1000/1000 [==============================] - 0s 80us/step - loss: 2.0449 - acc: 0.2680 - val_loss: 2.1412 - val_acc: 0.1470\n",
      "\n",
      "Epoch 00011: val_acc did not improve from 0.20300\n",
      "Epoch 12/100\n",
      "1000/1000 [==============================] - 0s 70us/step - loss: 1.9685 - acc: 0.3180 - val_loss: 2.1407 - val_acc: 0.1510\n",
      "\n",
      "Epoch 00012: val_acc did not improve from 0.20300\n",
      "Epoch 13/100\n",
      "1000/1000 [==============================] - 0s 76us/step - loss: 1.9455 - acc: 0.3250 - val_loss: 2.1284 - val_acc: 0.1800\n",
      "\n",
      "Epoch 00013: val_acc did not improve from 0.20300\n",
      "Epoch 14/100\n",
      "1000/1000 [==============================] - 0s 70us/step - loss: 1.8594 - acc: 0.3600 - val_loss: 1.9129 - val_acc: 0.3040\n",
      "\n",
      "Epoch 00014: val_acc improved from 0.20300 to 0.30400, saving model to ../model_output/mnist-cnn-best.hdf5\n",
      "Epoch 15/100\n",
      "1000/1000 [==============================] - 0s 76us/step - loss: 1.7973 - acc: 0.3730 - val_loss: 1.7876 - val_acc: 0.3090\n",
      "\n",
      "Epoch 00015: val_acc improved from 0.30400 to 0.30900, saving model to ../model_output/mnist-cnn-best.hdf5\n",
      "Epoch 16/100\n",
      "1000/1000 [==============================] - 0s 90us/step - loss: 1.7536 - acc: 0.3960 - val_loss: 1.9011 - val_acc: 0.2500\n",
      "\n",
      "Epoch 00016: val_acc did not improve from 0.30900\n",
      "Epoch 17/100\n",
      "1000/1000 [==============================] - 0s 79us/step - loss: 1.6950 - acc: 0.4300 - val_loss: 2.0760 - val_acc: 0.2360\n",
      "\n",
      "Epoch 00017: val_acc did not improve from 0.30900\n",
      "Epoch 18/100\n",
      "1000/1000 [==============================] - 0s 83us/step - loss: 1.6326 - acc: 0.4360 - val_loss: 1.7370 - val_acc: 0.3590\n",
      "\n",
      "Epoch 00018: val_acc improved from 0.30900 to 0.35900, saving model to ../model_output/mnist-cnn-best.hdf5\n",
      "Epoch 19/100\n",
      "1000/1000 [==============================] - 0s 77us/step - loss: 1.6024 - acc: 0.4640 - val_loss: 1.5957 - val_acc: 0.4100\n",
      "\n",
      "Epoch 00019: val_acc improved from 0.35900 to 0.41000, saving model to ../model_output/mnist-cnn-best.hdf5\n",
      "Epoch 20/100\n",
      "1000/1000 [==============================] - 0s 81us/step - loss: 1.4601 - acc: 0.5530 - val_loss: 1.6152 - val_acc: 0.3920\n",
      "\n",
      "Epoch 00020: val_acc did not improve from 0.41000\n",
      "Epoch 21/100\n",
      "1000/1000 [==============================] - 0s 82us/step - loss: 1.4618 - acc: 0.5120 - val_loss: 1.7284 - val_acc: 0.2800\n",
      "\n",
      "Epoch 00021: val_acc did not improve from 0.41000\n",
      "Epoch 22/100\n",
      "1000/1000 [==============================] - 0s 81us/step - loss: 1.3777 - acc: 0.5430 - val_loss: 1.4613 - val_acc: 0.4460\n",
      "\n",
      "Epoch 00022: val_acc improved from 0.41000 to 0.44600, saving model to ../model_output/mnist-cnn-best.hdf5\n",
      "Epoch 23/100\n",
      "1000/1000 [==============================] - 0s 81us/step - loss: 1.3339 - acc: 0.5880 - val_loss: 1.8382 - val_acc: 0.2950\n",
      "\n",
      "Epoch 00023: val_acc did not improve from 0.44600\n",
      "Epoch 24/100\n",
      "1000/1000 [==============================] - 0s 87us/step - loss: 1.2588 - acc: 0.5960 - val_loss: 1.4344 - val_acc: 0.4670\n",
      "\n",
      "Epoch 00024: val_acc improved from 0.44600 to 0.46700, saving model to ../model_output/mnist-cnn-best.hdf5\n",
      "Epoch 25/100\n",
      "1000/1000 [==============================] - 0s 81us/step - loss: 1.2440 - acc: 0.6010 - val_loss: 1.3054 - val_acc: 0.5170\n",
      "\n",
      "Epoch 00025: val_acc improved from 0.46700 to 0.51700, saving model to ../model_output/mnist-cnn-best.hdf5\n",
      "Epoch 26/100\n",
      "1000/1000 [==============================] - 0s 80us/step - loss: 1.1472 - acc: 0.6480 - val_loss: 1.2578 - val_acc: 0.5950\n",
      "\n",
      "Epoch 00026: val_acc improved from 0.51700 to 0.59500, saving model to ../model_output/mnist-cnn-best.hdf5\n",
      "Epoch 27/100\n",
      "1000/1000 [==============================] - 0s 79us/step - loss: 1.1207 - acc: 0.6440 - val_loss: 1.1877 - val_acc: 0.5680\n",
      "\n",
      "Epoch 00027: val_acc did not improve from 0.59500\n",
      "Epoch 28/100\n",
      "1000/1000 [==============================] - 0s 79us/step - loss: 1.0407 - acc: 0.6820 - val_loss: 1.2804 - val_acc: 0.5470\n",
      "\n",
      "Epoch 00028: val_acc did not improve from 0.59500\n",
      "Epoch 29/100\n",
      "1000/1000 [==============================] - 0s 82us/step - loss: 1.0139 - acc: 0.6900 - val_loss: 1.0776 - val_acc: 0.6140\n",
      "\n",
      "Epoch 00029: val_acc improved from 0.59500 to 0.61400, saving model to ../model_output/mnist-cnn-best.hdf5\n",
      "Epoch 30/100\n",
      "1000/1000 [==============================] - 0s 86us/step - loss: 0.9602 - acc: 0.7120 - val_loss: 1.1666 - val_acc: 0.5580\n",
      "\n",
      "Epoch 00030: val_acc did not improve from 0.61400\n",
      "Epoch 31/100\n",
      "1000/1000 [==============================] - 0s 74us/step - loss: 0.9102 - acc: 0.7300 - val_loss: 1.0173 - val_acc: 0.6610\n",
      "\n",
      "Epoch 00031: val_acc improved from 0.61400 to 0.66100, saving model to ../model_output/mnist-cnn-best.hdf5\n",
      "Epoch 32/100\n",
      "1000/1000 [==============================] - 0s 81us/step - loss: 0.8779 - acc: 0.7500 - val_loss: 1.0923 - val_acc: 0.5820\n",
      "\n",
      "Epoch 00032: val_acc did not improve from 0.66100\n",
      "Epoch 33/100\n",
      "1000/1000 [==============================] - 0s 80us/step - loss: 0.7985 - acc: 0.7680 - val_loss: 1.1232 - val_acc: 0.5690\n",
      "\n",
      "Epoch 00033: val_acc did not improve from 0.66100\n",
      "Epoch 34/100\n",
      "1000/1000 [==============================] - 0s 86us/step - loss: 0.7853 - acc: 0.7600 - val_loss: 0.7946 - val_acc: 0.7380\n",
      "\n",
      "Epoch 00034: val_acc improved from 0.66100 to 0.73800, saving model to ../model_output/mnist-cnn-best.hdf5\n",
      "Epoch 35/100\n",
      "1000/1000 [==============================] - 0s 84us/step - loss: 0.7309 - acc: 0.7960 - val_loss: 1.5437 - val_acc: 0.4260\n",
      "\n",
      "Epoch 00035: val_acc did not improve from 0.73800\n",
      "Epoch 36/100\n",
      "1000/1000 [==============================] - 0s 81us/step - loss: 0.7332 - acc: 0.7860 - val_loss: 0.8583 - val_acc: 0.6810\n",
      "\n",
      "Epoch 00036: val_acc did not improve from 0.73800\n",
      "Epoch 37/100\n",
      "1000/1000 [==============================] - 0s 73us/step - loss: 0.6572 - acc: 0.8170 - val_loss: 1.1945 - val_acc: 0.5390\n",
      "\n",
      "Epoch 00037: val_acc did not improve from 0.73800\n",
      "Epoch 38/100\n",
      "1000/1000 [==============================] - 0s 72us/step - loss: 0.6342 - acc: 0.8240 - val_loss: 2.1327 - val_acc: 0.2650\n",
      "\n",
      "Epoch 00038: val_acc did not improve from 0.73800\n",
      "Epoch 39/100\n"
     ]
    },
    {
     "name": "stdout",
     "output_type": "stream",
     "text": [
      "1000/1000 [==============================] - 0s 80us/step - loss: 0.5977 - acc: 0.8420 - val_loss: 0.6880 - val_acc: 0.7530\n",
      "\n",
      "Epoch 00039: val_acc improved from 0.73800 to 0.75300, saving model to ../model_output/mnist-cnn-best.hdf5\n",
      "Epoch 40/100\n",
      "1000/1000 [==============================] - 0s 76us/step - loss: 0.5700 - acc: 0.8380 - val_loss: 0.6861 - val_acc: 0.7750\n",
      "\n",
      "Epoch 00040: val_acc improved from 0.75300 to 0.77500, saving model to ../model_output/mnist-cnn-best.hdf5\n",
      "Epoch 41/100\n",
      "1000/1000 [==============================] - 0s 71us/step - loss: 0.5185 - acc: 0.8680 - val_loss: 0.8071 - val_acc: 0.6870\n",
      "\n",
      "Epoch 00041: val_acc did not improve from 0.77500\n",
      "Epoch 42/100\n",
      "1000/1000 [==============================] - 0s 72us/step - loss: 0.4855 - acc: 0.8680 - val_loss: 1.2051 - val_acc: 0.5360\n",
      "\n",
      "Epoch 00042: val_acc did not improve from 0.77500\n",
      "Epoch 43/100\n",
      "1000/1000 [==============================] - 0s 81us/step - loss: 0.4615 - acc: 0.8880 - val_loss: 0.4735 - val_acc: 0.8440\n",
      "\n",
      "Epoch 00043: val_acc improved from 0.77500 to 0.84400, saving model to ../model_output/mnist-cnn-best.hdf5\n",
      "Epoch 44/100\n",
      "1000/1000 [==============================] - 0s 76us/step - loss: 0.4853 - acc: 0.8700 - val_loss: 0.6166 - val_acc: 0.7860\n",
      "\n",
      "Epoch 00044: val_acc did not improve from 0.84400\n",
      "Epoch 45/100\n",
      "1000/1000 [==============================] - 0s 76us/step - loss: 0.4090 - acc: 0.9120 - val_loss: 0.5807 - val_acc: 0.7920\n",
      "\n",
      "Epoch 00045: val_acc did not improve from 0.84400\n",
      "Epoch 46/100\n",
      "1000/1000 [==============================] - 0s 74us/step - loss: 0.4025 - acc: 0.8970 - val_loss: 0.3954 - val_acc: 0.8860\n",
      "\n",
      "Epoch 00046: val_acc improved from 0.84400 to 0.88600, saving model to ../model_output/mnist-cnn-best.hdf5\n",
      "Epoch 47/100\n",
      "1000/1000 [==============================] - 0s 82us/step - loss: 0.3922 - acc: 0.8980 - val_loss: 0.9905 - val_acc: 0.6400\n",
      "\n",
      "Epoch 00047: val_acc did not improve from 0.88600\n",
      "Epoch 48/100\n",
      "1000/1000 [==============================] - 0s 76us/step - loss: 0.3250 - acc: 0.9340 - val_loss: 0.2537 - val_acc: 0.9640\n",
      "\n",
      "Epoch 00048: val_acc improved from 0.88600 to 0.96400, saving model to ../model_output/mnist-cnn-best.hdf5\n",
      "Epoch 49/100\n",
      "1000/1000 [==============================] - 0s 80us/step - loss: 0.3465 - acc: 0.9220 - val_loss: 0.1388 - val_acc: 0.9990\n",
      "\n",
      "Epoch 00049: val_acc improved from 0.96400 to 0.99900, saving model to ../model_output/mnist-cnn-best.hdf5\n",
      "Epoch 50/100\n",
      "1000/1000 [==============================] - 0s 74us/step - loss: 0.3153 - acc: 0.9320 - val_loss: 0.4840 - val_acc: 0.8600\n",
      "\n",
      "Epoch 00050: val_acc did not improve from 0.99900\n",
      "Epoch 51/100\n",
      "1000/1000 [==============================] - 0s 78us/step - loss: 0.2260 - acc: 0.9590 - val_loss: 0.8075 - val_acc: 0.7140\n",
      "\n",
      "Epoch 00051: val_acc did not improve from 0.99900\n",
      "Epoch 52/100\n",
      "1000/1000 [==============================] - 0s 80us/step - loss: 0.2796 - acc: 0.9330 - val_loss: 0.1655 - val_acc: 0.9870\n",
      "\n",
      "Epoch 00052: val_acc did not improve from 0.99900\n",
      "Epoch 53/100\n",
      "1000/1000 [==============================] - 0s 77us/step - loss: 0.2465 - acc: 0.9470 - val_loss: 0.2823 - val_acc: 0.9110\n",
      "\n",
      "Epoch 00053: val_acc did not improve from 0.99900\n",
      "Epoch 54/100\n",
      "1000/1000 [==============================] - 0s 77us/step - loss: 0.2595 - acc: 0.9440 - val_loss: 0.3320 - val_acc: 0.8780\n",
      "\n",
      "Epoch 00054: val_acc did not improve from 0.99900\n",
      "Epoch 55/100\n",
      "1000/1000 [==============================] - 0s 74us/step - loss: 0.1934 - acc: 0.9570 - val_loss: 0.3669 - val_acc: 0.8530\n",
      "\n",
      "Epoch 00055: val_acc did not improve from 0.99900\n",
      "Epoch 56/100\n",
      "1000/1000 [==============================] - 0s 70us/step - loss: 0.2836 - acc: 0.9210 - val_loss: 0.1456 - val_acc: 0.9830\n",
      "\n",
      "Epoch 00056: val_acc did not improve from 0.99900\n",
      "Epoch 57/100\n",
      "1000/1000 [==============================] - 0s 74us/step - loss: 0.1816 - acc: 0.9570 - val_loss: 0.1250 - val_acc: 0.9880\n",
      "\n",
      "Epoch 00057: val_acc did not improve from 0.99900\n",
      "Epoch 58/100\n",
      "1000/1000 [==============================] - 0s 75us/step - loss: 0.2042 - acc: 0.9600 - val_loss: 0.0895 - val_acc: 0.9950\n",
      "\n",
      "Epoch 00058: val_acc did not improve from 0.99900\n",
      "Epoch 59/100\n",
      "1000/1000 [==============================] - 0s 76us/step - loss: 0.1345 - acc: 0.9700 - val_loss: 1.8492 - val_acc: 0.5620\n",
      "\n",
      "Epoch 00059: val_acc did not improve from 0.99900\n",
      "Epoch 60/100\n",
      "1000/1000 [==============================] - 0s 69us/step - loss: 0.2842 - acc: 0.9280 - val_loss: 0.3519 - val_acc: 0.8700\n",
      "\n",
      "Epoch 00060: val_acc did not improve from 0.99900\n",
      "Epoch 61/100\n",
      "1000/1000 [==============================] - 0s 67us/step - loss: 0.1809 - acc: 0.9590 - val_loss: 0.0437 - val_acc: 1.0000\n",
      "\n",
      "Epoch 00061: val_acc improved from 0.99900 to 1.00000, saving model to ../model_output/mnist-cnn-best.hdf5\n",
      "Epoch 62/100\n",
      "1000/1000 [==============================] - 0s 77us/step - loss: 0.1898 - acc: 0.9580 - val_loss: 0.0411 - val_acc: 1.0000\n",
      "\n",
      "Epoch 00062: val_acc did not improve from 1.00000\n",
      "Epoch 63/100\n",
      "1000/1000 [==============================] - 0s 65us/step - loss: 0.1722 - acc: 0.9530 - val_loss: 0.0518 - val_acc: 1.0000\n",
      "\n",
      "Epoch 00063: val_acc did not improve from 1.00000\n",
      "Epoch 64/100\n",
      "1000/1000 [==============================] - 0s 70us/step - loss: 0.1374 - acc: 0.9730 - val_loss: 0.2346 - val_acc: 0.9260\n",
      "\n",
      "Epoch 00064: val_acc did not improve from 1.00000\n",
      "Epoch 65/100\n",
      "1000/1000 [==============================] - 0s 78us/step - loss: 0.1420 - acc: 0.9740 - val_loss: 0.1087 - val_acc: 0.9880\n",
      "\n",
      "Epoch 00065: val_acc did not improve from 1.00000\n",
      "Epoch 66/100\n",
      "1000/1000 [==============================] - 0s 71us/step - loss: 0.1554 - acc: 0.9600 - val_loss: 0.0336 - val_acc: 1.0000\n",
      "\n",
      "Epoch 00066: val_acc did not improve from 1.00000\n",
      "Epoch 67/100\n",
      "1000/1000 [==============================] - 0s 71us/step - loss: 0.1576 - acc: 0.9680 - val_loss: 0.0539 - val_acc: 1.0000\n",
      "\n",
      "Epoch 00067: val_acc did not improve from 1.00000\n",
      "Epoch 68/100\n",
      "1000/1000 [==============================] - 0s 72us/step - loss: 0.1244 - acc: 0.9730 - val_loss: 0.0254 - val_acc: 1.0000\n",
      "\n",
      "Epoch 00068: val_acc did not improve from 1.00000\n",
      "Epoch 69/100\n",
      "1000/1000 [==============================] - 0s 72us/step - loss: 0.1629 - acc: 0.9550 - val_loss: 0.0207 - val_acc: 1.0000\n",
      "\n",
      "Epoch 00069: val_acc did not improve from 1.00000\n",
      "Epoch 70/100\n",
      "1000/1000 [==============================] - 0s 79us/step - loss: 0.1227 - acc: 0.9690 - val_loss: 0.0238 - val_acc: 1.0000\n",
      "\n",
      "Epoch 00070: val_acc did not improve from 1.00000\n",
      "Epoch 71/100\n",
      "1000/1000 [==============================] - 0s 80us/step - loss: 0.1148 - acc: 0.9760 - val_loss: 0.0209 - val_acc: 1.0000\n",
      "\n",
      "Epoch 00071: val_acc did not improve from 1.00000\n",
      "Epoch 72/100\n",
      "1000/1000 [==============================] - 0s 76us/step - loss: 0.1465 - acc: 0.9700 - val_loss: 0.0171 - val_acc: 1.0000\n",
      "\n",
      "Epoch 00072: val_acc did not improve from 1.00000\n",
      "Epoch 73/100\n",
      "1000/1000 [==============================] - 0s 79us/step - loss: 0.1519 - acc: 0.9660 - val_loss: 0.0533 - val_acc: 0.9990\n",
      "\n",
      "Epoch 00073: val_acc did not improve from 1.00000\n",
      "Epoch 74/100\n",
      "1000/1000 [==============================] - 0s 83us/step - loss: 0.0172 - acc: 1.0000 - val_loss: 0.0275 - val_acc: 1.0000\n",
      "\n",
      "Epoch 00074: val_acc did not improve from 1.00000\n",
      "Epoch 75/100\n",
      "1000/1000 [==============================] - 0s 83us/step - loss: 0.1641 - acc: 0.9620 - val_loss: 0.0148 - val_acc: 1.0000\n",
      "\n",
      "Epoch 00075: val_acc did not improve from 1.00000\n",
      "Epoch 76/100\n",
      "1000/1000 [==============================] - 0s 87us/step - loss: 0.1651 - acc: 0.9660 - val_loss: 0.0126 - val_acc: 1.0000\n",
      "\n",
      "Epoch 00076: val_acc did not improve from 1.00000\n",
      "Epoch 77/100\n",
      "1000/1000 [==============================] - 0s 77us/step - loss: 0.1488 - acc: 0.9600 - val_loss: 0.1631 - val_acc: 0.9360\n",
      "\n",
      "Epoch 00077: val_acc did not improve from 1.00000\n",
      "Epoch 78/100\n",
      "1000/1000 [==============================] - 0s 79us/step - loss: 0.0187 - acc: 0.9990 - val_loss: 0.0367 - val_acc: 0.9990\n",
      "\n",
      "Epoch 00078: val_acc did not improve from 1.00000\n",
      "Epoch 79/100\n",
      "1000/1000 [==============================] - 0s 77us/step - loss: 0.2108 - acc: 0.9560 - val_loss: 0.0123 - val_acc: 1.0000\n",
      "\n",
      "Epoch 00079: val_acc did not improve from 1.00000\n",
      "Epoch 80/100\n",
      "1000/1000 [==============================] - 0s 86us/step - loss: 0.0920 - acc: 0.9780 - val_loss: 0.0113 - val_acc: 1.0000\n"
     ]
    },
    {
     "name": "stdout",
     "output_type": "stream",
     "text": [
      "\n",
      "Epoch 00080: val_acc did not improve from 1.00000\n",
      "Epoch 81/100\n",
      "1000/1000 [==============================] - 0s 72us/step - loss: 0.1052 - acc: 0.9840 - val_loss: 0.7777 - val_acc: 0.7790\n",
      "\n",
      "Epoch 00081: val_acc did not improve from 1.00000\n",
      "Epoch 82/100\n",
      "1000/1000 [==============================] - 0s 77us/step - loss: 0.0427 - acc: 0.9930 - val_loss: 0.0205 - val_acc: 1.0000\n",
      "\n",
      "Epoch 00082: val_acc did not improve from 1.00000\n",
      "Epoch 83/100\n",
      "1000/1000 [==============================] - 0s 83us/step - loss: 0.2261 - acc: 0.9520 - val_loss: 0.0087 - val_acc: 1.0000\n",
      "\n",
      "Epoch 00083: val_acc did not improve from 1.00000\n",
      "Epoch 84/100\n",
      "1000/1000 [==============================] - 0s 79us/step - loss: 0.0077 - acc: 1.0000 - val_loss: 0.0188 - val_acc: 1.0000\n",
      "\n",
      "Epoch 00084: val_acc did not improve from 1.00000\n",
      "Epoch 85/100\n",
      "1000/1000 [==============================] - 0s 73us/step - loss: 0.1285 - acc: 0.9630 - val_loss: 0.0084 - val_acc: 1.0000\n",
      "\n",
      "Epoch 00085: val_acc did not improve from 1.00000\n",
      "Epoch 86/100\n",
      "1000/1000 [==============================] - 0s 68us/step - loss: 0.1482 - acc: 0.9670 - val_loss: 0.0129 - val_acc: 1.0000\n",
      "\n",
      "Epoch 00086: val_acc did not improve from 1.00000\n",
      "Epoch 87/100\n",
      "1000/1000 [==============================] - 0s 65us/step - loss: 0.0069 - acc: 1.0000 - val_loss: 0.0065 - val_acc: 1.0000\n",
      "\n",
      "Epoch 00087: val_acc did not improve from 1.00000\n",
      "Epoch 88/100\n",
      "1000/1000 [==============================] - 0s 68us/step - loss: 0.1950 - acc: 0.9610 - val_loss: 0.0060 - val_acc: 1.0000\n",
      "\n",
      "Epoch 00088: val_acc did not improve from 1.00000\n",
      "Epoch 89/100\n",
      "1000/1000 [==============================] - 0s 64us/step - loss: 0.0139 - acc: 0.9980 - val_loss: 1.6990 - val_acc: 0.6380\n",
      "\n",
      "Epoch 00089: val_acc did not improve from 1.00000\n",
      "Epoch 90/100\n",
      "1000/1000 [==============================] - 0s 70us/step - loss: 0.1202 - acc: 0.9710 - val_loss: 0.0058 - val_acc: 1.0000\n",
      "\n",
      "Epoch 00090: val_acc did not improve from 1.00000\n",
      "Epoch 91/100\n",
      "1000/1000 [==============================] - 0s 76us/step - loss: 0.1947 - acc: 0.9600 - val_loss: 0.0088 - val_acc: 1.0000\n",
      "\n",
      "Epoch 00091: val_acc did not improve from 1.00000\n",
      "Epoch 92/100\n",
      "1000/1000 [==============================] - 0s 78us/step - loss: 0.0066 - acc: 1.0000 - val_loss: 0.0082 - val_acc: 1.0000\n",
      "\n",
      "Epoch 00092: val_acc did not improve from 1.00000\n",
      "Epoch 93/100\n",
      "1000/1000 [==============================] - 0s 73us/step - loss: 0.2495 - acc: 0.9580 - val_loss: 0.0100 - val_acc: 1.0000\n",
      "\n",
      "Epoch 00093: val_acc did not improve from 1.00000\n",
      "Epoch 94/100\n",
      "1000/1000 [==============================] - 0s 73us/step - loss: 0.0068 - acc: 1.0000 - val_loss: 0.0046 - val_acc: 1.0000\n",
      "\n",
      "Epoch 00094: val_acc did not improve from 1.00000\n",
      "Epoch 95/100\n",
      "1000/1000 [==============================] - 0s 82us/step - loss: 0.1291 - acc: 0.9740 - val_loss: 0.6944 - val_acc: 0.7670\n",
      "\n",
      "Epoch 00095: val_acc did not improve from 1.00000\n",
      "Epoch 96/100\n",
      "1000/1000 [==============================] - 0s 74us/step - loss: 0.0344 - acc: 0.9900 - val_loss: 0.0051 - val_acc: 1.0000\n",
      "\n",
      "Epoch 00096: val_acc did not improve from 1.00000\n",
      "Epoch 97/100\n",
      "1000/1000 [==============================] - 0s 73us/step - loss: 0.0052 - acc: 1.0000 - val_loss: 0.0437 - val_acc: 0.9980\n",
      "\n",
      "Epoch 00097: val_acc did not improve from 1.00000\n",
      "Epoch 98/100\n",
      "1000/1000 [==============================] - 0s 77us/step - loss: 0.1779 - acc: 0.9690 - val_loss: 0.0051 - val_acc: 1.0000\n",
      "\n",
      "Epoch 00098: val_acc did not improve from 1.00000\n",
      "Epoch 99/100\n",
      "1000/1000 [==============================] - 0s 71us/step - loss: 0.2105 - acc: 0.9610 - val_loss: 0.0066 - val_acc: 1.0000\n",
      "\n",
      "Epoch 00099: val_acc did not improve from 1.00000\n",
      "Epoch 100/100\n",
      "1000/1000 [==============================] - 0s 71us/step - loss: 0.0041 - acc: 1.0000 - val_loss: 0.0031 - val_acc: 1.0000\n",
      "\n",
      "Epoch 00100: val_acc did not improve from 1.00000\n"
     ]
    },
    {
     "data": {
      "text/plain": [
       "<keras.callbacks.History at 0x7f32b9c50eb8>"
      ]
     },
     "execution_count": 44,
     "metadata": {},
     "output_type": "execute_result"
    }
   ],
   "source": [
    "# 开始训练\n",
    "model.fit(data, one_hot_labels, \n",
    "          validation_data=(data, one_hot_labels),\n",
    "          epochs=100, \n",
    "          callbacks=[TensorBoard(log_dir='../logs'),checkpoint]) "
   ]
  },
  {
   "cell_type": "code",
   "execution_count": 25,
   "metadata": {},
   "outputs": [
    {
     "data": {
      "text/plain": [
       "[0.00917348955012858, 1.0]"
      ]
     },
     "execution_count": 25,
     "metadata": {},
     "output_type": "execute_result"
    }
   ],
   "source": [
    "score = model.evaluate(data, one_hot_labels, verbose=0)\n",
    "score"
   ]
  },
  {
   "cell_type": "code",
   "execution_count": 47,
   "metadata": {},
   "outputs": [
    {
     "ename": "NameError",
     "evalue": "name 'numpy' is not defined",
     "output_type": "error",
     "traceback": [
      "\u001b[0;31m---------------------------------------------------------------------------\u001b[0m",
      "\u001b[0;31mNameError\u001b[0m                                 Traceback (most recent call last)",
      "\u001b[0;32m<ipython-input-47-a1b79f0a4d6d>\u001b[0m in \u001b[0;36m<module>\u001b[0;34m\u001b[0m\n\u001b[1;32m      2\u001b[0m \u001b[0;31m# Compile model (required to make predictions) model.compile(loss='binary_crossentropy', optimizer='adam', metrics=['accuracy']) print(\"Created model and loaded weights from file\")\u001b[0m\u001b[0;34m\u001b[0m\u001b[0;34m\u001b[0m\u001b[0m\n\u001b[1;32m      3\u001b[0m \u001b[0;31m# load pima indians dataset\u001b[0m\u001b[0;34m\u001b[0m\u001b[0;34m\u001b[0m\u001b[0m\n\u001b[0;32m----> 4\u001b[0;31m \u001b[0mdataset\u001b[0m \u001b[0;34m=\u001b[0m \u001b[0mnumpy\u001b[0m\u001b[0;34m.\u001b[0m\u001b[0mloadtxt\u001b[0m\u001b[0;34m(\u001b[0m\u001b[0;34m\"pima-indians-diabetes.csv\"\u001b[0m\u001b[0;34m,\u001b[0m \u001b[0mdelimiter\u001b[0m\u001b[0;34m=\u001b[0m\u001b[0;34m\",\"\u001b[0m\u001b[0;34m)\u001b[0m\u001b[0;34m\u001b[0m\u001b[0m\n\u001b[0m\u001b[1;32m      5\u001b[0m \u001b[0;31m# split into input (X) and output (Y) variables\u001b[0m\u001b[0;34m\u001b[0m\u001b[0;34m\u001b[0m\u001b[0m\n\u001b[1;32m      6\u001b[0m \u001b[0mX\u001b[0m \u001b[0;34m=\u001b[0m \u001b[0mdataset\u001b[0m\u001b[0;34m[\u001b[0m\u001b[0;34m:\u001b[0m\u001b[0;34m,\u001b[0m\u001b[0;36m0\u001b[0m\u001b[0;34m:\u001b[0m\u001b[0;36m8\u001b[0m\u001b[0;34m]\u001b[0m\u001b[0;34m\u001b[0m\u001b[0m\n",
      "\u001b[0;31mNameError\u001b[0m: name 'numpy' is not defined"
     ]
    }
   ],
   "source": [
    "model.load_weights(\"../model_output/mnist-cnn-best.hdf5\")\n",
    "# Compile model (required to make predictions) model.compile(loss='binary_crossentropy', optimizer='adam', metrics=['accuracy']) print(\"Created model and loaded weights from file\")\n",
    "# load pima indians dataset\n",
    "dataset = numpy.loadtxt(\"pima-indians-diabetes.csv\", delimiter=\",\")\n",
    "# split into input (X) and output (Y) variables\n",
    "X = dataset[:,0:8]\n",
    "Y = dataset[:,8]\n",
    "# estimate accuracy on whole dataset using loaded weights\n",
    "scores = model.evaluate(X, Y, verbose=0)\n",
    "print(\"%s: %.2f%%\" % (model.metrics_names[1], scores[1]*100))"
   ]
  },
  {
   "cell_type": "markdown",
   "metadata": {},
   "source": [
    "##  Save and Resume a Keras MNIST ConvNet Model"
   ]
  },
  {
   "cell_type": "markdown",
   "metadata": {},
   "source": [
    "https://www.floydhub.com/redeipirati/projects/save-and-resume/53/code/keras_mnist_cnn_jupyter.ipynb"
   ]
  },
  {
   "cell_type": "markdown",
   "metadata": {},
   "source": [
    "### Hyper Parameters and Variables"
   ]
  },
  {
   "cell_type": "code",
   "execution_count": null,
   "metadata": {},
   "outputs": [],
   "source": [
    "from __future__ import print_function\n",
    "import keras\n",
    "import os.path\n",
    "from keras.datasets import mnist\n",
    "from keras.models import Sequential\n",
    "from keras.layers import Dense, Dropout, Flatten\n",
    "from keras.layers import Conv2D, MaxPooling2D\n",
    "from keras import backend as K\n",
    "from keras.callbacks import ModelCheckpoint"
   ]
  },
  {
   "cell_type": "code",
   "execution_count": null,
   "metadata": {},
   "outputs": [],
   "source": [
    "# Path to saved model weights(as hdf5)\n",
    "resume_weights = \"../model_weight/mnist-cnn-best.hdf5\"\n",
    "\n",
    "# Where to save Checkpoint(In the /output folder)\n",
    "filepath = \"../model_output/mnist-cnn-best.hdf5\"\n",
    "\n",
    "# Hyper-parameters\n",
    "batch_size = 128\n",
    "num_classes = 10\n",
    "epochs = 12\n",
    "\n",
    "# input image dimensions\n",
    "img_rows, img_cols = 28, 28"
   ]
  },
  {
   "cell_type": "markdown",
   "metadata": {},
   "source": [
    "### Data Processing and Transformation"
   ]
  },
  {
   "cell_type": "code",
   "execution_count": null,
   "metadata": {},
   "outputs": [],
   "source": [
    "# MNIST handwritten image classification\n",
    "# the data, shuffled and split between train and test sets\n",
    "(x_train, y_train), (x_test, y_test) = mnist.load_data()\n",
    "\n",
    "# Reshape strategy according to backend\n",
    "if K.image_data_format() == 'channels_first':\n",
    "    x_train = x_train.reshape(x_train.shape[0], 1, img_rows, img_cols)\n",
    "    x_test = x_test.reshape(x_test.shape[0], 1, img_rows, img_cols)\n",
    "    # 1 x 28 x 28 [number_of_channels (colors) x height x weight]\n",
    "    input_shape = (1, img_rows, img_cols)\n",
    "else:\n",
    "    x_train = x_train.reshape(x_train.shape[0], img_rows, img_cols, 1)\n",
    "    x_test = x_test.reshape(x_test.shape[0], img_rows, img_cols, 1)\n",
    "    # 28 x 28 x 1 [height x weight x number_of_channels (colors)]\n",
    "    input_shape = (img_rows, img_cols, 1)\n",
    "\n",
    "# Reshape, type, normalized, print\n",
    "x_train = x_train.astype('float32')\n",
    "x_test = x_test.astype('float32')\n",
    "x_train /= 255\n",
    "x_test /= 255\n",
    "\n",
    "# Dataset info\n",
    "print('x_train shape:', x_train.shape)\n",
    "print(x_train.shape[0], 'train samples')\n",
    "print(x_test.shape[0], 'test samples')\n",
    "\n",
    "# convert class vectors to binary class matrices\n",
    "y_train = keras.utils.to_categorical(y_train, num_classes)\n",
    "y_test = keras.utils.to_categorical(y_test, num_classes)"
   ]
  },
  {
   "cell_type": "markdown",
   "metadata": {},
   "source": [
    "### Define the Model"
   ]
  },
  {
   "cell_type": "code",
   "execution_count": null,
   "metadata": {},
   "outputs": [],
   "source": [
    "# MODEL\n",
    "# Conv(32,3,3)[ReLU] -> Conv(64,3,3)[ReLU] -> MaxPool(2,2)[Dropout 0.25] ->\n",
    "# FC(_, 128)[ReLU][Dropout 0.5] -> FC(128, 10)[Softmax]\n",
    "model = Sequential()\n",
    "model.add(Conv2D(32, kernel_size=(3, 3),\n",
    "                    activation='relu',\n",
    "                    input_shape=input_shape))\n",
    "model.add(Conv2D(64, (3, 3), activation='relu'))\n",
    "model.add(MaxPooling2D(pool_size=(2, 2)))\n",
    "model.add(Dropout(0.25))\n",
    "model.add(Flatten())\n",
    "model.add(Dense(128, activation='relu'))\n",
    "model.add(Dropout(0.5))\n",
    "model.add(Dense(num_classes, activation='softmax'))\n",
    "\n",
    "model.summary()"
   ]
  },
  {
   "cell_type": "markdown",
   "metadata": {},
   "source": [
    "### Resume a checkpoint"
   ]
  },
  {
   "cell_type": "code",
   "execution_count": null,
   "metadata": {},
   "outputs": [],
   "source": [
    "# If exists a best model, load its weights!\n",
    "if os.path.isfile(resume_weights):\n",
    "    print (\"Resumed model's weights from {}\".format(resume_weights))\n",
    "    # load weights\n",
    "    model.load_weights(resume_weights)"
   ]
  },
  {
   "cell_type": "markdown",
   "metadata": {
    "heading_collapsed": true
   },
   "source": [
    "### Define The Loss Function and The Optimizers"
   ]
  },
  {
   "cell_type": "code",
   "execution_count": null,
   "metadata": {
    "hidden": true
   },
   "outputs": [],
   "source": [
    "# CEE, Adam\n",
    "model.compile(loss=keras.losses.categorical_crossentropy,\n",
    "            optimizer=keras.optimizers.Adam(),\n",
    "            metrics=['accuracy'])"
   ]
  },
  {
   "cell_type": "markdown",
   "metadata": {},
   "source": [
    "### Checkpoint Strategy"
   ]
  },
  {
   "cell_type": "code",
   "execution_count": null,
   "metadata": {},
   "outputs": [],
   "source": [
    "# Keep only a single checkpoint, the best over test accuracy.\n",
    "checkpoint = ModelCheckpoint(filepath,\n",
    "                            monitor='val_acc',\n",
    "                            verbose=1,\n",
    "                            save_best_only=True,\n",
    "                            mode='max')"
   ]
  },
  {
   "cell_type": "markdown",
   "metadata": {
    "heading_collapsed": true
   },
   "source": [
    "### Training"
   ]
  },
  {
   "cell_type": "code",
   "execution_count": null,
   "metadata": {
    "hidden": true
   },
   "outputs": [],
   "source": [
    "# Train\n",
    "model.fit(x_train, y_train,\n",
    "                batch_size=batch_size,\n",
    "                epochs=epochs,\n",
    "                verbose=1,\n",
    "                validation_data=(x_test, y_test),\n",
    "                callbacks=[checkpoint])\n",
    "\n",
    "# Eval\n",
    "score = model.evaluate(x_test, y_test, verbose=0)\n",
    "print('Test loss:', score[0])\n",
    "print('Test accuracy:', score[1])"
   ]
  },
  {
   "cell_type": "code",
   "execution_count": null,
   "metadata": {
    "hidden": true
   },
   "outputs": [],
   "source": [
    "ls"
   ]
  },
  {
   "cell_type": "markdown",
   "metadata": {
    "heading_collapsed": true
   },
   "source": [
    "## end"
   ]
  },
  {
   "cell_type": "code",
   "execution_count": null,
   "metadata": {
    "hidden": true
   },
   "outputs": [],
   "source": []
  }
 ],
 "metadata": {
  "kernelspec": {
   "display_name": "Python 3",
   "language": "python",
   "name": "python3"
  },
  "language_info": {
   "codemirror_mode": {
    "name": "ipython",
    "version": 3
   },
   "file_extension": ".py",
   "mimetype": "text/x-python",
   "name": "python",
   "nbconvert_exporter": "python",
   "pygments_lexer": "ipython3",
   "version": "3.5.2"
  },
  "varInspector": {
   "cols": {
    "lenName": 16,
    "lenType": 16,
    "lenVar": 40
   },
   "kernels_config": {
    "python": {
     "delete_cmd_postfix": "",
     "delete_cmd_prefix": "del ",
     "library": "var_list.py",
     "varRefreshCmd": "print(var_dic_list())"
    },
    "r": {
     "delete_cmd_postfix": ") ",
     "delete_cmd_prefix": "rm(",
     "library": "var_list.r",
     "varRefreshCmd": "cat(var_dic_list()) "
    }
   },
   "oldHeight": 208.22153799999998,
   "position": {
    "height": "40px",
    "left": "1127.79px",
    "right": "20px",
    "top": "120px",
    "width": "279.904px"
   },
   "types_to_exclude": [
    "module",
    "function",
    "builtin_function_or_method",
    "instance",
    "_Feature"
   ],
   "varInspector_section_display": "none",
   "window_display": true
  }
 },
 "nbformat": 4,
 "nbformat_minor": 2
}
