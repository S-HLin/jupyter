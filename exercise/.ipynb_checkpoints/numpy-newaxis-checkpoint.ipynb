{
 "cells": [
  {
   "cell_type": "markdown",
   "metadata": {},
   "source": [
    "# numpy.newaxis "
   ]
  },
  {
   "cell_type": "code",
   "execution_count": 1,
   "metadata": {},
   "outputs": [],
   "source": [
    "import numpy as np"
   ]
  },
  {
   "cell_type": "code",
   "execution_count": 2,
   "metadata": {},
   "outputs": [
    {
     "name": "stdout",
     "output_type": "stream",
     "text": [
      "shape of x1 is  (3,)\n",
      "[10. 20. 30.]\n"
     ]
    }
   ],
   "source": [
    "# array\n",
    "x1 = np.array([10, 20, 30], float)\n",
    "print(\"shape of x1 is \", x1.shape)\n",
    "print(x1)"
   ]
  },
  {
   "cell_type": "code",
   "execution_count": 3,
   "metadata": {},
   "outputs": [
    {
     "name": "stdout",
     "output_type": "stream",
     "text": [
      "shape of x2 is  (3, 1)\n",
      "[[10.]\n",
      " [20.]\n",
      " [30.]]\n"
     ]
    }
   ],
   "source": [
    "#加新軸在第二維度\n",
    "x2 = x1[:, np.newaxis]\n",
    "print(\"shape of x2 is \", x2.shape)\n",
    "print(x2)"
   ]
  },
  {
   "cell_type": "code",
   "execution_count": 7,
   "metadata": {},
   "outputs": [
    {
     "name": "stdout",
     "output_type": "stream",
     "text": [
      "shape of x3 is  (1, 3)\n",
      "[[10. 20. 30.]]\n"
     ]
    }
   ],
   "source": [
    "#加新軸在第一維度\n",
    "x3 = x1[np.newaxis, :]\n",
    "print(\"shape of x3 is \", x3.shape)\n",
    "print(x3)"
   ]
  },
  {
   "cell_type": "code",
   "execution_count": 8,
   "metadata": {},
   "outputs": [
    {
     "name": "stdout",
     "output_type": "stream",
     "text": [
      "shape of x4 is  (1, 3)\n",
      "[[10. 20. 30.]]\n"
     ]
    }
   ],
   "source": [
    "#加新軸在第一維度\n",
    "x4=x1[np.newaxis]\n",
    "print(\"shape of x4 is \", x4.shape)\n",
    "print(x4)"
   ]
  },
  {
   "cell_type": "code",
   "execution_count": null,
   "metadata": {},
   "outputs": [],
   "source": []
  }
 ],
 "metadata": {
  "kernelspec": {
   "display_name": "Python 3",
   "language": "python",
   "name": "python3"
  },
  "language_info": {
   "codemirror_mode": {
    "name": "ipython",
    "version": 3
   },
   "file_extension": ".py",
   "mimetype": "text/x-python",
   "name": "python",
   "nbconvert_exporter": "python",
   "pygments_lexer": "ipython3",
   "version": "3.5.2"
  },
  "varInspector": {
   "cols": {
    "lenName": 16,
    "lenType": 16,
    "lenVar": 40
   },
   "kernels_config": {
    "python": {
     "delete_cmd_postfix": "",
     "delete_cmd_prefix": "del ",
     "library": "var_list.py",
     "varRefreshCmd": "print(var_dic_list())"
    },
    "r": {
     "delete_cmd_postfix": ") ",
     "delete_cmd_prefix": "rm(",
     "library": "var_list.r",
     "varRefreshCmd": "cat(var_dic_list()) "
    }
   },
   "types_to_exclude": [
    "module",
    "function",
    "builtin_function_or_method",
    "instance",
    "_Feature"
   ],
   "window_display": false
  }
 },
 "nbformat": 4,
 "nbformat_minor": 2
}
