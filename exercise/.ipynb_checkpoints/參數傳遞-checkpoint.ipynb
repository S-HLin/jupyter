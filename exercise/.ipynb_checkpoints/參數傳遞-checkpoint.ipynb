{
 "cells": [
  {
   "cell_type": "markdown",
   "metadata": {},
   "source": [
    "# A. python中的 \\* , \\*args , \\** , \\**kwargs"
   ]
  },
  {
   "cell_type": "markdown",
   "metadata": {
    "heading_collapsed": true
   },
   "source": [
    "## 1. 通過函數調用來理解 * 的作用"
   ]
  },
  {
   "cell_type": "code",
   "execution_count": null,
   "metadata": {
    "hidden": true
   },
   "outputs": [],
   "source": [
    "def fun(a,b,c):\n",
    "    print(a,b,c)"
   ]
  },
  {
   "cell_type": "code",
   "execution_count": null,
   "metadata": {
    "hidden": true
   },
   "outputs": [],
   "source": [
    "fun(1,2,3)"
   ]
  },
  {
   "cell_type": "code",
   "execution_count": null,
   "metadata": {
    "hidden": true
   },
   "outputs": [],
   "source": [
    "l=[1,2,3]\n",
    "fun(*l)"
   ]
  },
  {
   "cell_type": "code",
   "execution_count": null,
   "metadata": {
    "hidden": true
   },
   "outputs": [],
   "source": [
    "l=(1,2,3)\n",
    "fun(*l)"
   ]
  },
  {
   "cell_type": "code",
   "execution_count": null,
   "metadata": {
    "hidden": true
   },
   "outputs": [],
   "source": [
    "l=[1,2,3,4]\n",
    "fun(*l)"
   ]
  },
  {
   "cell_type": "markdown",
   "metadata": {
    "hidden": true
   },
   "source": [
    "它拆開數列’l’的數值作為位置參數，並吧這些位置參數傳給函數’fun’來調用。\n",
    "\n",
    "因此拆數列、傳位置參數意味着fun(*l)與fun(1,2,3)是等效的，因為l = [1,2,3]\n",
    "\n",
    "數列’l’含有四個數值.因此，我們試圖調用’fun(*l)’，’l’中數值拆開傳給函數fun作為位置參數。\n",
    "\n",
    "但是，’l’中有四個數值，調用’fun(*l)’相當於調用’fun(1,2,3,4)’,又因為函數’fun’定義中只用三個位置參數，因此我們得到這個錯誤。"
   ]
  },
  {
   "cell_type": "markdown",
   "metadata": {
    "heading_collapsed": true
   },
   "source": [
    "## 2. 通過函數定義來理解 *args 的含義"
   ]
  },
  {
   "cell_type": "code",
   "execution_count": 240,
   "metadata": {
    "hidden": true
   },
   "outputs": [],
   "source": [
    "def fun(*args):\n",
    "    print(args,type(args))"
   ]
  },
  {
   "cell_type": "code",
   "execution_count": 241,
   "metadata": {
    "hidden": true
   },
   "outputs": [
    {
     "name": "stdout",
     "output_type": "stream",
     "text": [
      "(10,) <class 'tuple'>\n"
     ]
    }
   ],
   "source": [
    "fun(10)"
   ]
  },
  {
   "cell_type": "code",
   "execution_count": 242,
   "metadata": {
    "hidden": true
   },
   "outputs": [
    {
     "name": "stdout",
     "output_type": "stream",
     "text": [
      "(10, 20) <class 'tuple'>\n"
     ]
    }
   ],
   "source": [
    "fun(10,20)"
   ]
  },
  {
   "cell_type": "code",
   "execution_count": 243,
   "metadata": {
    "hidden": true
   },
   "outputs": [
    {
     "name": "stdout",
     "output_type": "stream",
     "text": [
      "([1, 2], 20, [2, 3]) <class 'tuple'>\n"
     ]
    }
   ],
   "source": [
    "fun([1,2],20,[2,3])"
   ]
  },
  {
   "cell_type": "code",
   "execution_count": 244,
   "metadata": {
    "hidden": true
   },
   "outputs": [],
   "source": [
    "def fun(x,y,*args):\n",
    "    print(x,y,args)"
   ]
  },
  {
   "cell_type": "code",
   "execution_count": 245,
   "metadata": {
    "hidden": true
   },
   "outputs": [
    {
     "name": "stdout",
     "output_type": "stream",
     "text": [
      "1 2 (3, 4, 5)\n"
     ]
    }
   ],
   "source": [
    "fun(1,2,3,4,5)"
   ]
  },
  {
   "cell_type": "code",
   "execution_count": 260,
   "metadata": {
    "hidden": true
   },
   "outputs": [],
   "source": [
    "def fun(x,y,*args,z):\n",
    "    print(x,y,args,z)"
   ]
  },
  {
   "cell_type": "code",
   "execution_count": 261,
   "metadata": {
    "hidden": true
   },
   "outputs": [
    {
     "ename": "TypeError",
     "evalue": "fun() missing 1 required keyword-only argument: 'z'",
     "output_type": "error",
     "traceback": [
      "\u001b[0;31m---------------------------------------------------------------------------\u001b[0m",
      "\u001b[0;31mTypeError\u001b[0m                                 Traceback (most recent call last)",
      "\u001b[0;32m<ipython-input-261-35d4fa7ffe6e>\u001b[0m in \u001b[0;36m<module>\u001b[0;34m()\u001b[0m\n\u001b[0;32m----> 1\u001b[0;31m \u001b[0mfun\u001b[0m\u001b[0;34m(\u001b[0m\u001b[0;36m1\u001b[0m\u001b[0;34m,\u001b[0m\u001b[0;36m2\u001b[0m\u001b[0;34m,\u001b[0m\u001b[0;36m3\u001b[0m\u001b[0;34m,\u001b[0m\u001b[0;36m4\u001b[0m\u001b[0;34m,\u001b[0m\u001b[0;36m5\u001b[0m\u001b[0;34m)\u001b[0m\u001b[0;34m\u001b[0m\u001b[0m\n\u001b[0m",
      "\u001b[0;31mTypeError\u001b[0m: fun() missing 1 required keyword-only argument: 'z'"
     ]
    }
   ],
   "source": [
    "fun(1,2,3,4,5)"
   ]
  },
  {
   "cell_type": "markdown",
   "metadata": {
    "hidden": true
   },
   "source": [
    "1、*args 用來將參數打包成tuple給函數體調用，參數個數不受限制，*args接收元組作為位置參數。\n",
    "\n",
    "2、由代碼2知：x為1，y為2，即第一個和第二個位置參數，之後只有一個參數*args，因此，*args接收除第一個和第二個參數之外的參數作為元組，即(3,4,5)。\n",
    "\n",
    "3、由代碼3知：位置參數z不能放置在*args之後"
   ]
  },
  {
   "cell_type": "markdown",
   "metadata": {
    "heading_collapsed": true
   },
   "source": [
    "## 3. 通過函數調用來理解 ** 的作用"
   ]
  },
  {
   "cell_type": "code",
   "execution_count": 248,
   "metadata": {
    "hidden": true
   },
   "outputs": [],
   "source": [
    "def fun(a,b,c):\n",
    "    print(a,b,c)"
   ]
  },
  {
   "cell_type": "code",
   "execution_count": 249,
   "metadata": {
    "hidden": true
   },
   "outputs": [
    {
     "name": "stdout",
     "output_type": "stream",
     "text": [
      "1 2 3\n"
     ]
    }
   ],
   "source": [
    "fun(1,2,3)"
   ]
  },
  {
   "cell_type": "code",
   "execution_count": 250,
   "metadata": {
    "hidden": true
   },
   "outputs": [
    {
     "name": "stdout",
     "output_type": "stream",
     "text": [
      "1 2 3\n"
     ]
    }
   ],
   "source": [
    "fun(a=1,b=2,c=3)"
   ]
  },
  {
   "cell_type": "code",
   "execution_count": 251,
   "metadata": {
    "hidden": true
   },
   "outputs": [
    {
     "name": "stdout",
     "output_type": "stream",
     "text": [
      "1 2 3\n"
     ]
    }
   ],
   "source": [
    "d={'b':2,'c':3} #字典變數\n",
    "fun(1,**d)"
   ]
  },
  {
   "cell_type": "code",
   "execution_count": 252,
   "metadata": {
    "hidden": true
   },
   "outputs": [
    {
     "name": "stdout",
     "output_type": "stream",
     "text": [
      "1 2 3\n"
     ]
    }
   ],
   "source": [
    "dict={'b':2,'c':3}  #字典函數\n",
    "fun(1,**dict)"
   ]
  },
  {
   "cell_type": "code",
   "execution_count": 253,
   "metadata": {
    "hidden": true
   },
   "outputs": [
    {
     "ename": "TypeError",
     "evalue": "fun() got an unexpected keyword argument 'd'",
     "output_type": "error",
     "traceback": [
      "\u001b[0;31m---------------------------------------------------------------------------\u001b[0m",
      "\u001b[0;31mTypeError\u001b[0m                                 Traceback (most recent call last)",
      "\u001b[0;32m<ipython-input-253-d22d9f791401>\u001b[0m in \u001b[0;36m<module>\u001b[0;34m()\u001b[0m\n\u001b[1;32m      1\u001b[0m \u001b[0md\u001b[0m\u001b[0;34m=\u001b[0m\u001b[0;34m{\u001b[0m\u001b[0;34m'a'\u001b[0m\u001b[0;34m:\u001b[0m\u001b[0;36m1\u001b[0m\u001b[0;34m,\u001b[0m\u001b[0;34m'b'\u001b[0m\u001b[0;34m:\u001b[0m\u001b[0;36m2\u001b[0m\u001b[0;34m,\u001b[0m\u001b[0;34m'c'\u001b[0m\u001b[0;34m:\u001b[0m\u001b[0;36m3\u001b[0m\u001b[0;34m,\u001b[0m\u001b[0;34m'd'\u001b[0m\u001b[0;34m:\u001b[0m\u001b[0;36m4\u001b[0m\u001b[0;34m}\u001b[0m  \u001b[0;31m#多一個變數\u001b[0m\u001b[0;34m\u001b[0m\u001b[0m\n\u001b[0;32m----> 2\u001b[0;31m \u001b[0mfun\u001b[0m\u001b[0;34m(\u001b[0m\u001b[0;34m**\u001b[0m\u001b[0md\u001b[0m\u001b[0;34m)\u001b[0m\u001b[0;34m\u001b[0m\u001b[0m\n\u001b[0m",
      "\u001b[0;31mTypeError\u001b[0m: fun() got an unexpected keyword argument 'd'"
     ]
    }
   ],
   "source": [
    "d={'a':1,'b':2,'c':3,'d':4}  #多一個變數\n",
    "fun(**d)"
   ]
  },
  {
   "cell_type": "code",
   "execution_count": 254,
   "metadata": {
    "hidden": true
   },
   "outputs": [
    {
     "ename": "TypeError",
     "evalue": "fun() got an unexpected keyword argument 'd'",
     "output_type": "error",
     "traceback": [
      "\u001b[0;31m---------------------------------------------------------------------------\u001b[0m",
      "\u001b[0;31mTypeError\u001b[0m                                 Traceback (most recent call last)",
      "\u001b[0;32m<ipython-input-254-6d1a7a81eec3>\u001b[0m in \u001b[0;36m<module>\u001b[0;34m()\u001b[0m\n\u001b[1;32m      1\u001b[0m \u001b[0md\u001b[0m\u001b[0;34m=\u001b[0m\u001b[0;34m{\u001b[0m\u001b[0;34m'a'\u001b[0m\u001b[0;34m:\u001b[0m\u001b[0;36m1\u001b[0m\u001b[0;34m,\u001b[0m\u001b[0;34m'b'\u001b[0m\u001b[0;34m:\u001b[0m\u001b[0;36m2\u001b[0m\u001b[0;34m,\u001b[0m\u001b[0;34m'd'\u001b[0m\u001b[0;34m:\u001b[0m\u001b[0;36m4\u001b[0m\u001b[0;34m}\u001b[0m  \u001b[0;31m#字典參數不符合\u001b[0m\u001b[0;34m\u001b[0m\u001b[0m\n\u001b[0;32m----> 2\u001b[0;31m \u001b[0mfun\u001b[0m\u001b[0;34m(\u001b[0m\u001b[0;34m**\u001b[0m\u001b[0md\u001b[0m\u001b[0;34m)\u001b[0m\u001b[0;34m\u001b[0m\u001b[0m\n\u001b[0m",
      "\u001b[0;31mTypeError\u001b[0m: fun() got an unexpected keyword argument 'd'"
     ]
    }
   ],
   "source": [
    "d={'a':1,'b':2,'d':4}  #字典參數不符合\n",
    "fun(**d)"
   ]
  },
  {
   "cell_type": "markdown",
   "metadata": {
    "hidden": true
   },
   "source": [
    "在函數調用中使用”*”，我們需要元組;  \n",
    "在函數調用中使用”**”，我們需要一個字典，字典中參數個數不能多，也不能少。"
   ]
  },
  {
   "cell_type": "markdown",
   "metadata": {
    "heading_collapsed": true
   },
   "source": [
    "## 4. 通過函數定義來理解 **kwargs 的含義"
   ]
  },
  {
   "cell_type": "code",
   "execution_count": 255,
   "metadata": {
    "hidden": true
   },
   "outputs": [],
   "source": [
    "def fun(a,**kwargs):\n",
    "    print(a,kwargs)"
   ]
  },
  {
   "cell_type": "code",
   "execution_count": 256,
   "metadata": {
    "hidden": true
   },
   "outputs": [
    {
     "name": "stdout",
     "output_type": "stream",
     "text": [
      "1 {'c': 3, 'b': 2}\n"
     ]
    }
   ],
   "source": [
    "fun(1,b=2,c=3)"
   ]
  },
  {
   "cell_type": "code",
   "execution_count": 257,
   "metadata": {
    "hidden": true
   },
   "outputs": [
    {
     "name": "stdout",
     "output_type": "stream",
     "text": [
      "1 {'c': 3, 'b': 2}\n"
     ]
    }
   ],
   "source": [
    "fun(1,**{'b':2,'c':3})"
   ]
  },
  {
   "cell_type": "code",
   "execution_count": 258,
   "metadata": {
    "hidden": true
   },
   "outputs": [
    {
     "ename": "TypeError",
     "evalue": "fun() takes 1 positional argument but 2 were given",
     "output_type": "error",
     "traceback": [
      "\u001b[0;31m---------------------------------------------------------------------------\u001b[0m",
      "\u001b[0;31mTypeError\u001b[0m                                 Traceback (most recent call last)",
      "\u001b[0;32m<ipython-input-258-832df7ea34e7>\u001b[0m in \u001b[0;36m<module>\u001b[0;34m()\u001b[0m\n\u001b[0;32m----> 1\u001b[0;31m \u001b[0mfun\u001b[0m\u001b[0;34m(\u001b[0m\u001b[0;36m1\u001b[0m\u001b[0;34m,\u001b[0m\u001b[0;34m{\u001b[0m\u001b[0;34m'b'\u001b[0m\u001b[0;34m:\u001b[0m\u001b[0;36m2\u001b[0m\u001b[0;34m,\u001b[0m\u001b[0;34m'c'\u001b[0m\u001b[0;34m:\u001b[0m\u001b[0;36m3\u001b[0m\u001b[0;34m}\u001b[0m\u001b[0;34m)\u001b[0m\u001b[0;34m\u001b[0m\u001b[0m\n\u001b[0m",
      "\u001b[0;31mTypeError\u001b[0m: fun() takes 1 positional argument but 2 were given"
     ]
    }
   ],
   "source": [
    "fun(1,{'b':2,'c':3})"
   ]
  },
  {
   "cell_type": "markdown",
   "metadata": {
    "hidden": true
   },
   "source": [
    "在函數定義中”**kwargs”意味着什麼？  \n",
    "\n",
    "用”**kwargs”定義函數,kwargs接收除常規參數列表之外的鍵值參數字典，參數個數不固定，kwargs是個字典。  \n",
    "\n",
    "可以多傳參數嗎？因為參數不固定，所以也就沒有多少的概念了。"
   ]
  },
  {
   "cell_type": "markdown",
   "metadata": {
    "heading_collapsed": true
   },
   "source": [
    "## 注意:參數arg、\\*args、\\**kwargs三個參數的位置必須一定  \n",
    "必須是(arg,*args,\\**kwargs)這個順序，否則進程會報錯。"
   ]
  },
  {
   "cell_type": "markdown",
   "metadata": {},
   "source": [
    "## 5. 通過應用實例説明’args’,’kwargs’應用場景及為何使用"
   ]
  },
  {
   "cell_type": "code",
   "execution_count": 6,
   "metadata": {},
   "outputs": [],
   "source": [
    "class Model:\n",
    "    def __init__(self,name):\n",
    "        self.name=name\n",
    "    def save(self,force_update=False,force_insert=False):\n",
    "        if force_update and force_insert:\n",
    "            raise ValueError('cannt perform both operations') #故意寫作cannt而非cannot\n",
    "        if force_update:\n",
    "            print('updated an existing record')\n",
    "        if force_insert:\n",
    "            print('created a new record')"
   ]
  },
  {
   "cell_type": "code",
   "execution_count": 7,
   "metadata": {},
   "outputs": [],
   "source": [
    "class Child(Model):\n",
    "    def save(self,*args,**kwargs):\n",
    "        if self.name=='abcd':\n",
    "            super().save(*args,**kwargs)\n",
    "            #super(Model,self).save(*args,**kwargs)\n",
    "        else:\n",
    "            return None"
   ]
  },
  {
   "cell_type": "code",
   "execution_count": null,
   "metadata": {},
   "outputs": [],
   "source": [
    "child=Child('abcd')\n",
    "child.save(force_update=True)\n",
    "child.save(force_insert=True)\n",
    "child.save(force_insert=True,force_update=True)\n",
    "# updated an existing record\n",
    "# created a new record\n",
    "# ValueError: cannt perform both operations"
   ]
  },
  {
   "cell_type": "markdown",
   "metadata": {
    "heading_collapsed": true
   },
   "source": [
    "# B. positional argument vs keyword argument"
   ]
  },
  {
   "cell_type": "markdown",
   "metadata": {
    "hidden": true
   },
   "source": [
    "位置参数，是指用相对位置指代参数。  \n",
    "\n",
    "关键字参数，使用关键字指代参数。  \n",
    "\n",
    "位置参数或者按顺序传递参数，或者使用名字，自然使用名字时，对顺序没有要求。  "
   ]
  },
  {
   "cell_type": "markdown",
   "metadata": {
    "hidden": true
   },
   "source": [
    "A positional argument is a name that is not followed by an equal assign（=） and default value.\n",
    "\n",
    "A keyword argument is followed by an equal sign and an expression that gives its default value.    \n",
    "\n",
    "以上的两条引用是针对函数的定义（definition of the function）来说的，  \n",
    "\n",
    "函数的调用（calls to the function），也即在函数的调用端，既可以使用位置标识参数，也可使用关键字。"
   ]
  },
  {
   "cell_type": "code",
   "execution_count": 83,
   "metadata": {
    "hidden": true
   },
   "outputs": [
    {
     "name": "stdout",
     "output_type": "stream",
     "text": [
      "3\n",
      "3\n"
     ]
    }
   ],
   "source": [
    "def foo(x, y):\n",
    "    return x*(x+y)\n",
    "print(foo(1, 2))            # 3, 使用positional argument\n",
    "print(foo(y=2, x=1))        # 3, named argument"
   ]
  },
  {
   "cell_type": "code",
   "execution_count": 3,
   "metadata": {
    "hidden": true
   },
   "outputs": [
    {
     "ename": "SyntaxError",
     "evalue": "positional argument follows keyword argument (<ipython-input-3-0554fd0ce969>, line 6)",
     "output_type": "error",
     "traceback": [
      "\u001b[0;36m  File \u001b[0;32m\"<ipython-input-3-0554fd0ce969>\"\u001b[0;36m, line \u001b[0;32m6\u001b[0m\n\u001b[0;31m    print(fn(c=5, 1, 2))     # syntax error\u001b[0m\n\u001b[0m                 ^\u001b[0m\n\u001b[0;31mSyntaxError\u001b[0m\u001b[0;31m:\u001b[0m positional argument follows keyword argument\n"
     ]
    }
   ],
   "source": [
    "def fn(a, b, c=1):\n",
    "    return a*b+c\n",
    "print(fn(1, 2))          # 3, positional(a, b) and default(c)\n",
    "print(fn(1, 2, 3))       # 5, positional(a, b)\n",
    "print(fn(c=5, b=2, a=2)) # 9, named(b=2, a=2)\n",
    "print(fn(c=5, 1, 2))     # syntax error\n",
    "print(fn(b=2, a=2))      # 5, named(b=2, a=2) and default\n",
    "print(fn(5, c=2, b=1))   # 7, positional(a), named(b).\n",
    "print(fn(8, b=0))        # 1, positional(a), named(b), default(c=1)"
   ]
  },
  {
   "cell_type": "code",
   "execution_count": 4,
   "metadata": {
    "hidden": true
   },
   "outputs": [
    {
     "name": "stdout",
     "output_type": "stream",
     "text": [
      "Wellcome\n"
     ]
    }
   ],
   "source": [
    "#positional arguments example\n",
    "def combine(str1, str2):\n",
    "#To join str1 and str2 with str3\n",
    "    str3 = str1 + str2\n",
    "    print(str3)\n",
    "\n",
    "#call combine() and pass 2 strings\n",
    "combine(\"Well\", \"come\")   #positional arguments"
   ]
  },
  {
   "cell_type": "code",
   "execution_count": 5,
   "metadata": {
    "hidden": true
   },
   "outputs": [
    {
     "name": "stdout",
     "output_type": "stream",
     "text": [
      "Employee Name:  inban\n",
      "Employee Id  :  pay001\n",
      "Employee Name:  karthik\n",
      "Employee Id  :  pay002\n"
     ]
    }
   ],
   "source": [
    "#keyword arguments example: \n",
    "def employee(name, Id):\n",
    "    print(\"Employee Name: \", name)\n",
    "    print(\"Employee Id  : \", Id)\n",
    "#call employee() and pass 2 arguments\n",
    "employee(name = \"inban\", Id = \"pay001\")\n",
    "employee(Id = \"pay002\", name = \"karthik\") #we can change the order args."
   ]
  },
  {
   "cell_type": "markdown",
   "metadata": {},
   "source": [
    "# C. Function-Argument"
   ]
  },
  {
   "cell_type": "markdown",
   "metadata": {
    "heading_collapsed": true
   },
   "source": [
    "## Default Argument Values"
   ]
  },
  {
   "cell_type": "code",
   "execution_count": 97,
   "metadata": {
    "hidden": true
   },
   "outputs": [
    {
     "name": "stdout",
     "output_type": "stream",
     "text": [
      "score before: 100\n",
      "score after: 1000\n"
     ]
    }
   ],
   "source": [
    "# The default values are evaluated at the point of function definition in the defining scope\n",
    "default_score = 100\n",
    "def re_score(s=default_score):\n",
    "    print( \"score before: {}\".format(s) )\n",
    "    s = s * 10\n",
    "    print( \"score after: {}\".format(s) )\n",
    "\n",
    "default_score = 120\n",
    "re_score()\n",
    "\n",
    "# score before: 100\n",
    "# score after: 1000"
   ]
  },
  {
   "cell_type": "code",
   "execution_count": 180,
   "metadata": {
    "hidden": true
   },
   "outputs": [
    {
     "name": "stdout",
     "output_type": "stream",
     "text": [
      "[60]\n",
      "[60, 84]\n",
      "[60, 84, 99]\n"
     ]
    }
   ],
   "source": [
    "# The default value is evaluated only once. \n",
    "# This makes a difference when the default is a mutable object such as a list,dictionary, \n",
    "# or instances of most classes.\n",
    "# default to be shared between subsequent calls\n",
    "def add_score(s, class_sroces=[]):\n",
    "    class_sroces.append(s)\n",
    "    return class_sroces\n",
    "\n",
    "print(add_score(60))\n",
    "print(add_score(84))\n",
    "print(add_score(99))\n",
    "\n",
    "# [60]\n",
    "# [60, 84]\n",
    "# [60, 84, 99]"
   ]
  },
  {
   "cell_type": "code",
   "execution_count": 181,
   "metadata": {
    "hidden": true
   },
   "outputs": [
    {
     "name": "stdout",
     "output_type": "stream",
     "text": [
      "[60]\n",
      "[84]\n",
      "[99]\n"
     ]
    }
   ],
   "source": [
    "# don’t want the default to be shared between subsequent calls\n",
    "def add_score_independent(s, class_sroces=None):\n",
    "    if class_sroces is None:\n",
    "        class_sroces = []\n",
    "    class_sroces.append(s)\n",
    "    return class_sroces\n",
    "\n",
    "print(add_score_independent(60))\n",
    "print(add_score_independent(84))\n",
    "print(add_score_independent(99))\n",
    "\n",
    "# [60]\n",
    "# [84]\n",
    "# [99]"
   ]
  },
  {
   "cell_type": "markdown",
   "metadata": {
    "heading_collapsed": true
   },
   "source": [
    "## Keyword Arguments"
   ]
  },
  {
   "cell_type": "markdown",
   "metadata": {
    "hidden": true
   },
   "source": [
    "------keyword argument  \n",
    "\n",
    "1.an argument preceded by an identifier(e.g.name=) in a function call  \n",
    "2.passed as a value in a dictionary preceded by **  \n",
    "\n",
    "------positional argument  \n",
    "\n",
    "1.an argument that is not a keyword argument.  \n",
    "2.passed as elements of an iterable preceded by *\n",
    "\n",
    "https://ithelp.ithome.com.tw/articles/10192619"
   ]
  },
  {
   "cell_type": "code",
   "execution_count": 182,
   "metadata": {
    "hidden": true
   },
   "outputs": [],
   "source": [
    "def re_score(cal_base ,default_score=100, who='ming', clazz='A'):\n",
    "    output = '{who} score before in class {clazz}: {score}'\n",
    "    print( output.format(who=who, clazz=clazz, score=default_score) )\n",
    "    score = default_score * cal_base\n",
    "    print( output.format(who=who, clazz=clazz, score=score) )"
   ]
  },
  {
   "cell_type": "code",
   "execution_count": 190,
   "metadata": {
    "hidden": true
   },
   "outputs": [
    {
     "name": "stdout",
     "output_type": "stream",
     "text": [
      "Type Error:: re_score() missing 1 required positional argument: 'cal_base'\n"
     ]
    }
   ],
   "source": [
    "try:\n",
    "    re_score()\n",
    "except TypeError as e:\n",
    "    print( \"Type Error:: {0}\".format(e) )\n",
    "# Type Error:: re_score() missing 1 required positional argument: 'cal_base'"
   ]
  },
  {
   "cell_type": "code",
   "execution_count": 175,
   "metadata": {
    "hidden": true
   },
   "outputs": [
    {
     "name": "stdout",
     "output_type": "stream",
     "text": [
      "ming score before in class A: 100\n",
      "ming score before in class A: 2000\n"
     ]
    }
   ],
   "source": [
    "re_score(20)\n",
    "\n",
    "# ming score before in class A: 100\n",
    "# ming score before in class A: 2000"
   ]
  },
  {
   "cell_type": "code",
   "execution_count": 176,
   "metadata": {
    "hidden": true
   },
   "outputs": [
    {
     "name": "stdout",
     "output_type": "stream",
     "text": [
      "ming score before in class A: 100\n",
      "ming score before in class A: 2000\n"
     ]
    }
   ],
   "source": [
    "re_score(cal_base=20)\n",
    "\n",
    "# ming score before in class A: 100\n",
    "# ming score before in class A: 2000"
   ]
  },
  {
   "cell_type": "code",
   "execution_count": 177,
   "metadata": {
    "hidden": true
   },
   "outputs": [
    {
     "ename": "SyntaxError",
     "evalue": "positional argument follows keyword argument (<ipython-input-177-509496f4f368>, line 1)",
     "output_type": "error",
     "traceback": [
      "\u001b[0;36m  File \u001b[0;32m\"<ipython-input-177-509496f4f368>\"\u001b[0;36m, line \u001b[0;32m1\u001b[0m\n\u001b[0;31m    re_score(cal_base=20, 20)\u001b[0m\n\u001b[0m                         ^\u001b[0m\n\u001b[0;31mSyntaxError\u001b[0m\u001b[0;31m:\u001b[0m positional argument follows keyword argument\n"
     ]
    }
   ],
   "source": [
    "re_score(cal_base=20, 20)\n",
    "# SyntaxError: positional argument follows keyword argument"
   ]
  },
  {
   "cell_type": "code",
   "execution_count": 178,
   "metadata": {
    "hidden": true
   },
   "outputs": [
    {
     "name": "stdout",
     "output_type": "stream",
     "text": [
      "ming score before in class A: 20\n",
      "ming score before in class A: 400\n"
     ]
    }
   ],
   "source": [
    "re_score(20, 20)\n",
    "\n",
    "# ming score before in class A: 20\n",
    "# ming score before in class A: 400"
   ]
  },
  {
   "cell_type": "code",
   "execution_count": 107,
   "metadata": {
    "hidden": true
   },
   "outputs": [
    {
     "name": "stdout",
     "output_type": "stream",
     "text": [
      "john score before in class A: 30\n",
      "john score before in class A: 600\n"
     ]
    }
   ],
   "source": [
    "re_score(20, 30, 'john')\n",
    "\n",
    "# john score before in class A: 30\n",
    "# john score before in class A: 600"
   ]
  },
  {
   "cell_type": "code",
   "execution_count": 108,
   "metadata": {
    "hidden": true
   },
   "outputs": [
    {
     "name": "stdout",
     "output_type": "stream",
     "text": [
      "ming score before in class B: 100\n",
      "ming score before in class B: 2000\n"
     ]
    }
   ],
   "source": [
    "re_score(20, clazz=\"B\")\n",
    "\n",
    "# ming score before in class B: 100\n",
    "# ming score before in class B: 2000"
   ]
  },
  {
   "cell_type": "code",
   "execution_count": 179,
   "metadata": {
    "hidden": true
   },
   "outputs": [
    {
     "name": "stdout",
     "output_type": "stream",
     "text": [
      "Type Error:: re_score() got an unexpected keyword argument 'name'\n"
     ]
    }
   ],
   "source": [
    "try:\n",
    "    re_score(20, name='tom')\n",
    "except TypeError as e:\n",
    "    print( \"Type Error:: {0}\".format(e) )\n",
    "\n",
    "# Type Error:: re_score() got an unexpected keyword argument 'name'"
   ]
  },
  {
   "cell_type": "code",
   "execution_count": 110,
   "metadata": {
    "hidden": true
   },
   "outputs": [
    {
     "name": "stdout",
     "output_type": "stream",
     "text": [
      "tom score before in class B: 80\n",
      "tom score before in class B: 1600\n"
     ]
    }
   ],
   "source": [
    "# passed as a value in a dictionary preceded by **\n",
    "info = {'default_score':80, 'who':'tom', 'clazz':'B'}\n",
    "re_score(20, **info)\n",
    "\n",
    "# tom score before in class B: 80\n",
    "# tom score before in class B: 1600"
   ]
  },
  {
   "cell_type": "markdown",
   "metadata": {
    "heading_collapsed": true
   },
   "source": [
    "## Arbitrary Argument Lists"
   ]
  },
  {
   "cell_type": "code",
   "execution_count": 191,
   "metadata": {
    "hidden": true
   },
   "outputs": [
    {
     "name": "stdout",
     "output_type": "stream",
     "text": [
      "concat result:https://ithelp.ithome.com.tw/articles/10192583\n"
     ]
    }
   ],
   "source": [
    "def concat(prefix, *chunk, sep=\"/\"):\n",
    "    return prefix + sep.join(chunk)\n",
    "\n",
    "\n",
    "result = concat('https://', 'ithelp.ithome.com.tw', 'articles', '10192583')\n",
    "print( \"concat result:{}\".format(result) )\n",
    "\n",
    "# concat result:https://ithelp.ithome.com.tw/articles/10192583"
   ]
  },
  {
   "cell_type": "code",
   "execution_count": 195,
   "metadata": {
    "hidden": true
   },
   "outputs": [
    {
     "name": "stdout",
     "output_type": "stream",
     "text": [
      "concat domain:https://docs.python.org\n",
      "concat url:https://docs.python.org3/tutorial/controlflow.html\n",
      "concat url_with_tag:https://docs.python.org3/tutorial/controlflow.html#more-on-defining-functions\n"
     ]
    }
   ],
   "source": [
    "url_domain_chunk = ('docs', 'python', 'org')\n",
    "url_path_chunk = ('3', 'tutorial', 'controlflow.html')\n",
    "\n",
    "domain = concat('https://', *url_domain_chunk, sep='.')\n",
    "url = concat(domain, *url_path_chunk)\n",
    "url_with_tag = concat(url+\"#\", 'more-on-defining-functions', sep='')\n",
    "print( \"concat domain:{}\".format(domain) )\n",
    "print( \"concat url:{}\".format(url) )\n",
    "print( \"concat url_with_tag:{}\".format(url_with_tag) )\n",
    "\n",
    "# concat domain:https://docs.python.org\n",
    "# concat url:https://docs.python.org3/tutorial/controlflow.html\n",
    "# concat url_with_tag:https://docs.python.org3/tutorial/controlflow.html#more-on-defining-functions"
   ]
  },
  {
   "cell_type": "markdown",
   "metadata": {
    "hidden": true
   },
   "source": [
    "### 說明"
   ]
  },
  {
   "cell_type": "code",
   "execution_count": 200,
   "metadata": {
    "hidden": true
   },
   "outputs": [],
   "source": [
    "def concat(prefix, *chunk, sep=\"/\"):\n",
    "    return prefix + sep.join(chunk)"
   ]
  },
  {
   "cell_type": "code",
   "execution_count": 206,
   "metadata": {
    "hidden": true
   },
   "outputs": [
    {
     "data": {
      "text/plain": [
       "'https://ithelp.ithome.com.tw/articles/10192583'"
      ]
     },
     "execution_count": 206,
     "metadata": {},
     "output_type": "execute_result"
    }
   ],
   "source": [
    "result = concat('https://', 'ithelp.ithome.com.tw', 'articles', '10192583')\n",
    "result"
   ]
  },
  {
   "cell_type": "code",
   "execution_count": 214,
   "metadata": {
    "hidden": true
   },
   "outputs": [
    {
     "data": {
      "text/plain": [
       "'concat result:https://ithelp.ithome.com.tw/articles/10192583'"
      ]
     },
     "execution_count": 214,
     "metadata": {},
     "output_type": "execute_result"
    }
   ],
   "source": [
    "\"concat result:{}\".format(result)"
   ]
  },
  {
   "cell_type": "code",
   "execution_count": 201,
   "metadata": {
    "hidden": true
   },
   "outputs": [],
   "source": [
    "url_domain_chunk = ('docs', 'python', 'org')\n",
    "url_path_chunk = ('3', 'tutorial', 'controlflow.html')"
   ]
  },
  {
   "cell_type": "code",
   "execution_count": 224,
   "metadata": {
    "hidden": true
   },
   "outputs": [
    {
     "data": {
      "text/plain": [
       "'https://docs.python.org'"
      ]
     },
     "execution_count": 224,
     "metadata": {},
     "output_type": "execute_result"
    }
   ],
   "source": [
    "domain = concat('https://', *url_domain_chunk, sep='.')\n",
    "domain"
   ]
  },
  {
   "cell_type": "code",
   "execution_count": 234,
   "metadata": {
    "hidden": true
   },
   "outputs": [
    {
     "data": {
      "text/plain": [
       "'https://docs.python.org3/tutorial/controlflow.html'"
      ]
     },
     "execution_count": 234,
     "metadata": {},
     "output_type": "execute_result"
    }
   ],
   "source": [
    "url = concat(domain, *url_path_chunk)\n",
    "url"
   ]
  },
  {
   "cell_type": "code",
   "execution_count": 236,
   "metadata": {
    "hidden": true
   },
   "outputs": [
    {
     "data": {
      "text/plain": [
       "'https://docs.python.org3/tutorial/controlflow.html#more-on-defining-functions'"
      ]
     },
     "execution_count": 236,
     "metadata": {},
     "output_type": "execute_result"
    }
   ],
   "source": [
    "url_with_tag = concat(url+\"#\", 'more-on-defining-functions',sep='')\n",
    "url_with_tag"
   ]
  }
 ],
 "metadata": {
  "kernelspec": {
   "display_name": "Python 3",
   "language": "python",
   "name": "python3"
  },
  "language_info": {
   "codemirror_mode": {
    "name": "ipython",
    "version": 3
   },
   "file_extension": ".py",
   "mimetype": "text/x-python",
   "name": "python",
   "nbconvert_exporter": "python",
   "pygments_lexer": "ipython3",
   "version": "3.5.2"
  },
  "varInspector": {
   "cols": {
    "lenName": 16,
    "lenType": 16,
    "lenVar": 40
   },
   "kernels_config": {
    "python": {
     "delete_cmd_postfix": "",
     "delete_cmd_prefix": "del ",
     "library": "var_list.py",
     "varRefreshCmd": "print(var_dic_list())"
    },
    "r": {
     "delete_cmd_postfix": ") ",
     "delete_cmd_prefix": "rm(",
     "library": "var_list.r",
     "varRefreshCmd": "cat(var_dic_list()) "
    }
   },
   "types_to_exclude": [
    "module",
    "function",
    "builtin_function_or_method",
    "instance",
    "_Feature"
   ],
   "window_display": false
  }
 },
 "nbformat": 4,
 "nbformat_minor": 2
}
