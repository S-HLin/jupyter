{
 "cells": [
  {
   "cell_type": "markdown",
   "metadata": {},
   "source": [
    "### test retinanet"
   ]
  },
  {
   "cell_type": "markdown",
   "metadata": {},
   "source": [
    "https://blog.csdn.net/zyxhangiian123456789/article/details/87814887"
   ]
  },
  {
   "cell_type": "code",
   "execution_count": null,
   "metadata": {
    "run_control": {
     "marked": true
    }
   },
   "outputs": [],
   "source": [
    "# show images inline\n",
    "%matplotlib inline\n",
    "\n",
    "# automatically reload modules when they have changed\n",
    "%load_ext autoreload\n",
    "%autoreload 2\n",
    "\n",
    "# import keras\n",
    "import keras\n",
    "\n",
    "# import keras_retinanet\n",
    "from keras_retinanet import models\n",
    "from keras_retinanet.utils.image import read_image_bgr, preprocess_image, resize_image\n",
    "from keras_retinanet.utils.visualization import draw_box, draw_caption\n",
    "from keras_retinanet.utils.colors import label_color\n",
    "\n",
    "# import miscellaneous modules\n",
    "import matplotlib.pyplot as plt\n",
    "import cv2\n",
    "import os\n",
    "import numpy as np\n",
    "import time\n",
    "\n",
    "# set tf backend to allow memory to grow, instead of claiming everything\n",
    "import tensorflow as tf\n",
    "\n",
    "def get_session():\n",
    "    config = tf.ConfigProto()\n",
    "    config.gpu_options.allow_growth = True\n",
    "    return tf.Session(config=config)\n",
    "\n",
    "# use this environment flag to change which GPU to use\n",
    "#os.environ[\"CUDA_VISIBLE_DEVICES\"] = \"1\"\n",
    "\n",
    "# set the modified tf session as backend in keras\n",
    "keras.backend.tensorflow_backend.set_session(get_session())"
   ]
  },
  {
   "cell_type": "code",
   "execution_count": null,
   "metadata": {},
   "outputs": [],
   "source": [
    "# model path\n",
    "model_path = os.path.join('..', 'snapshots', 'resnet50_csv_trans.h5')\n",
    "\n",
    "# load retinanet model\n",
    "model = models.load_model(model_path, backbone_name='resnet50')"
   ]
  },
  {
   "cell_type": "markdown",
   "metadata": {},
   "source": [
    "https://www.jianshu.com/p/0b0337df165a"
   ]
  },
  {
   "cell_type": "markdown",
   "metadata": {},
   "source": [
    "https://blog.gtwang.org/programming/python-csv-file-reading-and-writing-tutorial/"
   ]
  },
  {
   "cell_type": "code",
   "execution_count": 17,
   "metadata": {},
   "outputs": [
    {
     "name": "stdout",
     "output_type": "stream",
     "text": [
      "{0: '三杯茄子', 1: '什錦炒肉絲', 2: '加哩洋芋', 3: '地瓜葉', 4: '塔香豆豆杏鮑菇', 5: '大黃瓜炒香菇', 6: '小瓜肉丁', 7: '小白菜', 8: '尼龍菜', 9: '山藥燒小排', 10: '巴沙魚', 11: '彩色百頁', 12: '日式燉蘿蔔', 13: '木耳炒鳳梨', 14: '毛豆肉丁', 15: '油菜', 16: '洋芋', 17: '洋芋燒雞', 18: '滑蛋肉燥豆腐', 19: '滑蛋蝦皮絲瓜', 20: '滷枸杞苦瓜', 21: '炒什錦豆干', 22: '炒刈薯紅仁', 23: '炒大陸妹', 24: '炒雙色', 25: '炒高麗菜', 26: '炸排骨', 27: '烤雞腿', 28: '煎劍旗魚', 29: '煎水晶魚', 30: '煎紅尾冬魚', 31: '煎葉子魚', 32: '煎豪克魚', 33: '煎財神鲳', 34: '煎里肌', 35: '牛蒡煮', 36: '瓜仔雞', 37: '番茄金針肉片', 38: '破布子蒸冬瓜', 39: '空心菜', 40: '糖醋地瓜', 41: '糖醋豬排', 42: '紅仁肉丁', 43: '結球萵苣', 44: '羅勒烤雞', 45: '義式香料燉雞', 46: '胡麻茄子', 47: '芝麻南瓜', 48: '芝麻海帶絲', 49: '莧菜', 50: '菜豆', 51: '菠蘿雞丁', 52: '蒜泥白肉', 53: '蒸劍旗魚', 54: '蒸水晶魚', 55: '蔥油雞塊', 56: '薑汁味增滷雞排', 57: '薑絲炒雲耳', 58: '豆干絲', 59: '豆豉小排', 60: '豆豉烏魚塊', 61: '迷迭香烤雞排', 62: '醬燒黑芝麻牛蒡絲', 63: '醬香蛋豆腐', 64: '金針菇', 65: '金針菇燒冬瓜', 66: '青椒雞絲', 67: '青江菜', 68: '香菇', 69: '高麗炒雞柳', 70: '高麗雞肉片', 71: '鳳梨青豆', 72: '黃椒炒雞肉', 73: '龍紋魚', 74: '龍鱈魚丁'}\n"
     ]
    }
   ],
   "source": [
    "# load label to names mapping for visualization purposes\n",
    "import csv\n",
    "\n",
    "label_path='../../inputdata/csv/classes_label.csv'\n",
    "\n",
    "with open(label_path, newline='') as csvfile:\n",
    "\n",
    "  # 讀取 CSV 檔內容，將每一列轉成一個 dictionary\n",
    "  reader = csv.DictReader(csvfile)\n",
    "  labels_to_names = {}\n",
    "  # 以迴圈輸出指定欄位\n",
    "  for row in reader:\n",
    "       labels_to_names[int(row['label'])]= row['name']\n",
    "  print(labels_to_names)"
   ]
  },
  {
   "cell_type": "code",
   "execution_count": null,
   "metadata": {},
   "outputs": [],
   "source": [
    "from PIL import ImageFont, ImageDraw, Image\n",
    "\n",
    "def draw_caption2(image, box, caption):\n",
    "    \"\"\" Draws a caption above the box in an image.\n",
    "    # Arguments\n",
    "        image   : The image to draw on.\n",
    "        box     : A list of 4 elements (x1, y1, x2, y2).\n",
    "        caption : String containing the text to draw.\n",
    "    \"\"\"\n",
    "    # 字體設定\n",
    "    fontPath = \"/usr/local/lib/python3.5/dist-packages/matplotlib/mpl-data/fonts/ttf/msj.ttf\"\n",
    "    font = ImageFont.truetype(fontPath,20)\n",
    "    # 將 NumPy 陣列轉為 PIL 影像\n",
    "    imgPil = Image.fromarray(image)\n",
    "    \n",
    "    # 在圖片上加入文字\n",
    "    draw = ImageDraw.Draw(imgPil)\n",
    "    draw.text((b[0], b[1] - 10), caption, font = font, fill = (0, 0, 0))\n",
    "    #draw.text((b[0], b[1] - 10), caption, font = font, fill = (255,255,255))\n",
    "    #cv2.putText(image, caption, (b[0], b[1] - 10), cv2.FONT_HERSHEY_PLAIN, 1, (0, 0, 0), 2)\n",
    "    #cv2.putText(image, caption, (b[0], b[1] - 10), cv2.FONT_HERSHEY_PLAIN, 1, (255, 255, 255), 1)\n",
    "    \n",
    "    # 將 PIL 影像轉回 NumPy 陣列\n",
    "    image = np.array(imgPil)\n",
    "    return image"
   ]
  },
  {
   "cell_type": "code",
   "execution_count": null,
   "metadata": {},
   "outputs": [],
   "source": [
    "# load image\n",
    "# image = read_image_bgr('000000008021.jpg')\n",
    "image = read_image_bgr('Plat6_lunch_20181001_26492_NS.jpg')\n",
    "\n",
    "# copy to draw on\n",
    "draw = image.copy()\n",
    "draw = cv2.cvtColor(draw, cv2.COLOR_BGR2RGB)\n",
    "\n",
    "# preprocess image for network\n",
    "image = preprocess_image(image)\n",
    "image, scale = resize_image(image)"
   ]
  },
  {
   "cell_type": "code",
   "execution_count": null,
   "metadata": {},
   "outputs": [],
   "source": [
    "# process image\n",
    "start = time.time()\n",
    "boxes, scores, labels = model.predict_on_batch(np.expand_dims(image, axis=0))\n",
    "print(\"processing time: \", time.time() - start)\n",
    "\n",
    "# correct for image scale\n",
    "boxes /= scale"
   ]
  },
  {
   "cell_type": "code",
   "execution_count": null,
   "metadata": {},
   "outputs": [],
   "source": [
    "# visualize detections\n",
    "for box, score, label in zip(boxes[0], scores[0], labels[0]):\n",
    "    # scores are sorted so we can break\n",
    "    if score < 0.5:\n",
    "        break\n",
    "        \n",
    "    color = label_color(label)\n",
    "    \n",
    "    b = box.astype(int)\n",
    "    draw_box(draw, b, color=color)\n",
    "    \n",
    "    caption = \"{} {:.3f}\".format(result[label], score)\n",
    "    draw=draw_caption2(draw, b, caption)"
   ]
  },
  {
   "cell_type": "code",
   "execution_count": null,
   "metadata": {},
   "outputs": [],
   "source": [
    "plt.figure(figsize=(15, 15))\n",
    "plt.axis('off')\n",
    "plt.imshow(draw)\n",
    "plt.show()"
   ]
  },
  {
   "cell_type": "markdown",
   "metadata": {},
   "source": [
    "### end"
   ]
  },
  {
   "cell_type": "markdown",
   "metadata": {
    "heading_collapsed": true
   },
   "source": [
    "### no apply"
   ]
  },
  {
   "cell_type": "code",
   "execution_count": null,
   "metadata": {
    "hidden": true
   },
   "outputs": [],
   "source": [
    "# load image\n",
    "#image = read_image_bgr('000000008021.jpg')\n",
    "image = read_image_bgr('../../../../home/user/Downloads/aaa/fc2_save_2018-10-08-100016-17776 (1).jpg')\n",
    "# copy to draw on\n",
    "draw = image.copy()\n",
    "draw = cv2.cvtColor(draw, cv2.COLOR_BGR2RGB)\n",
    "\n",
    "# preprocess image for network\n",
    "image = preprocess_image(image)\n",
    "image, scale = resize_image(image)\n",
    "\n",
    "# process image\n",
    "start = time.time()\n",
    "boxes, scores, labels = model.predict_on_batch(np.expand_dims(image, axis=0))\n",
    "print(\"processing time: \", time.time() - start)\n",
    "\n",
    "# correct for image scale\n",
    "boxes /= scale\n",
    "\n",
    "# visualize detections\n",
    "for box, score, label in zip(boxes[0], scores[0], labels[0]):\n",
    "    # scores are sorted so we can break\n",
    "    if score < 0.5:\n",
    "        break\n",
    "        \n",
    "    color = label_color(label)\n",
    "    \n",
    "    b = box.astype(int)\n",
    "    draw_box(draw, b, color=color)\n",
    "    \n",
    "    caption = \"{} {:.3f}\".format(result[label], score)\n",
    "    draw=draw_caption2(draw, b, caption)\n",
    "    \n",
    "    \n",
    "plt.figure(figsize=(15, 15))\n",
    "plt.axis('off')\n",
    "plt.imshow(draw)\n",
    "plt.show()"
   ]
  },
  {
   "cell_type": "code",
   "execution_count": null,
   "metadata": {
    "hidden": true
   },
   "outputs": [],
   "source": []
  }
 ],
 "metadata": {
  "kernelspec": {
   "display_name": "Python 3",
   "language": "python",
   "name": "python3"
  },
  "language_info": {
   "codemirror_mode": {
    "name": "ipython",
    "version": 3
   },
   "file_extension": ".py",
   "mimetype": "text/x-python",
   "name": "python",
   "nbconvert_exporter": "python",
   "pygments_lexer": "ipython3",
   "version": "3.5.2"
  },
  "varInspector": {
   "cols": {
    "lenName": 16,
    "lenType": 16,
    "lenVar": 40
   },
   "kernels_config": {
    "python": {
     "delete_cmd_postfix": "",
     "delete_cmd_prefix": "del ",
     "library": "var_list.py",
     "varRefreshCmd": "print(var_dic_list())"
    },
    "r": {
     "delete_cmd_postfix": ") ",
     "delete_cmd_prefix": "rm(",
     "library": "var_list.r",
     "varRefreshCmd": "cat(var_dic_list()) "
    }
   },
   "oldHeight": 565.042598,
   "position": {
    "height": "586.562px",
    "left": "2186.15px",
    "right": "20px",
    "top": "135.875px",
    "width": "459.471px"
   },
   "types_to_exclude": [
    "module",
    "function",
    "builtin_function_or_method",
    "instance",
    "_Feature"
   ],
   "varInspector_section_display": "block",
   "window_display": true
  }
 },
 "nbformat": 4,
 "nbformat_minor": 2
}
