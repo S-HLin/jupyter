{
 "cells": [
  {
   "cell_type": "code",
   "execution_count": 1,
   "metadata": {},
   "outputs": [
    {
     "name": "stdout",
     "output_type": "stream",
     "text": [
      "['/dataDisk/myfloder/jupyter/model_train', '/home/user/LightGBM/python-package', '/home/user/xgboost/python-package', '/usr/lib/python35.zip', '/usr/lib/python3.5', '/usr/lib/python3.5/plat-x86_64-linux-gnu', '/usr/lib/python3.5/lib-dynload', '', '/home/user/.local/lib/python3.5/site-packages', '/usr/local/lib/python3.5/dist-packages', '/usr/local/lib/python3.5/dist-packages/object_detection-0.1-py3.5.egg', '/usr/local/lib/python3.5/dist-packages/Cython-0.29.6-py3.5-linux-x86_64.egg', '/usr/lib/python3/dist-packages', '/usr/local/lib/python3.5/dist-packages/IPython/extensions', '/home/user/.ipython']\n"
     ]
    }
   ],
   "source": [
    "import sys\n",
    "print(sys.path)"
   ]
  },
  {
   "cell_type": "code",
   "execution_count": 2,
   "metadata": {},
   "outputs": [
    {
     "name": "stderr",
     "output_type": "stream",
     "text": [
      "Using TensorFlow backend.\n"
     ]
    }
   ],
   "source": [
    "from keras_retinanet.preprocessing.generator import Generator\n",
    "from keras_retinanet.utils.image import read_image_bgr\n",
    "\n",
    "import numpy as np\n",
    "from PIL import Image\n",
    "from six import raise_from\n",
    "\n",
    "import csv\n",
    "import sys\n",
    "import os.path"
   ]
  },
  {
   "cell_type": "code",
   "execution_count": 3,
   "metadata": {
    "run_control": {
     "marked": true
    }
   },
   "outputs": [],
   "source": [
    "def _parse(value, function, fmt):\n",
    "    \"\"\"\n",
    "    Parse a string into a value, and format a nice ValueError if it fails.\n",
    "\n",
    "    Returns `function(value)`.\n",
    "    Any `ValueError` raised is catched and a new `ValueError` is raised\n",
    "    with message `fmt.format(e)`, where `e` is the caught `ValueError`.\n",
    "    \"\"\"\n",
    "    try:\n",
    "        return function(value)\n",
    "    except ValueError as e:\n",
    "        raise_from(ValueError(fmt.format(e)), None)\n",
    "\n",
    "\n",
    "def _read_classes(csv_reader):\n",
    "    \"\"\" Parse the classes file given by csv_reader.\n",
    "    \"\"\"\n",
    "    result = {}\n",
    "    for line, row in enumerate(csv_reader):\n",
    "        line += 1\n",
    "\n",
    "        try:\n",
    "            class_name, class_id = row\n",
    "        except ValueError:\n",
    "            raise_from(ValueError('line {}: format should be \\'class_name,class_id\\''.format(line)), None)\n",
    "        class_id = _parse(class_id, int, 'line {}: malformed class ID: {{}}'.format(line))\n",
    "\n",
    "        if class_name in result:\n",
    "            raise ValueError('line {}: duplicate class name: \\'{}\\''.format(line, class_name))\n",
    "        result[class_name] = class_id\n",
    "    return result\n",
    "\n",
    "\n",
    "def _read_annotations(csv_reader, classes):\n",
    "    \"\"\" Read annotations from the csv_reader.\n",
    "    \"\"\"\n",
    "    result = {}\n",
    "    for line, row in enumerate(csv_reader):\n",
    "        line += 1\n",
    "\n",
    "        try:\n",
    "            img_file, x1, y1, x2, y2, class_name = row[:6]\n",
    "        except ValueError:\n",
    "            raise_from(ValueError('line {}: format should be \\'img_file,x1,y1,x2,y2,class_name\\' or \\'img_file,,,,,\\''.format(line)), None)\n",
    "\n",
    "        if img_file not in result:\n",
    "            result[img_file] = []\n",
    "\n",
    "        # If a row contains only an image path, it's an image without annotations.\n",
    "        if (x1, y1, x2, y2, class_name) == ('', '', '', '', ''):\n",
    "            continue\n",
    "\n",
    "        x1 = _parse(x1, int, 'line {}: malformed x1: {{}}'.format(line))\n",
    "        y1 = _parse(y1, int, 'line {}: malformed y1: {{}}'.format(line))\n",
    "        x2 = _parse(x2, int, 'line {}: malformed x2: {{}}'.format(line))\n",
    "        y2 = _parse(y2, int, 'line {}: malformed y2: {{}}'.format(line))\n",
    "\n",
    "        # Check that the bounding box is valid.\n",
    "        if x2 <= x1:\n",
    "            raise ValueError('line {}: x2 ({}) must be higher than x1 ({})'.format(line, x2, x1))\n",
    "        if y2 <= y1:\n",
    "            raise ValueError('line {}: y2 ({}) must be higher than y1 ({})'.format(line, y2, y1))\n",
    "\n",
    "        # check if the current class name is correctly present\n",
    "        if class_name not in classes:\n",
    "            raise ValueError('line {}: unknown class name: \\'{}\\' (classes: {})'.format(line, class_name, classes))\n",
    "\n",
    "        result[img_file].append({'x1': x1, 'x2': x2, 'y1': y1, 'y2': y2, 'class': class_name})\n",
    "    return result\n",
    "\n",
    "\n",
    "def _open_for_csv(path):\n",
    "    \"\"\" Open a file with flags suitable for csv.reader.\n",
    "\n",
    "    This is different for python2 it means with mode 'rb',\n",
    "    for python3 this means 'r' with \"universal newlines\".\n",
    "    \"\"\"\n",
    "    if sys.version_info[0] < 3:\n",
    "        return open(path, 'rb')\n",
    "    else:\n",
    "        return open(path, 'r', newline='')"
   ]
  },
  {
   "cell_type": "code",
   "execution_count": 4,
   "metadata": {},
   "outputs": [],
   "source": [
    "class CSVGenerator(Generator):\n",
    "    \"\"\" Generate data for a custom CSV dataset.\n",
    "\n",
    "    See https://github.com/fizyr/keras-retinanet#csv-datasets for more information.\n",
    "    \"\"\"\n",
    "\n",
    "    def __init__(\n",
    "        self,\n",
    "        csv_data_file,\n",
    "        csv_class_file,\n",
    "        base_dir=None,\n",
    "        **kwargs\n",
    "    ):\n",
    "        \"\"\" Initialize a CSV data generator.\n",
    "\n",
    "        Args\n",
    "            csv_data_file: Path to the CSV annotations file.\n",
    "            csv_class_file: Path to the CSV classes file.\n",
    "            base_dir: Directory w.r.t. where the files are to be searched (defaults to the directory containing the csv_data_file).\n",
    "        \"\"\"\n",
    "        self.image_names = []\n",
    "        self.image_data  = {}\n",
    "        self.base_dir    = base_dir\n",
    "\n",
    "        # Take base_dir from annotations file if not explicitly specified.\n",
    "        if self.base_dir is None:\n",
    "            self.base_dir = os.path.dirname(csv_data_file)\n",
    "\n",
    "        # parse the provided class file\n",
    "        try:\n",
    "            with _open_for_csv(csv_class_file) as file:\n",
    "                self.classes = _read_classes(csv.reader(file, delimiter=','))\n",
    "        except ValueError as e:\n",
    "            raise_from(ValueError('invalid CSV class file: {}: {}'.format(csv_class_file, e)), None)\n",
    "\n",
    "        self.labels = {}\n",
    "        for key, value in self.classes.items():\n",
    "            self.labels[value] = key\n",
    "\n",
    "        # csv with img_path, x1, y1, x2, y2, class_name\n",
    "        try:\n",
    "            with _open_for_csv(csv_data_file) as file:\n",
    "                self.image_data = _read_annotations(csv.reader(file, delimiter=','), self.classes)\n",
    "        except ValueError as e:\n",
    "            raise_from(ValueError('invalid CSV annotations file: {}: {}'.format(csv_data_file, e)), None)\n",
    "        self.image_names = list(self.image_data.keys())\n",
    "\n",
    "        super(CSVGenerator, self).__init__(**kwargs)\n",
    "\n",
    "    def size(self):\n",
    "        \"\"\" Size of the dataset.\n",
    "        \"\"\"\n",
    "        return len(self.image_names)\n",
    "\n",
    "    def num_classes(self):\n",
    "        \"\"\" Number of classes in the dataset.\n",
    "        \"\"\"\n",
    "        return max(self.classes.values()) + 1\n",
    "\n",
    "    def has_label(self, label):\n",
    "        \"\"\" Return True if label is a known label.\n",
    "        \"\"\"\n",
    "        return label in self.labels\n",
    "\n",
    "    def has_name(self, name):\n",
    "        \"\"\" Returns True if name is a known class.\n",
    "        \"\"\"\n",
    "        return name in self.classes\n",
    "\n",
    "    def name_to_label(self, name):\n",
    "        \"\"\" Map name to label.\n",
    "        \"\"\"\n",
    "        return self.classes[name]\n",
    "\n",
    "    def label_to_name(self, label):\n",
    "        \"\"\" Map label to name.\n",
    "        \"\"\"\n",
    "        return self.labels[label]\n",
    "\n",
    "    def image_path(self, image_index):\n",
    "        \"\"\" Returns the image path for image_index.\n",
    "        \"\"\"\n",
    "        return os.path.join(self.base_dir, self.image_names[image_index])\n",
    "\n",
    "    def image_aspect_ratio(self, image_index):\n",
    "        \"\"\" Compute the aspect ratio for an image with image_index.\n",
    "        \"\"\"\n",
    "        # PIL is fast for metadata\n",
    "        image = Image.open(self.image_path(image_index))\n",
    "        return float(image.width) / float(image.height)\n",
    "\n",
    "    def load_image(self, image_index):\n",
    "        \"\"\" Load an image at the image_index.\n",
    "        \"\"\"\n",
    "        return read_image_bgr(self.image_path(image_index))\n",
    "\n",
    "    def load_annotations(self, image_index):\n",
    "        \"\"\" Load annotations for an image_index.\n",
    "        \"\"\"\n",
    "        path        = self.image_names[image_index]\n",
    "        annotations = {'labels': np.empty((0,)), 'bboxes': np.empty((0, 4))}\n",
    "\n",
    "        for idx, annot in enumerate(self.image_data[path]):\n",
    "            annotations['labels'] = np.concatenate((annotations['labels'], [self.name_to_label(annot['class'])]))\n",
    "            annotations['bboxes'] = np.concatenate((annotations['bboxes'], [[\n",
    "                float(annot['x1']),\n",
    "                float(annot['y1']),\n",
    "                float(annot['x2']),\n",
    "                float(annot['y2']),\n",
    "            ]]))\n",
    "\n",
    "        return annotations"
   ]
  },
  {
   "cell_type": "code",
   "execution_count": 10,
   "metadata": {},
   "outputs": [
    {
     "ename": "SyntaxError",
     "evalue": "invalid syntax (<ipython-input-10-441559665aa8>, line 1)",
     "output_type": "error",
     "traceback": [
      "\u001b[0;36m  File \u001b[0;32m\"<ipython-input-10-441559665aa8>\"\u001b[0;36m, line \u001b[0;32m1\u001b[0m\n\u001b[0;31m    dataDisk/myfloder/dataset/1001_2/()\u001b[0m\n\u001b[0m                                   ^\u001b[0m\n\u001b[0;31mSyntaxError\u001b[0m\u001b[0;31m:\u001b[0m invalid syntax\n"
     ]
    }
   ],
   "source": [
    "/dataDisk/myfloder/dataset/1001_2/save_plates/"
   ]
  },
  {
   "cell_type": "code",
   "execution_count": null,
   "metadata": {},
   "outputs": [],
   "source": []
  }
 ],
 "metadata": {
  "kernelspec": {
   "display_name": "Python 3",
   "language": "python",
   "name": "python3"
  },
  "language_info": {
   "codemirror_mode": {
    "name": "ipython",
    "version": 3
   },
   "file_extension": ".py",
   "mimetype": "text/x-python",
   "name": "python",
   "nbconvert_exporter": "python",
   "pygments_lexer": "ipython3",
   "version": "3.5.2"
  },
  "varInspector": {
   "cols": {
    "lenName": 16,
    "lenType": 16,
    "lenVar": 40
   },
   "kernels_config": {
    "python": {
     "delete_cmd_postfix": "",
     "delete_cmd_prefix": "del ",
     "library": "var_list.py",
     "varRefreshCmd": "print(var_dic_list())"
    },
    "r": {
     "delete_cmd_postfix": ") ",
     "delete_cmd_prefix": "rm(",
     "library": "var_list.r",
     "varRefreshCmd": "cat(var_dic_list()) "
    }
   },
   "types_to_exclude": [
    "module",
    "function",
    "builtin_function_or_method",
    "instance",
    "_Feature"
   ],
   "window_display": false
  }
 },
 "nbformat": 4,
 "nbformat_minor": 2
}
