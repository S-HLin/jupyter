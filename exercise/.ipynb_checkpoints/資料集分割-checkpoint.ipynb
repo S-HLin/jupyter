{
 "cells": [
  {
   "cell_type": "markdown",
   "metadata": {},
   "source": [
    "# 資料分割(暐成)"
   ]
  },
  {
   "cell_type": "code",
   "execution_count": null,
   "metadata": {
    "run_control": {
     "marked": true
    }
   },
   "outputs": [],
   "source": [
    "import os,shutil\n",
    "import numpy as np"
   ]
  },
  {
   "cell_type": "code",
   "execution_count": null,
   "metadata": {},
   "outputs": [],
   "source": [
    "#原始資料集路徑字串\n",
    "original_dir='/dataDisk/myfloder/inputdata/Food calorie_integration_1025'\n",
    "data_dir=''"
   ]
  },
  {
   "cell_type": "code",
   "execution_count": null,
   "metadata": {},
   "outputs": [],
   "source": [
    "#使用/符號當分割位置\n",
    "list_dir=original_dir.split('/')\n",
    "list_dir"
   ]
  },
  {
   "cell_type": "code",
   "execution_count": null,
   "metadata": {},
   "outputs": [],
   "source": [
    "#只取原始路徑上一層\n",
    "if original_dir[-1]=='/':\n",
    "    list_dir=original_dir.split('/')[1:-2]\n",
    "    for i in range(len(list_dir)):\n",
    "        data_dir=data_dir+'/'+list_dir[i]\n",
    "else:\n",
    "    list_dir=original_dir.split('/')[1:-1]\n",
    "    for i in range(len(list_dir)):\n",
    "        data_dir=data_dir+'/'+list_dir[i]\n",
    "\n",
    "data_dir   "
   ]
  },
  {
   "cell_type": "code",
   "execution_count": null,
   "metadata": {},
   "outputs": [],
   "source": [
    "len(list_dir)"
   ]
  },
  {
   "cell_type": "code",
   "execution_count": null,
   "metadata": {},
   "outputs": [],
   "source": [
    "#建立分割資料夾路徑字串\n",
    "train_dir = data_dir + '/train'\n",
    "validation_dir = data_dir + '/validation'\n",
    "test_dir = data_dir + '/test'"
   ]
  },
  {
   "cell_type": "code",
   "execution_count": null,
   "metadata": {
    "run_control": {
     "marked": true
    }
   },
   "outputs": [],
   "source": [
    "print(train_dir)\n",
    "print(validation_dir)\n",
    "print(test_dir)"
   ]
  },
  {
   "cell_type": "code",
   "execution_count": null,
   "metadata": {
    "scrolled": false
   },
   "outputs": [],
   "source": [
    "#建立分割資料夾\n",
    "os.mkdir(train_dir)\n",
    "os.mkdir(test_dir)\n",
    "os.mkdir(validation_dir)"
   ]
  },
  {
   "cell_type": "code",
   "execution_count": null,
   "metadata": {},
   "outputs": [],
   "source": [
    "#os.listdir()\n",
    "#os.getcwd()"
   ]
  },
  {
   "cell_type": "code",
   "execution_count": null,
   "metadata": {},
   "outputs": [],
   "source": [
    "# list原始資料夾內子資料夾名稱\n",
    "names=os.listdir(original_dir)\n",
    "names"
   ]
  },
  {
   "cell_type": "code",
   "execution_count": null,
   "metadata": {
    "run_control": {
     "marked": true
    }
   },
   "outputs": [],
   "source": [
    "#建立分割資料夾子資料夾\n",
    "for i in names:\n",
    "    train_name=os.path.join(train_dir,i)\n",
    "    test_name=os.path.join(test_dir,i)\n",
    "    validation_name=os.path.join(validation_dir,i)\n",
    "    \n",
    "    os.mkdir(train_name)\n",
    "    os.mkdir(test_name)\n",
    "    os.mkdir(validation_name)\n",
    "    \n",
    "    print(train_name)\n",
    "    print(test_name)\n",
    "    print(validation_name)\n",
    "    \n",
    "    #複製圖片\n",
    "    dataset=os.path.join(original_dir,i)#原資料集子資料夾\n",
    "    print(dataset)\n",
    "    count=0\n",
    "    split_ratio=0.8\n",
    "    for im in os.listdir(dataset):\n",
    "            #train data\n",
    "        if count<len(os.listdir(dataset))*split_ratio:\n",
    "            src=os.path.join(dataset,im)\n",
    "            dst=os.path.join(train_name,im)\n",
    "            shutil.copyfile(src,dst)\n",
    "            count+=1\n",
    "            #validation data\n",
    "        elif count>len(os.listdir(dataset))*(split_ratio+0.1):\n",
    "            src=os.path.join(dataset,im)\n",
    "            dst=os.path.join(test_name,im)\n",
    "            shutil.copyfile(src,dst)\n",
    "            count+=1\n",
    "            #test data\n",
    "        else:\n",
    "            src=os.path.join(dataset,im)\n",
    "            dst=os.path.join(validation_name,im)\n",
    "            shutil.copyfile(src,dst)\n",
    "            count+=1"
   ]
  },
  {
   "cell_type": "markdown",
   "metadata": {},
   "source": [
    "## end"
   ]
  },
  {
   "cell_type": "code",
   "execution_count": null,
   "metadata": {},
   "outputs": [],
   "source": [
    "len(os.listdir(dataset))"
   ]
  },
  {
   "cell_type": "code",
   "execution_count": null,
   "metadata": {},
   "outputs": [],
   "source": [
    "#\n",
    "os.listdir(dataset)"
   ]
  },
  {
   "cell_type": "code",
   "execution_count": null,
   "metadata": {},
   "outputs": [],
   "source": []
  }
 ],
 "metadata": {
  "kernelspec": {
   "display_name": "Python 3",
   "language": "python",
   "name": "python3"
  },
  "language_info": {
   "codemirror_mode": {
    "name": "ipython",
    "version": 3
   },
   "file_extension": ".py",
   "mimetype": "text/x-python",
   "name": "python",
   "nbconvert_exporter": "python",
   "pygments_lexer": "ipython3",
   "version": "3.5.2"
  },
  "varInspector": {
   "cols": {
    "lenName": 16,
    "lenType": 16,
    "lenVar": 40
   },
   "kernels_config": {
    "python": {
     "delete_cmd_postfix": "",
     "delete_cmd_prefix": "del ",
     "library": "var_list.py",
     "varRefreshCmd": "print(var_dic_list())"
    },
    "r": {
     "delete_cmd_postfix": ") ",
     "delete_cmd_prefix": "rm(",
     "library": "var_list.r",
     "varRefreshCmd": "cat(var_dic_list()) "
    }
   },
   "types_to_exclude": [
    "module",
    "function",
    "builtin_function_or_method",
    "instance",
    "_Feature"
   ],
   "window_display": false
  }
 },
 "nbformat": 4,
 "nbformat_minor": 2
}
