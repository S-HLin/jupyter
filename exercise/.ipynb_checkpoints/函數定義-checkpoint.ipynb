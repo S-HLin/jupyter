{
 "cells": [
  {
   "cell_type": "markdown",
   "metadata": {},
   "source": [
    "## 函數定義"
   ]
  },
  {
   "cell_type": "markdown",
   "metadata": {},
   "source": [
    "https://ithelp.ithome.com.tw/articles/10187997"
   ]
  },
  {
   "cell_type": "code",
   "execution_count": null,
   "metadata": {},
   "outputs": [],
   "source": [
    "# 定義一個函數\n",
    "def func1():\n",
    "    \"\"\"test1\"\"\"\n",
    "    print('in the func1')\n",
    "    return 0"
   ]
  },
  {
   "cell_type": "code",
   "execution_count": null,
   "metadata": {},
   "outputs": [],
   "source": [
    "# 定義一個過程\n",
    "def func2():\n",
    "    \"\"\"test2\"\"\"\n",
    "    print('in the func2')"
   ]
  },
  {
   "cell_type": "code",
   "execution_count": null,
   "metadata": {},
   "outputs": [],
   "source": [
    "x = func1()\n",
    "y = func2()"
   ]
  },
  {
   "cell_type": "code",
   "execution_count": null,
   "metadata": {},
   "outputs": [],
   "source": [
    "print('from func1 return is %s' %x)\n",
    "print('from func2 return is %s' %y)"
   ]
  },
  {
   "cell_type": "code",
   "execution_count": null,
   "metadata": {},
   "outputs": [],
   "source": [
    "#code有許多相同部份\n",
    "def test1():\n",
    "    print('in the test1')\n",
    "\n",
    "    with open('a.txt', w) as f:\n",
    "        f.write('End action')\n",
    "    \n",
    "def test2():\n",
    "    print('in the test2')\n",
    "\n",
    "    with open('a.txt', w) as f:\n",
    "        f.write('End action')\n",
    "        \n",
    "def test3():\n",
    "    print('in the test3')\n",
    "\n",
    "    with open('a.txt', w) as f:\n",
    "        f.write('End action')"
   ]
  },
  {
   "cell_type": "code",
   "execution_count": null,
   "metadata": {
    "run_control": {
     "marked": true
    }
   },
   "outputs": [],
   "source": [
    "test1()\n",
    "test2()\n",
    "test3()"
   ]
  },
  {
   "cell_type": "code",
   "execution_count": 3,
   "metadata": {},
   "outputs": [],
   "source": [
    "#重複的code拉出來定義\n",
    "def logs():\n",
    "    with open('a.txt', 'a+') as f:\n",
    "        f.write('End action\\n')\n",
    "\n",
    "def test1():\n",
    "    print('in the test1')\n",
    "\n",
    "    logs()\n",
    "\n",
    "def test2():\n",
    "    print('in the test2')\n",
    "\n",
    "    logs()\n",
    "\n",
    "def test3():\n",
    "    print('in the test3')\n",
    "\n",
    "    logs()"
   ]
  },
  {
   "cell_type": "code",
   "execution_count": 4,
   "metadata": {},
   "outputs": [
    {
     "name": "stdout",
     "output_type": "stream",
     "text": [
      "in the test1\n",
      "in the test2\n",
      "in the test3\n"
     ]
    }
   ],
   "source": [
    "test1()\n",
    "test2()\n",
    "test3()"
   ]
  },
  {
   "cell_type": "code",
   "execution_count": 1,
   "metadata": {},
   "outputs": [],
   "source": [
    "#時間戳印\n",
    "import  time\n",
    "\n",
    "def logs():\n",
    "    time_fomate = '%Y-%m-%d %X'\n",
    "    time_current = time.strftime(time_fomate)\n",
    "    with open('a.txt', 'a+') as f:\n",
    "        f.write('%s End action\\n' % time_current)\n",
    "\n",
    "def test1():\n",
    "    print('in the test1')\n",
    "\n",
    "    logs()\n",
    "\n",
    "def test2():\n",
    "    print('in the test2')\n",
    "\n",
    "    logs()\n",
    "\n",
    "def test3():\n",
    "    print('in the test3')\n",
    "\n",
    "    logs()"
   ]
  },
  {
   "cell_type": "code",
   "execution_count": 2,
   "metadata": {},
   "outputs": [
    {
     "name": "stdout",
     "output_type": "stream",
     "text": [
      "in the test1\n",
      "in the test2\n",
      "in the test3\n"
     ]
    }
   ],
   "source": [
    "test1()\n",
    "test2()\n",
    "test3()"
   ]
  },
  {
   "cell_type": "code",
   "execution_count": null,
   "metadata": {},
   "outputs": [],
   "source": []
  }
 ],
 "metadata": {
  "kernelspec": {
   "display_name": "Python 3",
   "language": "python",
   "name": "python3"
  },
  "language_info": {
   "codemirror_mode": {
    "name": "ipython",
    "version": 3
   },
   "file_extension": ".py",
   "mimetype": "text/x-python",
   "name": "python",
   "nbconvert_exporter": "python",
   "pygments_lexer": "ipython3",
   "version": "3.5.2"
  },
  "varInspector": {
   "cols": {
    "lenName": 16,
    "lenType": 16,
    "lenVar": 40
   },
   "kernels_config": {
    "python": {
     "delete_cmd_postfix": "",
     "delete_cmd_prefix": "del ",
     "library": "var_list.py",
     "varRefreshCmd": "print(var_dic_list())"
    },
    "r": {
     "delete_cmd_postfix": ") ",
     "delete_cmd_prefix": "rm(",
     "library": "var_list.r",
     "varRefreshCmd": "cat(var_dic_list()) "
    }
   },
   "types_to_exclude": [
    "module",
    "function",
    "builtin_function_or_method",
    "instance",
    "_Feature"
   ],
   "window_display": false
  }
 },
 "nbformat": 4,
 "nbformat_minor": 2
}
