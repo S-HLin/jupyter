{
 "cells": [
  {
   "cell_type": "markdown",
   "metadata": {},
   "source": [
    "### 讀取圖檔並建立自製資料集(old method)"
   ]
  },
  {
   "cell_type": "markdown",
   "metadata": {},
   "source": [
    "https://medium.com/@MortisHuang/%E9%BB%98%E9%BB%98%E5%9C%B0%E5%AD%B8deep-learning-3-e9e90c633722"
   ]
  },
  {
   "cell_type": "code",
   "execution_count": null,
   "metadata": {},
   "outputs": [],
   "source": [
    "from PIL import Image\n",
    "img=Image.open('/dataDisk/myfloder/inputdata/kagglecatsanddogs_3367a/PetImages/Cat/500.jpg')"
   ]
  },
  {
   "cell_type": "code",
   "execution_count": null,
   "metadata": {},
   "outputs": [],
   "source": [
    "import os\n",
    "import glob\n",
    "import numpy as np\n",
    "from keras.preprocessing.image import  img_to_array, load_img\n",
    "from PIL import Image"
   ]
  },
  {
   "cell_type": "code",
   "execution_count": null,
   "metadata": {},
   "outputs": [],
   "source": [
    "dict_labels = {\"Cat\":0, \"Dog\":1}\n",
    "size = (64,64) #由於原始資料影像大小不一，因此制定一個統一值\n",
    "nbofdata=500   #從各個資料夾中抓取特定數量的檔案"
   ]
  },
  {
   "cell_type": "code",
   "execution_count": 24,
   "metadata": {
    "code_folding": []
   },
   "outputs": [
    {
     "name": "stdout",
     "output_type": "stream",
     "text": [
      "/dataDisk/myfloder/inputdata/kagglecatsanddogs_3367a/PetImages/Cat\n",
      "images.shape=(500, 64, 64, 3), labels_hot.shape==(500,)\n",
      "Cat files has been saved.\n",
      "/dataDisk/myfloder/inputdata/kagglecatsanddogs_3367a/PetImages/Dog\n",
      "images.shape=(500, 64, 64, 3), labels_hot.shape==(500,)\n",
      "Dog files has been saved.\n"
     ]
    }
   ],
   "source": [
    "#迴圈 主資料夾PetImages內子資料夾Dog,Cat\n",
    "#glob.glob（pathname),返回所有匹配的文件路徑list\n",
    "for folders in glob.glob(\"/dataDisk/myfloder/inputdata/kagglecatsanddogs_3367a/PetImages/*\"):\n",
    "    print(folders)\n",
    "    images=[]\n",
    "    labels_hot=[]\n",
    "    labels=[] \n",
    "    nbofdata_i=1 #檔案計數\n",
    "    for filename in os.listdir(folders):  #迴圈資料夾dog,cat內照片檔案list\n",
    "        if nbofdata_i <= nbofdata:  #若小於指定數量  控制讀檔數目\n",
    "                    label = os.path.basename(folders) #返回路徑名稱最後一個元素str\n",
    "                    #className = np.asarray(label) #str to ndarray\n",
    "                    img=load_img(os.path.join(folders,filename))#結合類別資料夾路徑與檔名=檔名路徑\n",
    "                    img=img.resize(size,Image.BILINEAR)#img改變長寬\n",
    "                    if img is not None:  #img檔案非空(變量是否為None的判斷)\n",
    "                        labels.append(label) # list加入classname的值\n",
    "                        labels_hot.append(dict_labels[label]) #變數label在dict內的值加入labels_hot\n",
    "                        x=img_to_array(img) # img to array (64,64,3)\n",
    "                        images.append(x)#第一個維度加入每個x  (500,64,64,3)\n",
    "                    nbofdata_i+=1\n",
    "    images=np.array(images)    \n",
    "    labels_hot=np.array(labels_hot)\n",
    "    print(\"images.shape={}, labels_hot.shape=={}\".format(images.shape, labels_hot.shape))    \n",
    "    imagesavepath='/dataDisk/myfloder/inputdata/Cat_Dog_Dataset/'\n",
    "    if not os.path.exists(imagesavepath):\n",
    "        os.makedirs(imagesavepath)\n",
    "    np.save(imagesavepath+'{}_images.npy'.format(label),images)    \n",
    "    np.save(imagesavepath+'{}_label.npy'.format(label),labels)    \n",
    "    np.save(imagesavepath+'{}_labels_hot.npy'.format(label),labels_hot)\n",
    "    print('{} files has been saved.'.format(label))"
   ]
  },
  {
   "cell_type": "code",
   "execution_count": null,
   "metadata": {},
   "outputs": [],
   "source": []
  }
 ],
 "metadata": {
  "kernelspec": {
   "display_name": "Python 3",
   "language": "python",
   "name": "python3"
  },
  "language_info": {
   "codemirror_mode": {
    "name": "ipython",
    "version": 3
   },
   "file_extension": ".py",
   "mimetype": "text/x-python",
   "name": "python",
   "nbconvert_exporter": "python",
   "pygments_lexer": "ipython3",
   "version": "3.5.2"
  },
  "varInspector": {
   "cols": {
    "lenName": 16,
    "lenType": 16,
    "lenVar": 40
   },
   "kernels_config": {
    "python": {
     "delete_cmd_postfix": "",
     "delete_cmd_prefix": "del ",
     "library": "var_list.py",
     "varRefreshCmd": "print(var_dic_list())"
    },
    "r": {
     "delete_cmd_postfix": ") ",
     "delete_cmd_prefix": "rm(",
     "library": "var_list.r",
     "varRefreshCmd": "cat(var_dic_list()) "
    }
   },
   "oldHeight": 614.461538,
   "position": {
    "height": "40px",
    "left": "730.055px",
    "right": "20px",
    "top": "46.8774px",
    "width": "625px"
   },
   "types_to_exclude": [
    "module",
    "function",
    "builtin_function_or_method",
    "instance",
    "_Feature"
   ],
   "varInspector_section_display": "none",
   "window_display": false
  }
 },
 "nbformat": 4,
 "nbformat_minor": 2
}
