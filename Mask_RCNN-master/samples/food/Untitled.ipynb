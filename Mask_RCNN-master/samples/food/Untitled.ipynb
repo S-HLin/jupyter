{
 "cells": [
  {
   "cell_type": "code",
   "execution_count": null,
   "metadata": {},
   "outputs": [],
   "source": [
    "foodlist=[\"蛋\", \"豬肉\",\"雞肉\",\"牛肉\",\"魚\",\"茄子\",\"豆腐\",\"南瓜\",\"紅蘿蔔\",\"香菇\"]"
   ]
  },
  {
   "cell_type": "code",
   "execution_count": null,
   "metadata": {},
   "outputs": [],
   "source": [
    "for idx,element in enumerate(foodlist,1):\n",
    "    print(idx,element)"
   ]
  },
  {
   "cell_type": "code",
   "execution_count": null,
   "metadata": {},
   "outputs": [],
   "source": [
    "for r in foodlist:\n",
    "    print(r)"
   ]
  },
  {
   "cell_type": "code",
   "execution_count": null,
   "metadata": {},
   "outputs": [],
   "source": [
    "class test:\n",
    "    def __init__(self):\n",
    "        self.foodlist=[\"蛋\", \"豬肉\",\"雞肉\",\"牛肉\",\"魚\",\"茄子\",\"豆腐\",\"南瓜\",\"紅蘿蔔\",\"香菇\"]\n",
    "\n",
    "\n",
    "    def loadlist(self):\n",
    "        for r in self.foodlist:\n",
    "            print(r)\n",
    "# \n",
    "#     for r in self.foodlist:\n",
    "#         print(r)\n",
    "# #         self.add_class(\"food\", 1, \"蛋\")\n",
    "# #         self.add_class(\"food\", 2, \"豬肉\")\n",
    "# #         self.add_class(\"food\", 3, \"雞肉\")\n",
    "# #         self.add_class(\"food\", 4, \"牛肉\")\n",
    "# #         self.add_class(\"food\", 5, \"魚\")\n",
    "# #         self.add_class(\"food\", 6, \"茄子\")\n",
    "# #         self.add_class(\"food\", 7, \"豆腐\")\n",
    "# #         self.add_class(\"food\", 8, \"南瓜\")\n",
    "# #         self.add_class(\"food\", 9, \"紅蘿蔔\")\n",
    "# #         self.add_class(\"food\", 10, \"香菇\")"
   ]
  },
  {
   "cell_type": "code",
   "execution_count": null,
   "metadata": {},
   "outputs": [],
   "source": [
    "test.loadlist()"
   ]
  },
  {
   "cell_type": "code",
   "execution_count": null,
   "metadata": {},
   "outputs": [],
   "source": []
  },
  {
   "cell_type": "code",
   "execution_count": 1,
   "metadata": {},
   "outputs": [
    {
     "name": "stdout",
     "output_type": "stream",
     "text": [
      "/dataDisk/myfloder/h5/mask_rcnn_coco.h5\n",
      "/dataDisk/myfloder/h5/maskrcnn_snapshots/\n"
     ]
    },
    {
     "name": "stderr",
     "output_type": "stream",
     "text": [
      "Using TensorFlow backend.\n"
     ]
    }
   ],
   "source": [
    "import os\n",
    "import sys\n",
    "import json\n",
    "import datetime\n",
    "import numpy as np\n",
    "import skimage.draw\n",
    "\n",
    "# Root directory of the project\n",
    "ROOT_DIR = os.path.abspath(\"../../\")\n",
    "\n",
    "# Import Mask RCNN\n",
    "sys.path.append(ROOT_DIR)  # To find local version of the library\n",
    "from mrcnn.config import Config\n",
    "from mrcnn import model as modellib, utils\n",
    "\n",
    "# Path to trained weights file\n",
    "COCO_WEIGHTS_PATH = os.path.join(ROOT_DIR, '/dataDisk/myfloder/h5/mask_rcnn_coco.h5')\n",
    "print(COCO_WEIGHTS_PATH)\n",
    "# Directory to save logs and model checkpoints, if not provided\n",
    "# through the command line argument --logs\n",
    "#DEFAULT_LOGS_DIR = os.path.join(ROOT_DIR, \"logs\")\n",
    "DEFAULT_LOGS_DIR = '/dataDisk/myfloder/h5/maskrcnn_snapshots/'\n",
    "print(DEFAULT_LOGS_DIR)\n",
    "\n",
    "############################################################\n",
    "#  Configurations\n",
    "############################################################\n",
    "class objectConfig(Config):\n",
    "    \"\"\"Configuration for training on the toy  dataset.\n",
    "    Derives from the base Config class and overrides some values.\n",
    "    \"\"\"\n",
    "    # Give the configuration a recognizable name\n",
    "    NAME = \"food\"\n",
    "\n",
    "    # We use a GPU with 12GB memory, which can fit two images.\n",
    "    # Adjust down if you use a smaller GPU.\n",
    "    IMAGES_PER_GPU = 1\n",
    "\n",
    "    # Number of classes (including background)\n",
    "    NUM_CLASSES = 1 + 23  # Background + balloon\n",
    "\n",
    "    # Number of training steps per epoch\n",
    "    STEPS_PER_EPOCH = 100\n",
    "\n",
    "    # Skip detections with < 90% confidence\n",
    "    DETECTION_MIN_CONFIDENCE = 0.9"
   ]
  },
  {
   "cell_type": "code",
   "execution_count": 2,
   "metadata": {},
   "outputs": [],
   "source": [
    "class objectDataset(utils.Dataset):\n",
    "\n",
    "    def __init__(self):\n",
    "#         super(objectDataset,self).__init__()\n",
    "        super().__init__()\n",
    "        self.foodlist=[\"蛋\", \"豬肉\",\"雞肉\",\"牛肉\",\"魚\",\"蝦子\",\"茄子\",\"豆腐\",'鴨肉',\n",
    "                       '地瓜', '杏鮑菇','洋芋',\"南瓜\",\"紅蘿蔔\",'小黃瓜','苦瓜',\"青椒\",\n",
    "                       \"香菇\",'白蘿蔔',\"白飯\",'青菜','玉米','豆芽']\n",
    "\n",
    "    def load_object(self, dataset_dir, subset):\n",
    "        \"\"\"Load a subset of the Balloon dataset.\n",
    "        dataset_dir: Root directory of the dataset.\n",
    "        subset: Subset to load: train or val\n",
    "        \"\"\"\n",
    "        for idx,element in enumerate(self.foodlist,1):\n",
    "            self.add_class(\"food\", idx,element)\n",
    "        \n",
    "        print(self.class_info)\n",
    "        \n",
    "#         dict_class={}\n",
    "#         for i in self.class_info:\n",
    "#             dict_class[i['name']]=i['id']"
   ]
  },
  {
   "cell_type": "code",
   "execution_count": 3,
   "metadata": {},
   "outputs": [
    {
     "name": "stdout",
     "output_type": "stream",
     "text": [
      "[{'name': 'BG', 'source': '', 'id': 0}, {'name': '蛋', 'source': 'food', 'id': 1}, {'name': '豬肉', 'source': 'food', 'id': 2}, {'name': '雞肉', 'source': 'food', 'id': 3}, {'name': '牛肉', 'source': 'food', 'id': 4}, {'name': '魚', 'source': 'food', 'id': 5}, {'name': '蝦子', 'source': 'food', 'id': 6}, {'name': '茄子', 'source': 'food', 'id': 7}, {'name': '豆腐', 'source': 'food', 'id': 8}, {'name': '鴨肉', 'source': 'food', 'id': 9}, {'name': '地瓜', 'source': 'food', 'id': 10}, {'name': '杏鮑菇', 'source': 'food', 'id': 11}, {'name': '洋芋', 'source': 'food', 'id': 12}, {'name': '南瓜', 'source': 'food', 'id': 13}, {'name': '紅蘿蔔', 'source': 'food', 'id': 14}, {'name': '小黃瓜', 'source': 'food', 'id': 15}, {'name': '苦瓜', 'source': 'food', 'id': 16}, {'name': '青椒', 'source': 'food', 'id': 17}, {'name': '香菇', 'source': 'food', 'id': 18}, {'name': '白蘿蔔', 'source': 'food', 'id': 19}, {'name': '白飯', 'source': 'food', 'id': 20}, {'name': '青菜', 'source': 'food', 'id': 21}, {'name': '玉米', 'source': 'food', 'id': 22}, {'name': '豆芽', 'source': 'food', 'id': 23}]\n"
     ]
    }
   ],
   "source": [
    "dataset_train = objectDataset()\n",
    "dataset_train.load_object('../../datasets/food/', \"train\")"
   ]
  },
  {
   "cell_type": "code",
   "execution_count": null,
   "metadata": {},
   "outputs": [],
   "source": [
    "zz= aa.load_object()"
   ]
  },
  {
   "cell_type": "code",
   "execution_count": null,
   "metadata": {},
   "outputs": [],
   "source": []
  }
 ],
 "metadata": {
  "kernelspec": {
   "display_name": "Python 3",
   "language": "python",
   "name": "python3"
  },
  "language_info": {
   "codemirror_mode": {
    "name": "ipython",
    "version": 3
   },
   "file_extension": ".py",
   "mimetype": "text/x-python",
   "name": "python",
   "nbconvert_exporter": "python",
   "pygments_lexer": "ipython3",
   "version": "3.5.2"
  },
  "varInspector": {
   "cols": {
    "lenName": 16,
    "lenType": 16,
    "lenVar": 40
   },
   "kernels_config": {
    "python": {
     "delete_cmd_postfix": "",
     "delete_cmd_prefix": "del ",
     "library": "var_list.py",
     "varRefreshCmd": "print(var_dic_list())"
    },
    "r": {
     "delete_cmd_postfix": ") ",
     "delete_cmd_prefix": "rm(",
     "library": "var_list.r",
     "varRefreshCmd": "cat(var_dic_list()) "
    }
   },
   "position": {
    "height": "397.548px",
    "left": "1571.65px",
    "right": "20px",
    "top": "120px",
    "width": "311.939px"
   },
   "types_to_exclude": [
    "module",
    "function",
    "builtin_function_or_method",
    "instance",
    "_Feature"
   ],
   "window_display": true
  }
 },
 "nbformat": 4,
 "nbformat_minor": 2
}
