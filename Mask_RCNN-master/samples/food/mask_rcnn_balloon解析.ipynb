{
 "cells": [
  {
   "cell_type": "code",
   "execution_count": null,
   "metadata": {
    "run_control": {
     "marked": true
    }
   },
   "outputs": [],
   "source": [
    "import os\n",
    "import sys\n",
    "import json\n",
    "import datetime\n",
    "import numpy as np\n",
    "import skimage.draw\n",
    "\n",
    "\n",
    "_image_ids = []\n",
    "image_info = []\n",
    "# Background is always the first class\n",
    "class_info = [{\"source\": \"\", \"id\": 0, \"name\": \"BG\"}]\n",
    "source_class_ids = {}\n",
    "\n",
    "subset='train'\n",
    "data_dir='../../datasets/food/'"
   ]
  },
  {
   "cell_type": "code",
   "execution_count": null,
   "metadata": {},
   "outputs": [],
   "source": [
    "def add_image(source, image_id, path, **kwargs):\n",
    "    info = {\n",
    "        \"id\": image_id,\n",
    "        \"source\": source,\n",
    "        \"path\": path,\n",
    "    }\n",
    "    info.update(kwargs)\n",
    "    image_info.append(info)\n",
    "\n",
    "def add_class(source, class_id, class_name):\n",
    "    assert \".\" not in source, \"Source name cannot contain a dot\"\n",
    "    # Does the class exist already?\n",
    "    for info in class_info:\n",
    "        if info['source'] == source and info[\"id\"] == class_id:\n",
    "            # source.class_id combination already available, skip\n",
    "            return\n",
    "    # Add the class\n",
    "    class_info.append({\n",
    "        \"source\": source,\n",
    "        \"id\": class_id,\n",
    "        \"name\": class_name,\n",
    "    })\n",
    "    \n",
    "def load_mask(image_id):\n",
    "    \"\"\"Load instance masks for the given image.\n",
    "\n",
    "    Different datasets use different ways to store masks. Override this\n",
    "    method to load instance masks and return them in the form of am\n",
    "    array of binary masks of shape [height, width, instances].\n",
    "\n",
    "    Returns:\n",
    "        masks: A bool array of shape [height, width, instance count] with\n",
    "            a binary mask per instance.\n",
    "        class_ids: a 1D array of class IDs of the instance masks.\n",
    "    \"\"\"\n",
    "    # Override this function to load a mask from your dataset.\n",
    "    # Otherwise, it returns an empty mask.\n",
    "    logging.warning(\"You are using the default load_mask(), maybe you need to define your own one.\")\n",
    "    mask = np.empty([0, 0, 0])\n",
    "    class_ids = np.empty([0], np.int32)\n",
    "    \n",
    "    print(mask)\n",
    "    print(class_ids)\n",
    "    \n",
    "    return mask, class_ids"
   ]
  },
  {
   "cell_type": "markdown",
   "metadata": {},
   "source": [
    "### load balloon"
   ]
  },
  {
   "cell_type": "code",
   "execution_count": null,
   "metadata": {},
   "outputs": [],
   "source": [
    "foodlist=[\"蛋\", \"豬肉\",\"雞肉\",\"牛肉\",\"魚\",\"蝦子\",\"茄子\",\"豆腐\",'鴨肉','地瓜',\n",
    "          '杏鮑菇','洋芋',\"南瓜\",\"紅蘿蔔\",'小黃瓜','苦瓜',\"青椒\",\"香菇\",'白蘿蔔',\n",
    "          \"白飯\",'青菜','玉米','豆芽']\n",
    "\n",
    "for idx,element in enumerate(foodlist,1):\n",
    "    add_class(\"food\", idx,element)\n",
    "    \n",
    "# add_class(\"balloon\", 1, \"balloon\")\n",
    "# add_class(\"pizza\", 2, \"pizza\")\n",
    "# add_class(\"undefined\", 3, \"undefined\")\n",
    "# add_class(\"food\", 1, \"蛋\")\n",
    "# add_class(\"food\", 2, \"豬肉\")\n",
    "# add_class(\"food\", 3, \"雞肉\")\n",
    "# add_class(\"food\", 4, \"牛肉\")\n",
    "# add_class(\"food\", 5, \"魚\")\n",
    "# add_class(\"food\", 7, \"茄子\")\n",
    "# add_class(\"food\", 8, \"豆腐\")\n",
    "# add_class(\"food\", 13, \"南瓜\")\n",
    "# add_class(\"food\", 14, \"紅蘿蔔\")\n",
    "# add_class(\"food\", 18, \"香菇\")\n",
    "# add_class(\"food\", 50, \"undefined\")\n",
    "class_info"
   ]
  },
  {
   "cell_type": "code",
   "execution_count": null,
   "metadata": {},
   "outputs": [],
   "source": [
    "# 資料集路徑\n",
    "assert subset in [\"train\", \"val\"]\n",
    "dataset_dir = os.path.join(data_dir, subset)\n",
    "print(dataset_dir)"
   ]
  },
  {
   "cell_type": "code",
   "execution_count": null,
   "metadata": {},
   "outputs": [],
   "source": [
    "# 載入標註json檔\n",
    "annotations = json.load(open(os.path.join(dataset_dir, \"1-2800.json\")))\n",
    "print('number of images :{}'.format(len(annotations)))\n",
    "print(type(annotations))"
   ]
  },
  {
   "cell_type": "code",
   "execution_count": null,
   "metadata": {},
   "outputs": [],
   "source": [
    "# 取圖片檔資訊 dict轉成list\n",
    "annotations = list(annotations.values())  # don't need the dict keys\n",
    "#print(annotations)"
   ]
  },
  {
   "cell_type": "code",
   "execution_count": null,
   "metadata": {
    "run_control": {
     "marked": true
    }
   },
   "outputs": [],
   "source": [
    "# 過濾沒有標註區塊的圖\n",
    "# The VIA tool saves images in the JSON even if they don't have any\n",
    "# annotations. Skip unannotated images.\n",
    "annotations = [a for a in annotations if a['regions']]\n",
    "print('annotated of images :{}'.format(len(annotations)))\n",
    "#print(annotations)"
   ]
  },
  {
   "cell_type": "code",
   "execution_count": null,
   "metadata": {},
   "outputs": [],
   "source": [
    "a=annotations[46]\n",
    "# print(a)\n",
    "# print(a['regions'])\n",
    "\n",
    "for r in a['regions']:\n",
    "   # print(r['shape_attributes'])\n",
    "    print(r['region_attributes'])"
   ]
  },
  {
   "cell_type": "code",
   "execution_count": null,
   "metadata": {},
   "outputs": [],
   "source": [
    "dict_class={}\n",
    "for i in class_info:\n",
    "    dict_class[i['name']]=i['id']\n",
    "dict_class"
   ]
  },
  {
   "cell_type": "code",
   "execution_count": null,
   "metadata": {},
   "outputs": [],
   "source": [
    "# Add images\n",
    "for a in annotations:\n",
    "    # Get the x, y coordinaets of points of the polygons that make up\n",
    "    # the outline of each object instance. There are stores in the\n",
    "    # shape_attributes (see json format above)\n",
    "    if type(a['regions']) is dict:\n",
    "        polygons = [r['shape_attributes'] for r in a['regions'].values()]        \n",
    "        #print(polygons)\n",
    "    else:\n",
    "        polygons = [r['shape_attributes'] for r in a['regions']]         \n",
    "        #print(polygons)\n",
    "        \n",
    "    objects = [s['region_attributes'] for s in a['regions']]  \n",
    "    class_ids=[]\n",
    "    for n in objects:\n",
    "        if 'name' in n.keys():\n",
    "            class_ids.append(dict_class[n['name']])        \n",
    "#         else:\n",
    "#             class_ids.append(dict_class['undefined'])\n",
    "    # load_mask() needs the image size to convert polygons to masks.\n",
    "    # Unfortunately, VIA doesn't include it in JSON, so we must read\n",
    "    # the image. This is only managable since the dataset is tiny.   \n",
    "    image_path = os.path.join(dataset_dir, a['filename'])\n",
    "    #print(image_path)\n",
    "    image = skimage.io.imread(image_path)\n",
    "    #print(image)\n",
    "    height, width = image.shape[:2]\n",
    "    #print(height, width)\n",
    "    add_image(\n",
    "        \"food\",\n",
    "        image_id=a['filename'],  # use file name as a unique image id\n",
    "        path=image_path,\n",
    "        width=width, height=height,\n",
    "        polygons=polygons,\n",
    "        class_ids=class_ids)\n",
    "    # append data information to dict image_info "
   ]
  },
  {
   "cell_type": "code",
   "execution_count": null,
   "metadata": {},
   "outputs": [],
   "source": [
    "image_info"
   ]
  },
  {
   "cell_type": "code",
   "execution_count": null,
   "metadata": {},
   "outputs": [],
   "source": [
    "# for a in annotations:\n",
    "#     objects = [s['region_attributes'] for s in a['regions']]\n",
    "#     #print(objects) \n",
    "#     class_ids=[]\n",
    "#     for n in objects:\n",
    "#         if n:\n",
    "#             class_ids.append(dict_class[n['name']])        \n",
    "#         else:\n",
    "#             class_ids.append(4)\n",
    "#     print(class_ids)"
   ]
  },
  {
   "cell_type": "markdown",
   "metadata": {},
   "source": [
    "### load mask"
   ]
  },
  {
   "cell_type": "code",
   "execution_count": null,
   "metadata": {},
   "outputs": [],
   "source": [
    "image_id=42\n",
    "# 取某張照片資訊\n",
    "info = image_info[image_id]\n",
    "print(info)"
   ]
  },
  {
   "cell_type": "code",
   "execution_count": null,
   "metadata": {},
   "outputs": [],
   "source": [
    "# 判斷資料集來源 \n",
    "if info[\"source\"] != \"food\":\n",
    "    load_mask(image_id)"
   ]
  },
  {
   "cell_type": "code",
   "execution_count": null,
   "metadata": {},
   "outputs": [],
   "source": [
    "# 區塊類別list\n",
    "class_ids = info['class_ids']\n",
    "class_ids = np.array(class_ids)\n",
    "type(class_ids)"
   ]
  },
  {
   "cell_type": "code",
   "execution_count": null,
   "metadata": {},
   "outputs": [],
   "source": [
    "# 用長,寬,實體數 建立mask點陣圖\n",
    "# Convert polygons to a bitmap mask of shape\n",
    "# [height, width, instance_count]\n",
    "mask = np.zeros([info[\"height\"], info[\"width\"], len(info[\"polygons\"])],\n",
    "                 dtype=np.uint8)\n",
    "print(mask.shape)"
   ]
  },
  {
   "cell_type": "code",
   "execution_count": null,
   "metadata": {},
   "outputs": [],
   "source": [
    "# info['polygons']取多邊形資訊並編號\n",
    "for i, p in enumerate(info[\"polygons\"]):\n",
    "    print(i)\n",
    "    print(p)   "
   ]
  },
  {
   "cell_type": "code",
   "execution_count": null,
   "metadata": {},
   "outputs": [],
   "source": [
    "# 取多邊形資訊並編號 \n",
    "for i, p in enumerate(info[\"polygons\"]):\n",
    "    # Get indexes of pixels inside the polygon and set them to 1\n",
    "    # 根據頂點座標計算區塊內座標點 設值=1\n",
    "    rr, cc = skimage.draw.polygon(p['all_points_y'], p['all_points_x'])\n",
    "    print('row',rr)\n",
    "    print('column',cc)\n",
    "    mask[rr, cc, i] = 1"
   ]
  },
  {
   "cell_type": "code",
   "execution_count": null,
   "metadata": {},
   "outputs": [],
   "source": [
    "# Return mask, and array of class IDs of each instance. Since we have\n",
    "# one class ID only, we return an array of 1s\n",
    "# return mask.astype(np.bool), np.ones([mask.shape[-1]], dtype=np.int32)\n",
    "\n",
    "# mask.astype(np.bool)\n",
    "# mask.astype(np.bool)\n",
    "# array of class IDs   mask.shape[-1]:  (512, 383, 1) mask第三維度代表區塊數\n",
    "# np.ones([mask.shape[-1]], dtype=np.int32)"
   ]
  },
  {
   "cell_type": "code",
   "execution_count": null,
   "metadata": {},
   "outputs": [],
   "source": [
    " def image_reference(self, image_id):\n",
    "    \"\"\"Return the path of the image.\"\"\"\n",
    "    info = self.image_info[image_id]\n",
    "    if info[\"source\"] == \"balloon\":\n",
    "        return info[\"path\"]\n",
    "    else:\n",
    "        super(self.__class__, self).image_reference(image_id)"
   ]
  },
  {
   "cell_type": "markdown",
   "metadata": {
    "heading_collapsed": true
   },
   "source": [
    "### no apply"
   ]
  },
  {
   "cell_type": "code",
   "execution_count": null,
   "metadata": {
    "hidden": true
   },
   "outputs": [],
   "source": [
    "# https://cloud.tencent.com/developer/section/1414714\n",
    "from skimage.draw import polygon\n",
    "img = np.zeros((10, 10), dtype=np.uint8)\n",
    "r = np.array([1, 2, 8, 1])\n",
    "c = np.array([1, 7, 4, 1])\n",
    "rr, cc = polygon(r, c)\n",
    "print(rr)\n",
    "print(cc)\n",
    "img[rr, cc] = 1\n",
    "img"
   ]
  },
  {
   "cell_type": "code",
   "execution_count": null,
   "metadata": {
    "hidden": true
   },
   "outputs": [],
   "source": [
    "class Base(object):\n",
    "    def __init__(self):\n",
    "        print(\"enter Base\")\n",
    "        print(\"leave Base\")\n",
    "\n",
    "class A(Base):\n",
    "    def __init__(self):\n",
    "        print(\"enter A\")\n",
    "        super(A, self).__init__()\n",
    "        print(\"leave A\")\n",
    "\n",
    "class B(Base):\n",
    "    def __init__(self):\n",
    "        print(\"enter B\")\n",
    "        super(B, self).__init__()\n",
    "        print(\"leave B\")\n",
    "\n",
    "class C(A, B):\n",
    "    def __init__(self):\n",
    "        print(\"enter C\")\n",
    "        super(C, self).__init__()\n",
    "        print(\"leave C\")"
   ]
  },
  {
   "cell_type": "code",
   "execution_count": null,
   "metadata": {
    "hidden": true
   },
   "outputs": [],
   "source": [
    "C.mro()"
   ]
  },
  {
   "cell_type": "code",
   "execution_count": null,
   "metadata": {
    "hidden": true
   },
   "outputs": [],
   "source": [
    "c=C()"
   ]
  },
  {
   "cell_type": "code",
   "execution_count": null,
   "metadata": {
    "hidden": true
   },
   "outputs": [],
   "source": [
    "class FooParent(object):\n",
    "    def __init__(self):\n",
    "        self.parent = 'I\\'m the parent.'\n",
    "        print ('Parent')\n",
    "    \n",
    "    def bar(self,message):\n",
    "        print (\"%s from Parent\" % message)\n",
    " \n",
    "class FooChild(FooParent):\n",
    "    def __init__(self):\n",
    "        # super(FooChild,self) 首先找到 FooChild 的父类（就是类 FooParent），\n",
    "        # 然后把类 FooChild 的对象转换为类 FooParent 的对象\n",
    "        super(FooChild,self).__init__()    \n",
    "        print ('Child')\n",
    "        \n",
    "    def bar(self,message):\n",
    "        super(FooChild, self).bar(message)\n",
    "        print ('Child bar fuction')\n",
    "        print (self.parent)\n",
    " \n",
    "if __name__ == '__main__':\n",
    "    fooChild = FooChild()\n",
    "    fooChild.bar('HelloWorld')"
   ]
  },
  {
   "cell_type": "code",
   "execution_count": null,
   "metadata": {
    "hidden": true
   },
   "outputs": [],
   "source": [
    "h={'a':{'k':{0}},'b':{'k':{1}},'c':{'k':{2}},'d':{'k':{3}},'e':{'k':{}}}\n",
    "\n",
    "h=list(h.values())\n",
    "#print(h)\n",
    "\n",
    "for d in h:\n",
    "#     if d['k']:\n",
    "        print(d['k'])\n",
    "\n",
    "    "
   ]
  },
  {
   "cell_type": "code",
   "execution_count": null,
   "metadata": {
    "hidden": true
   },
   "outputs": [],
   "source": [
    "s={}\n",
    "\n",
    "bool(s)"
   ]
  },
  {
   "cell_type": "code",
   "execution_count": null,
   "metadata": {
    "hidden": true
   },
   "outputs": [],
   "source": [
    "def load_balloon(dataset_dir, subset):\n",
    "    \"\"\"Load a subset of the Balloon dataset.\n",
    "    dataset_dir: Root directory of the dataset.\n",
    "    subset: Subset to load: train or val\n",
    "    \"\"\"\n",
    "    # Add classes. We have only one class to add.\n",
    "    add_class(\"balloon\", 1, \"balloon\")\n",
    "\n",
    "    # Train or validation dataset?\n",
    "    assert subset in [\"train\", \"val\"]\n",
    "    dataset_dir = os.path.join(dataset_dir, subset)\n",
    "\n",
    "    # Note: In VIA 2.0, regions was changed from a dict to a list.\n",
    "    annotations = json.load(open(os.path.join(dataset_dir, \"via_region_data.json\")))\n",
    "    annotations = list(annotations.values())  # don't need the dict keys\n",
    "\n",
    "    # The VIA tool saves images in the JSON even if they don't have any\n",
    "    # annotations. Skip unannotated images.\n",
    "    annotations = [a for a in annotations if a['regions']]\n",
    "\n",
    "    # Add images\n",
    "    for a in annotations:\n",
    "        # Get the x, y coordinaets of points of the polygons that make up\n",
    "        # the outline of each object instance. These are stores in the\n",
    "        # shape_attributes (see json format above)\n",
    "        # The if condition is needed to support VIA versions 1.x and 2.x.\n",
    "        if type(a['regions']) is dict:\n",
    "            polygons = [r['shape_attributes'] for r in a['regions'].values()]\n",
    "        else:\n",
    "            polygons = [r['shape_attributes'] for r in a['regions']] \n",
    "\n",
    "        # load_mask() needs the image size to convert polygons to masks.\n",
    "        # Unfortunately, VIA doesn't include it in JSON, so we must read\n",
    "        # the image. This is only managable since the dataset is tiny.\n",
    "        image_path = os.path.join(dataset_dir, a['filename'])\n",
    "        image = skimage.io.imread(image_path)\n",
    "        height, width = image.shape[:2]\n",
    "\n",
    "        self.add_image(\n",
    "            \"balloon\",\n",
    "            image_id=a['filename'],  # use file name as a unique image id\n",
    "            path=image_path,\n",
    "            width=width, height=height,\n",
    "            polygons=polygons)"
   ]
  },
  {
   "cell_type": "code",
   "execution_count": null,
   "metadata": {
    "hidden": true
   },
   "outputs": [],
   "source": [
    "# https://github.com/matterport/Mask_RCNN/blob/master/mrcnn/utils.py\n",
    "# balloon.py\n",
    "# class BalloonDataset(utils.Dataset):\n",
    "def add_image(source, image_id, path, **kwargs):\n",
    "    image_info = {\n",
    "        \"id\": image_id,\n",
    "        \"source\": source,\n",
    "        \"path\": path,\n",
    "    }\n",
    "    image_info.update(kwargs)\n",
    "    image_info.append(image_info)\n",
    "\n",
    "def image_reference(image_id):\n",
    "    \"\"\"Return a link to the image in its source Website or details about\n",
    "    the image that help looking it up or debugging it.\n",
    "\n",
    "    Override for your dataset, but pass to this function\n",
    "    if you encounter images not in your dataset.\n",
    "    \"\"\"\n",
    "    return \"\"\n",
    "\n",
    "def prepare(class_map=None):\n",
    "    \"\"\"Prepares the Dataset class for use.\n",
    "\n",
    "    TODO: class map is not supported yet. When done, it should handle mapping\n",
    "          classes from different datasets to the same class ID.\n",
    "    \"\"\"\n",
    "\n",
    "    def clean_name(name):\n",
    "        \"\"\"Returns a shorter version of object names for cleaner display.\"\"\"\n",
    "        return \",\".join(name.split(\",\")[:1])\n",
    "\n",
    "    # Build (or rebuild) everything else from the info dicts.\n",
    "    self.num_classes = len(self.class_info)\n",
    "    self.class_ids = np.arange(self.num_classes)\n",
    "    self.class_names = [clean_name(c[\"name\"]) for c in self.class_info]\n",
    "    self.num_images = len(self.image_info)\n",
    "    self._image_ids = np.arange(self.num_images)\n",
    "\n",
    "    # Mapping from source class and image IDs to internal IDs\n",
    "    self.class_from_source_map = {\"{}.{}\".format(info['source'], info['id']): id\n",
    "                                  for info, id in zip(self.class_info, self.class_ids)}\n",
    "    self.image_from_source_map = {\"{}.{}\".format(info['source'], info['id']): id\n",
    "                                  for info, id in zip(self.image_info, self.image_ids)}\n",
    "\n",
    "    # Map sources to class_ids they support\n",
    "    self.sources = list(set([i['source'] for i in self.class_info]))\n",
    "    self.source_class_ids = {}\n",
    "    # Loop over datasets\n",
    "    for source in self.sources:\n",
    "        self.source_class_ids[source] = []\n",
    "        # Find classes that belong to this dataset\n",
    "        for i, info in enumerate(self.class_info):\n",
    "            # Include BG class in all datasets\n",
    "            if i == 0 or source == info['source']:\n",
    "                self.source_class_ids[source].append(i)\n",
    "\n",
    "def map_source_class_id(source_class_id):\n",
    "    \"\"\"Takes a source class ID and returns the int class ID assigned to it.\n",
    "\n",
    "    For example:\n",
    "    dataset.map_source_class_id(\"coco.12\") -> 23\n",
    "    \"\"\"\n",
    "    return self.class_from_source_map[source_class_id]\n",
    "\n",
    "def get_source_class_id(class_id, source):\n",
    "    \"\"\"Map an internal class ID to the corresponding class ID in the source dataset.\"\"\"\n",
    "    info = self.class_info[class_id]\n",
    "    assert info['source'] == source\n",
    "    return info['id']\n",
    "\n",
    "@property\n",
    "def image_ids():\n",
    "    return self._image_ids\n",
    "\n",
    "def source_image_link(image_id):\n",
    "    \"\"\"Returns the path or URL to the image.\n",
    "    Override this to return a URL to the image if it's available online for easy\n",
    "    debugging.\n",
    "    \"\"\"\n",
    "    return self.image_info[image_id][\"path\"]\n",
    "\n",
    "def load_image(image_id):\n",
    "    \"\"\"Load the specified image and return a [H,W,3] Numpy array.\n",
    "    \"\"\"\n",
    "    # Load image\n",
    "    image = skimage.io.imread(self.image_info[image_id]['path'])\n",
    "    # If grayscale. Convert to RGB for consistency.\n",
    "    if image.ndim != 3:\n",
    "        image = skimage.color.gray2rgb(image)\n",
    "    # If has an alpha channel, remove it for consistency\n",
    "    if image.shape[-1] == 4:\n",
    "        image = image[..., :3]\n",
    "    return image\n",
    "\n",
    "def load_mask(image_id):\n",
    "    \"\"\"Load instance masks for the given image.\n",
    "\n",
    "    Different datasets use different ways to store masks. Override this\n",
    "    method to load instance masks and return them in the form of am\n",
    "    array of binary masks of shape [height, width, instances].\n",
    "\n",
    "    Returns:\n",
    "        masks: A bool array of shape [height, width, instance count] with\n",
    "            a binary mask per instance.\n",
    "        class_ids: a 1D array of class IDs of the instance masks.\n",
    "    \"\"\"\n",
    "    # Override this function to load a mask from your dataset.\n",
    "    # Otherwise, it returns an empty mask.\n",
    "    logging.warning(\"You are using the default load_mask(), maybe you need to define your own one.\")\n",
    "    mask = np.empty([0, 0, 0])\n",
    "    class_ids = np.empty([0], np.int32)\n",
    "    return mask, class_ids"
   ]
  },
  {
   "cell_type": "code",
   "execution_count": null,
   "metadata": {
    "hidden": true
   },
   "outputs": [],
   "source": [
    "def load_mask(self, image_id):\n",
    "    \"\"\"Generate instance masks for an image.\n",
    "    Returns:\n",
    "    masks: A bool array of shape [height, width, instance count] with\n",
    "        one mask per instance.\n",
    "    class_ids: a 1D array of class IDs of the instance masks.\n",
    "    \"\"\"\n",
    "    # If not a balloon dataset image, delegate to parent class.\n",
    "    image_info = self.image_info[image_id]\n",
    "    if image_info[\"source\"] != \"balloon\":\n",
    "        return super(self.__class__, self).load_mask(image_id)\n",
    "\n",
    "    # Convert polygons to a bitmap mask of shape\n",
    "    # [height, width, instance_count]\n",
    "    info = self.image_info[image_id]\n",
    "    mask = np.zeros([info[\"height\"], info[\"width\"], len(info[\"polygons\"])],\n",
    "                    dtype=np.uint8)\n",
    "    for i, p in enumerate(info[\"polygons\"]):\n",
    "        # Get indexes of pixels inside the polygon and set them to 1\n",
    "        rr, cc = skimage.draw.polygon(p['all_points_y'], p['all_points_x'])\n",
    "        mask[rr, cc, i] = 1\n",
    "\n",
    "    # Return mask, and array of class IDs of each instance. Since we have\n",
    "    # one class ID only, we return an array of 1s\n",
    "    return mask.astype(np.bool), np.ones([mask.shape[-1]], dtype=np.int32)"
   ]
  },
  {
   "cell_type": "markdown",
   "metadata": {},
   "source": [
    "### end"
   ]
  },
  {
   "cell_type": "code",
   "execution_count": null,
   "metadata": {},
   "outputs": [],
   "source": []
  }
 ],
 "metadata": {
  "kernelspec": {
   "display_name": "Python 3",
   "language": "python",
   "name": "python3"
  },
  "language_info": {
   "codemirror_mode": {
    "name": "ipython",
    "version": 3
   },
   "file_extension": ".py",
   "mimetype": "text/x-python",
   "name": "python",
   "nbconvert_exporter": "python",
   "pygments_lexer": "ipython3",
   "version": "3.5.2"
  },
  "varInspector": {
   "cols": {
    "lenName": 16,
    "lenType": 16,
    "lenVar": 40
   },
   "kernels_config": {
    "python": {
     "delete_cmd_postfix": "",
     "delete_cmd_prefix": "del ",
     "library": "var_list.py",
     "varRefreshCmd": "print(var_dic_list())"
    },
    "r": {
     "delete_cmd_postfix": ") ",
     "delete_cmd_prefix": "rm(",
     "library": "var_list.r",
     "varRefreshCmd": "cat(var_dic_list()) "
    }
   },
   "oldHeight": 549.170924,
   "position": {
    "height": "571.087px",
    "left": "1084.2px",
    "right": "20px",
    "top": "200.837px",
    "width": "475.481px"
   },
   "types_to_exclude": [
    "module",
    "function",
    "builtin_function_or_method",
    "instance",
    "_Feature"
   ],
   "varInspector_section_display": "block",
   "window_display": false
  }
 },
 "nbformat": 4,
 "nbformat_minor": 2
}
