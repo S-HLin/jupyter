{
 "cells": [
  {
   "cell_type": "markdown",
   "metadata": {},
   "source": [
    "### 自己的voc2007数据集，用来生成csv数据集"
   ]
  },
  {
   "cell_type": "markdown",
   "metadata": {},
   "source": [
    "https://blog.csdn.net/u012426298/article/details/80343500"
   ]
  },
  {
   "cell_type": "markdown",
   "metadata": {},
   "source": [
    "https://blog.csdn.net/u012426298/article/details/80450537"
   ]
  },
  {
   "cell_type": "code",
   "execution_count": 1,
   "metadata": {},
   "outputs": [],
   "source": [
    "import csv\n",
    "import os\n",
    "import glob\n",
    "import sys\n",
    "\n",
    "class PascalVOC2CSV(object):\n",
    "    def __init__(self, mainpath, xml=[]):\n",
    "        '''\n",
    "        :param xml: 所有Pascal VOC的xml文件路径组成的列表\n",
    "        :param ann_path: ann_path\n",
    "        :param classes_path: classes_path\n",
    "        '''\n",
    "        self.xml = glob.glob(os.path.join(mainpath,'Annotations','*.xml'))\n",
    "        self.ann_path = os.path.join(mainpath,'annotations.csv')\n",
    "        self.classes_path= os.path.join(mainpath,'classes.csv')\n",
    "        self.label=[]\n",
    "        self.annotations=[]\n",
    " \n",
    "        self.data_transfer()\n",
    "        self.write_file()\n",
    " \n",
    " \n",
    "    def data_transfer(self):\n",
    "        for num, xml_file in enumerate(self.xml):\n",
    "            try:\n",
    "                # print(xml_file)\n",
    "                # 进度输出\n",
    "                sys.stdout.write('\\r>> Converting image %d/%d' % (\n",
    "                    num + 1, len(self.xml)))\n",
    "                sys.stdout.flush()\n",
    " \n",
    "                with open(xml_file, 'r') as fp:\n",
    "                    for p in fp:\n",
    "                        if '<filename>' in p:\n",
    "                            self.filen_ame = p.split('>')[1].split('<')[0]\n",
    " \n",
    "                        if '<object>' in p:\n",
    "                            # 类别\n",
    "                            d = [next(fp).split('>')[1].split('<')[0] for _ in range(9)]\n",
    "                            self.supercategory = d[0]\n",
    "                            if self.supercategory not in self.label:\n",
    "                                self.label.append(self.supercategory)\n",
    " \n",
    "                            # 边界框\n",
    "                            x1 = int(d[-4]);\n",
    "                            y1 = int(d[-3]);\n",
    "                            x2 = int(d[-2]);\n",
    "                            y2 = int(d[-1])\n",
    " \n",
    "                            self.annotations.append([os.path.join('JPEGImages',self.filen_ame),x1,y1,x2,y2,self.supercategory])\n",
    "            except:\n",
    "                continue\n",
    " \n",
    "        sys.stdout.write('\\n')\n",
    "        sys.stdout.flush()\n",
    " \n",
    "    def write_file(self,):\n",
    "        with open(self.ann_path, 'w', newline='') as fp:\n",
    "            csv_writer = csv.writer(fp, dialect='excel')\n",
    "            csv_writer.writerows(self.annotations)\n",
    " \n",
    "        class_name=sorted(self.label)\n",
    "        class_=[]\n",
    "        for num,name in enumerate(class_name):\n",
    "            class_.append([name,num])\n",
    "        with open(self.classes_path, 'w', newline='') as fp:\n",
    "            csv_writer = csv.writer(fp, dialect='excel')\n",
    "            csv_writer.writerows(class_)"
   ]
  },
  {
   "cell_type": "code",
   "execution_count": 3,
   "metadata": {},
   "outputs": [],
   "source": [
    "mainpath='/dataDisk/myfloder/inputdata/pascal/0000000000000000000/'\n",
    "# xml_file = glob.glob(os.path.join(mainpath,'Annotations','*.xml'))\n",
    "# xml_file"
   ]
  },
  {
   "cell_type": "code",
   "execution_count": 4,
   "metadata": {},
   "outputs": [
    {
     "name": "stdout",
     "output_type": "stream",
     "text": [
      ">> Converting image 42/42\n"
     ]
    },
    {
     "data": {
      "text/plain": [
       "<__main__.PascalVOC2CSV at 0x7f4d7f4ae7f0>"
      ]
     },
     "execution_count": 4,
     "metadata": {},
     "output_type": "execute_result"
    }
   ],
   "source": [
    "PascalVOC2CSV(mainpath)"
   ]
  },
  {
   "cell_type": "markdown",
   "metadata": {
    "heading_collapsed": true
   },
   "source": [
    "### no apply"
   ]
  },
  {
   "cell_type": "code",
   "execution_count": null,
   "metadata": {
    "hidden": true
   },
   "outputs": [],
   "source": [
    "class PascalVOC2CSV(object):\n",
    "    def __init__(self,xml=[], ann_path='./annotations.csv',classes_path='./classes.csv'):\n",
    "        '''\n",
    "        :param xml: 所有Pascal VOC的xml文件路径组成的列表\n",
    "        :param ann_path: ann_path\n",
    "        :param classes_path: classes_path\n",
    "        '''\n",
    "        self.xml = xml\n",
    "        self.ann_path = ann_path\n",
    "        self.classes_path=classes_path\n",
    "        self.label=[]\n",
    "        self.annotations=[]\n",
    " \n",
    "        self.data_transfer()\n",
    "        self.write_file()\n",
    " \n",
    " \n",
    "    def data_transfer(self):\n",
    "        for num, xml_file in enumerate(self.xml):\n",
    "            try:\n",
    "                # print(xml_file)\n",
    "                # 进度输出\n",
    "                sys.stdout.write('\\r>> Converting image %d/%d' % (\n",
    "                    num + 1, len(self.xml)))\n",
    "                sys.stdout.flush()\n",
    " \n",
    "                with open(xml_file, 'r') as fp:\n",
    "                    for p in fp:\n",
    "                        if '<filename>' in p:\n",
    "                            self.filen_ame = p.split('>')[1].split('<')[0]\n",
    " \n",
    "                        if '<object>' in p:\n",
    "                            # 类别\n",
    "                            d = [next(fp).split('>')[1].split('<')[0] for _ in range(9)]\n",
    "                            self.supercategory = d[0]\n",
    "                            if self.supercategory not in self.label:\n",
    "                                self.label.append(self.supercategory)\n",
    " \n",
    "                            # 边界框\n",
    "                            x1 = int(d[-4]);\n",
    "                            y1 = int(d[-3]);\n",
    "                            x2 = int(d[-2]);\n",
    "                            y2 = int(d[-1])\n",
    " \n",
    "                            self.annotations.append([os.path.join('JPEGImages',self.filen_ame),x1,y1,x2,y2,self.supercategory])\n",
    "            except:\n",
    "                continue\n",
    " \n",
    "        sys.stdout.write('\\n')\n",
    "        sys.stdout.flush()\n",
    " \n",
    "    def write_file(self,):\n",
    "        with open(self.ann_path, 'w', newline='') as fp:\n",
    "            csv_writer = csv.writer(fp, dialect='excel')\n",
    "            csv_writer.writerows(self.annotations)\n",
    " \n",
    "        class_name=sorted(self.label)\n",
    "        class_=[]\n",
    "        for num,name in enumerate(class_name):\n",
    "            class_.append([name,num])\n",
    "        with open(self.classes_path, 'w', newline='') as fp:\n",
    "            csv_writer = csv.writer(fp, dialect='excel')\n",
    "            csv_writer.writerows(class_)"
   ]
  },
  {
   "cell_type": "markdown",
   "metadata": {},
   "source": [
    "### end"
   ]
  },
  {
   "cell_type": "code",
   "execution_count": null,
   "metadata": {},
   "outputs": [],
   "source": []
  }
 ],
 "metadata": {
  "kernelspec": {
   "display_name": "Python 3",
   "language": "python",
   "name": "python3"
  },
  "language_info": {
   "codemirror_mode": {
    "name": "ipython",
    "version": 3
   },
   "file_extension": ".py",
   "mimetype": "text/x-python",
   "name": "python",
   "nbconvert_exporter": "python",
   "pygments_lexer": "ipython3",
   "version": "3.5.2"
  },
  "varInspector": {
   "cols": {
    "lenName": 16,
    "lenType": 16,
    "lenVar": 40
   },
   "kernels_config": {
    "python": {
     "delete_cmd_postfix": "",
     "delete_cmd_prefix": "del ",
     "library": "var_list.py",
     "varRefreshCmd": "print(var_dic_list())"
    },
    "r": {
     "delete_cmd_postfix": ") ",
     "delete_cmd_prefix": "rm(",
     "library": "var_list.r",
     "varRefreshCmd": "cat(var_dic_list()) "
    }
   },
   "types_to_exclude": [
    "module",
    "function",
    "builtin_function_or_method",
    "instance",
    "_Feature"
   ],
   "window_display": false
  }
 },
 "nbformat": 4,
 "nbformat_minor": 2
}
