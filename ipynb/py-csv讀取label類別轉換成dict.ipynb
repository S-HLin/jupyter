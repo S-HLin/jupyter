{
 "cells": [
  {
   "cell_type": "markdown",
   "metadata": {},
   "source": [
    "###  Python 讀取與寫入CSV檔案"
   ]
  },
  {
   "cell_type": "markdown",
   "metadata": {},
   "source": [
    "https://blog.gtwang.org/programming/python-csv-file-reading-and-writing-tutorial/"
   ]
  },
  {
   "cell_type": "markdown",
   "metadata": {},
   "source": [
    "https://blog.csdn.net/ywx1832990/article/details/79145576"
   ]
  },
  {
   "cell_type": "markdown",
   "metadata": {},
   "source": [
    "https://stackoverflow.com/questions/613183/how-do-i-sort-a-dictionary-by-value"
   ]
  },
  {
   "cell_type": "markdown",
   "metadata": {},
   "source": [
    "### csv.reader"
   ]
  },
  {
   "cell_type": "code",
   "execution_count": 1,
   "metadata": {
    "run_control": {
     "marked": true
    }
   },
   "outputs": [
    {
     "name": "stdout",
     "output_type": "stream",
     "text": [
      "{'豆瓣茄子': 38, '蒸水晶魚': 34, '煎里肌': 24, '滑蛋肉燥豆腐': 13, '青江菜': 43, '玉米肉丁': 25, '木耳炒鳳梨': 9, '煎財神鲳': 23, '煎紅尾冬魚': 22, '炒高麗菜': 20, '大瓜木耳雞肉片': 4, '莧菜': 33, '豆干絲': 37, '西芹玉米': 36, '空心菜': 27, '青椒雞絲': 42, '尼龍菜': 5, '地瓜葉': 3, '金針菇木耳炒蛋': 41, '炒什錦豆干': 15, '烤雞塊': 21, '炒海茸': 18, '蕃茄金針菇': 35, '洋芋': 11, '三杯茄子': 0, '肉燥豆腐': 29, '羅勒烤雞': 28, '洋芋燒雞': 12, '南瓜': 1, '巴沙魚': 7, '滑蛋蝦皮絲瓜': 14, '油菜': 10, '炒雙色': 19, '豆豉小排': 39, '胡麻茄子': 30, '炒彩椒絲': 17, '山藥燒小排': 6, '咖哩洋芋': 2, '炒大陸妹': 16, '芝麻海帶絲': 31, '瓜仔肉': 26, '彩色百頁': 8, '苦瓜': 32, '醬爆雞肉': 40}\n"
     ]
    }
   ],
   "source": [
    "import csv\n",
    "label_path='../../inputdata/pascal/0000000000000000000/classes.csv'\n",
    "with open(label_path, newline='') as csvfile:\n",
    "\n",
    "    # 讀取 CSV 檔內容，將每一列轉成一個 dictionary\n",
    "    reader = csv.reader(csvfile)\n",
    "    labels_to_names = {}\n",
    "    for row in reader:\n",
    "        labels_to_names[row[0]]=int(row[1])\n",
    "print(dict(sorted(labels_to_names.items(), key=lambda x: x[1])))"
   ]
  },
  {
   "cell_type": "code",
   "execution_count": null,
   "metadata": {},
   "outputs": [],
   "source": [
    "import csv\n",
    "def csv2dict(label_path):\n",
    "    with open(label_path, newline='') as csvfile:\n",
    "\n",
    "        # 讀取 CSV 檔內容，將每一列轉成一個 dictionary\n",
    "        reader = csv.reader(csvfile)\n",
    "        labels_to_names = {}\n",
    "        for row in reader:\n",
    "            labels_to_names[row[0]]=int(row[1])\n",
    "                      \n",
    "            #print(row)"
   ]
  },
  {
   "cell_type": "code",
   "execution_count": null,
   "metadata": {},
   "outputs": [],
   "source": [
    "label_path='../../inputdata/pascal/0911-pascal/classes.csv'\n",
    "csv2dict(label_path)"
   ]
  },
  {
   "cell_type": "markdown",
   "metadata": {
    "heading_collapsed": true
   },
   "source": [
    "### csv.DictReader"
   ]
  },
  {
   "cell_type": "code",
   "execution_count": null,
   "metadata": {
    "hidden": true
   },
   "outputs": [],
   "source": [
    "# load label to names mapping for visualization purposes\n",
    "# 讀取csv檔的label類別轉成dict\n",
    "import csv\n",
    "\n",
    "label_path='../../inputdata/pascal/0822-pascal/classes.csv'\n",
    "\n",
    "with open(label_path, newline='') as csvfile:\n",
    "\n",
    "  # 讀取 CSV 檔內容，將每一列轉成一個 dictionary\n",
    "  reader = csv.DictReader(csvfile)\n",
    "  labels_to_names = {}\n",
    "  # 以迴圈輸出指定欄位\n",
    "  for row in reader:\n",
    "    labels_to_names[int(row['label'])]= row['name']\n",
    "  print(labels_to_names)\n",
    "\n",
    "Cid={v:k for k,v in labels_to_names.items()}\n",
    "Cid"
   ]
  },
  {
   "cell_type": "code",
   "execution_count": null,
   "metadata": {
    "hidden": true
   },
   "outputs": [],
   "source": [
    "#字典 key,value互換\n",
    "# Cid = {} #revert dict\n",
    "# for k,v in labels_to_names.items():\n",
    "#     Cid[v]=k    \n",
    "\n",
    "Cid={v:k for k,v in labels_to_names.items()}\n",
    "Cid"
   ]
  },
  {
   "cell_type": "markdown",
   "metadata": {
    "heading_collapsed": true
   },
   "source": [
    "### no apply"
   ]
  },
  {
   "cell_type": "code",
   "execution_count": null,
   "metadata": {
    "hidden": true,
    "run_control": {
     "marked": true
    }
   },
   "outputs": [],
   "source": [
    "import csv\n",
    "\n",
    "label_path='../../inputdata/pascal/0822-pascal/classes.csv'\n",
    "\n",
    "with open(label_path, newline='') as csvfile:\n",
    "\n",
    "    # 讀取 CSV 檔內容，將每一列轉成一個 dictionary\n",
    "    reader = csv.reader(csvfile)\n",
    "    labels_to_names = {}\n",
    "    for row in reader:\n",
    "        labels_to_names[int(row[1])]=row[0]\n",
    "    print(labels_to_names)\n",
    "        #print(row)"
   ]
  },
  {
   "cell_type": "markdown",
   "metadata": {},
   "source": [
    "### end"
   ]
  },
  {
   "cell_type": "code",
   "execution_count": null,
   "metadata": {},
   "outputs": [],
   "source": []
  }
 ],
 "metadata": {
  "kernelspec": {
   "display_name": "Python 3",
   "language": "python",
   "name": "python3"
  },
  "language_info": {
   "codemirror_mode": {
    "name": "ipython",
    "version": 3
   },
   "file_extension": ".py",
   "mimetype": "text/x-python",
   "name": "python",
   "nbconvert_exporter": "python",
   "pygments_lexer": "ipython3",
   "version": "3.5.2"
  },
  "varInspector": {
   "cols": {
    "lenName": 16,
    "lenType": 16,
    "lenVar": 40
   },
   "kernels_config": {
    "python": {
     "delete_cmd_postfix": "",
     "delete_cmd_prefix": "del ",
     "library": "var_list.py",
     "varRefreshCmd": "print(var_dic_list())"
    },
    "r": {
     "delete_cmd_postfix": ") ",
     "delete_cmd_prefix": "rm(",
     "library": "var_list.r",
     "varRefreshCmd": "cat(var_dic_list()) "
    }
   },
   "types_to_exclude": [
    "module",
    "function",
    "builtin_function_or_method",
    "instance",
    "_Feature"
   ],
   "window_display": false
  }
 },
 "nbformat": 4,
 "nbformat_minor": 2
}
