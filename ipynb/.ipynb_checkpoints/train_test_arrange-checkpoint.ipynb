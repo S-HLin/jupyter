{
 "cells": [
  {
   "cell_type": "code",
   "execution_count": 4,
   "metadata": {},
   "outputs": [],
   "source": [
    "import os,shutil\n",
    "import numpy as np\n",
    "def train_test_arrange(original_dir,split_ratio):\n",
    "    #original_dir='/dataDisk/myfloder/inputdata/Food calorie_integration_1025'\n",
    "    data_dir=''\n",
    "    list_dir=original_dir.split('/')\n",
    "    new_dir=list_dir[-1]+'_split'\n",
    "    \n",
    "    if original_dir[-1]=='/':\n",
    "        list_dir=original_dir.split('/')[1:-2]\n",
    "        for i in range(len(list_dir)):\n",
    "            data_dir=data_dir+'/'+list_dir[i]\n",
    "    else:\n",
    "        list_dir=original_dir.split('/')[1:-1]\n",
    "        for i in range(len(list_dir)):\n",
    "            data_dir=data_dir+'/'+list_dir[i]\n",
    "\n",
    "  \n",
    "    train_dir = data_dir + new_dir+ '/train'\n",
    "    validation_dir = data_dir + new_dir + '/validation'\n",
    "    test_dir = data_dir + new_dir + '/test'\n",
    "    \n",
    "    os.mkdir(train_dir)\n",
    "    os.mkdir(test_dir)\n",
    "    os.mkdir(validation_dir)\n",
    "    #子資料夾名稱\n",
    "    names=os.listdir(original_dir)\n",
    "\n",
    "    #建立分割資料集子資料夾\n",
    "    for i in names:\n",
    "        train_name=os.path.join(train_dir,i)\n",
    "        test_name=os.path.join(test_dir,i)\n",
    "        validation_name=os.path.join(validation_dir,i)\n",
    "\n",
    "        os.mkdir(train_name)\n",
    "        os.mkdir(test_name)\n",
    "        os.mkdir(validation_name)\n",
    "\n",
    "        #複製圖片\n",
    "        dataset=os.path.join(original_dir,i)#原資料集子資料夾\n",
    "        count=0\n",
    "        for im in os.listdir(dataset):\n",
    "                #train data\n",
    "            if count<len(os.listdir(dataset))*split_ratio:\n",
    "                src=os.path.join(dataset,im)\n",
    "                dst=os.path.join(train_name,im)\n",
    "                shutil.copyfile(src,dst)\n",
    "                count+=1\n",
    "                #validation data\n",
    "            elif count>len(os.listdir(dataset))*(split_ratio+0.1):\n",
    "                src=os.path.join(dataset,im)\n",
    "                dst=os.path.join(test_name,im)\n",
    "                shutil.copyfile(src,dst)\n",
    "                count+=1\n",
    "                #test data\n",
    "            else:\n",
    "                src=os.path.join(dataset,im)\n",
    "                dst=os.path.join(validation_name,im)\n",
    "                shutil.copyfile(src,dst)\n",
    "                count+=1\n",
    "    return train_dir,validation_dir,test_dir"
   ]
  },
  {
   "cell_type": "code",
   "execution_count": null,
   "metadata": {},
   "outputs": [],
   "source": [
    "#original_dir='/dataDisk/inputdata/Food calorie_integration_1025'\n",
    "#split_ratio=0.8\n",
    "#train_dir,validation_dir,test_dir=train_test_arrange(original_dir=original_dir,split_ratio=split_ratio)"
   ]
  },
  {
   "cell_type": "code",
   "execution_count": null,
   "metadata": {},
   "outputs": [],
   "source": []
  }
 ],
 "metadata": {
  "kernelspec": {
   "display_name": "Python 3",
   "language": "python",
   "name": "python3"
  },
  "language_info": {
   "codemirror_mode": {
    "name": "ipython",
    "version": 3
   },
   "file_extension": ".py",
   "mimetype": "text/x-python",
   "name": "python",
   "nbconvert_exporter": "python",
   "pygments_lexer": "ipython3",
   "version": "3.5.2"
  },
  "varInspector": {
   "cols": {
    "lenName": 16,
    "lenType": 16,
    "lenVar": 40
   },
   "kernels_config": {
    "python": {
     "delete_cmd_postfix": "",
     "delete_cmd_prefix": "del ",
     "library": "var_list.py",
     "varRefreshCmd": "print(var_dic_list())"
    },
    "r": {
     "delete_cmd_postfix": ") ",
     "delete_cmd_prefix": "rm(",
     "library": "var_list.r",
     "varRefreshCmd": "cat(var_dic_list()) "
    }
   },
   "types_to_exclude": [
    "module",
    "function",
    "builtin_function_or_method",
    "instance",
    "_Feature"
   ],
   "window_display": false
  }
 },
 "nbformat": 4,
 "nbformat_minor": 2
}
