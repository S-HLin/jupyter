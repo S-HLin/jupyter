{
 "cells": [
  {
   "cell_type": "markdown",
   "metadata": {
    "heading_collapsed": true
   },
   "source": [
    "### node name"
   ]
  },
  {
   "cell_type": "code",
   "execution_count": null,
   "metadata": {
    "hidden": true
   },
   "outputs": [],
   "source": [
    "import tensorflow as tf\n",
    "from tensorflow.python.platform import gfile\n",
    "GRAPH_PB_PATH = '/dataDisk/myfloder/jupyter/pb/retinanet123.pb'\n",
    "with tf.Session() as sess:\n",
    "   print(\"load graph\")\n",
    "   with gfile.FastGFile(GRAPH_PB_PATH,'rb') as f:\n",
    "       graph_def = tf.GraphDef()\n",
    "   graph_def.ParseFromString(f.read())\n",
    "   sess.graph.as_default()\n",
    "   tf.import_graph_def(graph_def, name='')\n",
    "   graph_nodes=[n for n in graph_def.node]\n",
    "   names = []\n",
    "   for t in graph_nodes:\n",
    "      names.append(t.name)\n",
    "   print(names)"
   ]
  },
  {
   "cell_type": "markdown",
   "metadata": {
    "hidden": true
   },
   "source": [
    "https://zhuanlan.zhihu.com/p/47649285"
   ]
  },
  {
   "cell_type": "markdown",
   "metadata": {
    "hidden": true
   },
   "source": [
    "https://blog.csdn.net/u014432647/article/details/75276718"
   ]
  },
  {
   "cell_type": "markdown",
   "metadata": {},
   "source": [
    "### pb file加载模型"
   ]
  },
  {
   "cell_type": "code",
   "execution_count": 1,
   "metadata": {},
   "outputs": [],
   "source": [
    "import tensorflow as tf\n",
    "from tensorflow.python.platform import gfile\n",
    "from tensorflow.python.framework import graph_util\n",
    "from skimage import io, transform"
   ]
  },
  {
   "cell_type": "code",
   "execution_count": 2,
   "metadata": {},
   "outputs": [],
   "source": [
    "def recognize(jpg_path, pb_file_path):\n",
    "    with tf.Graph().as_default():\n",
    "        output_graph_def = tf.GraphDef()\n",
    "\n",
    "        with open(pb_file_path, \"rb\") as f:\n",
    "            output_graph_def.ParseFromString(f.read())\n",
    "            _ = tf.import_graph_def(output_graph_def, name=\"\")\n",
    "\n",
    "        with tf.Session() as sess:\n",
    "            init = tf.global_variables_initializer()\n",
    "            sess.run(init)\n",
    "\n",
    "            input_x = sess.graph.get_tensor_by_name(\"input_1:0\")\n",
    "            print(input_x)\n",
    "            \n",
    "            out_1 = sess.graph.get_tensor_by_name(\"output_1:0\")\n",
    "            print(out_1)\n",
    "            \n",
    "            out_2 = sess.graph.get_tensor_by_name(\"output_2:0\")\n",
    "            print(out_2)\n",
    "            \n",
    "            out_3 = sess.graph.get_tensor_by_name(\"output_3:0\")\n",
    "            print(out_3)     \n",
    "\n",
    "            img = io.imread(jpg_path)\n",
    "#           img = transform.resize(img, (224, 224, 3))\n",
    "            img_out_1 = sess.run(out_1, feed_dict={input_x:np.expand_dims(img, axis=0)})\n",
    "            print(\"img_out_1:\",img_out_1)\n",
    "#           prediction_labels = np.argmax(img_out_softmax, axis=1)\n",
    "#           print(\"label:\",prediction_labels)\n",
    "            img_out_2 = sess.run(out_2, feed_dict={input_x:np.expand_dims(img, axis=0)})\n",
    "            print(\"img_out_2:\",img_out_2)\n",
    "       \n",
    "            img_out_3 = sess.run(out_3, feed_dict={input_x:np.expand_dims(img, axis=0)})\n",
    "            print(\"img_out_3:\",img_out_3)"
   ]
  },
  {
   "cell_type": "code",
   "execution_count": 3,
   "metadata": {},
   "outputs": [
    {
     "name": "stdout",
     "output_type": "stream",
     "text": [
      "Tensor(\"input_1:0\", shape=(?, ?, ?, 3), dtype=float32)\n",
      "Tensor(\"output_1:0\", dtype=float32)\n",
      "Tensor(\"output_2:0\", dtype=float32)\n",
      "Tensor(\"output_3:0\", dtype=int32)\n",
      "img_out_1: [[[307.99734 364.17786 515.4785  562.44885]\n",
      "  [310.81247 538.2744  504.75412 714.8896 ]\n",
      "  [307.99734 364.17786 515.4785  562.44885]\n",
      "  ...\n",
      "  [ -1.       -1.       -1.       -1.     ]\n",
      "  [ -1.       -1.       -1.       -1.     ]\n",
      "  [ -1.       -1.       -1.       -1.     ]]]\n",
      "img_out_2: [[ 0.5258634   0.172367    0.16699862  0.1612196   0.1420514   0.12157005\n",
      "   0.11845365  0.11160433  0.11050135  0.1075702   0.10086164  0.09458184\n",
      "   0.09341413  0.09078729  0.09030783  0.08844855  0.08376777  0.08139518\n",
      "   0.07379287  0.07297662  0.07078519  0.07064429  0.06763703  0.06672558\n",
      "   0.06533492  0.06355822  0.06333706  0.06129554  0.06089121  0.05973849\n",
      "   0.05901107  0.05878058  0.05758277  0.05735639  0.05452088  0.05366752\n",
      "   0.05325428  0.05298203  0.05260333  0.05224442  0.05179527  0.0514448\n",
      "   0.05015233 -1.         -1.         -1.         -1.         -1.\n",
      "  -1.         -1.         -1.         -1.         -1.         -1.\n",
      "  -1.         -1.         -1.         -1.         -1.         -1.\n",
      "  -1.         -1.         -1.         -1.         -1.         -1.\n",
      "  -1.         -1.         -1.         -1.         -1.         -1.\n",
      "  -1.         -1.         -1.         -1.         -1.         -1.\n",
      "  -1.         -1.         -1.         -1.         -1.         -1.\n",
      "  -1.         -1.         -1.         -1.         -1.         -1.\n",
      "  -1.         -1.         -1.         -1.         -1.         -1.\n",
      "  -1.         -1.         -1.         -1.         -1.         -1.\n",
      "  -1.         -1.         -1.         -1.         -1.         -1.\n",
      "  -1.         -1.         -1.         -1.         -1.         -1.\n",
      "  -1.         -1.         -1.         -1.         -1.         -1.\n",
      "  -1.         -1.         -1.         -1.         -1.         -1.\n",
      "  -1.         -1.         -1.         -1.         -1.         -1.\n",
      "  -1.         -1.         -1.         -1.         -1.         -1.\n",
      "  -1.         -1.         -1.         -1.         -1.         -1.\n",
      "  -1.         -1.         -1.         -1.         -1.         -1.\n",
      "  -1.         -1.         -1.         -1.         -1.         -1.\n",
      "  -1.         -1.         -1.         -1.         -1.         -1.\n",
      "  -1.         -1.         -1.         -1.         -1.         -1.\n",
      "  -1.         -1.         -1.         -1.         -1.         -1.\n",
      "  -1.         -1.         -1.         -1.         -1.         -1.\n",
      "  -1.         -1.         -1.         -1.         -1.         -1.\n",
      "  -1.         -1.         -1.         -1.         -1.         -1.\n",
      "  -1.         -1.         -1.         -1.         -1.         -1.\n",
      "  -1.         -1.         -1.         -1.         -1.         -1.\n",
      "  -1.         -1.         -1.         -1.         -1.         -1.\n",
      "  -1.         -1.         -1.         -1.         -1.         -1.\n",
      "  -1.         -1.         -1.         -1.         -1.         -1.\n",
      "  -1.         -1.         -1.         -1.         -1.         -1.\n",
      "  -1.         -1.         -1.         -1.         -1.         -1.\n",
      "  -1.         -1.         -1.         -1.         -1.         -1.\n",
      "  -1.         -1.         -1.         -1.         -1.         -1.\n",
      "  -1.         -1.         -1.         -1.         -1.         -1.\n",
      "  -1.         -1.         -1.         -1.         -1.         -1.\n",
      "  -1.         -1.         -1.         -1.         -1.         -1.\n",
      "  -1.         -1.         -1.         -1.         -1.         -1.\n",
      "  -1.         -1.         -1.         -1.         -1.         -1.\n",
      "  -1.         -1.         -1.         -1.         -1.         -1.\n",
      "  -1.         -1.         -1.         -1.         -1.         -1.\n",
      "  -1.         -1.         -1.         -1.         -1.         -1.\n",
      "  -1.         -1.         -1.         -1.         -1.         -1.        ]]\n",
      "img_out_3: [[63  2 19 20 53 70 20 34 18 11 53 63 32 18 19 63 60 38 63 70 54 65 22 60\n",
      "  25 13 17 22 41 29 19 56 34 38  1 44 72 63 47 63 11 63 10 -1 -1 -1 -1 -1\n",
      "  -1 -1 -1 -1 -1 -1 -1 -1 -1 -1 -1 -1 -1 -1 -1 -1 -1 -1 -1 -1 -1 -1 -1 -1\n",
      "  -1 -1 -1 -1 -1 -1 -1 -1 -1 -1 -1 -1 -1 -1 -1 -1 -1 -1 -1 -1 -1 -1 -1 -1\n",
      "  -1 -1 -1 -1 -1 -1 -1 -1 -1 -1 -1 -1 -1 -1 -1 -1 -1 -1 -1 -1 -1 -1 -1 -1\n",
      "  -1 -1 -1 -1 -1 -1 -1 -1 -1 -1 -1 -1 -1 -1 -1 -1 -1 -1 -1 -1 -1 -1 -1 -1\n",
      "  -1 -1 -1 -1 -1 -1 -1 -1 -1 -1 -1 -1 -1 -1 -1 -1 -1 -1 -1 -1 -1 -1 -1 -1\n",
      "  -1 -1 -1 -1 -1 -1 -1 -1 -1 -1 -1 -1 -1 -1 -1 -1 -1 -1 -1 -1 -1 -1 -1 -1\n",
      "  -1 -1 -1 -1 -1 -1 -1 -1 -1 -1 -1 -1 -1 -1 -1 -1 -1 -1 -1 -1 -1 -1 -1 -1\n",
      "  -1 -1 -1 -1 -1 -1 -1 -1 -1 -1 -1 -1 -1 -1 -1 -1 -1 -1 -1 -1 -1 -1 -1 -1\n",
      "  -1 -1 -1 -1 -1 -1 -1 -1 -1 -1 -1 -1 -1 -1 -1 -1 -1 -1 -1 -1 -1 -1 -1 -1\n",
      "  -1 -1 -1 -1 -1 -1 -1 -1 -1 -1 -1 -1 -1 -1 -1 -1 -1 -1 -1 -1 -1 -1 -1 -1\n",
      "  -1 -1 -1 -1 -1 -1 -1 -1 -1 -1 -1 -1]]\n"
     ]
    }
   ],
   "source": [
    "pb_file_path='/dataDisk/myfloder/jupyter/pb/retinanet123.pb'\n",
    "jpg_path='/dataDisk/myfloder/jupyter/img/Plat6_dinner_20181004_16369_NS (1).jpg'\n",
    "recognize(jpg_path, pb_file_path)"
   ]
  },
  {
   "cell_type": "markdown",
   "metadata": {
    "heading_collapsed": true
   },
   "source": [
    "### no apply"
   ]
  },
  {
   "cell_type": "code",
   "execution_count": null,
   "metadata": {
    "hidden": true
   },
   "outputs": [],
   "source": [
    "def recognize(jpg_path, pb_file_path):\n",
    "    with tf.Graph().as_default():\n",
    "        output_graph_def = tf.GraphDef()\n",
    "\n",
    "        with open(pb_file_path, \"rb\") as f:\n",
    "            output_graph_def.ParseFromString(f.read())\n",
    "            _ = tf.import_graph_def(output_graph_def, name=\"\")\n",
    "\n",
    "        with tf.Session() as sess:\n",
    "            init = tf.global_variables_initializer()\n",
    "            sess.run(init)\n",
    "\n",
    "            input_x = sess.graph.get_tensor_by_name(\"input_1:0\")\n",
    "            print(input_x)\n",
    "            out_softmax = sess.graph.get_tensor_by_name(\"output_2:0\")\n",
    "            print(out_softmax)\n",
    "            out_label = sess.graph.get_tensor_by_name(\"output_1:0\")\n",
    "            print(out_label)\n",
    "\n",
    "            img = io.imread(jpg_path)\n",
    "            img = transform.resize(img, (224, 224, 3))\n",
    "            img_out_softmax = sess.run(out_softmax, feed_dict={input_x:np.reshape(img, [-1, 224, 224, 3])})\n",
    "\n",
    "            print(\"img_out_softmax:\",img_out_softmax)\n",
    "            prediction_labels = np.argmax(img_out_softmax, axis=1)\n",
    "            print(\"label:\",prediction_labels)"
   ]
  }
 ],
 "metadata": {
  "kernelspec": {
   "display_name": "Python 3",
   "language": "python",
   "name": "python3"
  },
  "language_info": {
   "codemirror_mode": {
    "name": "ipython",
    "version": 3
   },
   "file_extension": ".py",
   "mimetype": "text/x-python",
   "name": "python",
   "nbconvert_exporter": "python",
   "pygments_lexer": "ipython3",
   "version": "3.5.2"
  },
  "varInspector": {
   "cols": {
    "lenName": 16,
    "lenType": 16,
    "lenVar": 40
   },
   "kernels_config": {
    "python": {
     "delete_cmd_postfix": "",
     "delete_cmd_prefix": "del ",
     "library": "var_list.py",
     "varRefreshCmd": "print(var_dic_list())"
    },
    "r": {
     "delete_cmd_postfix": ") ",
     "delete_cmd_prefix": "rm(",
     "library": "var_list.r",
     "varRefreshCmd": "cat(var_dic_list()) "
    }
   },
   "oldHeight": 637.2437199999999,
   "position": {
    "height": "40px",
    "left": "1557.5px",
    "right": "20px",
    "top": "106.897px",
    "width": "641.875px"
   },
   "types_to_exclude": [
    "module",
    "function",
    "builtin_function_or_method",
    "instance",
    "_Feature"
   ],
   "varInspector_section_display": "none",
   "window_display": true
  }
 },
 "nbformat": 4,
 "nbformat_minor": 2
}
