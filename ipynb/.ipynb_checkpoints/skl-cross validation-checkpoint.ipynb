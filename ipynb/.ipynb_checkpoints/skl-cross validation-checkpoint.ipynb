{
 "cells": [
  {
   "cell_type": "code",
   "execution_count": null,
   "metadata": {
    "run_control": {
     "marked": false
    }
   },
   "outputs": [],
   "source": [
    "import numpy as np\n",
    "from matplotlib import pyplot as plt\n",
    "import os\n",
    "import pandas as pd\n",
    "from sklearn import preprocessing\n",
    "\n",
    "import tensorflow as tf\n",
    "from tensorflow.keras.models import Sequential, Model, load_model\n",
    "from tensorflow.keras.applications import VGG16\n",
    "\n",
    "from tensorflow.keras import layers\n",
    "from tensorflow.keras.layers import Conv2D,MaxPooling2D,Dense, Activation,GlobalAveragePooling2D,GlobalMaxPooling2D,AveragePooling2D\n",
    "from tensorflow.keras.optimizers import SGD, Adam\n",
    "from tensorflow.keras import regularizers,callbacks\n",
    "from tensorflow.keras.initializers import glorot_normal\n",
    "from tensorflow.keras import backend as K\n",
    "from tensorflow.keras.layers import Dropout\n",
    "from tensorflow.keras.layers import Flatten"
   ]
  },
  {
   "cell_type": "code",
   "execution_count": null,
   "metadata": {},
   "outputs": [],
   "source": [
    "#檔案位置\n",
    "path='../../inputdata/csv/'\n",
    "#框框內(位置+檔案名稱)\n",
    "df = pd.read_csv(os.path.join(path,'trg08-invaq.csv'))\n",
    "#看資料的形狀\n",
    "df.shape\n",
    "#前十筆資料\n",
    "#df.head(10)"
   ]
  },
  {
   "cell_type": "code",
   "execution_count": null,
   "metadata": {},
   "outputs": [],
   "source": [
    "from sklearn.model_selection import train_test_split\n",
    "\n",
    "#test集以0.1切割\n",
    "x_train, x_test , y_train, y_test = train_test_split(x,y1, test_size=0.1)\n",
    "x_train.shape"
   ]
  },
  {
   "cell_type": "code",
   "execution_count": null,
   "metadata": {},
   "outputs": [],
   "source": [
    "from sklearn.utils import shuffle\n",
    "#打亂資料\n",
    "df_shuffle=shuffle(np.array(df))\n",
    "\n",
    "#切開x跟y,注意python是由0開始數\n",
    "x = df_shuffle[:,0:14]\n",
    "y = df_shuffle[:,14]\n",
    "#Normalize x\n",
    "x=preprocessing.scale(x)\n",
    "\n",
    "print('x形狀',x.shape)\n",
    "print('y形狀',y.shape)\n",
    "#print(y)\n",
    "\n",
    "#對y做one-hot encoding\n",
    "#y1=pd.get_dummies(y)\n",
    "\n",
    "# from sklearn.model_selection import StratifiedKFold\n",
    "# seed=7\n",
    "# kfold = StratifiedKFold(n_splits=10, shuffle=True, random_state=seed)\n",
    "# print(kfold)\n",
    "\n",
    "# for train, test in kfold.split(x, y):\n",
    "#     print('train:',train)\n",
    "#     print('test:',test)"
   ]
  },
  {
   "cell_type": "code",
   "execution_count": null,
   "metadata": {},
   "outputs": [],
   "source": [
    "model = Sequential()\n",
    "input_shape=(14,)\n",
    "\n",
    "#全連接層\n",
    "model.add(layers.Dense(8192,activation='softmax',kernel_initializer='glorot_normal',input_shape=input_shape)),\n",
    "#激活函數(Activation)\n",
    "model.add(layers.ELU()),\n",
    "#Dropout\n",
    "model.add(layers.Dropout(0.3)),\n",
    "\n",
    "#全連接層\n",
    "model.add(layers.Dense(8192,activation='softmax',kernel_initializer='glorot_normal')),\n",
    "#激活函數(Activation)\n",
    "model.add(layers.ELU()),\n",
    "#Dropout\n",
    "model.add(layers.Dropout(0.2)),\n",
    "\n",
    "#輸出層,輸出兩個值,加上softmax函數\n",
    "model.add(layers.Dense(2,activation='softmax',kernel_initializer='glorot_normal')),\n",
    "\n",
    "model.summary()"
   ]
  },
  {
   "cell_type": "code",
   "execution_count": null,
   "metadata": {},
   "outputs": [],
   "source": [
    "# from sklearn.model_selection import StratifiedKFold\n",
    "# seed=7\n",
    "# kfold = StratifiedKFold(n_splits=10, shuffle=True, random_state=seed)\n",
    "# print(kfold)\n",
    "\n",
    "# for train, test in kfold.split(x, y):\n",
    "#     print(x[train].shape)  \n",
    "#     print(y[train].shape)\n",
    "\n",
    "#       x_train=x[train]\n",
    "#       #對y做one-hot encoding\n",
    "#       y_train=pd.get_dummies(y[train])"
   ]
  },
  {
   "cell_type": "code",
   "execution_count": null,
   "metadata": {
    "run_control": {
     "marked": true
    }
   },
   "outputs": [],
   "source": [
    "model.compile(\n",
    "              #SGD或Adam, learning rate\n",
    "              optimizer=Adam(lr=3e-4),\n",
    "              #loss function\n",
    "              loss='binary_crossentropy',\n",
    "              #測量指標\n",
    "              metrics=['accuracy'])\n",
    "\n",
    "from sklearn.model_selection import StratifiedKFold\n",
    "seed=7\n",
    "kfold = StratifiedKFold(n_splits=10, shuffle=True, random_state=seed)\n",
    "print(kfold)\n",
    "\n",
    "for train, test in kfold.split(x, y):\n",
    "    x_train=x[train]\n",
    "    #對y做one-hot encoding\n",
    "    y_train=pd.get_dummies(y[train])\n",
    "    history = model.fit(x_train,\n",
    "                        y_train,\n",
    "                        epochs=400,\n",
    "                        batch_size=16,\n",
    "                        validation_split=0.1,\n",
    "                        verbose=2,\n",
    "                        #callbacks=[callbacks.ReduceLROnPlateau(monitor='val_loss',factor=0.5,min_lr=0,verbose=1,patience=200)]\n",
    "                       )"
   ]
  },
  {
   "cell_type": "code",
   "execution_count": null,
   "metadata": {},
   "outputs": [],
   "source": [
    "plt.plot(history.history['acc'])\n",
    "plt.plot(history.history['val_acc'])\n",
    "plt.title('model accuracy')\n",
    "plt.ylabel('accuracy')\n",
    "plt.xlabel('epochs')\n",
    "plt.legend(['train', 'val'], loc='upper left')\n",
    "\n",
    "#存圖\n",
    "plt.savefig(path+'/result_acc.png')\n",
    "plt.show()\n",
    "# summarize history for loss plt.plot(history.history['loss']) plt.plot(history.history['val_loss']) plt.title('model loss')\n",
    "plt.title('model loss')\n",
    "plt.plot(history.history['loss'])\n",
    "plt.plot(history.history['val_loss'])\n",
    "plt.ylabel('loss')\n",
    "plt.xlabel('epochs')\n",
    "plt.legend(['train', 'validation'], loc='upper left')\n",
    "\n",
    "#存圖\n",
    "plt.savefig(path+'/result_loss.png')\n",
    "plt.show()"
   ]
  }
 ],
 "metadata": {
  "kernelspec": {
   "display_name": "Python 3",
   "language": "python",
   "name": "python3"
  },
  "language_info": {
   "codemirror_mode": {
    "name": "ipython",
    "version": 3
   },
   "file_extension": ".py",
   "mimetype": "text/x-python",
   "name": "python",
   "nbconvert_exporter": "python",
   "pygments_lexer": "ipython3",
   "version": "3.5.2"
  },
  "varInspector": {
   "cols": {
    "lenName": 16,
    "lenType": 16,
    "lenVar": 40
   },
   "kernels_config": {
    "python": {
     "delete_cmd_postfix": "",
     "delete_cmd_prefix": "del ",
     "library": "var_list.py",
     "varRefreshCmd": "print(var_dic_list())"
    },
    "r": {
     "delete_cmd_postfix": ") ",
     "delete_cmd_prefix": "rm(",
     "library": "var_list.r",
     "varRefreshCmd": "cat(var_dic_list()) "
    }
   },
   "position": {
    "height": "604.087px",
    "left": "1499.49px",
    "right": "20px",
    "top": "38.9585px",
    "width": "356.941px"
   },
   "types_to_exclude": [
    "module",
    "function",
    "builtin_function_or_method",
    "instance",
    "_Feature"
   ],
   "window_display": true
  }
 },
 "nbformat": 4,
 "nbformat_minor": 2
}
