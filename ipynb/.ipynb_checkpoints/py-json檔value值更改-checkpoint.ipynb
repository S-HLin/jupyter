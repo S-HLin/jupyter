{
 "cells": [
  {
   "cell_type": "markdown",
   "metadata": {},
   "source": [
    "### 改檔案編號和json資料"
   ]
  },
  {
   "cell_type": "code",
   "execution_count": null,
   "metadata": {},
   "outputs": [],
   "source": [
    "import os\n",
    "import json\n",
    "\n",
    "def numfiles(json_path, img_path, init):\n",
    "    annot = json.load(open(json_path))\n",
    "    new_annot={}\n",
    "    new_annot.update(annot)\n",
    "    n= 0\n",
    "    for k,v in annot.items(): \n",
    "\n",
    "        old_filename= v['filename']\n",
    "        new_filename= str(init+n+1)+'.png'\n",
    "        new_key = new_filename + k.split('.png')[1]\n",
    "    #     print(k)\n",
    "        new_annot[new_key]= new_annot.pop(k)\n",
    "        v['filename']= new_filename\n",
    "        n+=1\n",
    "\n",
    "        old_path = os.path.join(img_path,old_filename)\n",
    "        new_path = os.path.join(img_path,new_filename)\n",
    "        os.rename(old_path,new_path)\n",
    "\n",
    "    print(new_annot)\n",
    "    # 存json檔\n",
    "    jsobj = json.dumps(new_annot)\n",
    "    with open(json_path,'w') as fw:\n",
    "        fw.write(jsobj)"
   ]
  },
  {
   "cell_type": "code",
   "execution_count": null,
   "metadata": {
    "run_control": {
     "marked": false
    }
   },
   "outputs": [],
   "source": [
    "json_path = '/home/user/Downloads/5000 空心菜.json'\n",
    "img_path='/home/user/Downloads/5000 空心菜/' \n",
    "init = 4900\n",
    "\n",
    "numfiles(json_path,img_path,init)"
   ]
  },
  {
   "cell_type": "markdown",
   "metadata": {
    "heading_collapsed": true
   },
   "source": [
    "### 查看json檔已標註數量"
   ]
  },
  {
   "cell_type": "code",
   "execution_count": null,
   "metadata": {
    "hidden": true
   },
   "outputs": [],
   "source": [
    "#annotations = json.load(open(os.path.join(dataset_dir,'20191217.json')))\n",
    "file_path = '/home/user/Downloads/5000 空心菜.json'\n",
    "annotations = json.load(open(file_path))\n",
    "aa = list(annotations.values())\n",
    "aa = [r for r in aa if r['regions']]\n",
    "\n",
    "print('total img :{}'.format(len(annotations)))\n",
    "print('annotated img : {}'.format(len(aa)))\n"
   ]
  },
  {
   "cell_type": "markdown",
   "metadata": {
    "heading_collapsed": true
   },
   "source": [
    "### 改名稱"
   ]
  },
  {
   "cell_type": "code",
   "execution_count": null,
   "metadata": {
    "hidden": true,
    "run_control": {
     "marked": false
    }
   },
   "outputs": [],
   "source": [
    "### 列出想搜尋的regions name的照片名稱\n",
    "def assign_attr(json_path, attr, attrname):\n",
    "    annotations = json.load(open(json_path))\n",
    "    aa = list(annotations.values())\n",
    "    aa = [r for r in aa if r['regions']]\n",
    "    # images\n",
    "    for i in aa:\n",
    "        # regions\n",
    "        for r in i['regions']:   \n",
    "            # region attributes 找有屬性值的\n",
    "            if attr in r['region_attributes']:\n",
    "                # 比對是否目標值\n",
    "                if r['region_attributes'][attr]!= attrname:\n",
    "                    # 給定屬性值\n",
    "                    r['region_attributes'][attr]= attrname\n",
    "                    print(i['filename'])\n",
    "                    print('改: %s'%r['region_attributes'])\n",
    "                    \n",
    "    # 存json檔\n",
    "    jsobj = json.dumps(annotations)\n",
    "    with open(json_path,'w') as fw:\n",
    "        fw.write(jsobj)"
   ]
  },
  {
   "cell_type": "code",
   "execution_count": 21,
   "metadata": {
    "hidden": true
   },
   "outputs": [],
   "source": [
    "json_path = '/dataDisk/Downloads/彙整1-5600/2500白飯.json'\n",
    "attr= 'name'\n",
    "classname='白飯'\n",
    "assign_attr(json_path, attr, classname)"
   ]
  },
  {
   "cell_type": "markdown",
   "metadata": {
    "heading_collapsed": true
   },
   "source": [
    "### 改某類名稱"
   ]
  },
  {
   "cell_type": "code",
   "execution_count": 2,
   "metadata": {
    "hidden": true,
    "run_control": {
     "marked": true
    }
   },
   "outputs": [],
   "source": [
    "# 列出想搜尋的regions name的照片名稱\n",
    "def change_attr(json_path, attr, oldclass, newclass):\n",
    "    annotations = json.load(open(json_path))\n",
    "    aa = list(annotations.values())\n",
    "    aa = [r for r in aa if r['regions']]\n",
    "    # images\n",
    "    for i in aa:\n",
    "        # regions\n",
    "        for r in i['regions']:   \n",
    "            # region attributes 找有屬性值的\n",
    "            if attr in r['region_attributes']:\n",
    "                # 比對是否目標值\n",
    "                if r['region_attributes'][attr] == oldclass:\n",
    "                    print(i['filename'])\n",
    "                    r['region_attributes'][attr] = newclass          \n",
    "                    print('改: %s' %r['region_attributes'])\n",
    "                    \n",
    "    # 存json檔\n",
    "    jsobj = json.dumps(annotations)\n",
    "    with open(json_path,'w') as fw:\n",
    "        fw.write(jsobj)"
   ]
  },
  {
   "cell_type": "code",
   "execution_count": 5,
   "metadata": {
    "hidden": true
   },
   "outputs": [
    {
     "name": "stdout",
     "output_type": "stream",
     "text": [
      "2460.png\n",
      "改: {'name': '白飯', 'type': 'unknown', 'image_quality': {'good': True, 'frontal': True, 'good_illumination': True}}\n"
     ]
    }
   ],
   "source": [
    "json_path = '/dataDisk/Downloads/2500白飯.json'\n",
    "attr= 'name'\n",
    "oldname= 'not_defined'                        #'not_defined'\n",
    "newname= '白飯'\n",
    "change_attr(json_path, attr, oldname, newname)"
   ]
  },
  {
   "cell_type": "markdown",
   "metadata": {
    "heading_collapsed": true
   },
   "source": [
    "### 缺少name屬性直接新增"
   ]
  },
  {
   "cell_type": "code",
   "execution_count": null,
   "metadata": {
    "hidden": true
   },
   "outputs": [],
   "source": [
    "# 列出想搜尋的regions name的照片名稱\n",
    "attr = 'name'\n",
    "\n",
    "    for i in aa:\n",
    "        for r in i['regions']:\n",
    "            #print(r['region_attributes'])\n",
    "            if attr not in r['region_attributes']:\n",
    "                r['region_attributes'][attr]='豆芽'\n",
    "                print(i['filename'])\n",
    "                print(r['region_attributes'])\n",
    "        "
   ]
  },
  {
   "cell_type": "markdown",
   "metadata": {},
   "source": [
    "### end"
   ]
  },
  {
   "cell_type": "code",
   "execution_count": null,
   "metadata": {},
   "outputs": [],
   "source": []
  }
 ],
 "metadata": {
  "kernelspec": {
   "display_name": "Python 3",
   "language": "python",
   "name": "python3"
  },
  "language_info": {
   "codemirror_mode": {
    "name": "ipython",
    "version": 3
   },
   "file_extension": ".py",
   "mimetype": "text/x-python",
   "name": "python",
   "nbconvert_exporter": "python",
   "pygments_lexer": "ipython3",
   "version": "3.5.2"
  },
  "varInspector": {
   "cols": {
    "lenName": 16,
    "lenType": 16,
    "lenVar": 40
   },
   "kernels_config": {
    "python": {
     "delete_cmd_postfix": "",
     "delete_cmd_prefix": "del ",
     "library": "var_list.py",
     "varRefreshCmd": "print(var_dic_list())"
    },
    "r": {
     "delete_cmd_postfix": ") ",
     "delete_cmd_prefix": "rm(",
     "library": "var_list.r",
     "varRefreshCmd": "cat(var_dic_list()) "
    }
   },
   "oldHeight": 330.925538,
   "position": {
    "height": "40px",
    "left": "1103.71px",
    "right": "20px",
    "top": "119.95px",
    "width": "347.488px"
   },
   "types_to_exclude": [
    "module",
    "function",
    "builtin_function_or_method",
    "instance",
    "_Feature"
   ],
   "varInspector_section_display": "none",
   "window_display": true
  }
 },
 "nbformat": 4,
 "nbformat_minor": 2
}
