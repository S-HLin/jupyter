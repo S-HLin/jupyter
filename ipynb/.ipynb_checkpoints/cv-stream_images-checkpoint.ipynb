{
 "cells": [
  {
   "cell_type": "markdown",
   "metadata": {},
   "source": [
    "### OpenCV 擷取網路攝影機串流影像，處理並寫入影片檔案教學"
   ]
  },
  {
   "cell_type": "markdown",
   "metadata": {},
   "source": [
    "https://blog.gtwang.org/programming/opencv-webcam-video-capture-and-file-write-tutorial/"
   ]
  },
  {
   "cell_type": "markdown",
   "metadata": {},
   "source": [
    "https://blog.csdn.net/u012193416/article/details/79375832"
   ]
  },
  {
   "cell_type": "code",
   "execution_count": 1,
   "metadata": {
    "run_control": {
     "marked": true
    }
   },
   "outputs": [
    {
     "name": "stderr",
     "output_type": "stream",
     "text": [
      "Using TensorFlow backend.\n"
     ]
    }
   ],
   "source": [
    "import cv2\n",
    "import tensorflow as tf\n",
    "import keras as k\n",
    "#from keras.preprocessing import image\n",
    "from keras.applications.vgg16 import preprocess_input\n",
    "from PIL import ImageFont, ImageDraw, Image"
   ]
  },
  {
   "cell_type": "code",
   "execution_count": 2,
   "metadata": {},
   "outputs": [
    {
     "name": "stdout",
     "output_type": "stream",
     "text": [
      "Found 3109 images belonging to 24 classes.\n"
     ]
    }
   ],
   "source": [
    "train_dir = '/dataDisk/myfloder/inputdata/split/test02_split/train/'\n",
    "#ImageDataGenerator\n",
    "train_datagen = tf.keras.preprocessing.image.ImageDataGenerator(\n",
    "        rescale = 1./255,\n",
    "        rotation_range = 40,\n",
    "        width_shift_range = 0.2,\n",
    "        height_shift_range = 0.2,\n",
    "        shear_range = 0.2, \n",
    "        zoom_range = 0.2, \n",
    "        horizontal_flip = True,\n",
    "        fill_mode = 'nearest')\n",
    "# flow_from_directory\n",
    "train_generator = train_datagen.flow_from_directory(\n",
    "        train_dir, \n",
    "        target_size = (224,224),\n",
    "        batch_size = 16,\n",
    "        class_mode = 'categorical',\n",
    "        shuffle = True)"
   ]
  },
  {
   "cell_type": "code",
   "execution_count": 3,
   "metadata": {
    "run_control": {
     "marked": true
    }
   },
   "outputs": [
    {
     "name": "stdout",
     "output_type": "stream",
     "text": [
      "WARNING:tensorflow:From /usr/local/lib/python3.5/dist-packages/tensorflow/python/ops/init_ops.py:96: calling GlorotUniform.__init__ (from tensorflow.python.ops.init_ops) with dtype is deprecated and will be removed in a future version.\n",
      "Instructions for updating:\n",
      "Call initializer instance with the dtype argument instead of passing it to the constructor\n",
      "WARNING:tensorflow:From /usr/local/lib/python3.5/dist-packages/tensorflow/python/ops/init_ops.py:1253: calling VarianceScaling.__init__ (from tensorflow.python.ops.init_ops) with dtype is deprecated and will be removed in a future version.\n",
      "Instructions for updating:\n",
      "Call initializer instance with the dtype argument instead of passing it to the constructor\n",
      "WARNING:tensorflow:From /usr/local/lib/python3.5/dist-packages/tensorflow/python/ops/init_ops.py:96: calling Zeros.__init__ (from tensorflow.python.ops.init_ops) with dtype is deprecated and will be removed in a future version.\n",
      "Instructions for updating:\n",
      "Call initializer instance with the dtype argument instead of passing it to the constructor\n",
      "WARNING:tensorflow:From /usr/local/lib/python3.5/dist-packages/tensorflow/python/ops/resource_variable_ops.py:447: colocate_with (from tensorflow.python.framework.ops) is deprecated and will be removed in a future version.\n",
      "Instructions for updating:\n",
      "Colocations handled automatically by placer.\n",
      "/dataDisk/myfloder/jupyter/model_weight/vgg_test02.h5\n"
     ]
    }
   ],
   "source": [
    "#存檔名稱\n",
    "modelname='vgg'\n",
    "filename='test02'\n",
    "name_path = '/dataDisk/myfloder/jupyter/model_weight/'+modelname+'_'+filename\n",
    "#load model\n",
    "VggModel = tf.keras.models.load_model(name_path+'.h5')\n",
    "print(name_path+'.h5')"
   ]
  },
  {
   "cell_type": "code",
   "execution_count": 4,
   "metadata": {},
   "outputs": [],
   "source": [
    "# 字體設定\n",
    "fontPath = \"/usr/local/lib/python3.5/dist-packages/matplotlib/mpl-data/fonts/ttf/msj.ttf\"\n",
    "font = ImageFont.truetype(fontPath, 46)"
   ]
  },
  {
   "cell_type": "code",
   "execution_count": 8,
   "metadata": {},
   "outputs": [
    {
     "data": {
      "text/plain": [
       "False"
      ]
     },
     "execution_count": 8,
     "metadata": {},
     "output_type": "execute_result"
    }
   ],
   "source": [
    "# 選擇第二隻攝影機\n",
    "cap = cv2.VideoCapture(0)\n",
    "# 設定影像的尺寸大小\n",
    "cap.set(cv2.CAP_PROP_FRAME_WIDTH, 2560)\n",
    "cap.set(cv2.CAP_PROP_FRAME_HEIGHT, 1920)"
   ]
  },
  {
   "cell_type": "code",
   "execution_count": 8,
   "metadata": {},
   "outputs": [
    {
     "data": {
      "text/plain": [
       "['地瓜葉',\n",
       " '小瓜肉丁',\n",
       " '小白菜',\n",
       " '尼龍菜',\n",
       " '日式燉蘿蔔',\n",
       " '木耳炒鳳梨',\n",
       " '毛豆肉丁',\n",
       " '油菜',\n",
       " '滑蛋蝦皮絲瓜',\n",
       " '炒刈薯紅仁',\n",
       " '炒大陸妹',\n",
       " '煎紅尾冬魚',\n",
       " '煎芝麻里肌',\n",
       " '牛蒡煮',\n",
       " '瓜仔雞',\n",
       " '白仁枸杞',\n",
       " '空心菜',\n",
       " '結球萵苣',\n",
       " '莧菜',\n",
       " '蒜泥白肉',\n",
       " '薑絲炒雲耳',\n",
       " '豆豉烏魚塊',\n",
       " '醬爆雞肉',\n",
       " '青江菜']"
      ]
     },
     "execution_count": 8,
     "metadata": {},
     "output_type": "execute_result"
    }
   ],
   "source": [
    "class_ind=list(sorted(train_generator.class_indices.keys()))\n",
    "class_ind"
   ]
  },
  {
   "cell_type": "code",
   "execution_count": null,
   "metadata": {
    "run_control": {
     "marked": true
    }
   },
   "outputs": [],
   "source": [
    "while(True):\n",
    "  # 從攝影機擷取一張影像\n",
    "  ret, frame = cap.read()\n",
    "  x = cv2.resize(frame,(224,224))\n",
    "  # 錯誤用法圖片亂掉 x = np.resize(frame,(224, 224,3)) \n",
    "  x = np.expand_dims(x, axis=0)\n",
    "  x = preprocess_input(x)\n",
    "  y = VggModel.predict(x)\n",
    "  #print(x)\n",
    "  #print(np.sum(x))\n",
    "  if np.max(y)>=0.9:\n",
    "      y = np.argmax(y,axis=1)  \n",
    "      #x = str(x[0])\n",
    "      y=y[0]\n",
    "      xx=class_ind[y]\n",
    "  else:\n",
    "      xx=''\n",
    "  \n",
    "  #cv2.putText(frame,x,(240,480),cv2.FONT_HERSHEY_SIMPLEX,6, (0, 255, 255),20,cv2.LINE_AA)    \n",
    "  # 將 NumPy 陣列轉為 PIL 影像\n",
    "  trans_frame = Image.fromarray(frame)\n",
    "  # 在圖片上加入文字\n",
    "  draw = ImageDraw.Draw(trans_frame)\n",
    "  draw.text((120, 240), xx, font = font, fill = (0, 255, 255))\n",
    "  # 將 PIL 影像轉回 NumPy 陣列\n",
    "  frame = np.array(trans_frame) \n",
    "    \n",
    "  # 設定視窗大小\n",
    "  cv2.namedWindow('frame', cv2.WINDOW_NORMAL)\n",
    "  # 顯示圖片\n",
    "  cv2.imshow('frame', frame)\n",
    "\n",
    "  # 若按下 q 鍵則離開迴圈\n",
    "  if cv2.waitKey(1) & 0xFF == ord('q'):\n",
    "    break\n",
    "\n",
    "# 釋放攝影機\n",
    "cap.release()\n",
    "# 關閉所有 OpenCV 視窗\n",
    "cv2.destroyAllWindows()"
   ]
  },
  {
   "cell_type": "markdown",
   "metadata": {},
   "source": [
    "### end"
   ]
  },
  {
   "cell_type": "code",
   "execution_count": null,
   "metadata": {},
   "outputs": [],
   "source": []
  },
  {
   "cell_type": "code",
   "execution_count": null,
   "metadata": {},
   "outputs": [],
   "source": []
  },
  {
   "cell_type": "code",
   "execution_count": null,
   "metadata": {},
   "outputs": [],
   "source": [
    "VggModel = tf.keras.models.load_model(name_path+'.h5')"
   ]
  },
  {
   "cell_type": "code",
   "execution_count": null,
   "metadata": {},
   "outputs": [],
   "source": [
    "frame=cv2.imread('/dataDisk/myfloder/inputdata/測試用/Plat6_lunch_20181003_21637_RU.jpg')"
   ]
  },
  {
   "cell_type": "code",
   "execution_count": null,
   "metadata": {},
   "outputs": [],
   "source": [
    "frame.shape"
   ]
  },
  {
   "cell_type": "code",
   "execution_count": null,
   "metadata": {},
   "outputs": [],
   "source": [
    "#frame = np.resize(frame,(224, 224,3))\n",
    "x=cv2.resize(frame,(224,224))\n",
    "#cv2.imshow('frame',frame)"
   ]
  },
  {
   "cell_type": "code",
   "execution_count": null,
   "metadata": {},
   "outputs": [],
   "source": [
    "x.shape"
   ]
  },
  {
   "cell_type": "code",
   "execution_count": null,
   "metadata": {},
   "outputs": [],
   "source": [
    "x = np.expand_dims(x, axis=0)"
   ]
  },
  {
   "cell_type": "code",
   "execution_count": null,
   "metadata": {},
   "outputs": [],
   "source": [
    "x.shape"
   ]
  },
  {
   "cell_type": "code",
   "execution_count": null,
   "metadata": {},
   "outputs": [],
   "source": [
    "x = preprocess_input(x)"
   ]
  },
  {
   "cell_type": "code",
   "execution_count": null,
   "metadata": {},
   "outputs": [],
   "source": [
    "y=VggModel.predict(x)\n",
    "y"
   ]
  },
  {
   "cell_type": "code",
   "execution_count": null,
   "metadata": {},
   "outputs": [],
   "source": [
    "np.where(np.max(y))"
   ]
  },
  {
   "cell_type": "code",
   "execution_count": null,
   "metadata": {},
   "outputs": [],
   "source": [
    "y=np.argmax(y,axis=1)\n",
    "y.shape"
   ]
  },
  {
   "cell_type": "code",
   "execution_count": null,
   "metadata": {},
   "outputs": [],
   "source": [
    "#y=str(y[0]) \n",
    "y[0]"
   ]
  },
  {
   "cell_type": "code",
   "execution_count": null,
   "metadata": {},
   "outputs": [],
   "source": [
    "cv2.namedWindow('frame', cv2.WINDOW_NORMAL)\n",
    "cv2.putText(frame,y,(682,1632),cv2.FONT_HERSHEY_SIMPLEX,16, (0, 255, 255),20,cv2.LINE_AA)\n",
    "#cv2.rectangle(frame, (600,1200), (1200, 1600), (0, 255, 0), 8)\n",
    "cv2.imshow('frame',frame)\n",
    "cv2.waitKey(0) & 0xFF == ord('q')\n",
    "cv2.destroyAllWindows()"
   ]
  },
  {
   "cell_type": "code",
   "execution_count": null,
   "metadata": {},
   "outputs": [],
   "source": [
    "cv2.imshow('frame',frame)\n",
    "# 按下任意鍵則關閉所有視窗\n",
    "cv2.waitKey(0)\n",
    "cv2.destroyAllWindows()"
   ]
  },
  {
   "cell_type": "code",
   "execution_count": null,
   "metadata": {},
   "outputs": [],
   "source": [
    "frame.shape"
   ]
  },
  {
   "cell_type": "code",
   "execution_count": null,
   "metadata": {},
   "outputs": [],
   "source": []
  },
  {
   "cell_type": "code",
   "execution_count": null,
   "metadata": {},
   "outputs": [],
   "source": [
    "xx=list(train_generator.class_indices.keys())[4]"
   ]
  },
  {
   "cell_type": "code",
   "execution_count": null,
   "metadata": {},
   "outputs": [],
   "source": [
    "fontPath = \"/usr/local/lib/python3.5/dist-packages/matplotlib/mpl-data/fonts/ttf/msj.ttf\"\n",
    "font = ImageFont.truetype(fontPath, 46)"
   ]
  },
  {
   "cell_type": "code",
   "execution_count": null,
   "metadata": {
    "run_control": {
     "marked": true
    }
   },
   "outputs": [],
   "source": []
  },
  {
   "cell_type": "code",
   "execution_count": null,
   "metadata": {},
   "outputs": [],
   "source": [
    "# 將 NumPy 陣列轉為 PIL 影像\n",
    "trans_frame = Image.fromarray(frame)\n",
    "# 在圖片上加入文字\n",
    "draw = ImageDraw.Draw(trans_frame)\n",
    "draw.text((240, 480), xx, font = font, fill = (0, 255, 255))\n",
    "# 將 PIL 影像轉回 NumPy 陣列\n",
    "frame = np.array(trans_frame)"
   ]
  },
  {
   "cell_type": "code",
   "execution_count": null,
   "metadata": {},
   "outputs": [],
   "source": []
  },
  {
   "cell_type": "code",
   "execution_count": null,
   "metadata": {},
   "outputs": [],
   "source": [
    "cv2.namedWindow('My Image', cv2.WINDOW_NORMAL)\n",
    "cv2.imshow('My Image', img)\n",
    "cv2.waitKey(0)\n",
    "cv2.destroyAllWindows()"
   ]
  },
  {
   "cell_type": "code",
   "execution_count": null,
   "metadata": {},
   "outputs": [],
   "source": []
  },
  {
   "cell_type": "code",
   "execution_count": null,
   "metadata": {},
   "outputs": [],
   "source": [
    "  cv2.putText(frame,x,(240,480),cv2.FONT_HERSHEY_SIMPLEX,6, (0, 255, 255),20,cv2.LINE_AA) "
   ]
  }
 ],
 "metadata": {
  "kernelspec": {
   "display_name": "Python 3",
   "language": "python",
   "name": "python3"
  },
  "language_info": {
   "codemirror_mode": {
    "name": "ipython",
    "version": 3
   },
   "file_extension": ".py",
   "mimetype": "text/x-python",
   "name": "python",
   "nbconvert_exporter": "python",
   "pygments_lexer": "ipython3",
   "version": "3.5.2"
  },
  "varInspector": {
   "cols": {
    "lenName": 16,
    "lenType": 16,
    "lenVar": 40
   },
   "kernels_config": {
    "python": {
     "delete_cmd_postfix": "",
     "delete_cmd_prefix": "del ",
     "library": "var_list.py",
     "varRefreshCmd": "print(var_dic_list())"
    },
    "r": {
     "delete_cmd_postfix": ") ",
     "delete_cmd_prefix": "rm(",
     "library": "var_list.r",
     "varRefreshCmd": "cat(var_dic_list()) "
    }
   },
   "oldHeight": 417.19439800000004,
   "position": {
    "height": "39.988px",
    "left": "1710.55px",
    "right": "20px",
    "top": "166.874px",
    "width": "348.696px"
   },
   "types_to_exclude": [
    "module",
    "function",
    "builtin_function_or_method",
    "instance",
    "_Feature"
   ],
   "varInspector_section_display": "none",
   "window_display": true
  }
 },
 "nbformat": 4,
 "nbformat_minor": 2
}
