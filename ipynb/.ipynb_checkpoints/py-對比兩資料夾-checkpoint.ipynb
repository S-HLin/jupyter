{
 "cells": [
  {
   "cell_type": "markdown",
   "metadata": {},
   "source": [
    "### 比對兩資料夾篩選不同檔名檔案"
   ]
  },
  {
   "cell_type": "markdown",
   "metadata": {},
   "source": [
    "https://blog.csdn.net/u010167269/article/details/51084312"
   ]
  },
  {
   "cell_type": "markdown",
   "metadata": {},
   "source": [
    "http://wiki.alarmchang.com/index.php?title=%E6%AF%94%E8%BC%83%E5%85%A9%E5%80%8B_List_%E4%B9%8B%E9%96%93%E7%9A%84%E5%B7%AE%E7%95%B0"
   ]
  },
  {
   "cell_type": "code",
   "execution_count": 1,
   "metadata": {
    "run_control": {
     "marked": true
    }
   },
   "outputs": [],
   "source": [
    "import os\n",
    "import shutil\n",
    "from PIL import Image\n",
    "\n",
    "def filename(fpath):    \n",
    "    fname=[]\n",
    "    dirname=os.path.basename(fpath)\n",
    "    flist=os.listdir(fpath)\n",
    "    #print(flist)\n",
    "    for item in flist:\n",
    "        temp,_=os.path.splitext(item)\n",
    "        fname.append(temp)\n",
    "    print('{} :{} files'.format(dirname,len(fname)))\n",
    "   # print(fname)\n",
    "    return fname\n",
    "\n",
    "def comparefile(path1,path2):\n",
    "    dir1=filename(path1)\n",
    "    dir2=filename(path2)\n",
    "    set1=set(dir1)\n",
    "    set2=set(dir2)\n",
    "    diff=list(set1.symmetric_difference(set2))\n",
    "    print('number of difference files: {}'.format(len(diff)))\n",
    "    \n",
    "    diffpath=[]\n",
    "    for name in diff:\n",
    "        if name in dir1:\n",
    "            f=os.listdir(path1)[dir1.index(name)]\n",
    "            #print(os.path.join(path1,f))\n",
    "            diffpath.append(os.path.join(path1,f))\n",
    "        else:\n",
    "            f=os.listdir(path2)[dir2.index(name)]      \n",
    "            #print(os.path.join(path2,f))    \n",
    "            diffpath.append(os.path.join(path2,f))\n",
    "    \n",
    "    #print(diffpath)    \n",
    "    return diffpath\n",
    "\n",
    "def movefile(d):\n",
    "    for f in d:\n",
    "        newpath=os.path.abspath(os.path.join(f, '../..'))        \n",
    "        fnew=os.path.join(newpath,os.path.basename(f))\n",
    "\n",
    "        print(newpath)\n",
    "        print(fnew)\n",
    "        shutil.move(f,fnew)"
   ]
  },
  {
   "cell_type": "code",
   "execution_count": null,
   "metadata": {},
   "outputs": [],
   "source": [
    "p1='/dataDisk/myfloder/inputdata/pascal/0911-pascal/Annotations/'\n",
    "p2='/dataDisk/myfloder/inputdata/pascal/0911-pascal/JPEGImages/'\n",
    "d=comparefile(p1,p2)\n",
    "d"
   ]
  },
  {
   "cell_type": "code",
   "execution_count": 2,
   "metadata": {},
   "outputs": [
    {
     "name": "stdout",
     "output_type": "stream",
     "text": [
      " :2400 files\n",
      " :2400 files\n",
      "number of difference files: 12\n"
     ]
    },
    {
     "data": {
      "text/plain": [
       "['/media/user/Transcend/Label原圖/origin label-img/fc2_save_2018-10-02-094437-38774.jpg',\n",
       " '/media/user/Transcend/Label原圖/origin label-xml/fc2_save_2018-10-02-094437-38773.xml',\n",
       " '/media/user/Transcend/Label原圖/origin label-xml/fc2_save_2018-10-08-100016-20070.xml',\n",
       " '/media/user/Transcend/Label原圖/origin label-img/fc2_save_2018-10-11-100508-18857.jpg',\n",
       " '/media/user/Transcend/Label原圖/origin label-xml/fc2_save_2018-10-09-094551-24400.xml',\n",
       " '/media/user/Transcend/Label原圖/origin label-img/fc2_save_2018-10-02-094437-32612.jpg',\n",
       " '/media/user/Transcend/Label原圖/origin label-img/fc2_save_2018-10-04-095730-22248.jpg',\n",
       " '/media/user/Transcend/Label原圖/origin label-xml/fc2_save_2018-10-02-094437-32611.xml',\n",
       " '/media/user/Transcend/Label原圖/origin label-xml/fc2_save_2018-10-11-100508-18357.xml',\n",
       " '/media/user/Transcend/Label原圖/origin label-img/fc2_save_2018-10-09-094551-24440.jpg',\n",
       " '/media/user/Transcend/Label原圖/origin label-img/fc2_save_2018-10-08-100016-20071.jpg',\n",
       " '/media/user/Transcend/Label原圖/origin label-xml/fc2_save_2018-10-04-095730-22247.xml']"
      ]
     },
     "execution_count": 2,
     "metadata": {},
     "output_type": "execute_result"
    }
   ],
   "source": [
    "p1='/media/user/Transcend/Label原圖/origin label-img/'\n",
    "p2='/media/user/Transcend/Label原圖/origin label-xml/'\n",
    "d=comparefile(p1,p2)\n",
    "d"
   ]
  },
  {
   "cell_type": "markdown",
   "metadata": {},
   "source": [
    "https://blog.csdn.net/liuweiyuxiang/article/details/88866527"
   ]
  },
  {
   "cell_type": "markdown",
   "metadata": {},
   "source": [
    "https://segmentfault.com/q/1010000000500244"
   ]
  },
  {
   "cell_type": "code",
   "execution_count": 3,
   "metadata": {},
   "outputs": [
    {
     "name": "stdout",
     "output_type": "stream",
     "text": [
      "/media/user/Transcend/Label原圖\n",
      "/media/user/Transcend/Label原圖/fc2_save_2018-10-02-094437-38774.jpg\n"
     ]
    },
    {
     "ename": "NameError",
     "evalue": "name 'shutil' is not defined",
     "output_type": "error",
     "traceback": [
      "\u001b[0;31m---------------------------------------------------------------------------\u001b[0m",
      "\u001b[0;31mNameError\u001b[0m                                 Traceback (most recent call last)",
      "\u001b[0;32m<ipython-input-3-95454ccd33d4>\u001b[0m in \u001b[0;36m<module>\u001b[0;34m\u001b[0m\n\u001b[0;32m----> 1\u001b[0;31m \u001b[0mmovefile\u001b[0m\u001b[0;34m(\u001b[0m\u001b[0md\u001b[0m\u001b[0;34m)\u001b[0m\u001b[0;34m\u001b[0m\u001b[0m\n\u001b[0m",
      "\u001b[0;32m<ipython-input-1-74ca8376ac70>\u001b[0m in \u001b[0;36mmovefile\u001b[0;34m(d)\u001b[0m\n\u001b[1;32m     43\u001b[0m         \u001b[0mprint\u001b[0m\u001b[0;34m(\u001b[0m\u001b[0mnewpath\u001b[0m\u001b[0;34m)\u001b[0m\u001b[0;34m\u001b[0m\u001b[0m\n\u001b[1;32m     44\u001b[0m         \u001b[0mprint\u001b[0m\u001b[0;34m(\u001b[0m\u001b[0mfnew\u001b[0m\u001b[0;34m)\u001b[0m\u001b[0;34m\u001b[0m\u001b[0m\n\u001b[0;32m---> 45\u001b[0;31m         \u001b[0mshutil\u001b[0m\u001b[0;34m.\u001b[0m\u001b[0mmove\u001b[0m\u001b[0;34m(\u001b[0m\u001b[0mf\u001b[0m\u001b[0;34m,\u001b[0m\u001b[0mfnew\u001b[0m\u001b[0;34m)\u001b[0m\u001b[0;34m\u001b[0m\u001b[0m\n\u001b[0m",
      "\u001b[0;31mNameError\u001b[0m: name 'shutil' is not defined"
     ]
    }
   ],
   "source": [
    "movefile(d)"
   ]
  },
  {
   "cell_type": "code",
   "execution_count": null,
   "metadata": {},
   "outputs": [],
   "source": [
    "# for name in d:\n",
    "#     print(b.index(name))\n",
    "    \n",
    "# for name in d:\n",
    "#     print(kk.index(name+'.xml'))    "
   ]
  },
  {
   "cell_type": "markdown",
   "metadata": {
    "heading_collapsed": true
   },
   "source": [
    "### no apply"
   ]
  },
  {
   "cell_type": "code",
   "execution_count": null,
   "metadata": {
    "hidden": true
   },
   "outputs": [],
   "source": [
    "def filename(fpath,fext):    \n",
    "    fname=[]\n",
    "    flist=glob.glob(os.path.join(fpath,'*.'+fext))\n",
    "    #print(os.path.join(fpath,'*.'+fext))\n",
    "    for item in flist:\n",
    "        name=os.path.basename(item)\n",
    "        temp,_=os.path.splitext(name)\n",
    "        #if temp not in fname:\n",
    "        fname.append(temp)\n",
    "    print(len(fname))\n",
    "    return fname"
   ]
  },
  {
   "cell_type": "code",
   "execution_count": null,
   "metadata": {
    "hidden": true
   },
   "outputs": [],
   "source": [
    "import os\n",
    "import glob\n",
    "from PIL import Image\n",
    "\n",
    "def filename(fpath):    \n",
    "    fname=[]\n",
    "    dirname=os.path.basename(fpath)\n",
    "    flist=os.listdir(fpath)\n",
    "    #print(flist)\n",
    "    for item in flist:\n",
    "        temp,_=os.path.splitext(item)\n",
    "        fname.append(temp)\n",
    "    print('{} :{} files'.format(dirname,len(fname)))\n",
    "   # print(fname)\n",
    "    return fname\n",
    "\n",
    "def comparefile(path1,path2):\n",
    "    dir1=filename(path1)\n",
    "    dir2=filename(path2)\n",
    "    set1=set(dir1)\n",
    "    set2=set(dir2)\n",
    "    diff=list(set1.symmetric_difference(set2))\n",
    "    print('number of difference files: {}'.format(len(diff)))\n",
    "    \n",
    "    diffpath=[]\n",
    "    for name in diff:\n",
    "        if name in dir1:\n",
    "            f=os.listdir(path1)[dir1.index(name)]\n",
    "            #print(os.path.join(path1,f))\n",
    "            diffpath.append(os.path.join(path1,f))\n",
    "        else:\n",
    "            f=os.listdir(path2)[dir2.index(name)]      \n",
    "            #print(os.path.join(path2,f))    \n",
    "            diffpath.append(os.path.join(path2,f))\n",
    "    \n",
    "    #print(diffpath)    \n",
    "    return diffpath\n",
    "\n",
    "def movefile(d):\n",
    "    for f in d:\n",
    "        newpath=os.path.abspath(os.path.join(f, '../..'))        \n",
    "        fnew=os.path.join(newpath,os.path.basename(f))\n",
    "\n",
    "        print(newpath)\n",
    "        print(fnew)\n",
    "        shutil.move(f,fnew)"
   ]
  },
  {
   "cell_type": "code",
   "execution_count": null,
   "metadata": {
    "hidden": true
   },
   "outputs": [],
   "source": [
    "import shutil\n",
    "\n",
    "for f in d:\n",
    "    newpath=os.path.abspath(os.path.join(f, '../..'))    \n",
    "    print(newpath)\n",
    "    \n",
    "    aa=os.path.join(newpath,os.path.basename(f))\n",
    "    print(aa)\n",
    "    shutil.move(f,aa)\n",
    "    "
   ]
  },
  {
   "cell_type": "code",
   "execution_count": null,
   "metadata": {
    "hidden": true
   },
   "outputs": [],
   "source": [
    "imgpath=os.path.abspath('/media/user/Transcend/Label餐盤/label-img')\n",
    "imgname=[]\n",
    "imglist=glob.glob(os.path.join(imgpath,'*.jpg'))\n",
    "\n",
    "xmlpath=os.path.abspath('/media/user/Transcend/Label餐盤/label-xml')\n",
    "xmlname=[]\n",
    "xmllist=glob.glob(os.path.join(xmlpath,'*.xml'))\n"
   ]
  },
  {
   "cell_type": "code",
   "execution_count": null,
   "metadata": {
    "hidden": true,
    "run_control": {
     "marked": false
    }
   },
   "outputs": [],
   "source": [
    "for imgitem in imglist:\n",
    "    fname=os.path.basename(imgitem)\n",
    "    temp,_=os.path.splitext(fname)\n",
    "    if temp not in imgname:\n",
    "        imgname.append(temp)\n",
    "print(len(imgname))\n",
    "#imgname"
   ]
  },
  {
   "cell_type": "code",
   "execution_count": null,
   "metadata": {
    "hidden": true
   },
   "outputs": [],
   "source": [
    "for xmlitem in xmllist:\n",
    "    fname=os.path.basename(xmlitem)\n",
    "    temp,_=os.path.splitext(fname)\n",
    "    if temp not in xmlname:\n",
    "        xmlname.append(temp)\n",
    "print(len(xmlname))\n",
    "# xmlname"
   ]
  },
  {
   "cell_type": "code",
   "execution_count": null,
   "metadata": {
    "hidden": true
   },
   "outputs": [],
   "source": [
    "xml=set(xmlname)\n",
    "img=set(imgname)\n",
    "d=list(img.symmetric_difference(xml))\n",
    "# d"
   ]
  },
  {
   "cell_type": "code",
   "execution_count": null,
   "metadata": {
    "hidden": true
   },
   "outputs": [],
   "source": [
    "for name in d:\n",
    "#     print(os.path.join('/media/user/Transcend/Label餐盤/label-xml',name))\n",
    "    print(xmllist[xmlname.index(name)])\n",
    "    #os.remove(xmllist[xmlname.index(name)])"
   ]
  },
  {
   "cell_type": "markdown",
   "metadata": {},
   "source": [
    "### end"
   ]
  },
  {
   "cell_type": "code",
   "execution_count": null,
   "metadata": {},
   "outputs": [],
   "source": []
  }
 ],
 "metadata": {
  "kernelspec": {
   "display_name": "Python 3",
   "language": "python",
   "name": "python3"
  },
  "language_info": {
   "codemirror_mode": {
    "name": "ipython",
    "version": 3
   },
   "file_extension": ".py",
   "mimetype": "text/x-python",
   "name": "python",
   "nbconvert_exporter": "python",
   "pygments_lexer": "ipython3",
   "version": "3.5.2"
  },
  "varInspector": {
   "cols": {
    "lenName": 16,
    "lenType": 16,
    "lenVar": 40
   },
   "kernels_config": {
    "python": {
     "delete_cmd_postfix": "",
     "delete_cmd_prefix": "del ",
     "library": "var_list.py",
     "varRefreshCmd": "print(var_dic_list())"
    },
    "r": {
     "delete_cmd_postfix": ") ",
     "delete_cmd_prefix": "rm(",
     "library": "var_list.r",
     "varRefreshCmd": "cat(var_dic_list()) "
    }
   },
   "oldHeight": 450.041924,
   "position": {
    "height": "39.994px",
    "left": "1252.28px",
    "right": "20px",
    "top": "66.9537px",
    "width": "489.754px"
   },
   "types_to_exclude": [
    "module",
    "function",
    "builtin_function_or_method",
    "instance",
    "_Feature"
   ],
   "varInspector_section_display": "none",
   "window_display": false
  }
 },
 "nbformat": 4,
 "nbformat_minor": 2
}
