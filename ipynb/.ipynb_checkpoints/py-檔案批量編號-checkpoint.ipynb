{
 "cells": [
  {
   "cell_type": "markdown",
   "metadata": {},
   "source": [
    "### 檔案批量編號"
   ]
  },
  {
   "cell_type": "markdown",
   "metadata": {},
   "source": [
    "https://www.itread01.com/content/1545053774.html"
   ]
  },
  {
   "cell_type": "code",
   "execution_count": null,
   "metadata": {
    "run_control": {
     "marked": true
    }
   },
   "outputs": [],
   "source": [
    "import os\n",
    "\n",
    "path='/home/user/Downloads/food/5500 豆芽/' #這就是欲進行檔名更改的檔案路徑，路徑的斜線是為/，要留意下！\n",
    "files=os.listdir(path)\n",
    "print(files)\n",
    "print(len(files)) #印出讀取到的檔名稱，用來確認自己是不是真的有讀到\n"
   ]
  },
  {
   "cell_type": "code",
   "execution_count": null,
   "metadata": {},
   "outputs": [],
   "source": [
    "num=5500 #設定初始值\n",
    "n=0\n",
    "for i in files: #因為資料夾裡面的檔案都要重新更換名稱  \n",
    "    \n",
    "    oldname = path + files[n] #指出檔案現在的路徑名稱，[n]表示第n個檔案        \n",
    "    newname = path + str(num+n+1)+'.png'\n",
    "    \n",
    "    if os.path.exists(newname):\n",
    "        os.rename(oldname,newname+'@')\n",
    "        \n",
    "    os.rename(oldname,newname)\n",
    "    \n",
    "    \n",
    "    print(oldname + \" >>> \" + newname)  \n",
    "    n+=1\n",
    "    \n",
    "    \n",
    "print(len(files))\n",
    "    "
   ]
  },
  {
   "cell_type": "code",
   "execution_count": null,
   "metadata": {},
   "outputs": [],
   "source": []
  },
  {
   "cell_type": "code",
   "execution_count": null,
   "metadata": {},
   "outputs": [],
   "source": [
    "x= 2\n",
    "\n",
    "if x>1:\n",
    "    print('x>1')\n",
    "elif x>1 and x==2:\n",
    "    print('x=2')"
   ]
  },
  {
   "cell_type": "code",
   "execution_count": null,
   "metadata": {},
   "outputs": [],
   "source": []
  }
 ],
 "metadata": {
  "kernelspec": {
   "display_name": "Python 3",
   "language": "python",
   "name": "python3"
  },
  "language_info": {
   "codemirror_mode": {
    "name": "ipython",
    "version": 3
   },
   "file_extension": ".py",
   "mimetype": "text/x-python",
   "name": "python",
   "nbconvert_exporter": "python",
   "pygments_lexer": "ipython3",
   "version": "3.5.2"
  },
  "varInspector": {
   "cols": {
    "lenName": 16,
    "lenType": 16,
    "lenVar": 40
   },
   "kernels_config": {
    "python": {
     "delete_cmd_postfix": "",
     "delete_cmd_prefix": "del ",
     "library": "var_list.py",
     "varRefreshCmd": "print(var_dic_list())"
    },
    "r": {
     "delete_cmd_postfix": ") ",
     "delete_cmd_prefix": "rm(",
     "library": "var_list.r",
     "varRefreshCmd": "cat(var_dic_list()) "
    }
   },
   "position": {
    "height": "521.094px",
    "left": "1446.54px",
    "right": "20px",
    "top": "120px",
    "width": "318.074px"
   },
   "types_to_exclude": [
    "module",
    "function",
    "builtin_function_or_method",
    "instance",
    "_Feature"
   ],
   "window_display": false
  }
 },
 "nbformat": 4,
 "nbformat_minor": 2
}
