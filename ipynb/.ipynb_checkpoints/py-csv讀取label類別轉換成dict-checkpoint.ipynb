{
 "cells": [
  {
   "cell_type": "markdown",
   "metadata": {},
   "source": [
    "###  Python 讀取與寫入CSV檔案"
   ]
  },
  {
   "cell_type": "markdown",
   "metadata": {},
   "source": [
    "https://blog.gtwang.org/programming/python-csv-file-reading-and-writing-tutorial/"
   ]
  },
  {
   "cell_type": "markdown",
   "metadata": {},
   "source": [
    "https://blog.csdn.net/ywx1832990/article/details/79145576"
   ]
  },
  {
   "cell_type": "markdown",
   "metadata": {},
   "source": [
    "https://stackoverflow.com/questions/613183/how-do-i-sort-a-dictionary-by-value"
   ]
  },
  {
   "cell_type": "markdown",
   "metadata": {},
   "source": [
    "### csv.reader"
   ]
  },
  {
   "cell_type": "code",
   "execution_count": 122,
   "metadata": {},
   "outputs": [
    {
     "name": "stdout",
     "output_type": "stream",
     "text": [
      "{'玉米蝦仁': 51, '蔥油雞塊': 80, '結球萵苣': 66, '瓜仔雞': 53, '鳳梨青豆': 101, '大黃瓜炒香菇': 8, '青椒雞絲': 95, '菠蘿雞丁': 76, '香菇': 98, '炒什錦豆干': 29, '炒刈薯紅仁': 30, '什錦炒肉絲': 1, '炒海茸': 33, '金針菇木耳炒蛋': 93, '煎赤筆': 48, '瓜仔肉': 52, '牛蒡煮': 50, '醬爆雞肉': 89, '地瓜葉': 5, '洋芋': 23, '大瓜木耳雞肉片': 7, '尼龍菜': 12, '破布子蒸冬瓜': 56, '炸排骨': 38, '豆豉小排': 85, '煎葉子魚': 44, '高麗雞肉片': 100, '紅燒洋芋': 64, '薑絲炒雲耳': 82, '豆干絲': 83, '空心菜': 57, '青江菜': 96, '番茄金針肉片': 54, '炒甜椒雞肉片': 34, '木耳炒鳳梨': 17, '麻婆豆腐': 102, '韭菜炒甜不辣': 97, '日式燉蘿蔔': 16, '金針菇': 92, '煎財神鲳': 46, '龍鱈魚丁': 106, '枸杞炒高麗菜': 18, '煎肉魚': 43, '炒大陸妹': 32, '花椰菜': 72, '糖醋洋蔥小排': 60, '家常豆腐': 9, '羅勒烤雞': 67, '黃椒炒芽': 103, '毛豆雞丁': 21, '炒高麗菜': 37, '高麗炒雞柳': 99, '油菜': 22, '煎劍旗魚': 40, '迷迭香烤雞排': 87, '蒜泥白肉': 77, '芝麻海帶絲': 71, '滷枸杞苦瓜': 27, '煎豪克魚': 45, '烤雞腿': 39, '滑蛋肉燥豆腐': 25, '煎赤宗魚': 47, '巴沙魚': 14, '小白菜': 11, '紅仁肉丁': 63, '加哩洋芋': 4, '龍紋魚': 105, '刈薯紅仁雞肉': 3, '刈薯紅仁肉片': 2, '醬香蛋豆腐': 90, '炒四季豆玉米筍木耳': 31, '梅菜冬瓜': 19, '豆豉烏魚塊': 86, '糖醋豬排': 61, '莧菜': 74, '三杯茄子': 0, '金針燴番茄': 91, '薑汁味增滷雞排': 81, '紅仁炒雞肉': 62, '豆瓣茄子': 84, '煎里肌': 49, '毛豆肉丁': 20, '炒雙色': 35, '素沙茶黃豆芽': 65, '小瓜肉丁': 10, '金針菇燒冬瓜': 94, '洋芋燒雞': 24, '菜豆': 75, '芝麻南瓜': 70, '茄子': 73, '炒青龍豆干': 36, '黃椒炒雞肉': 104, '醬燒黑芝麻牛蒡絲': 88, '義式香料燉雞': 68, '塔香豆豆杏鮑菇': 6, '煎水晶魚': 41, '胡麻茄子': 69, '滑蛋蝦皮絲瓜': 26, '煎紅尾冬魚': 42, '白仁枸杞': 55, '糖醋地瓜': 59, '滷豬排': 28, '彩色百頁': 15, '粉紅白玉': 58, '山藥燒小排': 13, '蒸劍旗魚': 78, '蒸水晶魚': 79}\n"
     ]
    }
   ],
   "source": [
    "label_path='../../inputdata/pascal/0911-pascal/classes.csv'\n",
    "with open(label_path, newline='') as csvfile:\n",
    "\n",
    "    # 讀取 CSV 檔內容，將每一列轉成一個 dictionary\n",
    "    reader = csv.reader(csvfile)\n",
    "    labels_to_names = {}\n",
    "    for row in reader:\n",
    "        labels_to_names[row[0]]=int(row[1])\n",
    "print(dict(sorted(labels_to_names.items(), key=lambda x: x[1])))"
   ]
  },
  {
   "cell_type": "code",
   "execution_count": 96,
   "metadata": {},
   "outputs": [],
   "source": [
    "import csv\n",
    "def csv2dict(label_path):\n",
    "    with open(label_path, newline='') as csvfile:\n",
    "\n",
    "        # 讀取 CSV 檔內容，將每一列轉成一個 dictionary\n",
    "        reader = csv.reader(csvfile)\n",
    "        labels_to_names = {}\n",
    "        for row in reader:\n",
    "            labels_to_names[row[0]]=int(row[1])\n",
    "                      \n",
    "            #print(row)"
   ]
  },
  {
   "cell_type": "code",
   "execution_count": 97,
   "metadata": {},
   "outputs": [
    {
     "name": "stdout",
     "output_type": "stream",
     "text": [
      "{'玉米蝦仁': 51, '蔥油雞塊': 80, '結球萵苣': 66, '瓜仔雞': 53, '鳳梨青豆': 101, '大黃瓜炒香菇': 8, '青椒雞絲': 95, '菠蘿雞丁': 76, '香菇': 98, '炒什錦豆干': 29, '炒刈薯紅仁': 30, '什錦炒肉絲': 1, '炒海茸': 33, '金針菇木耳炒蛋': 93, '煎赤筆': 48, '瓜仔肉': 52, '牛蒡煮': 50, '醬爆雞肉': 89, '地瓜葉': 5, '洋芋': 23, '大瓜木耳雞肉片': 7, '尼龍菜': 12, '破布子蒸冬瓜': 56, '炸排骨': 38, '豆豉小排': 85, '煎葉子魚': 44, '高麗雞肉片': 100, '紅燒洋芋': 64, '薑絲炒雲耳': 82, '豆干絲': 83, '空心菜': 57, '青江菜': 96, '番茄金針肉片': 54, '炒甜椒雞肉片': 34, '木耳炒鳳梨': 17, '麻婆豆腐': 102, '韭菜炒甜不辣': 97, '日式燉蘿蔔': 16, '金針菇': 92, '煎財神鲳': 46, '龍鱈魚丁': 106, '枸杞炒高麗菜': 18, '煎肉魚': 43, '炒大陸妹': 32, '花椰菜': 72, '糖醋洋蔥小排': 60, '家常豆腐': 9, '羅勒烤雞': 67, '黃椒炒芽': 103, '毛豆雞丁': 21, '炒高麗菜': 37, '高麗炒雞柳': 99, '油菜': 22, '煎劍旗魚': 40, '迷迭香烤雞排': 87, '蒜泥白肉': 77, '芝麻海帶絲': 71, '滷枸杞苦瓜': 27, '煎豪克魚': 45, '烤雞腿': 39, '滑蛋肉燥豆腐': 25, '煎赤宗魚': 47, '巴沙魚': 14, '小白菜': 11, '紅仁肉丁': 63, '加哩洋芋': 4, '龍紋魚': 105, '刈薯紅仁雞肉': 3, '刈薯紅仁肉片': 2, '醬香蛋豆腐': 90, '炒四季豆玉米筍木耳': 31, '梅菜冬瓜': 19, '豆豉烏魚塊': 86, '糖醋豬排': 61, '莧菜': 74, '三杯茄子': 0, '金針燴番茄': 91, '薑汁味增滷雞排': 81, '紅仁炒雞肉': 62, '豆瓣茄子': 84, '煎里肌': 49, '毛豆肉丁': 20, '炒雙色': 35, '素沙茶黃豆芽': 65, '小瓜肉丁': 10, '金針菇燒冬瓜': 94, '洋芋燒雞': 24, '菜豆': 75, '芝麻南瓜': 70, '茄子': 73, '炒青龍豆干': 36, '黃椒炒雞肉': 104, '醬燒黑芝麻牛蒡絲': 88, '義式香料燉雞': 68, '塔香豆豆杏鮑菇': 6, '煎水晶魚': 41, '胡麻茄子': 69, '滑蛋蝦皮絲瓜': 26, '煎紅尾冬魚': 42, '白仁枸杞': 55, '糖醋地瓜': 59, '滷豬排': 28, '彩色百頁': 15, '粉紅白玉': 58, '山藥燒小排': 13, '蒸劍旗魚': 78, '蒸水晶魚': 79}\n"
     ]
    }
   ],
   "source": [
    "label_path='../../inputdata/pascal/0911-pascal/classes.csv'\n",
    "csv2dict(label_path)"
   ]
  },
  {
   "cell_type": "markdown",
   "metadata": {
    "heading_collapsed": true
   },
   "source": [
    "### csv.DictReader"
   ]
  },
  {
   "cell_type": "code",
   "execution_count": 8,
   "metadata": {
    "hidden": true
   },
   "outputs": [
    {
     "ename": "KeyError",
     "evalue": "'name'",
     "output_type": "error",
     "traceback": [
      "\u001b[0;31m---------------------------------------------------------------------------\u001b[0m",
      "\u001b[0;31mKeyError\u001b[0m                                  Traceback (most recent call last)",
      "\u001b[0;32m<ipython-input-8-e4fb6852b3d7>\u001b[0m in \u001b[0;36m<module>\u001b[0;34m\u001b[0m\n\u001b[1;32m     12\u001b[0m   \u001b[0;31m# 以迴圈輸出指定欄位\u001b[0m\u001b[0;34m\u001b[0m\u001b[0;34m\u001b[0m\u001b[0m\n\u001b[1;32m     13\u001b[0m   \u001b[0;32mfor\u001b[0m \u001b[0mrow\u001b[0m \u001b[0;32min\u001b[0m \u001b[0mreader\u001b[0m\u001b[0;34m:\u001b[0m\u001b[0;34m\u001b[0m\u001b[0m\n\u001b[0;32m---> 14\u001b[0;31m     \u001b[0mlabels_to_names\u001b[0m\u001b[0;34m[\u001b[0m\u001b[0mint\u001b[0m\u001b[0;34m(\u001b[0m\u001b[0mrow\u001b[0m\u001b[0;34m[\u001b[0m\u001b[0;34m'label'\u001b[0m\u001b[0;34m]\u001b[0m\u001b[0;34m)\u001b[0m\u001b[0;34m]\u001b[0m\u001b[0;34m=\u001b[0m \u001b[0mrow\u001b[0m\u001b[0;34m[\u001b[0m\u001b[0;34m'name'\u001b[0m\u001b[0;34m]\u001b[0m\u001b[0;34m\u001b[0m\u001b[0m\n\u001b[0m\u001b[1;32m     15\u001b[0m   \u001b[0mprint\u001b[0m\u001b[0;34m(\u001b[0m\u001b[0mlabels_to_names\u001b[0m\u001b[0;34m)\u001b[0m\u001b[0;34m\u001b[0m\u001b[0m\n\u001b[1;32m     16\u001b[0m \u001b[0;34m\u001b[0m\u001b[0m\n",
      "\u001b[0;31mKeyError\u001b[0m: 'name'"
     ]
    }
   ],
   "source": [
    "# load label to names mapping for visualization purposes\n",
    "# 讀取csv檔的label類別轉成dict\n",
    "import csv\n",
    "\n",
    "label_path='../../inputdata/pascal/0822-pascal/classes.csv'\n",
    "\n",
    "with open(label_path, newline='') as csvfile:\n",
    "\n",
    "  # 讀取 CSV 檔內容，將每一列轉成一個 dictionary\n",
    "  reader = csv.DictReader(csvfile)\n",
    "  labels_to_names = {}\n",
    "  # 以迴圈輸出指定欄位\n",
    "  for row in reader:\n",
    "    labels_to_names[int(row['label'])]= row['name']\n",
    "  print(labels_to_names)\n",
    "\n",
    "Cid={v:k for k,v in labels_to_names.items()}\n",
    "Cid"
   ]
  },
  {
   "cell_type": "code",
   "execution_count": null,
   "metadata": {
    "hidden": true
   },
   "outputs": [],
   "source": [
    "#字典 key,value互換\n",
    "# Cid = {} #revert dict\n",
    "# for k,v in labels_to_names.items():\n",
    "#     Cid[v]=k    \n",
    "\n",
    "Cid={v:k for k,v in labels_to_names.items()}\n",
    "Cid"
   ]
  },
  {
   "cell_type": "markdown",
   "metadata": {
    "heading_collapsed": true
   },
   "source": [
    "### no apply"
   ]
  },
  {
   "cell_type": "code",
   "execution_count": 12,
   "metadata": {
    "hidden": true,
    "run_control": {
     "marked": true
    }
   },
   "outputs": [
    {
     "name": "stdout",
     "output_type": "stream",
     "text": [
      "{0: '三杯茄子', 1: '什錦炒肉絲', 2: '刈薯紅仁肉片', 3: '刈薯紅仁雞肉', 4: '加哩洋芋', 5: '地瓜葉', 6: '塔香豆豆杏鮑菇', 7: '大瓜木耳雞肉片', 8: '大黃瓜炒香菇', 9: '家常豆腐', 10: '小瓜肉丁', 11: '小白菜', 12: '尼龍菜', 13: '山藥燒小排', 14: '巴沙魚', 15: '彩色百頁', 16: '日式燉蘿蔔', 17: '木耳炒鳳梨', 18: '枸杞炒高麗菜', 19: '梅菜冬瓜', 20: '毛豆肉丁', 21: '毛豆雞丁', 22: '油菜', 23: '洋芋', 24: '洋芋燒雞', 25: '滑蛋肉燥豆腐', 26: '滑蛋蝦皮絲瓜', 27: '滷枸杞苦瓜', 28: '滷豬排', 29: '炒什錦豆干', 30: '炒刈薯紅仁', 31: '炒四季豆玉米筍木耳', 32: '炒大陸妹', 33: '炒海茸', 34: '炒甜椒雞肉片', 35: '炒雙色', 36: '炒青龍豆干', 37: '炒高麗菜', 38: '炒高麗菜(無紅仁)', 39: '炸排骨', 40: '烤雞腿', 41: '煎劍旗魚', 42: '煎小黃魚', 43: '煎水晶魚', 44: '煎紅尾冬魚', 45: '煎肉魚', 46: '煎葉子魚', 47: '煎豪克魚', 48: '煎財神鲳', 49: '煎赤宗魚', 50: '煎赤筆', 51: '煎里肌', 52: '牛蒡煮', 53: '玉米蝦仁', 54: '瓜仔肉', 55: '瓜仔雞', 56: '番茄金針肉片', 57: '白仁枸杞', 58: '破布子蒸冬瓜', 59: '空心菜', 60: '粉紅白玉', 61: '糖醋地瓜', 62: '糖醋洋蔥小排', 63: '糖醋豬排', 64: '紅仁炒雞肉', 65: '紅仁肉丁', 66: '紅燒洋芋', 67: '素沙茶黃豆芽', 68: '結球萵苣', 69: '羅勒烤雞', 70: '義式香料燉雞', 71: '胡麻茄子', 72: '芝麻南瓜', 73: '芝麻海帶絲', 74: '花椰菜', 75: '茄子', 76: '莧菜', 77: '菜豆', 78: '菠蘿雞丁', 79: '蒜泥白肉', 80: '蒸劍旗魚', 81: '蒸水晶魚', 82: '蔥油雞塊', 83: '薑汁味增滷雞排', 84: '薑絲炒雲耳', 85: '豆干絲', 86: '豆瓣茄子', 87: '豆豉小排', 88: '豆豉烏魚塊', 89: '迷迭香烤雞排', 90: '醬燒黑芝麻牛蒡絲', 91: '醬爆雞肉', 92: '醬香蛋豆腐', 93: '金針燴番茄', 94: '金針菇', 95: '金針菇木耳炒蛋', 96: '金針菇燒冬瓜', 97: '青椒雞絲', 98: '青江菜', 99: '韭菜炒甜不辣', 100: '香菇', 101: '高麗炒雞柳', 102: '高麗雞肉片', 103: '鳳梨青豆', 104: '麻婆豆腐', 105: '黃椒炒芽', 106: '黃椒炒雞肉', 107: '龍紋魚', 108: '龍鱈魚丁'}\n"
     ]
    }
   ],
   "source": [
    "import csv\n",
    "\n",
    "label_path='../../inputdata/pascal/0822-pascal/classes.csv'\n",
    "\n",
    "with open(label_path, newline='') as csvfile:\n",
    "\n",
    "    # 讀取 CSV 檔內容，將每一列轉成一個 dictionary\n",
    "    reader = csv.reader(csvfile)\n",
    "    labels_to_names = {}\n",
    "    for row in reader:\n",
    "        labels_to_names[int(row[1])]=row[0]\n",
    "    print(labels_to_names)\n",
    "        #print(row)"
   ]
  },
  {
   "cell_type": "markdown",
   "metadata": {},
   "source": [
    "### end"
   ]
  },
  {
   "cell_type": "code",
   "execution_count": null,
   "metadata": {},
   "outputs": [],
   "source": []
  }
 ],
 "metadata": {
  "kernelspec": {
   "display_name": "Python 3",
   "language": "python",
   "name": "python3"
  },
  "language_info": {
   "codemirror_mode": {
    "name": "ipython",
    "version": 3
   },
   "file_extension": ".py",
   "mimetype": "text/x-python",
   "name": "python",
   "nbconvert_exporter": "python",
   "pygments_lexer": "ipython3",
   "version": "3.5.2"
  },
  "varInspector": {
   "cols": {
    "lenName": 16,
    "lenType": 16,
    "lenVar": 40
   },
   "kernels_config": {
    "python": {
     "delete_cmd_postfix": "",
     "delete_cmd_prefix": "del ",
     "library": "var_list.py",
     "varRefreshCmd": "print(var_dic_list())"
    },
    "r": {
     "delete_cmd_postfix": ") ",
     "delete_cmd_prefix": "rm(",
     "library": "var_list.r",
     "varRefreshCmd": "cat(var_dic_list()) "
    }
   },
   "types_to_exclude": [
    "module",
    "function",
    "builtin_function_or_method",
    "instance",
    "_Feature"
   ],
   "window_display": false
  }
 },
 "nbformat": 4,
 "nbformat_minor": 2
}
