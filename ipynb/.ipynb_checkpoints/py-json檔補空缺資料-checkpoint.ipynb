{
 "cells": [
  {
   "cell_type": "markdown",
   "metadata": {
    "heading_collapsed": true
   },
   "source": [
    "### json檔補空缺資料"
   ]
  },
  {
   "cell_type": "code",
   "execution_count": null,
   "metadata": {
    "hidden": true
   },
   "outputs": [],
   "source": [
    "import os\n",
    "import json\n",
    "model = {'111.jpg':{'regions':[{'r':{'name':'1'},'s':{'n':'ttt'}}]},\n",
    "         '222.jpg':{'regions':[{'r':{'name':'1'},'s':{'n':'ttt'}}]},\n",
    "         '333.jpg':{'regions':[{'r':{},'s':{'n':'ttt'}}]},\n",
    "         '444.jpg':{'regions':[{'r':{'name':'1'},'s':{'n':'ttt'}}]},\n",
    "         '555.jpg':{'regions':[{'r':{'name':'1'},'s':{'n':'ttt'}}]},\n",
    "         '666.jpg':{'regions':[{'r':{},'s':{'n':'ttt'}}]},\n",
    "        }                   \n",
    "m= list(model.values())\n",
    "m"
   ]
  },
  {
   "cell_type": "code",
   "execution_count": null,
   "metadata": {
    "hidden": true
   },
   "outputs": [],
   "source": [
    "for i in m:\n",
    "    for a in i['regions']: \n",
    "        if not a['r']:\n",
    "            a['r']['name']='xxxxxx'\n",
    "        print(a['r']['name'])"
   ]
  },
  {
   "cell_type": "code",
   "execution_count": null,
   "metadata": {
    "hidden": true
   },
   "outputs": [],
   "source": [
    "model"
   ]
  },
  {
   "cell_type": "markdown",
   "metadata": {},
   "source": [
    "### 範例json補資料"
   ]
  },
  {
   "cell_type": "code",
   "execution_count": 23,
   "metadata": {
    "run_control": {
     "marked": false
    }
   },
   "outputs": [
    {
     "data": {
      "text/plain": [
       "'../Mask_RCNN-master/datasets/food/train'"
      ]
     },
     "execution_count": 23,
     "metadata": {},
     "output_type": "execute_result"
    }
   ],
   "source": [
    "import os\n",
    "import sys\n",
    "import json\n",
    "import datetime\n",
    "import numpy as np\n",
    "import skimage.draw\n",
    "\n",
    "\n",
    "subset='train'\n",
    "data_dir='../Mask_RCNN-master/datasets/food/'\n",
    "\n",
    "assert subset in [\"train\", \"val\"]\n",
    "dataset_dir = os.path.join(data_dir, subset)\n",
    "dataset_dir"
   ]
  },
  {
   "cell_type": "code",
   "execution_count": 24,
   "metadata": {},
   "outputs": [
    {
     "name": "stdout",
     "output_type": "stream",
     "text": [
      "total img :942\n",
      "annotated img : 931\n"
     ]
    }
   ],
   "source": [
    "annotations = json.load(open(os.path.join(dataset_dir,'20191217.json')))\n",
    "aa = list(annotations.values())\n",
    "aa = [r for r in aa if r['regions']]\n",
    "\n",
    "print('total img :{}'.format(len(annotations)))\n",
    "print('annotated img : {}'.format(len(aa)))"
   ]
  },
  {
   "cell_type": "code",
   "execution_count": 25,
   "metadata": {},
   "outputs": [
    {
     "name": "stdout",
     "output_type": "stream",
     "text": [
      "{'type': '肉魚豆蛋類', 'name': '牛肉', 'image_quality': {'good': True, 'frontal': True, 'good_illumination': True}}\n",
      "{'type': '肉魚豆蛋類', 'name': '牛肉', 'image_quality': {'good': True, 'frontal': True, 'good_illumination': True}}\n",
      "{'type': '肉魚豆蛋類', 'name': '牛肉', 'image_quality': {'good': True, 'frontal': True, 'good_illumination': True}}\n",
      "{'type': '肉魚豆蛋類', 'name': '牛肉', 'image_quality': {'good': True, 'frontal': True, 'good_illumination': True}}\n",
      "{'type': '肉魚豆蛋類', 'name': '牛肉', 'image_quality': {'good': True, 'frontal': True, 'good_illumination': True}}\n",
      "{'type': '肉魚豆蛋類', 'name': '牛肉', 'image_quality': {'good': True, 'frontal': True, 'good_illumination': True}}\n",
      "{'type': '肉魚豆蛋類', 'name': '牛肉', 'image_quality': {'good': True, 'frontal': True, 'good_illumination': True}}\n",
      "{'type': '肉魚豆蛋類', 'name': '牛肉', 'image_quality': {'good': True, 'frontal': True, 'good_illumination': True}}\n",
      "{'type': '肉魚豆蛋類', 'name': '牛肉', 'image_quality': {'good': True, 'frontal': True, 'good_illumination': True}}\n",
      "{'type': '肉魚豆蛋類', 'name': '牛肉', 'image_quality': {'good': True, 'frontal': True, 'good_illumination': True}}\n",
      "{'type': '肉魚豆蛋類', 'name': '牛肉', 'image_quality': {'good': True, 'frontal': True, 'good_illumination': True}}\n",
      "{'type': '肉魚豆蛋類', 'name': '牛肉', 'image_quality': {'good': True, 'frontal': True, 'good_illumination': True}}\n"
     ]
    }
   ],
   "source": [
    "# 指定檔名,更改及查看regions name,type\n",
    "for i in aa:\n",
    "    if i['filename']=='322.png':\n",
    "        for a in i['regions']:\n",
    "            print(a['region_attributes'])\n",
    "#             a['region_attributes']['type']='肉魚豆蛋類'\n",
    "#             a['region_attributes']['name']='牛肉'\n",
    "#             print(a['region_attributes'])\n",
    "    "
   ]
  },
  {
   "cell_type": "code",
   "execution_count": 26,
   "metadata": {
    "run_control": {
     "marked": true
    }
   },
   "outputs": [],
   "source": [
    "# 列出沒有標註regions name的照片名稱\n",
    "for i in aa:\n",
    "    for a in i['regions']:\n",
    "        if not 'name' in a['region_attributes']:\n",
    "            print(i['filename'])\n",
    "            break"
   ]
  },
  {
   "cell_type": "code",
   "execution_count": 27,
   "metadata": {},
   "outputs": [],
   "source": [
    "# 沒有標註regions name的照片,給定regions name,type名稱 \n",
    "for i in aa:\n",
    "    for a in i['regions']:\n",
    "        if not 'name' in a['region_attributes']:      \n",
    "            a['region_attributes']['name']='南瓜'\n",
    "            a['region_attributes']['type']='五穀糧食類'\n",
    "            print(a['region_attributes'])\n",
    "\n",
    "           "
   ]
  },
  {
   "cell_type": "code",
   "execution_count": 11,
   "metadata": {},
   "outputs": [],
   "source": [
    "jsobj = json.dumps(annotations)\n",
    "\n",
    "with open(os.path.join(dataset_dir,'20191217.json'),'w') as fw:\n",
    "    fw.write(jsobj)"
   ]
  },
  {
   "cell_type": "markdown",
   "metadata": {},
   "source": [
    "### end"
   ]
  },
  {
   "cell_type": "code",
   "execution_count": null,
   "metadata": {},
   "outputs": [],
   "source": []
  }
 ],
 "metadata": {
  "kernelspec": {
   "display_name": "Python 3",
   "language": "python",
   "name": "python3"
  },
  "language_info": {
   "codemirror_mode": {
    "name": "ipython",
    "version": 3
   },
   "file_extension": ".py",
   "mimetype": "text/x-python",
   "name": "python",
   "nbconvert_exporter": "python",
   "pygments_lexer": "ipython3",
   "version": "3.5.2"
  },
  "varInspector": {
   "cols": {
    "lenName": 16,
    "lenType": 16,
    "lenVar": 40
   },
   "kernels_config": {
    "python": {
     "delete_cmd_postfix": "",
     "delete_cmd_prefix": "del ",
     "library": "var_list.py",
     "varRefreshCmd": "print(var_dic_list())"
    },
    "r": {
     "delete_cmd_postfix": ") ",
     "delete_cmd_prefix": "rm(",
     "library": "var_list.r",
     "varRefreshCmd": "cat(var_dic_list()) "
    }
   },
   "types_to_exclude": [
    "module",
    "function",
    "builtin_function_or_method",
    "instance",
    "_Feature"
   ],
   "window_display": false
  }
 },
 "nbformat": 4,
 "nbformat_minor": 2
}
