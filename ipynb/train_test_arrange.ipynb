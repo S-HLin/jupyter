{
 "cells": [
  {
   "cell_type": "code",
   "execution_count": 10,
   "metadata": {},
   "outputs": [],
   "source": [
    "import os,shutil\n",
    "import numpy as np\n",
    "def train_test_arrange(original_dir,split_ratio):\n",
    "    #original_dir='/dataDisk/myfloder/inputdata/Food calorie_integration_1025'\n",
    "    data_dir=''\n",
    "    list_dir=original_dir.split('/')\n",
    "    new_dir=list_dir[-1]+'_split'\n",
    "    \n",
    "    if original_dir[-1]=='/':\n",
    "        list_dir=original_dir.split('/')[1:-2]\n",
    "        for i in range(len(list_dir)):\n",
    "            data_dir=data_dir+'/'+list_dir[i]\n",
    "    else:\n",
    "        list_dir=original_dir.split('/')[1:-1]\n",
    "        for i in range(len(list_dir)):\n",
    "            data_dir=data_dir+'/'+list_dir[i]\n",
    "\n",
    "    data_dir= data_dir + '/' + new_dir\n",
    "    train_dir = data_dir + '/train'\n",
    "    validation_dir = data_dir + '/validation'\n",
    "    test_dir = data_dir + '/test'\n",
    "    \n",
    "    os.mkdir(data_dir)\n",
    "    os.mkdir(train_dir)\n",
    "    os.mkdir(validation_dir)\n",
    "    os.mkdir(test_dir)\n",
    "    \n",
    "    #子資料夾名稱\n",
    "    names=os.listdir(original_dir)\n",
    "\n",
    "    #建立分割資料集子資料夾\n",
    "    for i in names:\n",
    "        train_name=os.path.join(train_dir,i)\n",
    "        test_name=os.path.join(test_dir,i)\n",
    "        validation_name=os.path.join(validation_dir,i)\n",
    "        \n",
    "        os.mkdir(train_name)\n",
    "        os.mkdir(test_name)\n",
    "        os.mkdir(validation_name)\n",
    "    \n",
    "        #複製圖片\n",
    "        dataset=os.path.join(original_dir,i)#原資料集子資料夾\n",
    "        count=0\n",
    "        for im in os.listdir(dataset):\n",
    "                #train data\n",
    "            if count<len(os.listdir(dataset))*split_ratio:\n",
    "                src=os.path.join(dataset,im)\n",
    "                dst=os.path.join(train_name,im)\n",
    "                shutil.copyfile(src,dst)\n",
    "                count+=1\n",
    "                #validation data\n",
    "            elif count>len(os.listdir(dataset))*(split_ratio+0.1):\n",
    "                src=os.path.join(dataset,im)\n",
    "                dst=os.path.join(test_name,im)\n",
    "                shutil.copyfile(src,dst)\n",
    "                count+=1\n",
    "                #test data\n",
    "            else:\n",
    "                src=os.path.join(dataset,im)\n",
    "                dst=os.path.join(validation_name,im)\n",
    "                shutil.copyfile(src,dst)\n",
    "                count+=1\n",
    "    return train_dir,validation_dir,test_dir"
   ]
  },
  {
   "cell_type": "code",
   "execution_count": 11,
   "metadata": {},
   "outputs": [
    {
     "ename": "NotADirectoryError",
     "evalue": "[Errno 20] Not a directory: '/dataDisk/myfloder/inputdata/Food calorie_integration_1025/Food_cal_integration.xlsx'",
     "output_type": "error",
     "traceback": [
      "\u001b[0;31m---------------------------------------------------------------------------\u001b[0m",
      "\u001b[0;31mNotADirectoryError\u001b[0m                        Traceback (most recent call last)",
      "\u001b[0;32m<ipython-input-11-e82735199a33>\u001b[0m in \u001b[0;36m<module>\u001b[0;34m\u001b[0m\n\u001b[1;32m      1\u001b[0m \u001b[0moriginal_dir\u001b[0m\u001b[0;34m=\u001b[0m\u001b[0;34m'/dataDisk/myfloder/inputdata/Food calorie_integration_1025'\u001b[0m\u001b[0;34m\u001b[0m\u001b[0m\n\u001b[1;32m      2\u001b[0m \u001b[0msplit_ratio\u001b[0m\u001b[0;34m=\u001b[0m\u001b[0;36m0.8\u001b[0m\u001b[0;34m\u001b[0m\u001b[0m\n\u001b[0;32m----> 3\u001b[0;31m \u001b[0mtrain_dir\u001b[0m\u001b[0;34m,\u001b[0m\u001b[0mvalidation_dir\u001b[0m\u001b[0;34m,\u001b[0m\u001b[0mtest_dir\u001b[0m\u001b[0;34m=\u001b[0m\u001b[0mtrain_test_arrange\u001b[0m\u001b[0;34m(\u001b[0m\u001b[0moriginal_dir\u001b[0m\u001b[0;34m=\u001b[0m\u001b[0moriginal_dir\u001b[0m\u001b[0;34m,\u001b[0m\u001b[0msplit_ratio\u001b[0m\u001b[0;34m=\u001b[0m\u001b[0msplit_ratio\u001b[0m\u001b[0;34m)\u001b[0m\u001b[0;34m\u001b[0m\u001b[0m\n\u001b[0m",
      "\u001b[0;32m<ipython-input-10-e858900ea9b9>\u001b[0m in \u001b[0;36mtrain_test_arrange\u001b[0;34m(original_dir, split_ratio)\u001b[0m\n\u001b[1;32m     42\u001b[0m         \u001b[0mdataset\u001b[0m\u001b[0;34m=\u001b[0m\u001b[0mos\u001b[0m\u001b[0;34m.\u001b[0m\u001b[0mpath\u001b[0m\u001b[0;34m.\u001b[0m\u001b[0mjoin\u001b[0m\u001b[0;34m(\u001b[0m\u001b[0moriginal_dir\u001b[0m\u001b[0;34m,\u001b[0m\u001b[0mi\u001b[0m\u001b[0;34m)\u001b[0m\u001b[0;31m#原資料集子資料夾\u001b[0m\u001b[0;34m\u001b[0m\u001b[0m\n\u001b[1;32m     43\u001b[0m         \u001b[0mcount\u001b[0m\u001b[0;34m=\u001b[0m\u001b[0;36m0\u001b[0m\u001b[0;34m\u001b[0m\u001b[0m\n\u001b[0;32m---> 44\u001b[0;31m         \u001b[0;32mfor\u001b[0m \u001b[0mim\u001b[0m \u001b[0;32min\u001b[0m \u001b[0mos\u001b[0m\u001b[0;34m.\u001b[0m\u001b[0mlistdir\u001b[0m\u001b[0;34m(\u001b[0m\u001b[0mdataset\u001b[0m\u001b[0;34m)\u001b[0m\u001b[0;34m:\u001b[0m\u001b[0;34m\u001b[0m\u001b[0m\n\u001b[0m\u001b[1;32m     45\u001b[0m                 \u001b[0;31m#train data\u001b[0m\u001b[0;34m\u001b[0m\u001b[0;34m\u001b[0m\u001b[0m\n\u001b[1;32m     46\u001b[0m             \u001b[0;32mif\u001b[0m \u001b[0mcount\u001b[0m\u001b[0;34m<\u001b[0m\u001b[0mlen\u001b[0m\u001b[0;34m(\u001b[0m\u001b[0mos\u001b[0m\u001b[0;34m.\u001b[0m\u001b[0mlistdir\u001b[0m\u001b[0;34m(\u001b[0m\u001b[0mdataset\u001b[0m\u001b[0;34m)\u001b[0m\u001b[0;34m)\u001b[0m\u001b[0;34m*\u001b[0m\u001b[0msplit_ratio\u001b[0m\u001b[0;34m:\u001b[0m\u001b[0;34m\u001b[0m\u001b[0m\n",
      "\u001b[0;31mNotADirectoryError\u001b[0m: [Errno 20] Not a directory: '/dataDisk/myfloder/inputdata/Food calorie_integration_1025/Food_cal_integration.xlsx'"
     ]
    }
   ],
   "source": [
    "original_dir='/dataDisk/myfloder/inputdata/Food calorie_integration_1025'\n",
    "split_ratio=0.8\n",
    "train_dir,validation_dir,test_dir=train_test_arrange(original_dir=original_dir,split_ratio=split_ratio)"
   ]
  },
  {
   "cell_type": "code",
   "execution_count": null,
   "metadata": {},
   "outputs": [],
   "source": []
  }
 ],
 "metadata": {
  "kernelspec": {
   "display_name": "Python 3",
   "language": "python",
   "name": "python3"
  },
  "language_info": {
   "codemirror_mode": {
    "name": "ipython",
    "version": 3
   },
   "file_extension": ".py",
   "mimetype": "text/x-python",
   "name": "python",
   "nbconvert_exporter": "python",
   "pygments_lexer": "ipython3",
   "version": "3.5.2"
  },
  "varInspector": {
   "cols": {
    "lenName": 16,
    "lenType": 16,
    "lenVar": 40
   },
   "kernels_config": {
    "python": {
     "delete_cmd_postfix": "",
     "delete_cmd_prefix": "del ",
     "library": "var_list.py",
     "varRefreshCmd": "print(var_dic_list())"
    },
    "r": {
     "delete_cmd_postfix": ") ",
     "delete_cmd_prefix": "rm(",
     "library": "var_list.r",
     "varRefreshCmd": "cat(var_dic_list()) "
    }
   },
   "position": {
    "height": "472.367px",
    "left": "1017.78px",
    "right": "20px",
    "top": "120px",
    "width": "305.583px"
   },
   "types_to_exclude": [
    "module",
    "function",
    "builtin_function_or_method",
    "instance",
    "_Feature"
   ],
   "window_display": false
  }
 },
 "nbformat": 4,
 "nbformat_minor": 2
}
