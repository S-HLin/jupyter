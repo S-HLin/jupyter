{
 "cells": [
  {
   "cell_type": "markdown",
   "metadata": {
    "heading_collapsed": true
   },
   "source": [
    "### 改圖片編號和filename"
   ]
  },
  {
   "cell_type": "code",
   "execution_count": null,
   "metadata": {
    "hidden": true
   },
   "outputs": [],
   "source": [
    "import os\n",
    "import json\n",
    "\n",
    "def numfiles(json_path, img_path, init):\n",
    "    annot = json.load(open(json_path))\n",
    "    new_annot={}\n",
    "    new_annot.update(annot)\n",
    "    n= 0\n",
    "    for k,v in annot.items(): \n",
    "\n",
    "        old_filename= v['filename']\n",
    "        new_filename= str(init+n+1)+'.png'\n",
    "        new_key = new_filename + k.split('.png')[1]\n",
    "    #     print(k)\n",
    "        new_annot[new_key]= new_annot.pop(k)\n",
    "        v['filename']= new_filename\n",
    "        n+=1\n",
    "\n",
    "        old_path = os.path.join(img_path,old_filename)\n",
    "        new_path = os.path.join(img_path,new_filename)\n",
    "        os.rename(old_path,new_path)\n",
    "\n",
    "    print(new_annot)\n",
    "    # 存json檔\n",
    "    jsobj = json.dumps(new_annot)\n",
    "    with open(json_path,'w') as fw:\n",
    "        fw.write(jsobj)"
   ]
  },
  {
   "cell_type": "code",
   "execution_count": null,
   "metadata": {
    "hidden": true
   },
   "outputs": [],
   "source": [
    "json_path = '/home/user/Downloads/5000 空心菜.json'\n",
    "img_path='/home/user/Downloads/5000 空心菜/' \n",
    "init = 4900\n",
    "\n",
    "numfiles(json_path,img_path,init)"
   ]
  },
  {
   "cell_type": "markdown",
   "metadata": {
    "heading_collapsed": true
   },
   "source": [
    "### 已標註數量"
   ]
  },
  {
   "cell_type": "code",
   "execution_count": null,
   "metadata": {
    "hidden": true
   },
   "outputs": [],
   "source": [
    "#annotations = json.load(open(os.path.join(dataset_dir,'20191217.json')))\n",
    "file_path = '/home/user/Downloads/5000 空心菜.json'\n",
    "annotations = json.load(open(file_path))\n",
    "aa = list(annotations.values())\n",
    "aa = [r for r in aa if r['regions']]\n",
    "\n",
    "print('total img :{}'.format(len(annotations)))\n",
    "print('annotated img : {}'.format(len(aa)))\n"
   ]
  },
  {
   "cell_type": "markdown",
   "metadata": {
    "heading_collapsed": true
   },
   "source": [
    "### name改全部"
   ]
  },
  {
   "cell_type": "code",
   "execution_count": null,
   "metadata": {
    "hidden": true
   },
   "outputs": [],
   "source": [
    "### 列出想搜尋的regions name的照片名稱\n",
    "def assign_attr(json_path, attr, attrname):\n",
    "    annotations = json.load(open(json_path))\n",
    "    aa = list(annotations.values())\n",
    "    aa = [r for r in aa if r['regions']]\n",
    "    # images\n",
    "    for i in aa:\n",
    "        # regions\n",
    "        for r in i['regions']:   \n",
    "            # region attributes 找有屬性值的\n",
    "            if attr in r['region_attributes']:\n",
    "                # 比對是否目標值\n",
    "                if r['region_attributes'][attr]!= attrname:\n",
    "                    # 給定屬性值\n",
    "                    r['region_attributes'][attr]= attrname\n",
    "                    print(i['filename'])\n",
    "                    print('改: %s'%r['region_attributes'])\n",
    "                    \n",
    "    # 存json檔\n",
    "    jsobj = json.dumps(annotations)\n",
    "    with open(json_path,'w') as fw:\n",
    "        fw.write(jsobj)"
   ]
  },
  {
   "cell_type": "code",
   "execution_count": null,
   "metadata": {
    "hidden": true
   },
   "outputs": [],
   "source": [
    "json_path = '/dataDisk/Downloads/彙整1-5600/2500白飯.json'\n",
    "attr= 'name'\n",
    "classname='白飯'\n",
    "assign_attr(json_path, attr, classname)"
   ]
  },
  {
   "cell_type": "markdown",
   "metadata": {
    "heading_collapsed": true
   },
   "source": [
    "### name改某類"
   ]
  },
  {
   "cell_type": "code",
   "execution_count": null,
   "metadata": {
    "hidden": true
   },
   "outputs": [],
   "source": [
    "# 列出想搜尋的regions name的照片名稱\n",
    "def change_attr(json_path, attr, oldclass, newclass):\n",
    "    annotations = json.load(open(json_path))\n",
    "    aa = list(annotations.values())\n",
    "    aa = [r for r in aa if r['regions']]\n",
    "    # images\n",
    "    for i in aa:\n",
    "        # regions\n",
    "        for r in i['regions']:   \n",
    "            # region attributes 找有屬性值的\n",
    "            if attr in r['region_attributes']:\n",
    "                # 比對是否目標值\n",
    "                if r['region_attributes'][attr] == oldclass:\n",
    "                    print(i['filename'])\n",
    "                    r['region_attributes'][attr] = newclass          \n",
    "                    print('改: %s' %r['region_attributes'])\n",
    "                    \n",
    "    # 存json檔\n",
    "    jsobj = json.dumps(annotations)\n",
    "    with open(json_path,'w') as fw:\n",
    "        fw.write(jsobj)"
   ]
  },
  {
   "cell_type": "code",
   "execution_count": null,
   "metadata": {
    "hidden": true
   },
   "outputs": [],
   "source": [
    "json_path = '/dataDisk/Downloads/2500白飯.json'\n",
    "attr= 'name'\n",
    "oldname= 'not_defined'                        #'not_defined'\n",
    "newname= '白飯'\n",
    "change_attr(json_path, attr, oldname, newname)"
   ]
  },
  {
   "cell_type": "markdown",
   "metadata": {
    "heading_collapsed": true
   },
   "source": [
    "### name新增"
   ]
  },
  {
   "cell_type": "code",
   "execution_count": null,
   "metadata": {
    "hidden": true
   },
   "outputs": [],
   "source": [
    "# 列出想搜尋的regions name的照片名稱\n",
    "attr = 'name'\n",
    "\n",
    "    for i in aa:\n",
    "        for r in i['regions']:\n",
    "            #print(r['region_attributes'])\n",
    "            if attr not in r['region_attributes']:\n",
    "                r['region_attributes'][attr]='豆芽'\n",
    "                print(i['filename'])\n",
    "                print(r['region_attributes'])\n",
    "        "
   ]
  },
  {
   "cell_type": "markdown",
   "metadata": {
    "heading_collapsed": true
   },
   "source": [
    "### 移除region_attributes"
   ]
  },
  {
   "cell_type": "code",
   "execution_count": null,
   "metadata": {
    "hidden": true
   },
   "outputs": [],
   "source": [
    "import json\n",
    "\n",
    "file_path = '/home/user/Downloads/food/2600芹菜.json'"
   ]
  },
  {
   "cell_type": "code",
   "execution_count": null,
   "metadata": {
    "hidden": true
   },
   "outputs": [],
   "source": [
    "annotations = json.load(open(file_path))\n",
    "aa = list(annotations.values())\n",
    "aa = [r for r in aa if r['regions']]\n",
    "\n",
    "print(len(annotations))\n",
    "print(len(aa))"
   ]
  },
  {
   "cell_type": "code",
   "execution_count": null,
   "metadata": {
    "hidden": true
   },
   "outputs": [],
   "source": [
    "for i in aa:\n",
    "    for r in i['regions']:\n",
    "        #print(r['region_attributes'])\n",
    "        for key in ['芹菜']:\n",
    "            if key in r['region_attributes']: \n",
    "                r['region_attributes'].pop(key)\n",
    "                print(i['filename'])  \n",
    "                print(r['region_attributes'])     "
   ]
  },
  {
   "cell_type": "code",
   "execution_count": null,
   "metadata": {
    "hidden": true
   },
   "outputs": [],
   "source": [
    "# 存json檔\n",
    "jsobj = json.dumps(annotations)\n",
    "\n",
    "with open(file_path,'w') as fw:\n",
    "    fw.write(jsobj)"
   ]
  },
  {
   "cell_type": "markdown",
   "metadata": {
    "heading_collapsed": true
   },
   "source": [
    "### 補空缺資料"
   ]
  },
  {
   "cell_type": "code",
   "execution_count": 1,
   "metadata": {
    "hidden": true
   },
   "outputs": [
    {
     "data": {
      "text/plain": [
       "[{'regions': [{'r': {}, 's': {'n': 'ttt'}}]},\n",
       " {'regions': [{'r': {'name': '1'}, 's': {'n': 'ttt'}}]},\n",
       " {'regions': [{'r': {'name': '1'}, 's': {'n': 'ttt'}}]},\n",
       " {'regions': [{'r': {}, 's': {'n': 'ttt'}}]},\n",
       " {'regions': [{'r': {'name': '1'}, 's': {'n': 'ttt'}}]},\n",
       " {'regions': [{'r': {'name': '1'}, 's': {'n': 'ttt'}}]}]"
      ]
     },
     "execution_count": 1,
     "metadata": {},
     "output_type": "execute_result"
    }
   ],
   "source": [
    "import os\n",
    "import json\n",
    "model = {'111.jpg':{'regions':[{'r':{'name':'1'},'s':{'n':'ttt'}}]},\n",
    "         '222.jpg':{'regions':[{'r':{'name':'1'},'s':{'n':'ttt'}}]},\n",
    "         '333.jpg':{'regions':[{'r':{},'s':{'n':'ttt'}}]},\n",
    "         '444.jpg':{'regions':[{'r':{'name':'1'},'s':{'n':'ttt'}}]},\n",
    "         '555.jpg':{'regions':[{'r':{'name':'1'},'s':{'n':'ttt'}}]},\n",
    "         '666.jpg':{'regions':[{'r':{},'s':{'n':'ttt'}}]},\n",
    "        }                   \n",
    "m= list(model.values())\n",
    "m"
   ]
  },
  {
   "cell_type": "code",
   "execution_count": 2,
   "metadata": {
    "hidden": true
   },
   "outputs": [
    {
     "name": "stdout",
     "output_type": "stream",
     "text": [
      "xxxxxx\n",
      "1\n",
      "1\n",
      "xxxxxx\n",
      "1\n",
      "1\n"
     ]
    }
   ],
   "source": [
    "for i in m:\n",
    "    for a in i['regions']: \n",
    "        if not a['r']:\n",
    "            a['r']['name']='xxxxxx'\n",
    "        print(a['r']['name'])"
   ]
  },
  {
   "cell_type": "code",
   "execution_count": null,
   "metadata": {
    "hidden": true
   },
   "outputs": [],
   "source": [
    "model"
   ]
  },
  {
   "cell_type": "markdown",
   "metadata": {
    "heading_collapsed": true
   },
   "source": [
    "### 補name type"
   ]
  },
  {
   "cell_type": "code",
   "execution_count": null,
   "metadata": {
    "hidden": true
   },
   "outputs": [],
   "source": [
    "import os\n",
    "import sys\n",
    "import json\n",
    "import datetime\n",
    "import numpy as np\n",
    "import skimage.draw\n",
    "\n",
    "\n",
    "subset='train'\n",
    "data_dir='../Mask_RCNN-master/datasets/food/'\n",
    "\n",
    "assert subset in [\"train\", \"val\"]\n",
    "dataset_dir = os.path.join(data_dir, subset)\n",
    "dataset_dir"
   ]
  },
  {
   "cell_type": "code",
   "execution_count": null,
   "metadata": {
    "hidden": true
   },
   "outputs": [],
   "source": [
    "annotations = json.load(open(os.path.join(dataset_dir,'20191217.json')))\n",
    "aa = list(annotations.values())\n",
    "aa = [r for r in aa if r['regions']]\n",
    "\n",
    "print('total img :{}'.format(len(annotations)))\n",
    "print('annotated img : {}'.format(len(aa)))"
   ]
  },
  {
   "cell_type": "code",
   "execution_count": null,
   "metadata": {
    "hidden": true
   },
   "outputs": [],
   "source": [
    "# 指定檔名,更改及查看regions name,type\n",
    "for i in aa:\n",
    "    if i['filename']=='1285.png':\n",
    "        for a in i['regions']:\n",
    "            print(a['region_attributes'])\n",
    "#             a['region_attributes']['type']='肉魚豆蛋類'\n",
    "#             a['region_attributes']['name']='牛肉'\n",
    "#             print(a['region_attributes'])\n",
    "    "
   ]
  },
  {
   "cell_type": "code",
   "execution_count": null,
   "metadata": {
    "hidden": true
   },
   "outputs": [],
   "source": [
    "# 列出沒有標註regions name的照片名稱\n",
    "for i in aa:\n",
    "    for a in i['regions']:\n",
    "        if not 'name' in a['region_attributes']:\n",
    "            print(i['filename'])\n",
    "            break"
   ]
  },
  {
   "cell_type": "code",
   "execution_count": null,
   "metadata": {
    "hidden": true
   },
   "outputs": [],
   "source": [
    "# 給定regions name,type \n",
    "for i in aa:\n",
    "    for a in i['regions']:\n",
    "        if not 'name' in a['region_attributes']:      \n",
    "            a['region_attributes']['name']='南瓜'\n",
    "            a['region_attributes']['type']='五穀糧食類'\n",
    "            print(a['region_attributes'])\n",
    "\n",
    "           "
   ]
  },
  {
   "cell_type": "code",
   "execution_count": null,
   "metadata": {
    "hidden": true
   },
   "outputs": [],
   "source": [
    "jsobj = json.dumps(annotations)\n",
    "\n",
    "with open(os.path.join(dataset_dir,'20191217.json'),'w') as fw:\n",
    "    fw.write(jsobj)"
   ]
  },
  {
   "cell_type": "markdown",
   "metadata": {
    "heading_collapsed": true
   },
   "source": [
    "### 查詢key與value"
   ]
  },
  {
   "cell_type": "code",
   "execution_count": null,
   "metadata": {
    "hidden": true
   },
   "outputs": [],
   "source": [
    "path = '/home/user/Downloads/food/1100-杏鮑菇.json'\n",
    "\n",
    "# 路徑+檔名 > key\n",
    "def getkey(path, filename):\n",
    "    annotation = json.load(open(path))\n",
    "    l=[k for k,v in annotation.items() if v['filename']==filename]\n",
    "    return l[0]\n",
    "               \n",
    "print(getkey(path,'1095.png'))   \n",
    "\n",
    "# 路徑+key > value\n",
    "def key2value(path, key):\n",
    "    annotation = json.load(open(path))\n",
    "    l=[v for k,v in annotation.items() if k==key]\n",
    "    return l[0]\n",
    "\n",
    "# import pprint\n",
    "# pprint.pprint(key2value(path,'1095.png609245'))\n",
    "\n",
    "def getvalue(path, filename):   \n",
    "#     l=[v for k,v in annotation.items() if v['filename']==filename]\n",
    "#     return l[0]\n",
    "    annotation = json.load(open(path)) \n",
    "    for k,v in annotation.items():     \n",
    "        if v['filename']== filename:\n",
    "            return v \n",
    "        \n",
    "# getvalue(path,'1095.png')"
   ]
  },
  {
   "cell_type": "markdown",
   "metadata": {
    "heading_collapsed": true
   },
   "source": [
    "### json檔指定範圍轉移標註資訊"
   ]
  },
  {
   "cell_type": "code",
   "execution_count": null,
   "metadata": {
    "hidden": true
   },
   "outputs": [],
   "source": [
    "#  指定範圍轉移標註資訊\n",
    "def changevalue(oldpath,newpath, a, b):   \n",
    "#     l=[v for k,v in annotation.items() if v['filename']==filename]\n",
    "#     return l[0]\n",
    "    oldannot = json.load(open(oldpath)) \n",
    "    newannot = json.load(open(newpath)) \n",
    "    \n",
    "    for k,v in oldannot.items():    \n",
    "        for i in range(a,b+1):\n",
    "            fname = str(i)+'.png'\n",
    "            if v['filename']== fname:\n",
    "#                 pprint.pprint(v)\n",
    "                newannot[k]=v\n",
    "    \n",
    "    jsobj = json.dumps(newannot)\n",
    "    with open(newpath, 'w') as fw:\n",
    "        fw.write(jsobj)   \n",
    "        "
   ]
  },
  {
   "cell_type": "code",
   "execution_count": null,
   "metadata": {
    "hidden": true
   },
   "outputs": [],
   "source": [
    "old = '/dataDisk/Downloads/2500白飯.json'\n",
    "new = '/dataDisk/Downloads/allannot.json'\n",
    "changevalue(old,new, 2460 , 2460)"
   ]
  },
  {
   "cell_type": "markdown",
   "metadata": {
    "heading_collapsed": true
   },
   "source": [
    "### json檔合併"
   ]
  },
  {
   "cell_type": "code",
   "execution_count": null,
   "metadata": {
    "hidden": true
   },
   "outputs": [],
   "source": [
    "import os\n",
    "from os import listdir\n",
    "from os.path import isfile, isdir, join ,getsize\n",
    "# json檔合併\n",
    "def joinjson(fdir, newname='allannot'):\n",
    "    all_annot={}\n",
    "    files = listdir(fdir)\n",
    "    # 取出檔名\n",
    "    for f in files:\n",
    "        # 檔案的絕對路徑\n",
    "        fullpath = os.path.join(fdir, f)\n",
    "        # 判斷是否檔案\n",
    "        if isfile(fullpath):\n",
    "            # 判斷是否json\n",
    "            if fullpath.split('.')[1]== 'json':\n",
    "                # 加入\n",
    "                annot = json.load(open(fullpath))\n",
    "                all_annot.update(annot)\n",
    "                print('%d >>> %s'%(len(annot), f))\n",
    "\n",
    "    print('number of images: %d'%len(all_annot))\n",
    "    \n",
    "    # 存json檔\n",
    "    jsobj = json.dumps(all_annot)\n",
    "    with open(os.path.join(fdir , newname+'.json') ,'w') as fw:\n",
    "        fw.write(jsobj)   \n",
    "            \n",
    "\n",
    "fdir = '/dataDisk/Downloads/彙整1-5600/'\n",
    "annot = joinjson(fdir)"
   ]
  },
  {
   "cell_type": "markdown",
   "metadata": {},
   "source": [
    "### 改圖片格式並傳回新舊key名稱"
   ]
  },
  {
   "cell_type": "code",
   "execution_count": null,
   "metadata": {},
   "outputs": [],
   "source": [
    "import os\n",
    "import imghdr\n",
    "from PIL import Image\n",
    "# 資料夾篩選非png檔改成png檔 , 並建立新舊檔名dict\n",
    "def changeimgname(dir_path):\n",
    "    files=os.listdir(dir_path)\n",
    "    fname={}\n",
    "    # 檔名\n",
    "    for f in files:  \n",
    "        # 路徑\n",
    "        imgpath=dir_path+f\n",
    "        # 是否圖片\n",
    "        if imghdr.what(imgpath): \n",
    "            # 開啟圖片\n",
    "            img = Image.open(imgpath)\n",
    "            # 判斷格式是否png\n",
    "            if img.format != 'PNG':  \n",
    "                # 原照片size\n",
    "                size = os.path.getsize(imgpath)\n",
    "                # 判斷副檔名非png改png\n",
    "                if os.path.splitext(f)[-1] != '.png':\n",
    "                    name = f.split('.')[0]+'.png' \n",
    "                    os.remove(imgpath)  \n",
    "                else: \n",
    "                    name = f\n",
    "                \n",
    "                # 儲存新檔\n",
    "                path = dir_path + name  \n",
    "                img.save(path)\n",
    "                # 新檔size\n",
    "                new_size = os.path.getsize(path)\n",
    "                # 建立新舊檔名dict (檔名加上size)\n",
    "                key = f+str(size)\n",
    "                new_key = name + str(new_size)               \n",
    "                fname[key] =  new_key\n",
    "                \n",
    "                print(f + ' >>> '+ name) \n",
    "    return fname\n",
    "    print(fname)       "
   ]
  },
  {
   "cell_type": "code",
   "execution_count": null,
   "metadata": {},
   "outputs": [],
   "source": [
    "path='/dataDisk/myfloder/jupyter/Mask_RCNN-master/datasets/food/val/'\n",
    "# path= '/dataDisk/Downloads/食材照片/'\n",
    "# path='/home/user/Downloads/3300蝦/'\n",
    "fname = changeimgname(path)"
   ]
  },
  {
   "cell_type": "code",
   "execution_count": null,
   "metadata": {},
   "outputs": [],
   "source": [
    "json_path ='/dataDisk/myfloder/jupyter/Mask_RCNN-master/datasets/food/val/allannot.json'\n",
    "# json_path = '/dataDisk/Downloads/allannot.json'\n",
    "changelabel(json_path)"
   ]
  },
  {
   "cell_type": "code",
   "execution_count": null,
   "metadata": {},
   "outputs": [],
   "source": [
    "# 修改json檔  替換新的key  與  value: size,filename\n",
    "def changelabel(json_path): \n",
    "    # 載入json\n",
    "    annot = json.load(open(json_path))\n",
    "    # 從dict讀取新舊key\n",
    "    for k,v in fname.items(): \n",
    "        if k in annot:\n",
    "            annot[v]= annot.pop(k)    \n",
    "            annot[v]['size']=int(v.split('png')[1]) \n",
    "            annot[v]['filename'] = v.split('.')[0]+'.png'   \n",
    "            \n",
    "            print(annot[v]['filename'])\n",
    "\n",
    "    # 存json檔\n",
    "    jsobj = json.dumps(annot)\n",
    "    with open(json_path ,'w') as fw:\n",
    "        fw.write(jsobj)"
   ]
  },
  {
   "cell_type": "code",
   "execution_count": null,
   "metadata": {},
   "outputs": [],
   "source": [
    "json_path = '/home/user/Downloads/4900白菜.json'\n",
    "changelabel(json_path)"
   ]
  },
  {
   "cell_type": "markdown",
   "metadata": {},
   "source": [
    "### no apply"
   ]
  },
  {
   "cell_type": "code",
   "execution_count": null,
   "metadata": {},
   "outputs": [],
   "source": [
    "# 存json檔\n",
    "jsobj = json.dumps(annot)\n",
    "\n",
    "with open(os.path.join(jpath,'new'+jfname) ,'w') as fw:\n",
    "    fw.write(jsobj)"
   ]
  },
  {
   "cell_type": "code",
   "execution_count": null,
   "metadata": {},
   "outputs": [],
   "source": [
    "xxx = {'a':1, 'b':2}\n",
    "print(xxx)\n",
    "xxx[\"c\"] = xxx.pop(\"a\")\n",
    "print(xxx)\n",
    "\n"
   ]
  },
  {
   "cell_type": "code",
   "execution_count": null,
   "metadata": {},
   "outputs": [],
   "source": [
    "import os\n",
    "import sys\n",
    "import json\n",
    "import datetime\n",
    "import numpy as np\n",
    "import skimage.draw\n",
    "\n",
    "\n",
    "# subset='train'\n",
    "# data_dir='../Mask_RCNN-master/datasets/food/'\n",
    "\n",
    "# assert subset in [\"train\", \"val\"]\n",
    "# savepath = os.path.join(data_dir, subset)\n",
    "\n",
    "#file_path = '../Mask_RCNN-master/datasets/food/地瓜931-960.json'\n",
    "file_path = '/home/user/Downloads/5000 空心菜.json'\n",
    "\n",
    "#savepath = '../Mask_RCNN-master/datasets/food/'\n",
    "savepath = os.path.dirname(file_path)\n",
    "print('savepath: %s'%savepath)\n",
    "\n",
    "savename = os.path.basename(file_path)\n",
    "#savename = '地瓜901-930.json'\n",
    "print('savename: %s'%savename)"
   ]
  },
  {
   "cell_type": "code",
   "execution_count": null,
   "metadata": {},
   "outputs": [],
   "source": []
  },
  {
   "cell_type": "code",
   "execution_count": null,
   "metadata": {},
   "outputs": [],
   "source": []
  },
  {
   "cell_type": "code",
   "execution_count": null,
   "metadata": {},
   "outputs": [],
   "source": [
    "from os import listdir\n",
    "import imghdr\n",
    "from PIL import Image \n",
    "import shutil\n",
    "# 圖格式轉換並傳回新舊key名稱\n",
    "def imgtopng(fdir):\n",
    "    fname={}\n",
    "    files=listdir(fdir) \n",
    "    \n",
    "    for f in files:  \n",
    "        imgpath=fdir+f\n",
    "        #判斷是否檔案\n",
    "        if isfile(imgpath):\n",
    "            #判斷是否圖片\n",
    "            if imghdr.what(imgpath): \n",
    "                #載入圖片\n",
    "                img = Image.open(imgpath)\n",
    "                #判斷是否png\n",
    "                if img.format != 'PNG':\n",
    "                    print('%s'%imgpath)\n",
    "                    #原名+原size\n",
    "                    tmp = f+str(getsize(imgpath))\n",
    "                    #目標資料夾名稱\n",
    "                    dstdir = join(os.path.dirname(imgpath),'..','save')\n",
    "    #                 os.path.abspath(join(os.path.dirname(imgpath), '..'))\n",
    "                    #判斷資料夾存在\n",
    "                    if os.path.isdir(dstdir) == False:\n",
    "                        os.makedirs(dstdir)\n",
    "                    # 移動檔案\n",
    "                    shutil.move(imgpath, dstdir);\n",
    "                    # 存成png檔\n",
    "                    img.save(imgpath,'png') \n",
    "                    # 原名+新size\n",
    "                    fname[tmp]= f+str(getsize(imgpath))     \n",
    "#     print(fname)    \n",
    "    return fname\n",
    "\n",
    "fdir = '/home/user/Downloads/food/5500 豆芽 (另一個副本)/'\n",
    "imgtopng(fdir)"
   ]
  },
  {
   "cell_type": "markdown",
   "metadata": {},
   "source": [
    "### 修改key size"
   ]
  },
  {
   "cell_type": "code",
   "execution_count": null,
   "metadata": {},
   "outputs": [],
   "source": [
    "def fixfig(json_path, fname):\n",
    "    annot = json.load(open(json_path))\n",
    "\n",
    "    for k,v in fname.items(): \n",
    "        annot[v]= annot.pop(k)    \n",
    "        annot[v]['size']=int(v.split('png')[1])   \n",
    "        print(annot[v])\n",
    "    # 存json檔\n",
    "    jsobj = json.dumps(annot)\n",
    "    with open(json_path, 'w') as fw:\n",
    "        fw.write(jsobj)   "
   ]
  },
  {
   "cell_type": "markdown",
   "metadata": {
    "heading_collapsed": true
   },
   "source": [
    "### no apply"
   ]
  },
  {
   "cell_type": "code",
   "execution_count": null,
   "metadata": {
    "hidden": true
   },
   "outputs": [],
   "source": [
    "path = '/home/user/Downloads/food/1100-杏鮑菇.json'\n",
    "annot = json.load(open(path)) \n",
    "annot"
   ]
  },
  {
   "cell_type": "code",
   "execution_count": null,
   "metadata": {
    "hidden": true
   },
   "outputs": [],
   "source": [
    "import pprint\n",
    "path = '/home/user/Downloads/food/1100-杏鮑菇.json'\n",
    "# annotation = json.load(open(path)) \n",
    "a=1095\n",
    "b=1100\n",
    "for i in range(a,b+1):\n",
    "    f = str(i)+'.png'\n",
    "#     pprint.pprint(getvalue(path, f))\n",
    "    \n"
   ]
  },
  {
   "cell_type": "code",
   "execution_count": null,
   "metadata": {
    "hidden": true
   },
   "outputs": [],
   "source": [
    "import os\n",
    "from os.path import isfile, isdir, join ,getsize\n",
    "imgpath = '/home/user/Downloads/food/5500 豆芽 (另一個副本)/555.png'\n",
    "dstdir = join(os.path.dirname(imgpath),'..','save')\n",
    "os.path.abspath(dstdir)"
   ]
  },
  {
   "cell_type": "code",
   "execution_count": null,
   "metadata": {
    "hidden": true
   },
   "outputs": [],
   "source": []
  },
  {
   "cell_type": "code",
   "execution_count": null,
   "metadata": {
    "hidden": true
   },
   "outputs": [],
   "source": [
    "for key in new_annot:\n",
    "    if new_annot[key]['filename'] == fname:   \n",
    "        print(key)\n",
    "        old_key = key\n",
    "        \n",
    "del new_annot[old_key]\n",
    "new_annot[target_key] = target_value\n",
    "print(new_annot[target_key])"
   ]
  },
  {
   "cell_type": "code",
   "execution_count": null,
   "metadata": {
    "hidden": true
   },
   "outputs": [],
   "source": [
    "# 存json檔\n",
    "jsobj = json.dumps(new_annot)\n",
    "\n",
    "with open(new_path ,'w') as fw:\n",
    "    fw.write(jsobj)"
   ]
  },
  {
   "cell_type": "code",
   "execution_count": null,
   "metadata": {
    "hidden": true
   },
   "outputs": [],
   "source": [
    "#annotations = json.load(open(os.path.join(dataset_dir,'20191217.json')))\n",
    "annotations = json.load(open(file_path))\n",
    "aa = list(annotations.values())\n",
    "\n",
    "for i in aa:\n",
    "    if i['filename'] == fname:\n",
    "#         target_regions = i['regions']\n",
    "#         target_size = i['size']\n",
    "        target_i = i\n",
    "        #print(target_regions)\n",
    "        print(target_i)"
   ]
  },
  {
   "cell_type": "code",
   "execution_count": null,
   "metadata": {
    "hidden": true
   },
   "outputs": [],
   "source": [
    "new_annotations = json.load(open(new_path))\n",
    "bb = list(new_annotations.values())\n",
    "for i in bb:\n",
    "    if i['filename'] == fname:\n",
    "#         old_regions=i['regions']\n",
    "#         i['regions'] = target_regions\n",
    "#         print(str(old_regions) + \"  >>>  \" + str(i['regions']))\n",
    "        i = target_i        \n",
    "        print(i)\n",
    "        "
   ]
  },
  {
   "cell_type": "code",
   "execution_count": null,
   "metadata": {
    "hidden": true
   },
   "outputs": [],
   "source": [
    "import os\n",
    "import json\n",
    "from os import listdir\n",
    "from os.path import isfile, isdir, join ,getsize\n",
    "\n",
    "from PIL import Image \n",
    "import imghdr\n",
    "import shutil\n",
    "\n",
    "# fdir = '/home/user/Downloads/food/124/'\n",
    "# newname = 'all.json'\n",
    "# mode = 0"
   ]
  },
  {
   "cell_type": "markdown",
   "metadata": {
    "heading_collapsed": true
   },
   "source": [
    "### 查詢沒有標注的照片,移出檔案"
   ]
  },
  {
   "cell_type": "code",
   "execution_count": null,
   "metadata": {
    "hidden": true
   },
   "outputs": [],
   "source": [
    "import os\n",
    "import sys\n",
    "import json\n",
    "\n",
    "subset='train'\n",
    "data_dir='../Mask_RCNN-master/datasets/food/'\n",
    "\n",
    "assert subset in [\"train\", \"val\"]\n",
    "dataset_dir = os.path.join(data_dir, subset)\n",
    "dataset_dir"
   ]
  },
  {
   "cell_type": "code",
   "execution_count": null,
   "metadata": {
    "hidden": true
   },
   "outputs": [],
   "source": [
    "import shutil\n",
    "annotations = json.load(open(os.path.join(dataset_dir,'20191217.json')))\n",
    "aa = list(annotations.values())\n",
    "\n",
    "for r in aa:\n",
    "    if not r['regions']:\n",
    "        print(os.path.join(dataset_dir,r['filename']))\n",
    "        shutil.move(os.path.join(dataset_dir,r['filename']),os.path.join(dataset_dir,'..'))"
   ]
  },
  {
   "cell_type": "code",
   "execution_count": null,
   "metadata": {
    "hidden": true
   },
   "outputs": [],
   "source": []
  },
  {
   "cell_type": "code",
   "execution_count": null,
   "metadata": {
    "hidden": true
   },
   "outputs": [],
   "source": []
  },
  {
   "cell_type": "markdown",
   "metadata": {},
   "source": [
    "## 找指定名稱標註"
   ]
  },
  {
   "cell_type": "code",
   "execution_count": null,
   "metadata": {},
   "outputs": [],
   "source": []
  },
  {
   "cell_type": "code",
   "execution_count": null,
   "metadata": {},
   "outputs": [],
   "source": []
  },
  {
   "cell_type": "code",
   "execution_count": null,
   "metadata": {},
   "outputs": [],
   "source": []
  },
  {
   "cell_type": "code",
   "execution_count": null,
   "metadata": {},
   "outputs": [],
   "source": []
  }
 ],
 "metadata": {
  "kernelspec": {
   "display_name": "Python 3",
   "language": "python",
   "name": "python3"
  },
  "language_info": {
   "codemirror_mode": {
    "name": "ipython",
    "version": 3
   },
   "file_extension": ".py",
   "mimetype": "text/x-python",
   "name": "python",
   "nbconvert_exporter": "python",
   "pygments_lexer": "ipython3",
   "version": "3.5.2"
  },
  "varInspector": {
   "cols": {
    "lenName": 16,
    "lenType": 16,
    "lenVar": 40
   },
   "kernels_config": {
    "python": {
     "delete_cmd_postfix": "",
     "delete_cmd_prefix": "del ",
     "library": "var_list.py",
     "varRefreshCmd": "print(var_dic_list())"
    },
    "r": {
     "delete_cmd_postfix": ") ",
     "delete_cmd_prefix": "rm(",
     "library": "var_list.r",
     "varRefreshCmd": "cat(var_dic_list()) "
    }
   },
   "oldHeight": 563.3295380000001,
   "position": {
    "height": "584.868px",
    "left": "760.608px",
    "right": "20px",
    "top": "104.901px",
    "width": "283.462px"
   },
   "types_to_exclude": [
    "module",
    "function",
    "builtin_function_or_method",
    "instance",
    "_Feature"
   ],
   "varInspector_section_display": "block",
   "window_display": false
  }
 },
 "nbformat": 4,
 "nbformat_minor": 2
}
