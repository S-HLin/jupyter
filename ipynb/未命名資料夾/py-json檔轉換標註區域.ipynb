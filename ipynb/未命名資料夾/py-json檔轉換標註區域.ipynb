{
 "cells": [
  {
   "cell_type": "markdown",
   "metadata": {
    "heading_collapsed": true
   },
   "source": [
    "### json修改照片key與標註區域"
   ]
  },
  {
   "cell_type": "code",
   "execution_count": 12,
   "metadata": {
    "hidden": true
   },
   "outputs": [
    {
     "name": "stdout",
     "output_type": "stream",
     "text": [
      "1095.png609245\n"
     ]
    }
   ],
   "source": [
    "path = '/home/user/Downloads/food/1100-杏鮑菇.json'\n",
    "\n",
    "# 路徑+檔名 > key\n",
    "def getkey(path, filename):\n",
    "    annotation = json.load(open(path))\n",
    "    l=[k for k,v in annotation.items() if v['filename']==filename]\n",
    "    return l[0]\n",
    "               \n",
    "print(getkey(path,'1095.png'))   \n",
    "\n",
    "# 路徑+key > value\n",
    "def key2value(path, key):\n",
    "    annotation = json.load(open(path))\n",
    "    l=[v for k,v in annotation.items() if k==key]\n",
    "    return l[0]\n",
    "\n",
    "# import pprint\n",
    "# pprint.pprint(key2value(path,'1095.png609245'))\n",
    "\n",
    "def getvalue(path, filename):   \n",
    "#     l=[v for k,v in annotation.items() if v['filename']==filename]\n",
    "#     return l[0]\n",
    "    annotation = json.load(open(path)) \n",
    "    for k,v in annotation.items():     \n",
    "        if v['filename']== filename:\n",
    "            return v \n",
    "        \n",
    "# getvalue(path,'1095.png')"
   ]
  },
  {
   "cell_type": "markdown",
   "metadata": {
    "heading_collapsed": true
   },
   "source": [
    "### 指定範圍轉移標註資訊"
   ]
  },
  {
   "cell_type": "code",
   "execution_count": 18,
   "metadata": {
    "hidden": true
   },
   "outputs": [],
   "source": [
    "#  指定範圍轉移標註資訊\n",
    "def changevalue(oldpath,newpath, a, b):   \n",
    "#     l=[v for k,v in annotation.items() if v['filename']==filename]\n",
    "#     return l[0]\n",
    "    oldannot = json.load(open(oldpath)) \n",
    "    newannot = json.load(open(newpath)) \n",
    "    \n",
    "    for k,v in oldannot.items():    \n",
    "        for i in range(a,b+1):\n",
    "            fname = str(i)+'.png'\n",
    "            if v['filename']== fname:\n",
    "#                 pprint.pprint(v)\n",
    "                newannot[k]=v\n",
    "    \n",
    "    jsobj = json.dumps(newannot)\n",
    "    with open(newpath, 'w') as fw:\n",
    "        fw.write(jsobj)   \n",
    "        "
   ]
  },
  {
   "cell_type": "code",
   "execution_count": 19,
   "metadata": {
    "hidden": true
   },
   "outputs": [],
   "source": [
    "old = '/dataDisk/Downloads/2500白飯.json'\n",
    "new = '/dataDisk/Downloads/allannot.json'\n",
    "changevalue(old,new, 2460 , 2460)"
   ]
  },
  {
   "cell_type": "markdown",
   "metadata": {
    "heading_collapsed": true
   },
   "source": [
    "### json檔合併"
   ]
  },
  {
   "cell_type": "code",
   "execution_count": 3,
   "metadata": {
    "hidden": true,
    "run_control": {
     "marked": false
    }
   },
   "outputs": [
    {
     "name": "stdout",
     "output_type": "stream",
     "text": [
      "100 >>> 900鴨.json\n",
      "100 >>> 3100牛肉.json\n",
      "100 >>> 4900白菜.json\n",
      "100 >>> 3600香菇.json\n",
      "100 >>> 3800杏鮑菇.json\n",
      "100 >>> 4100南瓜.json\n",
      "100 >>> 3300蝦.json\n",
      "100 >>> 4300青椒.json\n",
      "100 >>> 700茄子.json\n",
      "100 >>> 4500小黃瓜.json\n",
      "100 >>> 400牛肉.json\n",
      "100 >>> 1800香菇.json\n",
      "100 >>> 3500蛋.json\n",
      "100 >>> 3200魚.json\n",
      "100 >>> 5300青江菜.json\n",
      "100 >>> 500魚肉.json\n",
      "100 >>> 1600苦瓜.json\n",
      "100 >>> 4200茄子.json\n",
      "100 >>> 2200青江菜.json\n",
      "100 >>> 1400紅蘿蔔.json\n",
      "100 >>> 2400大白菜.json\n",
      "100 >>> 1900白蘿蔔.json\n",
      "100 >>> 1300南瓜.json\n",
      "100 >>> 100蛋.json\n",
      "100 >>> 1200洋芋.json\n",
      "100 >>> 600蝦.json\n",
      "100 >>> 2500白飯.json\n",
      "100 >>> 2000空心菜.json\n",
      "100 >>> 5600豆芽.json\n",
      "100 >>> 2100高麗菜.json\n",
      "100 >>> 4800苦瓜.json\n",
      "100 >>> 2900豬肉.json\n",
      "100 >>> 5100高麗菜.json\n",
      "100 >>> 3000雞肉.json\n",
      "100 >>> 4700芹菜.json\n",
      "100 >>> 1100杏鮑菇.json\n",
      "100 >>> 4400地瓜.json\n",
      "100 >>> 800豆腐.json\n",
      "100 >>> 1700青椒.json\n",
      "100 >>> 2600芹菜.json\n",
      "100 >>> 5400油菜.json\n",
      "100 >>> 4000 洋芋.json\n",
      "100 >>> 300雞肉.json\n",
      "100 >>> 2700玉米.json\n",
      "100 >>> 1500小黃瓜.json\n",
      "100 >>> 5500白飯.json\n",
      "100 >>> 2800豆芽.json\n",
      "100 >>> 1000地瓜.json\n",
      "100 >>> 4600鴨肉.json\n",
      "100 >>> 5000空心菜.json\n",
      "100 >>> 2300油菜.json\n",
      "100 >>> 3400豆腐.json\n",
      "100 >>> 3700紅蘿蔔.json\n",
      "100 >>> 5200玉米.json\n",
      "100 >>> 3900白蘿蔔.json\n",
      "100 >>> 200豬.json\n",
      "number of images: 5600\n"
     ]
    }
   ],
   "source": [
    "import os\n",
    "from os import listdir\n",
    "from os.path import isfile, isdir, join ,getsize\n",
    "# json檔合併\n",
    "def joinjson(fdir, newname='allannot'):\n",
    "    all_annot={}\n",
    "    files = listdir(fdir)\n",
    "    # 取出檔名\n",
    "    for f in files:\n",
    "        # 檔案的絕對路徑\n",
    "        fullpath = os.path.join(fdir, f)\n",
    "        # 判斷是否檔案\n",
    "        if isfile(fullpath):\n",
    "            # 判斷是否json\n",
    "            if fullpath.split('.')[1]== 'json':\n",
    "                # 加入\n",
    "                annot = json.load(open(fullpath))\n",
    "                all_annot.update(annot)\n",
    "                print('%d >>> %s'%(len(annot), f))\n",
    "\n",
    "    print('number of images: %d'%len(all_annot))\n",
    "    \n",
    "    # 存json檔\n",
    "    jsobj = json.dumps(all_annot)\n",
    "    with open(os.path.join(fdir , newname+'.json') ,'w') as fw:\n",
    "        fw.write(jsobj)   \n",
    "            \n",
    "\n",
    "fdir = '/dataDisk/Downloads/彙整1-5600/'\n",
    "annot = joinjson(fdir)"
   ]
  },
  {
   "cell_type": "markdown",
   "metadata": {
    "heading_collapsed": true
   },
   "source": [
    "### 圖格式轉換並傳回新舊key名稱"
   ]
  },
  {
   "cell_type": "code",
   "execution_count": 20,
   "metadata": {
    "hidden": true
   },
   "outputs": [
    {
     "name": "stdout",
     "output_type": "stream",
     "text": [
      "/home/user/Downloads/food/5500 豆芽 (另一個副本)/666.png\n",
      "/home/user/Downloads/food/5500 豆芽 (另一個副本)/555.png\n"
     ]
    },
    {
     "data": {
      "text/plain": [
       "{'555.png51229': '555.png408164', '666.png19965': '666.png141100'}"
      ]
     },
     "execution_count": 20,
     "metadata": {},
     "output_type": "execute_result"
    }
   ],
   "source": [
    "from os import listdir\n",
    "import imghdr\n",
    "from PIL import Image \n",
    "import shutil\n",
    "# 圖格式轉換並傳回新舊key名稱\n",
    "def imgtopng(fdir):\n",
    "    fname={}\n",
    "    files=listdir(fdir) \n",
    "    \n",
    "    for f in files:  \n",
    "        imgpath=fdir+f\n",
    "        #判斷是否檔案\n",
    "        if isfile(imgpath):\n",
    "            #判斷是否圖片\n",
    "            if imghdr.what(imgpath): \n",
    "                #載入圖片\n",
    "                img = Image.open(imgpath)\n",
    "                #判斷是否png\n",
    "                if img.format != 'PNG':\n",
    "                    print('%s'%imgpath)\n",
    "                    #原名+原size\n",
    "                    tmp = f+str(getsize(imgpath))\n",
    "                    #目標資料夾名稱\n",
    "                    dstdir = join(os.path.dirname(imgpath),'..','save')\n",
    "    #                 os.path.abspath(join(os.path.dirname(imgpath), '..'))\n",
    "                    #判斷資料夾存在\n",
    "                    if os.path.isdir(dstdir) == False:\n",
    "                        os.makedirs(dstdir)\n",
    "                    # 移動檔案\n",
    "                    shutil.move(imgpath, dstdir);\n",
    "                    # 存成png檔\n",
    "                    img.save(imgpath,'png') \n",
    "                    # 原名+新size\n",
    "                    fname[tmp]= f+str(getsize(imgpath))     \n",
    "#     print(fname)    \n",
    "    return fname\n",
    "\n",
    "fdir = '/home/user/Downloads/food/5500 豆芽 (另一個副本)/'\n",
    "imgtopng(fdir)"
   ]
  },
  {
   "cell_type": "code",
   "execution_count": 28,
   "metadata": {
    "hidden": true
   },
   "outputs": [],
   "source": [
    "from os import listdir\n",
    "import imghdr\n",
    "from PIL import Image \n",
    "import shutil\n",
    "# 圖格式轉換並傳回新舊key名稱\n",
    "def imgtopng(fdir):\n",
    "    files=listdir(fdir) \n",
    "    \n",
    "    for f in files:  \n",
    "        imgpath=fdir+f \n",
    "        # 判斷是否檔案\n",
    "        if isfile(imgpath):\n",
    "            # 判斷是否圖片\n",
    "            if imghdr.what(imgpath): \n",
    "                #載入圖片\n",
    "                img = Image.open(imgpath)\n",
    "                #判斷是否png\n",
    "                if img.format != 'PNG':\n",
    "                    # 存成png檔\n",
    "                    img.save(imgpath,'png') \n",
    "\n",
    "# fdir = '/home/user/Downloads/food/5500 豆芽 (另一個副本)/'\n",
    "# imgtopng(fdir)"
   ]
  },
  {
   "cell_type": "code",
   "execution_count": 29,
   "metadata": {
    "hidden": true
   },
   "outputs": [
    {
     "ename": "OSError",
     "evalue": "cannot identify image file '/home/user/Downloads/food/5500 豆芽 (另一個副本)/w2d3rfr3.png'",
     "output_type": "error",
     "traceback": [
      "\u001b[0;31m---------------------------------------------------------------------------\u001b[0m",
      "\u001b[0;31mOSError\u001b[0m                                   Traceback (most recent call last)",
      "\u001b[0;32m<ipython-input-29-ee588a2f3b66>\u001b[0m in \u001b[0;36m<module>\u001b[0;34m\u001b[0m\n\u001b[1;32m      1\u001b[0m \u001b[0mfdir\u001b[0m \u001b[0;34m=\u001b[0m \u001b[0;34m'/home/user/Downloads/food/5500 豆芽 (另一個副本)/'\u001b[0m\u001b[0;34m\u001b[0m\u001b[0m\n\u001b[0;32m----> 2\u001b[0;31m \u001b[0mimgtopng\u001b[0m\u001b[0;34m(\u001b[0m\u001b[0mfdir\u001b[0m\u001b[0;34m)\u001b[0m\u001b[0;34m\u001b[0m\u001b[0m\n\u001b[0m",
      "\u001b[0;32m<ipython-input-28-82bfdad81b1d>\u001b[0m in \u001b[0;36mimgtopng\u001b[0;34m(fdir)\u001b[0m\n\u001b[1;32m     14\u001b[0m \u001b[0;31m#             if imghdr.what(imgpath):\u001b[0m\u001b[0;34m\u001b[0m\u001b[0;34m\u001b[0m\u001b[0m\n\u001b[1;32m     15\u001b[0m             \u001b[0;31m#載入圖片\u001b[0m\u001b[0;34m\u001b[0m\u001b[0;34m\u001b[0m\u001b[0m\n\u001b[0;32m---> 16\u001b[0;31m             \u001b[0mimg\u001b[0m \u001b[0;34m=\u001b[0m \u001b[0mImage\u001b[0m\u001b[0;34m.\u001b[0m\u001b[0mopen\u001b[0m\u001b[0;34m(\u001b[0m\u001b[0mimgpath\u001b[0m\u001b[0;34m)\u001b[0m\u001b[0;34m\u001b[0m\u001b[0m\n\u001b[0m\u001b[1;32m     17\u001b[0m             \u001b[0;31m#判斷是否png\u001b[0m\u001b[0;34m\u001b[0m\u001b[0;34m\u001b[0m\u001b[0m\n\u001b[1;32m     18\u001b[0m             \u001b[0;32mif\u001b[0m \u001b[0mimg\u001b[0m\u001b[0;34m.\u001b[0m\u001b[0mformat\u001b[0m \u001b[0;34m!=\u001b[0m \u001b[0;34m'PNG'\u001b[0m\u001b[0;34m:\u001b[0m\u001b[0;34m\u001b[0m\u001b[0m\n",
      "\u001b[0;32m/usr/local/lib/python3.5/dist-packages/PIL/Image.py\u001b[0m in \u001b[0;36mopen\u001b[0;34m(fp, mode)\u001b[0m\n\u001b[1;32m   2816\u001b[0m     \u001b[0;32mfor\u001b[0m \u001b[0mmessage\u001b[0m \u001b[0;32min\u001b[0m \u001b[0maccept_warnings\u001b[0m\u001b[0;34m:\u001b[0m\u001b[0;34m\u001b[0m\u001b[0m\n\u001b[1;32m   2817\u001b[0m         \u001b[0mwarnings\u001b[0m\u001b[0;34m.\u001b[0m\u001b[0mwarn\u001b[0m\u001b[0;34m(\u001b[0m\u001b[0mmessage\u001b[0m\u001b[0;34m)\u001b[0m\u001b[0;34m\u001b[0m\u001b[0m\n\u001b[0;32m-> 2818\u001b[0;31m     \u001b[0;32mraise\u001b[0m \u001b[0mIOError\u001b[0m\u001b[0;34m(\u001b[0m\u001b[0;34m\"cannot identify image file %r\"\u001b[0m \u001b[0;34m%\u001b[0m \u001b[0;34m(\u001b[0m\u001b[0mfilename\u001b[0m \u001b[0;32mif\u001b[0m \u001b[0mfilename\u001b[0m \u001b[0;32melse\u001b[0m \u001b[0mfp\u001b[0m\u001b[0;34m)\u001b[0m\u001b[0;34m)\u001b[0m\u001b[0;34m\u001b[0m\u001b[0m\n\u001b[0m\u001b[1;32m   2819\u001b[0m \u001b[0;34m\u001b[0m\u001b[0m\n\u001b[1;32m   2820\u001b[0m \u001b[0;34m\u001b[0m\u001b[0m\n",
      "\u001b[0;31mOSError\u001b[0m: cannot identify image file '/home/user/Downloads/food/5500 豆芽 (另一個副本)/w2d3rfr3.png'"
     ]
    }
   ],
   "source": [
    "fdir = '/home/user/Downloads/food/5500 豆芽 (另一個副本)/'\n",
    "imgtopng(fdir)"
   ]
  },
  {
   "cell_type": "markdown",
   "metadata": {
    "heading_collapsed": true
   },
   "source": [
    "### 修改json檔資訊"
   ]
  },
  {
   "cell_type": "code",
   "execution_count": null,
   "metadata": {
    "hidden": true,
    "run_control": {
     "marked": true
    }
   },
   "outputs": [],
   "source": [
    "def fixfig(json_path, fname):\n",
    "    annot = json.load(open(json_path))\n",
    "\n",
    "    for k,v in fname.items(): \n",
    "        annot[v]= annot.pop(k)    \n",
    "        annot[v]['size']=int(v.split('png')[1])   \n",
    "        print(annot[v])\n",
    "    # 存json檔\n",
    "    jsobj = json.dumps(annot)\n",
    "    with open(json_path, 'w') as fw:\n",
    "        fw.write(jsobj)   "
   ]
  },
  {
   "cell_type": "code",
   "execution_count": null,
   "metadata": {
    "hidden": true
   },
   "outputs": [],
   "source": []
  },
  {
   "cell_type": "markdown",
   "metadata": {
    "heading_collapsed": true
   },
   "source": [
    "### nnn"
   ]
  },
  {
   "cell_type": "code",
   "execution_count": null,
   "metadata": {
    "hidden": true
   },
   "outputs": [],
   "source": [
    "path = '/home/user/Downloads/food/1100-杏鮑菇.json'\n",
    "annot = json.load(open(path)) \n",
    "annot"
   ]
  },
  {
   "cell_type": "code",
   "execution_count": null,
   "metadata": {
    "hidden": true
   },
   "outputs": [],
   "source": [
    "import pprint\n",
    "path = '/home/user/Downloads/food/1100-杏鮑菇.json'\n",
    "# annotation = json.load(open(path)) \n",
    "a=1095\n",
    "b=1100\n",
    "for i in range(a,b+1):\n",
    "    f = str(i)+'.png'\n",
    "#     pprint.pprint(getvalue(path, f))\n",
    "    \n"
   ]
  },
  {
   "cell_type": "code",
   "execution_count": 11,
   "metadata": {
    "hidden": true
   },
   "outputs": [
    {
     "data": {
      "text/plain": [
       "'/home/user/Downloads/food/save'"
      ]
     },
     "execution_count": 11,
     "metadata": {},
     "output_type": "execute_result"
    }
   ],
   "source": [
    "import os\n",
    "from os.path import isfile, isdir, join ,getsize\n",
    "imgpath = '/home/user/Downloads/food/5500 豆芽 (另一個副本)/555.png'\n",
    "dstdir = join(os.path.dirname(imgpath),'..','save')\n",
    "os.path.abspath(dstdir)"
   ]
  },
  {
   "cell_type": "code",
   "execution_count": null,
   "metadata": {
    "hidden": true
   },
   "outputs": [],
   "source": []
  },
  {
   "cell_type": "code",
   "execution_count": null,
   "metadata": {
    "hidden": true
   },
   "outputs": [],
   "source": []
  },
  {
   "cell_type": "markdown",
   "metadata": {
    "heading_collapsed": true
   },
   "source": [
    "### no apply"
   ]
  },
  {
   "cell_type": "code",
   "execution_count": null,
   "metadata": {
    "hidden": true
   },
   "outputs": [],
   "source": [
    "for key in new_annot:\n",
    "    if new_annot[key]['filename'] == fname:   \n",
    "        print(key)\n",
    "        old_key = key\n",
    "        \n",
    "del new_annot[old_key]\n",
    "new_annot[target_key] = target_value\n",
    "print(new_annot[target_key])"
   ]
  },
  {
   "cell_type": "code",
   "execution_count": null,
   "metadata": {
    "hidden": true
   },
   "outputs": [],
   "source": [
    "# 存json檔\n",
    "jsobj = json.dumps(new_annot)\n",
    "\n",
    "with open(new_path ,'w') as fw:\n",
    "    fw.write(jsobj)"
   ]
  },
  {
   "cell_type": "code",
   "execution_count": null,
   "metadata": {
    "hidden": true
   },
   "outputs": [],
   "source": [
    "    # 存json檔\n",
    "    if mode==1:\n",
    "        jsobj = json.dumps(all_annot)\n",
    "\n",
    "        with open(os.path.join(fdir , newname) ,'w') as fw:\n",
    "            fw.write(jsobj)   "
   ]
  },
  {
   "cell_type": "code",
   "execution_count": null,
   "metadata": {
    "hidden": true
   },
   "outputs": [],
   "source": [
    "#annotations = json.load(open(os.path.join(dataset_dir,'20191217.json')))\n",
    "annotations = json.load(open(file_path))\n",
    "aa = list(annotations.values())\n",
    "\n",
    "for i in aa:\n",
    "    if i['filename'] == fname:\n",
    "#         target_regions = i['regions']\n",
    "#         target_size = i['size']\n",
    "        target_i = i\n",
    "        #print(target_regions)\n",
    "        print(target_i)"
   ]
  },
  {
   "cell_type": "code",
   "execution_count": null,
   "metadata": {
    "hidden": true
   },
   "outputs": [],
   "source": [
    "new_annotations = json.load(open(new_path))\n",
    "bb = list(new_annotations.values())\n",
    "for i in bb:\n",
    "    if i['filename'] == fname:\n",
    "#         old_regions=i['regions']\n",
    "#         i['regions'] = target_regions\n",
    "#         print(str(old_regions) + \"  >>>  \" + str(i['regions']))\n",
    "        i = target_i        \n",
    "        print(i)\n",
    "        "
   ]
  },
  {
   "cell_type": "code",
   "execution_count": null,
   "metadata": {
    "hidden": true,
    "run_control": {
     "marked": false
    }
   },
   "outputs": [],
   "source": [
    "import os\n",
    "import json\n",
    "from os import listdir\n",
    "from os.path import isfile, isdir, join ,getsize\n",
    "\n",
    "from PIL import Image \n",
    "import imghdr\n",
    "import shutil\n",
    "\n",
    "# fdir = '/home/user/Downloads/food/124/'\n",
    "# newname = 'all.json'\n",
    "# mode = 0"
   ]
  },
  {
   "cell_type": "markdown",
   "metadata": {},
   "source": [
    "### end"
   ]
  },
  {
   "cell_type": "code",
   "execution_count": null,
   "metadata": {},
   "outputs": [],
   "source": []
  }
 ],
 "metadata": {
  "kernelspec": {
   "display_name": "Python 3",
   "language": "python",
   "name": "python3"
  },
  "language_info": {
   "codemirror_mode": {
    "name": "ipython",
    "version": 3
   },
   "file_extension": ".py",
   "mimetype": "text/x-python",
   "name": "python",
   "nbconvert_exporter": "python",
   "pygments_lexer": "ipython3",
   "version": "3.5.2"
  },
  "varInspector": {
   "cols": {
    "lenName": 16,
    "lenType": 16,
    "lenVar": 40
   },
   "kernels_config": {
    "python": {
     "delete_cmd_postfix": "",
     "delete_cmd_prefix": "del ",
     "library": "var_list.py",
     "varRefreshCmd": "print(var_dic_list())"
    },
    "r": {
     "delete_cmd_postfix": ") ",
     "delete_cmd_prefix": "rm(",
     "library": "var_list.r",
     "varRefreshCmd": "cat(var_dic_list()) "
    }
   },
   "oldHeight": 494.61892400000005,
   "position": {
    "height": "39.994px",
    "left": "1147.53px",
    "right": "20px",
    "top": "76.9099px",
    "width": "572.01px"
   },
   "types_to_exclude": [
    "module",
    "function",
    "builtin_function_or_method",
    "instance",
    "_Feature"
   ],
   "varInspector_section_display": "none",
   "window_display": true
  }
 },
 "nbformat": 4,
 "nbformat_minor": 2
}
