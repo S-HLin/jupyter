{
 "cells": [
  {
   "cell_type": "markdown",
   "metadata": {},
   "source": [
    "## data_split"
   ]
  },
  {
   "cell_type": "code",
   "execution_count": 1,
   "metadata": {},
   "outputs": [],
   "source": [
    "main_path = '/dataDisk/myfloder/inputdata/crop_test02/'  #圖檔主資料夾路徑\n",
    "new_path = '/dataDisk/myfloder/inputdata/test03_split/'  #新做分割資料夾"
   ]
  },
  {
   "cell_type": "code",
   "execution_count": 2,
   "metadata": {},
   "outputs": [],
   "source": [
    "from random import shuffle\n",
    "from shutil import copyfile"
   ]
  },
  {
   "cell_type": "code",
   "execution_count": 3,
   "metadata": {},
   "outputs": [],
   "source": [
    "# 資料集分割\n",
    "def DataSplit(DataSet, TrainingRatio, TestingRatio): #Dataset是list\n",
    "    shuffle(DataSet)  #亂排list\n",
    "    len_data = len(DataSet) #取list長度\n",
    "    TrainingData = DataSet[:int(len_data*TrainingRatio)]\n",
    "    TestingData = DataSet[int(len_data*TrainingRatio):int(len_data*(TrainingRatio + TestingRatio))]\n",
    "    ValidData = DataSet[int(len_data*(TrainingRatio + TestingRatio)):len_data]\n",
    "    \n",
    "    return TrainingData, TestingData, ValidData"
   ]
  },
  {
   "cell_type": "code",
   "execution_count": 4,
   "metadata": {},
   "outputs": [],
   "source": [
    "import os\n",
    "class_name = os.listdir(main_path)  #類別名稱的list\n",
    "\n",
    "for classs in class_name:                  #類別名稱迴圈\n",
    "    class_path = main_path + classs + '/'  #某類別資料夾路徑\n",
    "    food_img_list = os.listdir(class_path)     #某類別內圖檔名稱的list\n",
    "    TrainingData, TestingData, ValidData = DataSplit(food_img_list, 0.5, 0.3) #輸出list\n",
    "    if not os.path.isdir(new_path+'valid'+ '/' + classs): #檢查目錄存在 建立資料夾\n",
    "        os.makedirs(new_path+'train'+ '/' + classs)\n",
    "        os.makedirs(new_path+'test'+ '/' + classs)\n",
    "        os.makedirs(new_path+'valid' + '/'+ classs)\n",
    "    \n",
    "    dst_train_path = new_path+'train' + '/'+ classs + '/'\n",
    "    dst_test_path = new_path+'test' + '/'+ classs + '/'\n",
    "    dst_valid_path = new_path+'valid' + '/' + classs + '/'\n",
    "# 複製圖檔到類別資料夾\n",
    "    for pic_name in TrainingData:\n",
    "        source_pic = class_path + pic_name\n",
    "        copyfile(source_pic, dst_train_path + pic_name)\n",
    "    for pic_name in TestingData:\n",
    "        source_pic = class_path + pic_name\n",
    "        copyfile(source_pic, dst_test_path + pic_name)\n",
    "    for pic_name in ValidData:\n",
    "        source_pic = class_path + pic_name\n",
    "        copyfile(source_pic, dst_valid_path + pic_name)"
   ]
  },
  {
   "cell_type": "markdown",
   "metadata": {},
   "source": [
    "## end"
   ]
  },
  {
   "cell_type": "code",
   "execution_count": null,
   "metadata": {},
   "outputs": [],
   "source": []
  }
 ],
 "metadata": {
  "kernelspec": {
   "display_name": "Python 3",
   "language": "python",
   "name": "python3"
  },
  "language_info": {
   "codemirror_mode": {
    "name": "ipython",
    "version": 3
   },
   "file_extension": ".py",
   "mimetype": "text/x-python",
   "name": "python",
   "nbconvert_exporter": "python",
   "pygments_lexer": "ipython3",
   "version": "3.5.2"
  },
  "varInspector": {
   "cols": {
    "lenName": 16,
    "lenType": 16,
    "lenVar": 40
   },
   "kernels_config": {
    "python": {
     "delete_cmd_postfix": "",
     "delete_cmd_prefix": "del ",
     "library": "var_list.py",
     "varRefreshCmd": "print(var_dic_list())"
    },
    "r": {
     "delete_cmd_postfix": ") ",
     "delete_cmd_prefix": "rm(",
     "library": "var_list.r",
     "varRefreshCmd": "cat(var_dic_list()) "
    }
   },
   "oldHeight": 545.942398,
   "position": {
    "height": "40px",
    "left": "940.736px",
    "right": "20px",
    "top": "95.9519px",
    "width": "473.858px"
   },
   "types_to_exclude": [
    "module",
    "function",
    "builtin_function_or_method",
    "instance",
    "_Feature"
   ],
   "varInspector_section_display": "none",
   "window_display": true
  }
 },
 "nbformat": 4,
 "nbformat_minor": 2
}
