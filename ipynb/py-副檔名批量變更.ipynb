{
 "cells": [
  {
   "cell_type": "markdown",
   "metadata": {},
   "source": [
    "### 附檔名變更"
   ]
  },
  {
   "cell_type": "markdown",
   "metadata": {},
   "source": [
    "http://wiki.alarmchang.com/index.php?title=Python_%E5%A6%82%E4%BD%95%E5%B0%87%E6%AA%94%E6%A1%88%E7%9A%84%E5%89%AF%E6%AA%94%E5%90%8D%E6%8B%94%E5%87%BA%E4%BE%86"
   ]
  },
  {
   "cell_type": "markdown",
   "metadata": {},
   "source": [
    "https://www.itread01.com/content/1545053774.html"
   ]
  },
  {
   "cell_type": "code",
   "execution_count": 2,
   "metadata": {},
   "outputs": [],
   "source": [
    "import os\n",
    "#path='/dataDisk/myfloder/inputdata/pascal/0925-pascal/未命名資料夾/' #這就是欲進行檔名更改的檔案路徑，路徑的斜線是為/，要留意下！\n",
    "path='/media/user/Transcend1/手機拍攝/'\n",
    "ext='.png'\n",
    "files=os.listdir(path)\n",
    "#print(files) #印出讀取到的檔名稱，用來確認自己是不是真的有讀到\n",
    "for f in files:\n",
    "    fext=os.path.splitext(f)\n",
    "    if fext[1]!= ext:\n",
    "        newname=fext[0]+ext\n",
    "        #print(newname)\n",
    "        oldf=os.path.join(path,f)\n",
    "        newf=os.path.join(path,newname)\n",
    "        os.rename(oldf,newf)\n",
    "        "
   ]
  },
  {
   "cell_type": "markdown",
   "metadata": {},
   "source": [
    "### png to jpg檔案格式轉換"
   ]
  },
  {
   "cell_type": "markdown",
   "metadata": {},
   "source": [
    "https://stackoverflow.com/questions/31409506/python-convert-from-png-to-jpg-without-saving-file-to-disk-using-pil"
   ]
  },
  {
   "cell_type": "code",
   "execution_count": 3,
   "metadata": {},
   "outputs": [
    {
     "name": "stdout",
     "output_type": "stream",
     "text": [
      "/media/user/Transcend1/手機拍攝/20190925035527.png\n",
      "/media/user/Transcend1/手機拍攝/20190925035546.png\n",
      "/media/user/Transcend1/手機拍攝/20190925035629.png\n",
      "/media/user/Transcend1/手機拍攝/20190925044943.png\n",
      "/media/user/Transcend1/手機拍攝/20190927041052.png\n",
      "/media/user/Transcend1/手機拍攝/20190927041110.png\n",
      "/media/user/Transcend1/手機拍攝/20190927041332.png\n",
      "/media/user/Transcend1/手機拍攝/20190930041528.png\n",
      "/media/user/Transcend1/手機拍攝/20190930041549.png\n",
      "/media/user/Transcend1/手機拍攝/20191001040710.png\n",
      "/media/user/Transcend1/手機拍攝/20191001040724.png\n",
      "/media/user/Transcend1/手機拍攝/20191001040748.png\n",
      "/media/user/Transcend1/手機拍攝/20191001040804.png\n",
      "/media/user/Transcend1/手機拍攝/20191002040548.png\n",
      "/media/user/Transcend1/手機拍攝/20191002040631.png\n",
      "/media/user/Transcend1/手機拍攝/20191005040343.png\n",
      "/media/user/Transcend1/手機拍攝/20191005040400.png\n",
      "/media/user/Transcend1/手機拍攝/20191005040459.png\n",
      "/media/user/Transcend1/手機拍攝/20190918041157.png\n",
      "/media/user/Transcend1/手機拍攝/20190918041223.png\n",
      "/media/user/Transcend1/手機拍攝/20190918041300.png\n",
      "/media/user/Transcend1/手機拍攝/20190918041339.png\n",
      "/media/user/Transcend1/手機拍攝/20190918042356.png\n",
      "/media/user/Transcend1/手機拍攝/20190923041433.png\n",
      "/media/user/Transcend1/手機拍攝/20190923041449.png\n",
      "/media/user/Transcend1/手機拍攝/20190923041610.png\n",
      "/media/user/Transcend1/手機拍攝/20190923041632.png\n",
      "/media/user/Transcend1/手機拍攝/20190923041853.png\n",
      "/media/user/Transcend1/手機拍攝/20190924041544.png\n",
      "/media/user/Transcend1/手機拍攝/20190924041604.png\n",
      "/media/user/Transcend1/手機拍攝/20190924041657.png\n",
      "/media/user/Transcend1/手機拍攝/20190924041737.png\n",
      "/media/user/Transcend1/手機拍攝/20190925035354.png\n",
      "/media/user/Transcend1/手機拍攝/20190925035419.png\n",
      "/media/user/Transcend1/手機拍攝/20190917041446.png\n",
      "/media/user/Transcend1/手機拍攝/20190917041714.png\n",
      "/media/user/Transcend1/手機拍攝/20190917042040.png\n",
      "/media/user/Transcend1/手機拍攝/20190917042320.png\n",
      "/media/user/Transcend1/手機拍攝/20190918041047.png\n",
      "/media/user/Transcend1/手機拍攝/20190918041114.png\n",
      "/media/user/Transcend1/手機拍攝/20190820104724.png\n",
      "/media/user/Transcend1/手機拍攝/20190916061457.png\n",
      "/media/user/Transcend1/手機拍攝/20190917041336.png\n",
      "/media/user/Transcend1/手機拍攝/20190917041359.png\n",
      "/media/user/Transcend1/手機拍攝/20190918041136.png\n",
      "/media/user/Transcend1/手機拍攝/20190925035450.png\n"
     ]
    }
   ],
   "source": [
    "from PIL import Image\n",
    "#path='/dataDisk/myfloder/inputdata/pascal/0925-pascal/未命名資料夾/'\n",
    "path='/media/user/Transcend1/手機拍攝/'\n",
    "ext='.jpg'\n",
    "files=os.listdir(path)\n",
    "for f in files:  \n",
    "    imgpath=path+f\n",
    "    print(imgpath)\n",
    "    img=Image.open(imgpath)\n",
    "    \n",
    "    fname=os.path.splitext(imgpath)[0]+ext\n",
    "    #print(fname)\n",
    "    img.save(fname)\n",
    "    "
   ]
  },
  {
   "cell_type": "code",
   "execution_count": null,
   "metadata": {},
   "outputs": [],
   "source": []
  }
 ],
 "metadata": {
  "kernelspec": {
   "display_name": "Python 3",
   "language": "python",
   "name": "python3"
  },
  "language_info": {
   "codemirror_mode": {
    "name": "ipython",
    "version": 3
   },
   "file_extension": ".py",
   "mimetype": "text/x-python",
   "name": "python",
   "nbconvert_exporter": "python",
   "pygments_lexer": "ipython3",
   "version": "3.5.2"
  },
  "varInspector": {
   "cols": {
    "lenName": 16,
    "lenType": 16,
    "lenVar": 40
   },
   "kernels_config": {
    "python": {
     "delete_cmd_postfix": "",
     "delete_cmd_prefix": "del ",
     "library": "var_list.py",
     "varRefreshCmd": "print(var_dic_list())"
    },
    "r": {
     "delete_cmd_postfix": ") ",
     "delete_cmd_prefix": "rm(",
     "library": "var_list.r",
     "varRefreshCmd": "cat(var_dic_list()) "
    }
   },
   "types_to_exclude": [
    "module",
    "function",
    "builtin_function_or_method",
    "instance",
    "_Feature"
   ],
   "window_display": false
  }
 },
 "nbformat": 4,
 "nbformat_minor": 2
}
