{
 "cells": [
  {
   "cell_type": "markdown",
   "metadata": {
    "heading_collapsed": true
   },
   "source": [
    "### 重疊區塊IOU值"
   ]
  },
  {
   "cell_type": "code",
   "execution_count": 6,
   "metadata": {
    "hidden": true
   },
   "outputs": [],
   "source": [
    "def compute_iou(rec1, rec2):\n",
    "    \"\"\"\n",
    "    computing IoU\n",
    "    :param rec1: (y0, x0, y1, x1), which reflects\n",
    "            (top, left, bottom, right)\n",
    "    :param rec2: (y0, x0, y1, x1)\n",
    "    :return: scala value of IoU\n",
    "    \"\"\"\n",
    "    # computing area of each rectangles\n",
    "    S_rec1 = (rec1[2] - rec1[0]) * (rec1[3] - rec1[1])\n",
    "    S_rec2 = (rec2[2] - rec2[0]) * (rec2[3] - rec2[1])\n",
    " \n",
    "    # computing the sum_area\n",
    "    sum_area = S_rec1 + S_rec2\n",
    " \n",
    "    # find the each edge of intersect rectangle\n",
    "    left_line = max(rec1[1], rec2[1])\n",
    "    right_line = min(rec1[3], rec2[3])\n",
    "    top_line = max(rec1[0], rec2[0])\n",
    "    bottom_line = min(rec1[2], rec2[2])\n",
    " \n",
    "    # judge if there is an intersect\n",
    "    if left_line >= right_line or top_line >= bottom_line:\n",
    "        return 0\n",
    "    else:\n",
    "        intersect = (right_line - left_line) * (bottom_line - top_line)\n",
    "        return intersect / (sum_area - intersect)"
   ]
  },
  {
   "cell_type": "code",
   "execution_count": 6,
   "metadata": {
    "hidden": true
   },
   "outputs": [],
   "source": [
    "def test_iou():\n",
    "    rect1 = (661, 27, 679, 47)\n",
    "    # (top, left, bottom, right)\n",
    "    rect2 = (662, 27, 682, 47)\n",
    "    iou = compute_iou(rect1, rect2)\n",
    "    print(iou)\n"
   ]
  },
  {
   "cell_type": "code",
   "execution_count": 7,
   "metadata": {
    "hidden": true
   },
   "outputs": [
    {
     "name": "stdout",
     "output_type": "stream",
     "text": [
      "0.8095238095238095\n"
     ]
    }
   ],
   "source": [
    "test_iou()"
   ]
  },
  {
   "cell_type": "markdown",
   "metadata": {},
   "source": [
    "### 全部比對IOU後加入bbox list(篩選重複區域)"
   ]
  },
  {
   "cell_type": "code",
   "execution_count": 17,
   "metadata": {},
   "outputs": [
    {
     "name": "stdout",
     "output_type": "stream",
     "text": [
      "[[323, 579, 478, 695]]\n"
     ]
    }
   ],
   "source": [
    "b=[323, 579, 478, 695]\n",
    "#a2=[[323, 404, 476, 552], [40, 84, 238, 221],[70, 184, 138, 321]]\n",
    "#a2=[[323, 579, 478, 695]]\n",
    "a2=[]\n",
    "\n",
    "if a2==[]:\n",
    "    a2.append(b)\n",
    "else:\n",
    "    for box in a2:   \n",
    "        #print(box)\n",
    "        if compute_iou(box,b)>0.5:\n",
    "            break\n",
    "        elif box==a2[-1]:\n",
    "            a2.append(b)\n",
    "\n",
    "print(a2) "
   ]
  },
  {
   "cell_type": "code",
   "execution_count": null,
   "metadata": {},
   "outputs": [],
   "source": []
  },
  {
   "cell_type": "markdown",
   "metadata": {
    "heading_collapsed": true,
    "run_control": {
     "marked": true
    }
   },
   "source": [
    "### 取組合"
   ]
  },
  {
   "cell_type": "code",
   "execution_count": 3,
   "metadata": {
    "hidden": true
   },
   "outputs": [
    {
     "name": "stdout",
     "output_type": "stream",
     "text": [
      "[(0, 1), (0, 2), (1, 2)]\n",
      "(0, 1)\n",
      "(0, 2)\n",
      "(1, 2)\n"
     ]
    }
   ],
   "source": [
    "import itertools\n",
    "\n",
    "a=[[323, 404, 476, 552], [40, 84, 238, 221], [323, 579, 478, 695]]\n",
    "# itertools.combinations(指定範圍,2=兩兩組合))\n",
    "ll=list(itertools.combinations(range(len(a)),2))\n",
    "print(ll)\n",
    "for i in range(len(ll)):\n",
    "    print(ll[i])"
   ]
  },
  {
   "cell_type": "code",
   "execution_count": null,
   "metadata": {
    "hidden": true
   },
   "outputs": [],
   "source": []
  }
 ],
 "metadata": {
  "kernelspec": {
   "display_name": "Python 3",
   "language": "python",
   "name": "python3"
  },
  "language_info": {
   "codemirror_mode": {
    "name": "ipython",
    "version": 3
   },
   "file_extension": ".py",
   "mimetype": "text/x-python",
   "name": "python",
   "nbconvert_exporter": "python",
   "pygments_lexer": "ipython3",
   "version": "3.5.2"
  },
  "varInspector": {
   "cols": {
    "lenName": 16,
    "lenType": 16,
    "lenVar": 40
   },
   "kernels_config": {
    "python": {
     "delete_cmd_postfix": "",
     "delete_cmd_prefix": "del ",
     "library": "var_list.py",
     "varRefreshCmd": "print(var_dic_list())"
    },
    "r": {
     "delete_cmd_postfix": ") ",
     "delete_cmd_prefix": "rm(",
     "library": "var_list.r",
     "varRefreshCmd": "cat(var_dic_list()) "
    }
   },
   "types_to_exclude": [
    "module",
    "function",
    "builtin_function_or_method",
    "instance",
    "_Feature"
   ],
   "window_display": false
  }
 },
 "nbformat": 4,
 "nbformat_minor": 2
}
