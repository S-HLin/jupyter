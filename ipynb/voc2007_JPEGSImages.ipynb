{
 "cells": [
  {
   "cell_type": "markdown",
   "metadata": {},
   "source": [
    "### VOC2007數據集製作-JPEGSImages文件夾(圖片名字重命名)"
   ]
  },
  {
   "cell_type": "markdown",
   "metadata": {},
   "source": [
    "https://blog.csdn.net/u012426298/article/details/80334292"
   ]
  },
  {
   "cell_type": "markdown",
   "metadata": {},
   "source": [
    "https://blog.csdn.net/u012426298/article/details/80450537"
   ]
  },
  {
   "cell_type": "code",
   "execution_count": null,
   "metadata": {},
   "outputs": [],
   "source": [
    "path='/dataDisk/myfloder/inputdata/labelimg/VOC2007/Annotations/'"
   ]
  },
  {
   "cell_type": "code",
   "execution_count": null,
   "metadata": {},
   "outputs": [],
   "source": [
    "# filelist 列出資料夾內所有檔案\n",
    "import os\n",
    "filelist = os.listdir(path)\n",
    "total_num = len(filelist)"
   ]
  },
  {
   "cell_type": "code",
   "execution_count": null,
   "metadata": {},
   "outputs": [],
   "source": [
    "#找出.png或.xml列出來  列出想更新檔名\n",
    "i = 0#设置标号\n",
    "for item in filelist:\n",
    "    if item.endswith('.xml'):\n",
    "        src = os.path.join(os.path.abspath(path), item)\n",
    "        dst = os.path.join(os.path.abspath(path), 'nocrack'+str(i+1)+ '.xml')\n",
    "        \n",
    "        print(src)\n",
    "        print(dst)\n",
    "        i+=1"
   ]
  },
  {
   "cell_type": "code",
   "execution_count": null,
   "metadata": {
    "run_control": {
     "marked": true
    }
   },
   "outputs": [],
   "source": [
    "# 找出.png或.xml列出來並且更新檔名\n",
    "i = 0#设置标号\n",
    "for item in filelist:\n",
    "    if item.endswith('.xml'):\n",
    "        src = os.path.join(os.path.abspath(path), item)\n",
    "        dst = os.path.join(os.path.abspath(path), 'nocrack'+str(i+1)+ '.xml')\n",
    "                \n",
    "        try:\n",
    "            os.rename(src, dst)\n",
    "            print('converting %s to %s ...'%(src, dst))\n",
    "            i = i + 1\n",
    "        except:\n",
    "            continue\n",
    "        print('total %d to rename & converted %d jpgs'%(total_num, i))"
   ]
  },
  {
   "cell_type": "markdown",
   "metadata": {
    "heading_collapsed": true
   },
   "source": [
    "### no apply"
   ]
  },
  {
   "cell_type": "code",
   "execution_count": null,
   "metadata": {
    "hidden": true
   },
   "outputs": [],
   "source": [
    "# -*- coding:utf8 -*-\n",
    " \n",
    "import os\n",
    " \n",
    "class BatchRename():\n",
    " \n",
    "    def __init__(self):\n",
    " \n",
    "       # self.path = '/home/xxx/桌面/backup/nut_b'\n",
    "         self.path='/dataDisk/myfloder/inputdata/labelimg/VOC2007/JPEGSImages/'\n",
    "    def rename(self):\n",
    "        filelist = os.listdir(self.path)\n",
    "        total_num = len(filelist)\n",
    "        i = 0#设置标号\n",
    "        for item in filelist:\n",
    "            if item.endswith('.png'):\n",
    "                src = os.path.join(os.path.abspath(self.path), item)\n",
    "                dst = os.path.join(os.path.abspath(self.path), 'nocrack'+str(i+1)+ '.png')\n",
    "                try:\n",
    "                    os.rename(src, dst)\n",
    "                    print 'converting %s to %s ...' % (src, dst)\n",
    "                    i = i + 1\n",
    "                except:\n",
    "                    continue\n",
    "                print 'total %d to rename & converted %d jpgs' % (total_num, i)\n",
    " \n",
    "if __name__ == '__main__':\n",
    "    demo = BatchRename()\n",
    "    demo.rename()"
   ]
  },
  {
   "cell_type": "markdown",
   "metadata": {},
   "source": [
    "### end"
   ]
  },
  {
   "cell_type": "code",
   "execution_count": null,
   "metadata": {},
   "outputs": [],
   "source": []
  }
 ],
 "metadata": {
  "kernelspec": {
   "display_name": "Python 3",
   "language": "python",
   "name": "python3"
  },
  "language_info": {
   "codemirror_mode": {
    "name": "ipython",
    "version": 3
   },
   "file_extension": ".py",
   "mimetype": "text/x-python",
   "name": "python",
   "nbconvert_exporter": "python",
   "pygments_lexer": "ipython3",
   "version": "3.5.2"
  },
  "varInspector": {
   "cols": {
    "lenName": 16,
    "lenType": 16,
    "lenVar": 40
   },
   "kernels_config": {
    "python": {
     "delete_cmd_postfix": "",
     "delete_cmd_prefix": "del ",
     "library": "var_list.py",
     "varRefreshCmd": "print(var_dic_list())"
    },
    "r": {
     "delete_cmd_postfix": ") ",
     "delete_cmd_prefix": "rm(",
     "library": "var_list.r",
     "varRefreshCmd": "cat(var_dic_list()) "
    }
   },
   "oldHeight": 376.41071999999997,
   "position": {
    "height": "40px",
    "left": "1557.02px",
    "right": "20px",
    "top": "134.949px",
    "width": "624.215px"
   },
   "types_to_exclude": [
    "module",
    "function",
    "builtin_function_or_method",
    "instance",
    "_Feature"
   ],
   "varInspector_section_display": "none",
   "window_display": true
  }
 },
 "nbformat": 4,
 "nbformat_minor": 2
}
