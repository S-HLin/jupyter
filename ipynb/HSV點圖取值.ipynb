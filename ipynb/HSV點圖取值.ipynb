{
 "cells": [
  {
   "cell_type": "markdown",
   "metadata": {},
   "source": [
    "### 圖片轉成hsv 滑鼠點圖輸出hsv值"
   ]
  },
  {
   "cell_type": "markdown",
   "metadata": {},
   "source": [
    "https://blog.csdn.net/spw_1201/article/details/78310349"
   ]
  },
  {
   "cell_type": "code",
   "execution_count": null,
   "metadata": {},
   "outputs": [
    {
     "name": "stdout",
     "output_type": "stream",
     "text": [
      "[  8  97 197]\n",
      "[  4  77 211]\n",
      "[  5  68 220]\n"
     ]
    }
   ],
   "source": [
    "import cv2\n",
    "import numpy as np\n",
    "from matplotlib import pyplot as plt\n",
    "\n",
    "img_path=\"/dataDisk/myfloder/jupyter/server/img/20190722141803\"\n",
    "image=cv2.imread(img_path)\n",
    "HSV=cv2.cvtColor(image,cv2.COLOR_BGR2HSV)\n",
    "def getpos(event,x,y,flags,param):\n",
    "    if event==cv2.EVENT_LBUTTONDOWN:\n",
    "        print(HSV[y,x])\n",
    "#th2=cv2.adaptiveThreshold(imagegray,255,cv2.ADAPTIVE_THRESH_MEAN_C,cv2.THRESH_BINARY,11,2)\n",
    "cv2.imshow(\"imageHSV\",HSV)\n",
    "#cv2.imshow('image',image)\n",
    "cv2.setMouseCallback(\"imageHSV\",getpos)\n",
    "cv2.waitKey(0)\n",
    "# #print (image(10,10,10))\n",
    "\n",
    "\n",
    "# plt.figure(3,figsize=(8,8))\n",
    "# plt.axis('off')\n",
    "# plt.imshow(HSV)\n",
    "# plt.show()"
   ]
  },
  {
   "cell_type": "code",
   "execution_count": null,
   "metadata": {},
   "outputs": [],
   "source": []
  }
 ],
 "metadata": {
  "kernelspec": {
   "display_name": "Python 3",
   "language": "python",
   "name": "python3"
  },
  "language_info": {
   "codemirror_mode": {
    "name": "ipython",
    "version": 3
   },
   "file_extension": ".py",
   "mimetype": "text/x-python",
   "name": "python",
   "nbconvert_exporter": "python",
   "pygments_lexer": "ipython3",
   "version": "3.5.2"
  },
  "varInspector": {
   "cols": {
    "lenName": 16,
    "lenType": 16,
    "lenVar": 40
   },
   "kernels_config": {
    "python": {
     "delete_cmd_postfix": "",
     "delete_cmd_prefix": "del ",
     "library": "var_list.py",
     "varRefreshCmd": "print(var_dic_list())"
    },
    "r": {
     "delete_cmd_postfix": ") ",
     "delete_cmd_prefix": "rm(",
     "library": "var_list.r",
     "varRefreshCmd": "cat(var_dic_list()) "
    }
   },
   "types_to_exclude": [
    "module",
    "function",
    "builtin_function_or_method",
    "instance",
    "_Feature"
   ],
   "window_display": false
  }
 },
 "nbformat": 4,
 "nbformat_minor": 2
}
