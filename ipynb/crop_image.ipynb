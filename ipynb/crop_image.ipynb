{
 "cells": [
  {
   "cell_type": "code",
   "execution_count": 1,
   "metadata": {},
   "outputs": [],
   "source": [
    "import cv2\n",
    "import os"
   ]
  },
  {
   "cell_type": "code",
   "execution_count": 2,
   "metadata": {},
   "outputs": [],
   "source": [
    "#os.makedirs('/dataDisk/myfloder/inputdata/crop_food')\n",
    "path= '/dataDisk/myfloder/inputdata/test01'\n",
    "save_path= '/dataDisk/myfloder/inputdata/crop_test01/'"
   ]
  },
  {
   "cell_type": "code",
   "execution_count": 3,
   "metadata": {},
   "outputs": [],
   "source": [
    "size=256\n",
    "cropsize=224"
   ]
  },
  {
   "cell_type": "code",
   "execution_count": 4,
   "metadata": {
    "code_folding": []
   },
   "outputs": [],
   "source": [
    "for label_folders in os.listdir(path):\n",
    "    if not label_folders.lower().endswith(('.xlsx')):\n",
    "        label_num=label_folders.split(\".\")\n",
    "        label_num=label_num[0]\n",
    "        label_folder=os.path.join(path,label_folders)\n",
    "        os.makedirs(os.path.join(save_path,label_num))\n",
    "        for images in os.listdir(label_folder):\n",
    "            if images.lower().endswith(('.jpg')):\n",
    "                image_path=os.path.join(label_folder,images)\n",
    "                image_num=images.split(\".\")\n",
    "                image_num=image_num[0]\n",
    "                image=cv2.imread(image_path)\n",
    "                image=cv2.resize(image, (size, size), interpolation=cv2.INTER_CUBIC)\n",
    "                h,w,c=image.shape\n",
    "                x1=int((h/2-cropsize/2))\n",
    "                x2=int((h/2+cropsize/2))\n",
    "                y1=int((w/2-cropsize/2))\n",
    "                y2=int((w/2+cropsize/2))\n",
    "                LU_img = image[0:cropsize, 0:cropsize]#left Up\n",
    "                LD_img = image[size-cropsize:size, 0:cropsize]#Left Down\n",
    "                RD_img = image[size-cropsize:size, size-cropsize:size]#Right Down\n",
    "                RU_img = image[0:cropsize, size-cropsize:size]#Right Up\n",
    "                CC_img = image[x1:x2, y1:y2]#center crop\n",
    "                NC_img=cv2.resize(image, (cropsize, cropsize), interpolation=cv2.INTER_CUBIC)# No Crop\n",
    "                \n",
    "                save_LU_img = label_num+'_'+image_num+'_LU.jpg'\n",
    "                save_LD_img = label_num+'_'+image_num+'_LD.jpg'\n",
    "                save_RD_img = label_num+'_'+image_num+'_RD.jpg'\n",
    "                save_RU_img = label_num+'_'+image_num+'_RU.jpg'\n",
    "                save_CC_img = label_num+'_'+image_num+'_CC.jpg'\n",
    "                save_NC_img = label_num+'_'+image_num+'_NC.jpg'\n",
    "                \n",
    "                cv2.imwrite(os.path.join(save_path,label_num,save_LU_img),LU_img)\n",
    "                cv2.imwrite(os.path.join(save_path,label_num,save_LD_img),LD_img)\n",
    "                cv2.imwrite(os.path.join(save_path,label_num,save_RD_img),RD_img)\n",
    "                cv2.imwrite(os.path.join(save_path,label_num,save_RU_img),RU_img)\n",
    "                cv2.imwrite(os.path.join(save_path,label_num,save_CC_img),CC_img)\n",
    "                cv2.imwrite(os.path.join(save_path,label_num,save_NC_img),NC_img)"
   ]
  },
  {
   "cell_type": "code",
   "execution_count": null,
   "metadata": {},
   "outputs": [],
   "source": []
  }
 ],
 "metadata": {
  "kernelspec": {
   "display_name": "Python 3",
   "language": "python",
   "name": "python3"
  },
  "language_info": {
   "codemirror_mode": {
    "name": "ipython",
    "version": 3
   },
   "file_extension": ".py",
   "mimetype": "text/x-python",
   "name": "python",
   "nbconvert_exporter": "python",
   "pygments_lexer": "ipython3",
   "version": "3.5.2"
  },
  "varInspector": {
   "cols": {
    "lenName": 16,
    "lenType": 16,
    "lenVar": 40
   },
   "kernels_config": {
    "python": {
     "delete_cmd_postfix": "",
     "delete_cmd_prefix": "del ",
     "library": "var_list.py",
     "varRefreshCmd": "print(var_dic_list())"
    },
    "r": {
     "delete_cmd_postfix": ") ",
     "delete_cmd_prefix": "rm(",
     "library": "var_list.r",
     "varRefreshCmd": "cat(var_dic_list()) "
    }
   },
   "position": {
    "height": "508.37px",
    "left": "969.777px",
    "right": "20px",
    "top": "120px",
    "width": "353.584px"
   },
   "types_to_exclude": [
    "module",
    "function",
    "builtin_function_or_method",
    "instance",
    "_Feature"
   ],
   "window_display": false
  }
 },
 "nbformat": 4,
 "nbformat_minor": 2
}
