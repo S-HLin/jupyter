{
 "cells": [
  {
   "cell_type": "markdown",
   "metadata": {},
   "source": [
    "### argparse參數傳遞問題"
   ]
  },
  {
   "cell_type": "code",
   "execution_count": 4,
   "metadata": {},
   "outputs": [
    {
     "name": "stdout",
     "output_type": "stream",
     "text": [
      "ArgumentParser(prog='ipykernel_launcher.py', usage=None, description='Train Mask R-CNN to detect balloons.', formatter_class=<class 'argparse.HelpFormatter'>, conflict_handler='error', add_help=True)\n"
     ]
    }
   ],
   "source": [
    "import argparse\n",
    "# Parse command line arguments\n",
    "parser = argparse.ArgumentParser(description='Train Mask R-CNN to detect balloons.')\n",
    "print(parser)"
   ]
  },
  {
   "cell_type": "code",
   "execution_count": 5,
   "metadata": {},
   "outputs": [
    {
     "data": {
      "text/plain": [
       "_StoreAction(option_strings=['--weights'], dest='weights', nargs=None, const=None, default=None, type=None, choices=None, help=\"Path to weights .h5 file or 'coco'\", metavar='/path/to/weights.h5')"
      ]
     },
     "execution_count": 5,
     "metadata": {},
     "output_type": "execute_result"
    }
   ],
   "source": [
    "parser.add_argument('--weights', required=True,\n",
    "                    metavar=\"/path/to/weights.h5\",\n",
    "                    help=\"Path to weights .h5 file or 'coco'\")"
   ]
  },
  {
   "cell_type": "code",
   "execution_count": 7,
   "metadata": {},
   "outputs": [
    {
     "name": "stderr",
     "output_type": "stream",
     "text": [
      "usage: ipykernel_launcher.py [-h] --weights /path/to/weights.h5\n",
      "ipykernel_launcher.py: error: the following arguments are required: --weights\n"
     ]
    },
    {
     "ename": "SystemExit",
     "evalue": "2",
     "output_type": "error",
     "traceback": [
      "An exception has occurred, use %tb to see the full traceback.\n",
      "\u001b[0;31mSystemExit\u001b[0m\u001b[0;31m:\u001b[0m 2\n"
     ]
    }
   ],
   "source": [
    "args = parser.parse_args()"
   ]
  },
  {
   "cell_type": "code",
   "execution_count": 6,
   "metadata": {
    "run_control": {
     "marked": true
    }
   },
   "outputs": [
    {
     "name": "stdout",
     "output_type": "stream",
     "text": [
      "Namespace(weights='../../mask_rcnn_balloon.h5')\n"
     ]
    }
   ],
   "source": [
    "#args = parser.parse_args()\n",
    "args = parser.parse_args(['--weights','../../mask_rcnn_balloon.h5'])\n",
    "print(args)"
   ]
  },
  {
   "cell_type": "markdown",
   "metadata": {
    "heading_collapsed": true
   },
   "source": [
    "### argparse參數設定解析"
   ]
  },
  {
   "cell_type": "code",
   "execution_count": null,
   "metadata": {
    "hidden": true,
    "run_control": {
     "marked": false
    }
   },
   "outputs": [],
   "source": [
    "# https://blog.csdn.net/u012869752/article/details/72513141\n",
    "import argparse\n",
    "# 建立解析器\n",
    "parser = argparse.ArgumentParser()\n",
    "# parse_args設定參數值,若不輸入則取sys.argv[1:]\n",
    "# parse_args接受參數值構成的list\n",
    "parser.parse_args()"
   ]
  },
  {
   "cell_type": "code",
   "execution_count": null,
   "metadata": {
    "hidden": true
   },
   "outputs": [],
   "source": [
    "import sys\n",
    "#sys.argv\n",
    "sys.argv[1:]"
   ]
  },
  {
   "cell_type": "code",
   "execution_count": null,
   "metadata": {
    "hidden": true
   },
   "outputs": [],
   "source": [
    "#  設定新增參數\n",
    "parser.add_argument(\"--verbosity\", help=\"increase output verbosity\")"
   ]
  },
  {
   "cell_type": "code",
   "execution_count": null,
   "metadata": {
    "hidden": true
   },
   "outputs": [],
   "source": [
    "# 必須傳入list避免取預設sys.argv參數,會出錯\n",
    "args = parser.parse_args(args=[])\n",
    "print(args)"
   ]
  },
  {
   "cell_type": "code",
   "execution_count": null,
   "metadata": {
    "hidden": true
   },
   "outputs": [],
   "source": [
    "#  完整範例\n",
    "parser = argparse.ArgumentParser()\n",
    "parser.add_argument(\"--verbosity\", help=\"increase output verbosity\")\n",
    "args = parser.parse_args(args=[])\n",
    "print(args)"
   ]
  },
  {
   "cell_type": "markdown",
   "metadata": {
    "heading_collapsed": true
   },
   "source": [
    "### no apply"
   ]
  },
  {
   "cell_type": "code",
   "execution_count": null,
   "metadata": {
    "hidden": true
   },
   "outputs": [],
   "source": [
    "# example2.py\n",
    "from __future__ import print_function\n",
    "from argparse import ArgumentParser\n",
    "parser = ArgumentParser()\n",
    "parser.add_argument(\"pos1\", help=\"positional argument 1\")\n",
    "parser.add_argument(\"-o\", \"--optional-arg\", help=\"optional argument\", dest=\"opt\", default=\"default\")\n",
    "args = parser.parse_args(args=['aaa','-o','fff'])\n",
    "print(\"positional arg:\", args.pos1)\n",
    "print(\"optional arg:\", args.opt)"
   ]
  },
  {
   "cell_type": "code",
   "execution_count": null,
   "metadata": {
    "hidden": true,
    "run_control": {
     "marked": true
    }
   },
   "outputs": [],
   "source": [
    "# example2.py\n",
    "from __future__ import print_function\n",
    "from argparse import ArgumentParser\n",
    "parser = ArgumentParser()\n",
    "parser.add_argument(\"pos1\", help=\"positional argument 1\")\n",
    "parser.add_argument(\"-o\", \"--optional-arg\", help=\"optional argument\", dest=\"opt\", default=\"default\")\n",
    "args = parser.parse_args([\"-h\"])\n",
    "# print(\"positional arg:\", args.pos1)\n",
    "# print(\"optional arg:\", args.opt)"
   ]
  },
  {
   "cell_type": "markdown",
   "metadata": {
    "heading_collapsed": true
   },
   "source": [
    "### mask rcnn 程式參數"
   ]
  },
  {
   "cell_type": "code",
   "execution_count": 2,
   "metadata": {
    "hidden": true
   },
   "outputs": [
    {
     "name": "stdout",
     "output_type": "stream",
     "text": [
      "Namespace(command='train', dataset='../../datasets/balloon/', image=None, logs='/dataDisk/myfloder/jupyter/Mask_RCNN-master/logs', video=None, weights='../../mask_rcnn_balloon.h5')\n"
     ]
    }
   ],
   "source": [
    "import os\n",
    "import argparse\n",
    "\n",
    "ROOT_DIR = os.path.abspath(\"../../\")\n",
    "DEFAULT_LOGS_DIR = os.path.join(ROOT_DIR, \"logs\")\n",
    "#print(DEFAULT_LOGS_DIR)\n",
    "\n",
    "# Parse command line arguments\n",
    "parser = argparse.ArgumentParser(\n",
    "                    description='Train Mask R-CNN to detect balloons.')\n",
    "parser.add_argument(\"command\",\n",
    "                    metavar=\"<command>\",\n",
    "                    help=\"'train' or 'splash'\")\n",
    "parser.add_argument('--dataset', required=False,\n",
    "                    metavar=\"/path/to/balloon/dataset/\",\n",
    "                    help='Directory of the Balloon dataset')\n",
    "parser.add_argument('--weights', required=True,\n",
    "                    metavar=\"/path/to/weights.h5\",\n",
    "                    help=\"Path to weights .h5 file or 'coco'\")\n",
    "parser.add_argument('--logs', required=False,\n",
    "                    default=DEFAULT_LOGS_DIR,\n",
    "                    metavar=\"/path/to/logs/\",\n",
    "                    help='Logs and checkpoints directory (default=logs/)')\n",
    "parser.add_argument('--image', required=False,\n",
    "                    metavar=\"path or URL to image\",\n",
    "                    help='Image to apply the color splash effect on')\n",
    "parser.add_argument('--video', required=False,\n",
    "                    metavar=\"path or URL to video\",\n",
    "                    help='Video to apply the color splash effect on')\n",
    "args = parser.parse_args(['train',\n",
    "                          '--weights','../../mask_rcnn_balloon.h5',\n",
    "                          '--dataset','../../datasets/balloon/'\n",
    "                         ])\n",
    "print(args)"
   ]
  },
  {
   "cell_type": "markdown",
   "metadata": {},
   "source": [
    "### end"
   ]
  },
  {
   "cell_type": "code",
   "execution_count": null,
   "metadata": {},
   "outputs": [],
   "source": []
  }
 ],
 "metadata": {
  "kernelspec": {
   "display_name": "Python 3",
   "language": "python",
   "name": "python3"
  },
  "language_info": {
   "codemirror_mode": {
    "name": "ipython",
    "version": 3
   },
   "file_extension": ".py",
   "mimetype": "text/x-python",
   "name": "python",
   "nbconvert_exporter": "python",
   "pygments_lexer": "ipython3",
   "version": "3.5.2"
  },
  "varInspector": {
   "cols": {
    "lenName": 16,
    "lenType": 16,
    "lenVar": 40
   },
   "kernels_config": {
    "python": {
     "delete_cmd_postfix": "",
     "delete_cmd_prefix": "del ",
     "library": "var_list.py",
     "varRefreshCmd": "print(var_dic_list())"
    },
    "r": {
     "delete_cmd_postfix": ") ",
     "delete_cmd_prefix": "rm(",
     "library": "var_list.r",
     "varRefreshCmd": "cat(var_dic_list()) "
    }
   },
   "oldHeight": 441.16292400000003,
   "position": {
    "height": "39.994px",
    "left": "1410.55px",
    "right": "20px",
    "top": "120px",
    "width": "354.072px"
   },
   "types_to_exclude": [
    "module",
    "function",
    "builtin_function_or_method",
    "instance",
    "_Feature"
   ],
   "varInspector_section_display": "none",
   "window_display": true
  }
 },
 "nbformat": 4,
 "nbformat_minor": 2
}
