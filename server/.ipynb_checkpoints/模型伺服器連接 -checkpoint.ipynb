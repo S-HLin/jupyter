{
 "cells": [
  {
   "cell_type": "markdown",
   "metadata": {
    "heading_collapsed": true
   },
   "source": [
    "### 伺服器連結"
   ]
  },
  {
   "cell_type": "markdown",
   "metadata": {
    "hidden": true
   },
   "source": [
    "https://spacewander.github.io/explore-flask-zh/3-environment.html"
   ]
  },
  {
   "cell_type": "markdown",
   "metadata": {
    "hidden": true
   },
   "source": [
    "https://www.jianshu.com/p/9d6da9b76d70"
   ]
  },
  {
   "cell_type": "markdown",
   "metadata": {
    "hidden": true
   },
   "source": [
    "http://www.runoob.com/python3/python3-json.html"
   ]
  },
  {
   "cell_type": "markdown",
   "metadata": {
    "hidden": true
   },
   "source": [
    "https://www.geeksforgeeks.org/get-post-requests-using-python/"
   ]
  },
  {
   "cell_type": "markdown",
   "metadata": {
    "hidden": true
   },
   "source": [
    "http://python.jobbole.com/80956/"
   ]
  },
  {
   "cell_type": "markdown",
   "metadata": {},
   "source": [
    "### 1"
   ]
  },
  {
   "cell_type": "markdown",
   "metadata": {},
   "source": [
    "https://medium.com/@umerfarooq_26378/web-services-in-python-ef81a9067aaf"
   ]
  },
  {
   "cell_type": "markdown",
   "metadata": {},
   "source": [
    "https://www.cnblogs.com/shengulong/p/8207179.html"
   ]
  },
  {
   "cell_type": "markdown",
   "metadata": {},
   "source": [
    "### image"
   ]
  },
  {
   "cell_type": "code",
   "execution_count": null,
   "metadata": {},
   "outputs": [],
   "source": [
    "# import keras\n",
    "import keras\n",
    "# import keras_retinanet\n",
    "from keras_retinanet import models\n",
    "from keras_retinanet.utils.image import read_image_bgr, preprocess_image, resize_image\n",
    "from keras_retinanet.utils.visualization import draw_box #, draw_caption\n",
    "from keras_retinanet.utils.colors import label_color\n",
    "# import miscellaneous modules\n",
    "import matplotlib.pyplot as plt\n",
    "import cv2\n",
    "import os\n",
    "import numpy as np\n",
    "import time\n",
    "# set tf backend to allow memory to grow, instead of claiming everything\n",
    "import tensorflow as tf\n",
    "# image process\n",
    "import csv\n",
    "from PIL import ImageFont, ImageDraw, Image"
   ]
  },
  {
   "cell_type": "code",
   "execution_count": null,
   "metadata": {},
   "outputs": [],
   "source": [
    "class testmodel:   \n",
    "    #self.model_path= os.path.join('..', 'snapshots', 'resnet50_csv_trans.h5')\n",
    "    model_path= '/dataDisk/myfloder/jupyter/snapshots/resnet50_csv_trans.h5'\n",
    "    csv_path='/dataDisk/myfloder/inputdata/csv/classes_label.csv'\n",
    "    #self.img_path = '../img/Plat6_lunch_20181002_28756_NS.jpg'\n",
    "    \n",
    "    def loadmodell(self):\n",
    "        # load retinanet model\n",
    "        model = models.load_model(self.model_path, backbone_name='resnet50')\n",
    "        return model\n",
    "   \n",
    "    def csvlabell(self):\n",
    "        with open(self.csv_path, newline='') as csvfile: \n",
    "          # 讀取 CSV 檔內容，將每一列轉成一個 dictionary\n",
    "          reader = csv.DictReader(csvfile)\n",
    "          labels_to_names = {}\n",
    "          # 以迴圈輸出指定欄位\n",
    "          for row in reader:\n",
    "               labels_to_names[int(row['label'])]= row['name']\n",
    "          #print(labels_to_names)\n",
    "        return(labels_to_names)   \n",
    "        \n",
    "#     def draw_caption2(self,image,box,caption):\n",
    "#         # 字體設定\n",
    "#         fontPath = \"/usr/local/lib/python3.5/dist-packages/matplotlib/mpl-data/fonts/ttf/msj.ttf\"\n",
    "#         font = ImageFont.truetype(fontPath,25)\n",
    "#         # 將 NumPy 陣列轉為 PIL 影像\n",
    "#         imgPil = Image.fromarray(image)  \n",
    "#         # 在圖片上加入文字\n",
    "#         draw = ImageDraw.Draw(imgPil)\n",
    "#         draw.text((box[0], box[1] - 10), caption, font = font, fill = (255,255,255))\n",
    "#         # 將 PIL 影像轉回 NumPy 陣列\n",
    "#         image = np.array(imgPil)\n",
    "#         return image\n",
    "    \n",
    "    def outimg(self,image):           \n",
    "        #image = read_image_bgr(img_path)\n",
    "        # copy to draw on\n",
    "        draw = image.copy()\n",
    "        draw = cv2.cvtColor(draw, cv2.COLOR_BGR2RGB)\n",
    "        # preprocess image for network\n",
    "        image = preprocess_image(image)\n",
    "        image, scale = resize_image(image)\n",
    "        # process image\n",
    "        start = time.time()\n",
    "        boxes, scores, labels = model.predict_on_batch(np.expand_dims(image, axis=0))\n",
    "        #print(\"processing time: \", time.time() - start)\n",
    "\n",
    "        # correct for image scale\n",
    "        boxes /= scale\n",
    "        # visualize detections\n",
    "        for box, score, label in zip(boxes[0], scores[0], labels[0]):\n",
    "            # scores are sorted so we can break\n",
    "            if score < 0.5:\n",
    "                break\n",
    "\n",
    "            color = label_color(label)\n",
    "\n",
    "            b = box.astype(int)\n",
    "            #draw_box(draw, b, color=color)\n",
    "            #caption = \"{} {:.3f}\".format(labels_to_names[label], score)\n",
    "\n",
    "            #draw=self.draw_caption2(draw, b, caption)\n",
    "        return draw"
   ]
  },
  {
   "cell_type": "code",
   "execution_count": null,
   "metadata": {},
   "outputs": [],
   "source": [
    "from flask import Flask, render_template, request\n",
    "from flask_uploads import UploadSet, configure_uploads, IMAGES\n",
    "\n",
    "#建立應用程序\n",
    "app = Flask(__name__)\n",
    "#建立上傳資料夾\n",
    "photos = UploadSet('photos', IMAGES)\n",
    "#設定參數\n",
    "app.config['UPLOADED_PHOTOS_DEST'] = '/dataDisk/myfloder/jupyter/server/img'\n",
    "#資料夾設定註冊到app(含上傳模組)\n",
    "configure_uploads(app, photos)"
   ]
  },
  {
   "cell_type": "code",
   "execution_count": null,
   "metadata": {},
   "outputs": [],
   "source": [
    "@app.route('/upload', methods=['GET', 'POST'])\n",
    "\n",
    "def upload():\n",
    "    if request.method == 'POST' and 'photo' in request.files:\n",
    "        filename = photos.save(request.files['photo'])\n",
    "        return filename  \n",
    "    return render_template('upload.html')\n",
    "\n",
    "\n",
    "if __name__ == '__main__':\n",
    "    app.run(debug=True, use_reloader=False)"
   ]
  },
  {
   "cell_type": "markdown",
   "metadata": {
    "heading_collapsed": true
   },
   "source": [
    "#### html file"
   ]
  },
  {
   "cell_type": "code",
   "execution_count": null,
   "metadata": {
    "hidden": true
   },
   "outputs": [],
   "source": [
    "<!doctype html>\n",
    "<head>\n",
    "    <title>Upload</title>\n",
    "</head>\n",
    "<body>\n",
    "<form method=POST enctype=multipart/form-data action=\"{{ url_for('upload') }}\">\n",
    "    <input type=file name=photo>\n",
    "    <input type=\"submit\">\n",
    "</form>\n",
    "</body>\n",
    "</html>"
   ]
  },
  {
   "cell_type": "code",
   "execution_count": null,
   "metadata": {
    "hidden": true
   },
   "outputs": [],
   "source": []
  }
 ],
 "metadata": {
  "kernelspec": {
   "display_name": "Python 3",
   "language": "python",
   "name": "python3"
  },
  "language_info": {
   "codemirror_mode": {
    "name": "ipython",
    "version": 3
   },
   "file_extension": ".py",
   "mimetype": "text/x-python",
   "name": "python",
   "nbconvert_exporter": "python",
   "pygments_lexer": "ipython3",
   "version": "3.5.2"
  },
  "varInspector": {
   "cols": {
    "lenName": 16,
    "lenType": 16,
    "lenVar": 40
   },
   "kernels_config": {
    "python": {
     "delete_cmd_postfix": "",
     "delete_cmd_prefix": "del ",
     "library": "var_list.py",
     "varRefreshCmd": "print(var_dic_list())"
    },
    "r": {
     "delete_cmd_postfix": ") ",
     "delete_cmd_prefix": "rm(",
     "library": "var_list.r",
     "varRefreshCmd": "cat(var_dic_list()) "
    }
   },
   "position": {
    "height": "618.173px",
    "left": "1731.31px",
    "right": "20px",
    "top": "95.9555px",
    "width": "349.994px"
   },
   "types_to_exclude": [
    "module",
    "function",
    "builtin_function_or_method",
    "instance",
    "_Feature"
   ],
   "window_display": false
  }
 },
 "nbformat": 4,
 "nbformat_minor": 2
}
